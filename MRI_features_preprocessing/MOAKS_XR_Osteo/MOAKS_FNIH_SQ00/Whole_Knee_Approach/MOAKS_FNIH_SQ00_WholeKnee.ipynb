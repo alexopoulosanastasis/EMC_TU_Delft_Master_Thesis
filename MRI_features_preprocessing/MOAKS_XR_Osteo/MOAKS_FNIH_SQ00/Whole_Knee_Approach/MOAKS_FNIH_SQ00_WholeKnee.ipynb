{
 "cells": [
  {
   "cell_type": "code",
   "execution_count": 1,
   "metadata": {},
   "outputs": [],
   "source": [
    "import pandas as pd\n",
    "import numpy as np\n",
    "from functools import reduce"
   ]
  },
  {
   "cell_type": "code",
   "execution_count": 2,
   "metadata": {},
   "outputs": [],
   "source": [
    "moaks_fnih_sq00 = pd.read_csv('/home/anastasis/EMC_Thesis/OAI Data/OAICompleteData_ASCII/kMRI_FNIH_SQ_MOAKS_BICL00.txt', sep=\"|\")"
   ]
  },
  {
   "cell_type": "code",
   "execution_count": 3,
   "metadata": {},
   "outputs": [
    {
     "name": "stdout",
     "output_type": "stream",
     "text": [
      "<class 'pandas.core.frame.DataFrame'>\n",
      "RangeIndex: 600 entries, 0 to 599\n",
      "Columns: 122 entries, ID to V00MTCMNTS\n",
      "dtypes: float64(1), int64(17), object(104)\n",
      "memory usage: 572.0+ KB\n",
      "None \n",
      " 0      1: Yes\n",
      "1      1: Yes\n",
      "2      1: Yes\n",
      "3       0: No\n",
      "4       0: No\n",
      "        ...  \n",
      "595    1: Yes\n",
      "596     0: No\n",
      "597     0: No\n",
      "598     0: No\n",
      "599     0: No\n",
      "Name: V00MPOPCYS, Length: 600, dtype: object\n"
     ]
    }
   ],
   "source": [
    "print(moaks_fnih_sq00.info(),'\\n',moaks_fnih_sq00.iloc[:,-3])"
   ]
  },
  {
   "cell_type": "markdown",
   "metadata": {},
   "source": [
    "# NOW WE DELETE ALL THE COMMENTS OF THE INITIAL DATAFRAME AND CONVERT THE VALUES TO NUMBERS"
   ]
  },
  {
   "cell_type": "code",
   "execution_count": 4,
   "metadata": {},
   "outputs": [
    {
     "name": "stdout",
     "output_type": "stream",
     "text": [
      "22    600\n",
      "Name: READPRJ, dtype: int64\n"
     ]
    }
   ],
   "source": [
    "# Firstly we replace all the comments\n",
    "moaks_without_commments = moaks_fnih_sq00.replace(r'(\\:).*$',r'\\1',regex=True)\n",
    "# Secondly we replace all the '.:' and the ':' bullets with space and remove 'R' from Reader Column\n",
    "moaks_without_commments_bullets = moaks_without_commments.replace({'\\.\\:':'',':':'','R':''},regex=True)\n",
    "# Thirdly we remove the Comments and Technical Considerations Columns from the whole Dataset\n",
    "moaks_without_commments_bullets = moaks_without_commments_bullets.drop(columns=['V00MCMNTS','V00MTCMNTS'])\n",
    "print(moaks_without_commments_bullets.READPRJ.value_counts())"
   ]
  },
  {
   "cell_type": "code",
   "execution_count": 5,
   "metadata": {},
   "outputs": [
    {
     "name": "stdout",
     "output_type": "stream",
     "text": [
      "<class 'pandas.core.frame.DataFrame'>\n",
      "RangeIndex: 600 entries, 0 to 599\n",
      "Columns: 120 entries, ID to V00MPOPCYS\n",
      "dtypes: float32(118), int64(2)\n",
      "memory usage: 286.1 KB\n",
      "None\n",
      "Number of NaN values are :  947\n"
     ]
    }
   ],
   "source": [
    "# THEN WE CONVERT ALL THE DF VALUES TO FLOAT AND THE ID AND SIDE TO INT\n",
    "moaks_without_c_b_numeric =  moaks_without_commments_bullets.apply(pd.to_numeric,downcast='float')\n",
    "moaks_without_c_b_numeric[['ID','SIDE']] = moaks_without_c_b_numeric[['ID','SIDE']].astype('int')\n",
    "print(moaks_without_c_b_numeric.info())\n",
    "print('Number of NaN values are : ',moaks_without_c_b_numeric.isna().sum().sum())"
   ]
  },
  {
   "cell_type": "code",
   "execution_count": 6,
   "metadata": {},
   "outputs": [
    {
     "name": "stdout",
     "output_type": "stream",
     "text": [
      "Number of NaN values in the initial dataframe: [0, 0, 0, 0, 0, 0, 0, 0, 0, 0, 0, 0, 0, 0, 0, 0, 0, 0, 0, 0, 0, 0, 0, 0, 0, 0, 0, 0, 0, 0, 0, 0, 0, 0, 1, 1, 0, 1, 0, 0, 0, 0, 0, 0, 0, 0, 0, 0, 0, 0, 0, 0, 0, 0, 0, 0, 0, 0, 0, 0, 0, 0, 0, 0, 0, 0, 0, 0, 0, 0, 0, 0, 0, 0, 0, 0, 0, 0, 0, 0, 0, 0, 2, 0, 0, 0, 0, 1, 0, 0, 0, 0, 0, 0, 0, 0, 0, 0, 0, 0, 0, 0, 0, 113, 113, 113, 2, 0, 0, 0, 0, 0, 0, 0, 0, 0, 0, 0, 600, 0]\n"
     ]
    }
   ],
   "source": [
    "print('Number of NaN values in the initial dataframe: {}'.format(moaks_without_c_b_numeric.loc[:,:].isna().sum().to_list()))"
   ]
  },
  {
   "cell_type": "code",
   "execution_count": 7,
   "metadata": {},
   "outputs": [
    {
     "name": "stdout",
     "output_type": "stream",
     "text": [
      "<class 'pandas.core.frame.DataFrame'>\n",
      "RangeIndex: 600 entries, 0 to 599\n",
      "Columns: 120 entries, ID to V00MPOPCYS\n",
      "dtypes: float32(118), int64(2)\n",
      "memory usage: 286.1 KB\n",
      "Number of NaN values in the Dataframe: 0\n"
     ]
    }
   ],
   "source": [
    "moaks_without_c_b_nan_numeric = moaks_without_c_b_numeric.fillna(-1.0)\n",
    "moaks_without_c_b_nan_numeric.info()\n",
    "print('Number of NaN values in the Dataframe: {}'.format(moaks_without_c_b_nan_numeric.isna().sum().sum()))"
   ]
  },
  {
   "cell_type": "code",
   "execution_count": 8,
   "metadata": {},
   "outputs": [
    {
     "name": "stdout",
     "output_type": "stream",
     "text": [
      "<class 'pandas.core.frame.DataFrame'>\n",
      "RangeIndex: 600 entries, 0 to 599\n",
      "Columns: 120 entries, ID to V00MPOPCYS\n",
      "dtypes: float32(118), int64(2)\n",
      "memory usage: 286.1 KB\n",
      "None\n"
     ]
    }
   ],
   "source": [
    "# So the clean version of the moaks_fnih_sq00 is the below: \n",
    "moaks_grades = moaks_without_c_b_nan_numeric\n",
    "print(moaks_grades.info())\n",
    "moaks_grades.to_csv('moaks_fnih_sq00_initial_numeric_df.csv')"
   ]
  },
  {
   "cell_type": "markdown",
   "metadata": {},
   "source": [
    "# NOW WE LOAD THE RADIOGRAPH INFORMATION DATABASE IN ORDER TO ACQUIRE THE XR OSTEOPHYTES"
   ]
  },
  {
   "cell_type": "code",
   "execution_count": 9,
   "metadata": {},
   "outputs": [],
   "source": [
    "kxr_sq_bu00= pd.read_csv('/home/anastasis/EMC_Thesis/OAI Data/OAICompleteData_ASCII/kxr_sq_bu00.txt', sep=\"|\")\n",
    "KL_prj15 = kxr_sq_bu00[kxr_sq_bu00['READPRJ'] == 15].copy()\n",
    "KL_prj15_osteophytes = KL_prj15.loc[:,['ID','SIDE','V00XROSFL','V00XROSFM','V00XROSTL','V00XROSTM','V00XRKL']]\n"
   ]
  },
  {
   "cell_type": "code",
   "execution_count": 10,
   "metadata": {},
   "outputs": [
    {
     "data": {
      "text/plain": [
       "ID           0\n",
       "SIDE         0\n",
       "VERSION      0\n",
       "READPRJ      0\n",
       "V00READER    0\n",
       "            ..\n",
       "V00XROSFL    0\n",
       "V00XROSFM    0\n",
       "V00XROSTL    0\n",
       "V00XROSTM    0\n",
       "V00XRKL      0\n",
       "Length: 125, dtype: int64"
      ]
     },
     "execution_count": 10,
     "metadata": {},
     "output_type": "execute_result"
    }
   ],
   "source": [
    "#now we create the df that contains both MOAKS grades and XR Osteophytes\n",
    "common_fnih_kxr_00 = pd.merge(moaks_grades,KL_prj15_osteophytes,on=['ID','SIDE'],how='inner')\n",
    "common_fnih_kxr_00.fillna(0.0,inplace=True)\n",
    "common_fnih_kxr_00.isna().sum()"
   ]
  },
  {
   "cell_type": "code",
   "execution_count": 54,
   "metadata": {},
   "outputs": [
    {
     "data": {
      "text/html": [
       "<div>\n",
       "<style scoped>\n",
       "    .dataframe tbody tr th:only-of-type {\n",
       "        vertical-align: middle;\n",
       "    }\n",
       "\n",
       "    .dataframe tbody tr th {\n",
       "        vertical-align: top;\n",
       "    }\n",
       "\n",
       "    .dataframe thead th {\n",
       "        text-align: right;\n",
       "    }\n",
       "</style>\n",
       "<table border=\"1\" class=\"dataframe\">\n",
       "  <thead>\n",
       "    <tr style=\"text-align: right;\">\n",
       "      <th></th>\n",
       "      <th>ID</th>\n",
       "      <th>SIDE</th>\n",
       "      <th>VERSION</th>\n",
       "      <th>READPRJ</th>\n",
       "      <th>V00READER</th>\n",
       "      <th>V00MCMPM</th>\n",
       "      <th>V00MCMPL</th>\n",
       "      <th>V00MCMFMA</th>\n",
       "      <th>V00MCMFLA</th>\n",
       "      <th>V00MCMFMP</th>\n",
       "      <th>...</th>\n",
       "      <th>V00MPPBUR</th>\n",
       "      <th>V00MSYIC</th>\n",
       "      <th>V00MEFFWK</th>\n",
       "      <th>V00MITBSIG</th>\n",
       "      <th>V00MPOPCYS</th>\n",
       "      <th>V00XROSFL</th>\n",
       "      <th>V00XROSFM</th>\n",
       "      <th>V00XROSTL</th>\n",
       "      <th>V00XROSTM</th>\n",
       "      <th>V00XRKL</th>\n",
       "    </tr>\n",
       "  </thead>\n",
       "  <tbody>\n",
       "    <tr>\n",
       "      <th>0</th>\n",
       "      <td>9001695</td>\n",
       "      <td>1</td>\n",
       "      <td>0.1</td>\n",
       "      <td>22.0</td>\n",
       "      <td>2.0</td>\n",
       "      <td>2.0</td>\n",
       "      <td>0.0</td>\n",
       "      <td>1.0</td>\n",
       "      <td>0.0</td>\n",
       "      <td>1.0</td>\n",
       "      <td>...</td>\n",
       "      <td>0.0</td>\n",
       "      <td>2.0</td>\n",
       "      <td>2.0</td>\n",
       "      <td>-1.0</td>\n",
       "      <td>1.0</td>\n",
       "      <td>3.0</td>\n",
       "      <td>3.0</td>\n",
       "      <td>2.0</td>\n",
       "      <td>3.0</td>\n",
       "      <td>2.0</td>\n",
       "    </tr>\n",
       "    <tr>\n",
       "      <th>1</th>\n",
       "      <td>9002116</td>\n",
       "      <td>2</td>\n",
       "      <td>0.1</td>\n",
       "      <td>22.0</td>\n",
       "      <td>2.0</td>\n",
       "      <td>2.0</td>\n",
       "      <td>0.0</td>\n",
       "      <td>2.0</td>\n",
       "      <td>1.0</td>\n",
       "      <td>2.0</td>\n",
       "      <td>...</td>\n",
       "      <td>0.0</td>\n",
       "      <td>1.0</td>\n",
       "      <td>2.0</td>\n",
       "      <td>-1.0</td>\n",
       "      <td>1.0</td>\n",
       "      <td>1.0</td>\n",
       "      <td>0.0</td>\n",
       "      <td>1.0</td>\n",
       "      <td>2.0</td>\n",
       "      <td>3.0</td>\n",
       "    </tr>\n",
       "    <tr>\n",
       "      <th>2</th>\n",
       "      <td>9002430</td>\n",
       "      <td>1</td>\n",
       "      <td>0.1</td>\n",
       "      <td>22.0</td>\n",
       "      <td>2.0</td>\n",
       "      <td>2.0</td>\n",
       "      <td>0.0</td>\n",
       "      <td>2.2</td>\n",
       "      <td>0.0</td>\n",
       "      <td>2.0</td>\n",
       "      <td>...</td>\n",
       "      <td>0.0</td>\n",
       "      <td>0.0</td>\n",
       "      <td>0.0</td>\n",
       "      <td>-1.0</td>\n",
       "      <td>1.0</td>\n",
       "      <td>1.0</td>\n",
       "      <td>1.0</td>\n",
       "      <td>0.0</td>\n",
       "      <td>1.0</td>\n",
       "      <td>2.0</td>\n",
       "    </tr>\n",
       "    <tr>\n",
       "      <th>3</th>\n",
       "      <td>9002817</td>\n",
       "      <td>1</td>\n",
       "      <td>0.1</td>\n",
       "      <td>22.0</td>\n",
       "      <td>2.0</td>\n",
       "      <td>2.0</td>\n",
       "      <td>1.0</td>\n",
       "      <td>0.0</td>\n",
       "      <td>0.0</td>\n",
       "      <td>2.0</td>\n",
       "      <td>...</td>\n",
       "      <td>0.0</td>\n",
       "      <td>2.0</td>\n",
       "      <td>1.0</td>\n",
       "      <td>-1.0</td>\n",
       "      <td>0.0</td>\n",
       "      <td>0.0</td>\n",
       "      <td>2.0</td>\n",
       "      <td>1.0</td>\n",
       "      <td>1.0</td>\n",
       "      <td>3.0</td>\n",
       "    </tr>\n",
       "    <tr>\n",
       "      <th>4</th>\n",
       "      <td>9003316</td>\n",
       "      <td>1</td>\n",
       "      <td>0.1</td>\n",
       "      <td>22.0</td>\n",
       "      <td>1.0</td>\n",
       "      <td>0.0</td>\n",
       "      <td>3.0</td>\n",
       "      <td>0.0</td>\n",
       "      <td>2.2</td>\n",
       "      <td>0.0</td>\n",
       "      <td>...</td>\n",
       "      <td>0.0</td>\n",
       "      <td>0.0</td>\n",
       "      <td>1.0</td>\n",
       "      <td>-1.0</td>\n",
       "      <td>0.0</td>\n",
       "      <td>1.0</td>\n",
       "      <td>0.0</td>\n",
       "      <td>0.0</td>\n",
       "      <td>0.0</td>\n",
       "      <td>2.0</td>\n",
       "    </tr>\n",
       "    <tr>\n",
       "      <th>...</th>\n",
       "      <td>...</td>\n",
       "      <td>...</td>\n",
       "      <td>...</td>\n",
       "      <td>...</td>\n",
       "      <td>...</td>\n",
       "      <td>...</td>\n",
       "      <td>...</td>\n",
       "      <td>...</td>\n",
       "      <td>...</td>\n",
       "      <td>...</td>\n",
       "      <td>...</td>\n",
       "      <td>...</td>\n",
       "      <td>...</td>\n",
       "      <td>...</td>\n",
       "      <td>...</td>\n",
       "      <td>...</td>\n",
       "      <td>...</td>\n",
       "      <td>...</td>\n",
       "      <td>...</td>\n",
       "      <td>...</td>\n",
       "      <td>...</td>\n",
       "    </tr>\n",
       "    <tr>\n",
       "      <th>595</th>\n",
       "      <td>9993833</td>\n",
       "      <td>2</td>\n",
       "      <td>0.1</td>\n",
       "      <td>22.0</td>\n",
       "      <td>1.0</td>\n",
       "      <td>0.0</td>\n",
       "      <td>2.0</td>\n",
       "      <td>2.2</td>\n",
       "      <td>2.2</td>\n",
       "      <td>0.0</td>\n",
       "      <td>...</td>\n",
       "      <td>0.0</td>\n",
       "      <td>0.0</td>\n",
       "      <td>0.0</td>\n",
       "      <td>-1.0</td>\n",
       "      <td>1.0</td>\n",
       "      <td>1.0</td>\n",
       "      <td>1.0</td>\n",
       "      <td>0.0</td>\n",
       "      <td>1.0</td>\n",
       "      <td>3.0</td>\n",
       "    </tr>\n",
       "    <tr>\n",
       "      <th>596</th>\n",
       "      <td>9994408</td>\n",
       "      <td>1</td>\n",
       "      <td>0.1</td>\n",
       "      <td>22.0</td>\n",
       "      <td>1.0</td>\n",
       "      <td>3.3</td>\n",
       "      <td>2.0</td>\n",
       "      <td>2.2</td>\n",
       "      <td>0.0</td>\n",
       "      <td>0.0</td>\n",
       "      <td>...</td>\n",
       "      <td>0.0</td>\n",
       "      <td>1.0</td>\n",
       "      <td>2.0</td>\n",
       "      <td>-1.0</td>\n",
       "      <td>0.0</td>\n",
       "      <td>0.0</td>\n",
       "      <td>1.0</td>\n",
       "      <td>1.0</td>\n",
       "      <td>1.0</td>\n",
       "      <td>3.0</td>\n",
       "    </tr>\n",
       "    <tr>\n",
       "      <th>597</th>\n",
       "      <td>9995338</td>\n",
       "      <td>2</td>\n",
       "      <td>0.1</td>\n",
       "      <td>22.0</td>\n",
       "      <td>1.0</td>\n",
       "      <td>0.0</td>\n",
       "      <td>2.2</td>\n",
       "      <td>0.0</td>\n",
       "      <td>0.0</td>\n",
       "      <td>0.0</td>\n",
       "      <td>...</td>\n",
       "      <td>0.0</td>\n",
       "      <td>1.0</td>\n",
       "      <td>0.0</td>\n",
       "      <td>-1.0</td>\n",
       "      <td>0.0</td>\n",
       "      <td>0.0</td>\n",
       "      <td>1.0</td>\n",
       "      <td>0.0</td>\n",
       "      <td>0.0</td>\n",
       "      <td>2.0</td>\n",
       "    </tr>\n",
       "    <tr>\n",
       "      <th>598</th>\n",
       "      <td>9996098</td>\n",
       "      <td>1</td>\n",
       "      <td>0.1</td>\n",
       "      <td>22.0</td>\n",
       "      <td>1.0</td>\n",
       "      <td>3.2</td>\n",
       "      <td>3.0</td>\n",
       "      <td>2.2</td>\n",
       "      <td>2.2</td>\n",
       "      <td>2.0</td>\n",
       "      <td>...</td>\n",
       "      <td>0.0</td>\n",
       "      <td>1.0</td>\n",
       "      <td>1.0</td>\n",
       "      <td>-1.0</td>\n",
       "      <td>0.0</td>\n",
       "      <td>1.0</td>\n",
       "      <td>2.0</td>\n",
       "      <td>0.0</td>\n",
       "      <td>1.0</td>\n",
       "      <td>3.0</td>\n",
       "    </tr>\n",
       "    <tr>\n",
       "      <th>599</th>\n",
       "      <td>9997381</td>\n",
       "      <td>1</td>\n",
       "      <td>0.1</td>\n",
       "      <td>22.0</td>\n",
       "      <td>1.0</td>\n",
       "      <td>2.0</td>\n",
       "      <td>0.0</td>\n",
       "      <td>0.0</td>\n",
       "      <td>0.0</td>\n",
       "      <td>0.0</td>\n",
       "      <td>...</td>\n",
       "      <td>0.0</td>\n",
       "      <td>0.0</td>\n",
       "      <td>1.0</td>\n",
       "      <td>-1.0</td>\n",
       "      <td>0.0</td>\n",
       "      <td>0.0</td>\n",
       "      <td>0.0</td>\n",
       "      <td>0.0</td>\n",
       "      <td>1.0</td>\n",
       "      <td>2.0</td>\n",
       "    </tr>\n",
       "  </tbody>\n",
       "</table>\n",
       "<p>600 rows × 125 columns</p>\n",
       "</div>"
      ],
      "text/plain": [
       "          ID  SIDE  VERSION  READPRJ  V00READER  V00MCMPM  V00MCMPL  \\\n",
       "0    9001695     1      0.1     22.0        2.0       2.0       0.0   \n",
       "1    9002116     2      0.1     22.0        2.0       2.0       0.0   \n",
       "2    9002430     1      0.1     22.0        2.0       2.0       0.0   \n",
       "3    9002817     1      0.1     22.0        2.0       2.0       1.0   \n",
       "4    9003316     1      0.1     22.0        1.0       0.0       3.0   \n",
       "..       ...   ...      ...      ...        ...       ...       ...   \n",
       "595  9993833     2      0.1     22.0        1.0       0.0       2.0   \n",
       "596  9994408     1      0.1     22.0        1.0       3.3       2.0   \n",
       "597  9995338     2      0.1     22.0        1.0       0.0       2.2   \n",
       "598  9996098     1      0.1     22.0        1.0       3.2       3.0   \n",
       "599  9997381     1      0.1     22.0        1.0       2.0       0.0   \n",
       "\n",
       "     V00MCMFMA  V00MCMFLA  V00MCMFMP  ...  V00MPPBUR  V00MSYIC  V00MEFFWK  \\\n",
       "0          1.0        0.0        1.0  ...        0.0       2.0        2.0   \n",
       "1          2.0        1.0        2.0  ...        0.0       1.0        2.0   \n",
       "2          2.2        0.0        2.0  ...        0.0       0.0        0.0   \n",
       "3          0.0        0.0        2.0  ...        0.0       2.0        1.0   \n",
       "4          0.0        2.2        0.0  ...        0.0       0.0        1.0   \n",
       "..         ...        ...        ...  ...        ...       ...        ...   \n",
       "595        2.2        2.2        0.0  ...        0.0       0.0        0.0   \n",
       "596        2.2        0.0        0.0  ...        0.0       1.0        2.0   \n",
       "597        0.0        0.0        0.0  ...        0.0       1.0        0.0   \n",
       "598        2.2        2.2        2.0  ...        0.0       1.0        1.0   \n",
       "599        0.0        0.0        0.0  ...        0.0       0.0        1.0   \n",
       "\n",
       "     V00MITBSIG  V00MPOPCYS  V00XROSFL  V00XROSFM  V00XROSTL  V00XROSTM  \\\n",
       "0          -1.0         1.0        3.0        3.0        2.0        3.0   \n",
       "1          -1.0         1.0        1.0        0.0        1.0        2.0   \n",
       "2          -1.0         1.0        1.0        1.0        0.0        1.0   \n",
       "3          -1.0         0.0        0.0        2.0        1.0        1.0   \n",
       "4          -1.0         0.0        1.0        0.0        0.0        0.0   \n",
       "..          ...         ...        ...        ...        ...        ...   \n",
       "595        -1.0         1.0        1.0        1.0        0.0        1.0   \n",
       "596        -1.0         0.0        0.0        1.0        1.0        1.0   \n",
       "597        -1.0         0.0        0.0        1.0        0.0        0.0   \n",
       "598        -1.0         0.0        1.0        2.0        0.0        1.0   \n",
       "599        -1.0         0.0        0.0        0.0        0.0        1.0   \n",
       "\n",
       "     V00XRKL  \n",
       "0        2.0  \n",
       "1        3.0  \n",
       "2        2.0  \n",
       "3        3.0  \n",
       "4        2.0  \n",
       "..       ...  \n",
       "595      3.0  \n",
       "596      3.0  \n",
       "597      2.0  \n",
       "598      3.0  \n",
       "599      2.0  \n",
       "\n",
       "[600 rows x 125 columns]"
      ]
     },
     "execution_count": 54,
     "metadata": {},
     "output_type": "execute_result"
    }
   ],
   "source": [
    "# here we exlude the subjects with XRKL= 0 BUT XROSFL or XROSFM or XROSTL or XROSTM != 0\n",
    "common_fnih_kxr_00.drop(common_fnih_kxr_00.loc[(common_fnih_kxr_00.V00XRKL==0) & ((common_fnih_kxr_00.V00XROSFL != 0) |\n",
    " (common_fnih_kxr_00.V00XROSFM != 0) | (common_fnih_kxr_00.V00XROSTL != 0) | (common_fnih_kxr_00.V00XROSTM != 0))].index,inplace=True)\n",
    "common_fnih_kxr_00"
   ]
  },
  {
   "cell_type": "code",
   "execution_count": 55,
   "metadata": {},
   "outputs": [
    {
     "data": {
      "text/html": [
       "<div>\n",
       "<style scoped>\n",
       "    .dataframe tbody tr th:only-of-type {\n",
       "        vertical-align: middle;\n",
       "    }\n",
       "\n",
       "    .dataframe tbody tr th {\n",
       "        vertical-align: top;\n",
       "    }\n",
       "\n",
       "    .dataframe thead th {\n",
       "        text-align: right;\n",
       "    }\n",
       "</style>\n",
       "<table border=\"1\" class=\"dataframe\">\n",
       "  <thead>\n",
       "    <tr style=\"text-align: right;\">\n",
       "      <th></th>\n",
       "      <th>ID</th>\n",
       "      <th>SIDE</th>\n",
       "      <th>VERSION</th>\n",
       "      <th>READPRJ</th>\n",
       "      <th>V00READER</th>\n",
       "      <th>V00MCMPM</th>\n",
       "      <th>V00MCMPL</th>\n",
       "      <th>V00MCMFMA</th>\n",
       "      <th>V00MCMFLA</th>\n",
       "      <th>V00MCMFMP</th>\n",
       "      <th>...</th>\n",
       "      <th>V00MPPBUR</th>\n",
       "      <th>V00MSYIC</th>\n",
       "      <th>V00MEFFWK</th>\n",
       "      <th>V00MITBSIG</th>\n",
       "      <th>V00MPOPCYS</th>\n",
       "      <th>V00XROSFL</th>\n",
       "      <th>V00XROSFM</th>\n",
       "      <th>V00XROSTL</th>\n",
       "      <th>V00XROSTM</th>\n",
       "      <th>V00XRKL</th>\n",
       "    </tr>\n",
       "  </thead>\n",
       "  <tbody>\n",
       "  </tbody>\n",
       "</table>\n",
       "<p>0 rows × 125 columns</p>\n",
       "</div>"
      ],
      "text/plain": [
       "Empty DataFrame\n",
       "Columns: [ID, SIDE, VERSION, READPRJ, V00READER, V00MCMPM, V00MCMPL, V00MCMFMA, V00MCMFLA, V00MCMFMP, V00MCMFLP, V00MCMFMC, V00MCMFLC, V00MCMTMA, V00MCMTLA, V00MCMTMC, V00MCMTLC, V00MCMTMP, V00MCMTLP, V00MBMSFMA, V00MBMPFMA, V00MBMNFMA, V00MBMSFLA, V00MBMPFLA, V00MBMNFLA, V00MBMSFMC, V00MBMPFMC, V00MBMNFMC, V00MBMSFLC, V00MBMPFLC, V00MBMNFLC, V00MBMSFMP, V00MBMPFMP, V00MBMNFMP, V00MBMSFLP, V00MBMPFLP, V00MBMNFLP, V00MBMSSS, V00MBMPSS, V00MBMNSS, V00MBMSTMA, V00MBMPTMA, V00MBMNTMA, V00MBMSTLA, V00MBMPTLA, V00MBMNTLA, V00MBMSTMC, V00MBMPTMC, V00MBMNTMC, V00MBMSTLC, V00MBMPTLC, V00MBMNTLC, V00MBMSTMP, V00MBMPTMP, V00MBMNTMP, V00MBMSTLP, V00MBMPTLP, V00MBMNTLP, V00MBMSPM, V00MBMPPM, V00MBMNPM, V00MBMSPL, V00MBMPPL, V00MBMNPL, V00MMTMA, V00MMTLA, V00MMTMB, V00MMTLB, V00MMTMP, V00MMTLP, V00MMHMA, V00MMHLA, V00MMHMB, V00MMHLB, V00MMHMP, V00MMHLP, V00MMSMA, V00MMSLA, V00MMSMB, V00MMSLB, V00MMSMP, V00MMSLP, V00MMXMM, V00MMXMA, V00MMXLA, V00MMXLL, V00MMRTM, V00MMRTL, V00MOSPS, V00MOSPI, V00MOSPM, V00MOSPL, V00MOSFMA, V00MOSFLA, V00MOSFMP, V00MOSFLP, V00MOSFMC, V00MOSFLC, V00MOSTM, V00MOSTL, ...]\n",
       "Index: []\n",
       "\n",
       "[0 rows x 125 columns]"
      ]
     },
     "execution_count": 55,
     "metadata": {},
     "output_type": "execute_result"
    }
   ],
   "source": [
    "common_fnih_kxr_00[common_fnih_kxr_00.V00XRKL==0]"
   ]
  },
  {
   "cell_type": "markdown",
   "metadata": {},
   "source": [
    "# NOW WE FIND THE SUBJECTS THAT FULFILL THE OA FEATURES FOR THE WHOLE KNEE JOINT"
   ]
  },
  {
   "cell_type": "code",
   "execution_count": 11,
   "metadata": {},
   "outputs": [
    {
     "name": "stdout",
     "output_type": "stream",
     "text": [
      "Type of ID and SIDE columns <class 'numpy.int64'> and type of the rest of the columns <class 'numpy.float64'>\n"
     ]
    }
   ],
   "source": [
    "# FRIST WE CONSTRUCT A NEW DATAFRAME WITH ALL THE OA FEATURES AS COLUMNS\n",
    "# The 'AnyTCL' column is an assistive variable that indicates as 1.0\n",
    "# the subjects with at least on variable of thickness cartilage loss >=1.0\n",
    "# and as 0.0 the subjects that DO NOT have any thickness cartilage loss\n",
    "\n",
    "moaks_OA_features = pd.DataFrame(\n",
    "    columns=['ID','SIDE','XR_Osteophytes','FullTCL','AnyTCL',\n",
    "             'PartialTCL','BML', 'Meniscus_Degradation'])\n",
    "# the ID and SIDE columns are integers\n",
    "moaks_OA_features[['ID','SIDE']] = common_fnih_kxr_00[['ID','SIDE']]\n",
    "# and we fill the rest of the df with np.nan values\n",
    "moaks_OA_features.iloc[:,2:] = np.nan\n",
    "\n",
    "print('Type of ID and SIDE columns {} and type of the rest of the columns {}'\n",
    "    .format(type(moaks_OA_features.iloc[0,0]),type(moaks_OA_features.iloc[0,2])))\n"
   ]
  },
  {
   "cell_type": "code",
   "execution_count": 12,
   "metadata": {},
   "outputs": [
    {
     "data": {
      "text/html": [
       "<div>\n",
       "<style scoped>\n",
       "    .dataframe tbody tr th:only-of-type {\n",
       "        vertical-align: middle;\n",
       "    }\n",
       "\n",
       "    .dataframe tbody tr th {\n",
       "        vertical-align: top;\n",
       "    }\n",
       "\n",
       "    .dataframe thead th {\n",
       "        text-align: right;\n",
       "    }\n",
       "</style>\n",
       "<table border=\"1\" class=\"dataframe\">\n",
       "  <thead>\n",
       "    <tr style=\"text-align: right;\">\n",
       "      <th></th>\n",
       "      <th>ID</th>\n",
       "      <th>SIDE</th>\n",
       "      <th>XR_Osteophytes</th>\n",
       "      <th>FullTCL</th>\n",
       "      <th>AnyTCL</th>\n",
       "      <th>PartialTCL</th>\n",
       "      <th>BML</th>\n",
       "      <th>Meniscus_Degradation</th>\n",
       "    </tr>\n",
       "  </thead>\n",
       "  <tbody>\n",
       "    <tr>\n",
       "      <th>0</th>\n",
       "      <td>9001695</td>\n",
       "      <td>1</td>\n",
       "      <td>NaN</td>\n",
       "      <td>NaN</td>\n",
       "      <td>NaN</td>\n",
       "      <td>NaN</td>\n",
       "      <td>NaN</td>\n",
       "      <td>NaN</td>\n",
       "    </tr>\n",
       "    <tr>\n",
       "      <th>1</th>\n",
       "      <td>9002116</td>\n",
       "      <td>2</td>\n",
       "      <td>NaN</td>\n",
       "      <td>NaN</td>\n",
       "      <td>NaN</td>\n",
       "      <td>NaN</td>\n",
       "      <td>NaN</td>\n",
       "      <td>NaN</td>\n",
       "    </tr>\n",
       "    <tr>\n",
       "      <th>2</th>\n",
       "      <td>9002430</td>\n",
       "      <td>1</td>\n",
       "      <td>NaN</td>\n",
       "      <td>NaN</td>\n",
       "      <td>NaN</td>\n",
       "      <td>NaN</td>\n",
       "      <td>NaN</td>\n",
       "      <td>NaN</td>\n",
       "    </tr>\n",
       "    <tr>\n",
       "      <th>3</th>\n",
       "      <td>9002817</td>\n",
       "      <td>1</td>\n",
       "      <td>NaN</td>\n",
       "      <td>NaN</td>\n",
       "      <td>NaN</td>\n",
       "      <td>NaN</td>\n",
       "      <td>NaN</td>\n",
       "      <td>NaN</td>\n",
       "    </tr>\n",
       "    <tr>\n",
       "      <th>4</th>\n",
       "      <td>9003316</td>\n",
       "      <td>1</td>\n",
       "      <td>NaN</td>\n",
       "      <td>NaN</td>\n",
       "      <td>NaN</td>\n",
       "      <td>NaN</td>\n",
       "      <td>NaN</td>\n",
       "      <td>NaN</td>\n",
       "    </tr>\n",
       "    <tr>\n",
       "      <th>...</th>\n",
       "      <td>...</td>\n",
       "      <td>...</td>\n",
       "      <td>...</td>\n",
       "      <td>...</td>\n",
       "      <td>...</td>\n",
       "      <td>...</td>\n",
       "      <td>...</td>\n",
       "      <td>...</td>\n",
       "    </tr>\n",
       "    <tr>\n",
       "      <th>595</th>\n",
       "      <td>9993833</td>\n",
       "      <td>2</td>\n",
       "      <td>NaN</td>\n",
       "      <td>NaN</td>\n",
       "      <td>NaN</td>\n",
       "      <td>NaN</td>\n",
       "      <td>NaN</td>\n",
       "      <td>NaN</td>\n",
       "    </tr>\n",
       "    <tr>\n",
       "      <th>596</th>\n",
       "      <td>9994408</td>\n",
       "      <td>1</td>\n",
       "      <td>NaN</td>\n",
       "      <td>NaN</td>\n",
       "      <td>NaN</td>\n",
       "      <td>NaN</td>\n",
       "      <td>NaN</td>\n",
       "      <td>NaN</td>\n",
       "    </tr>\n",
       "    <tr>\n",
       "      <th>597</th>\n",
       "      <td>9995338</td>\n",
       "      <td>2</td>\n",
       "      <td>NaN</td>\n",
       "      <td>NaN</td>\n",
       "      <td>NaN</td>\n",
       "      <td>NaN</td>\n",
       "      <td>NaN</td>\n",
       "      <td>NaN</td>\n",
       "    </tr>\n",
       "    <tr>\n",
       "      <th>598</th>\n",
       "      <td>9996098</td>\n",
       "      <td>1</td>\n",
       "      <td>NaN</td>\n",
       "      <td>NaN</td>\n",
       "      <td>NaN</td>\n",
       "      <td>NaN</td>\n",
       "      <td>NaN</td>\n",
       "      <td>NaN</td>\n",
       "    </tr>\n",
       "    <tr>\n",
       "      <th>599</th>\n",
       "      <td>9997381</td>\n",
       "      <td>1</td>\n",
       "      <td>NaN</td>\n",
       "      <td>NaN</td>\n",
       "      <td>NaN</td>\n",
       "      <td>NaN</td>\n",
       "      <td>NaN</td>\n",
       "      <td>NaN</td>\n",
       "    </tr>\n",
       "  </tbody>\n",
       "</table>\n",
       "<p>600 rows × 8 columns</p>\n",
       "</div>"
      ],
      "text/plain": [
       "          ID  SIDE  XR_Osteophytes  FullTCL  AnyTCL  PartialTCL  BML  \\\n",
       "0    9001695     1             NaN      NaN     NaN         NaN  NaN   \n",
       "1    9002116     2             NaN      NaN     NaN         NaN  NaN   \n",
       "2    9002430     1             NaN      NaN     NaN         NaN  NaN   \n",
       "3    9002817     1             NaN      NaN     NaN         NaN  NaN   \n",
       "4    9003316     1             NaN      NaN     NaN         NaN  NaN   \n",
       "..       ...   ...             ...      ...     ...         ...  ...   \n",
       "595  9993833     2             NaN      NaN     NaN         NaN  NaN   \n",
       "596  9994408     1             NaN      NaN     NaN         NaN  NaN   \n",
       "597  9995338     2             NaN      NaN     NaN         NaN  NaN   \n",
       "598  9996098     1             NaN      NaN     NaN         NaN  NaN   \n",
       "599  9997381     1             NaN      NaN     NaN         NaN  NaN   \n",
       "\n",
       "     Meniscus_Degradation  \n",
       "0                     NaN  \n",
       "1                     NaN  \n",
       "2                     NaN  \n",
       "3                     NaN  \n",
       "4                     NaN  \n",
       "..                    ...  \n",
       "595                   NaN  \n",
       "596                   NaN  \n",
       "597                   NaN  \n",
       "598                   NaN  \n",
       "599                   NaN  \n",
       "\n",
       "[600 rows x 8 columns]"
      ]
     },
     "execution_count": 12,
     "metadata": {},
     "output_type": "execute_result"
    }
   ],
   "source": [
    "moaks_OA_features"
   ]
  },
  {
   "cell_type": "code",
   "execution_count": 13,
   "metadata": {},
   "outputs": [],
   "source": [
    "# Then we fill the FullTCL column with all the subjects with \n",
    "# at least one cartilage thickness loss variable larger than 3.0\n",
    "# and the FullTCL cell value is 1.0\n",
    "moaks_OA_features.loc[((common_fnih_kxr_00['V00MCMFLA'] >= 3.0) | (common_fnih_kxr_00['V00MCMFLP'] >= 3.0) |\n",
    "                (common_fnih_kxr_00['V00MCMFLC'] >= 3.0) | (common_fnih_kxr_00['V00MCMTLA'] >= 3.0) |\n",
    "                (common_fnih_kxr_00['V00MCMTLP'] >= 3.0) | (common_fnih_kxr_00['V00MCMTLC'] >= 3.0) |\n",
    "                (common_fnih_kxr_00['V00MCMFMA'] >= 3.0) | (common_fnih_kxr_00['V00MCMFMP'] >= 3.0) |\n",
    "                (common_fnih_kxr_00['V00MCMFMC'] >= 3.0) | (common_fnih_kxr_00['V00MCMTMA'] >= 3.0) |\n",
    "                (common_fnih_kxr_00['V00MCMTMP'] >= 3.0) | (common_fnih_kxr_00['V00MCMTMC'] >= 3.0)),'FullTCL']=1.0"
   ]
  },
  {
   "cell_type": "code",
   "execution_count": 14,
   "metadata": {},
   "outputs": [
    {
     "name": "stdout",
     "output_type": "stream",
     "text": [
      "Number of subjects WITH Full CTL : 69\n"
     ]
    }
   ],
   "source": [
    "print('Number of subjects WITH Full CTL : {}'.format((moaks_OA_features['FullTCL']==1.0).sum()))\n"
   ]
  },
  {
   "cell_type": "code",
   "execution_count": 15,
   "metadata": {},
   "outputs": [
    {
     "name": "stdout",
     "output_type": "stream",
     "text": [
      "0.0    531\n",
      "1.0     69\n",
      "Name: FullTCL, dtype: int64\n"
     ]
    }
   ],
   "source": [
    "# Then we fill the rest of the values of Full_CTL column with 0.0 values instead of NaN\n",
    "moaks_OA_features.loc[((common_fnih_kxr_00['V00MCMFLA'] < 3.0) &  (common_fnih_kxr_00['V00MCMFLA'] >= 0.0) &\n",
    "                (common_fnih_kxr_00['V00MCMFLP'] < 3.0) & (common_fnih_kxr_00['V00MCMFLP'] >= 0.0) &\n",
    "                (common_fnih_kxr_00['V00MCMFLC'] < 3.0) & (common_fnih_kxr_00['V00MCMFLC'] >= 0.0) & \n",
    "                (common_fnih_kxr_00['V00MCMTLA'] < 3.0) & (common_fnih_kxr_00['V00MCMTLA'] >= 0.0) &\n",
    "                (common_fnih_kxr_00['V00MCMTLP'] < 3.0) & (common_fnih_kxr_00['V00MCMTLP'] >= 0.0) & \n",
    "                (common_fnih_kxr_00['V00MCMTLC'] < 3.0) & (common_fnih_kxr_00['V00MCMTLC'] >= 0.0) &\n",
    "                (common_fnih_kxr_00['V00MCMFMA'] < 3.0) & (common_fnih_kxr_00['V00MCMFMA'] >= 0.0) & \n",
    "                (common_fnih_kxr_00['V00MCMFMP'] < 3.0) & (common_fnih_kxr_00['V00MCMFMP'] >= 0.0) &\n",
    "                (common_fnih_kxr_00['V00MCMFMC'] < 3.0) & (common_fnih_kxr_00['V00MCMFMC'] >= 0.0) & \n",
    "                (common_fnih_kxr_00['V00MCMTMA'] < 3.0) & (common_fnih_kxr_00['V00MCMTMA'] >= 0.0) &\n",
    "                (common_fnih_kxr_00['V00MCMTMP'] < 3.0) & (common_fnih_kxr_00['V00MCMTMP'] >= 0.0) & \n",
    "                (common_fnih_kxr_00['V00MCMTMC'] < 3.0) & (common_fnih_kxr_00['V00MCMTMC'] >= 0.0)),'FullTCL']=0.0\n",
    "print(moaks_OA_features['FullTCL'].value_counts())\n"
   ]
  },
  {
   "cell_type": "code",
   "execution_count": 16,
   "metadata": {},
   "outputs": [],
   "source": [
    "# now the column AnyTCL is filled based on the initial Thickness Cartilage Loss variables\n",
    "# if at least one variable value is larger than 1.0 then it has either Full or Partial Thickness Cartilage Loss\n",
    "# and the AnyTCL cell value is 1.0\n",
    "\n",
    "moaks_OA_features.loc[((common_fnih_kxr_00['V00MCMFLA'] >= 1.0) | (common_fnih_kxr_00['V00MCMFLP'] >= 1.0) |\n",
    "                (common_fnih_kxr_00['V00MCMFLC'] >= 1.0) | (common_fnih_kxr_00['V00MCMTLA'] >= 1.0) |\n",
    "                (common_fnih_kxr_00['V00MCMTLP'] >= 1.0) | (common_fnih_kxr_00['V00MCMTLC'] >= 1.0) |\n",
    "                (common_fnih_kxr_00['V00MCMFMA'] >= 1.0) | (common_fnih_kxr_00['V00MCMFMP'] >= 1.0) |\n",
    "                (common_fnih_kxr_00['V00MCMFMC'] >= 1.0) | (common_fnih_kxr_00['V00MCMTMA'] >= 1.0) |\n",
    "                (common_fnih_kxr_00['V00MCMTMP'] >= 1.0) | (common_fnih_kxr_00['V00MCMTMC'] >= 1.0)),'AnyTCL']=1.0\n",
    "\n"
   ]
  },
  {
   "cell_type": "code",
   "execution_count": 17,
   "metadata": {},
   "outputs": [
    {
     "name": "stdout",
     "output_type": "stream",
     "text": [
      "Number of Subjects WITHOUT Any Cartilage Thickness Loss: 31\n"
     ]
    }
   ],
   "source": [
    "# if all Thickness Cartilage Loss variables are less than 1.0 then the subject has no Thickness Cartilage Loss\n",
    "# and the AnyTCL cell value is 0.0\n",
    "moaks_OA_features.loc[((common_fnih_kxr_00['V00MCMFLA'] < 1.0) & (common_fnih_kxr_00['V00MCMFLA'] >= 0.0) & \n",
    "                (common_fnih_kxr_00['V00MCMFLP'] < 1.0) & (common_fnih_kxr_00['V00MCMFLP'] >= 0.0) &\n",
    "                (common_fnih_kxr_00['V00MCMFLC'] < 1.0) & (common_fnih_kxr_00['V00MCMFLC'] >= 0.0) & \n",
    "                (common_fnih_kxr_00['V00MCMTLA'] < 1.0) & (common_fnih_kxr_00['V00MCMTLA'] >= 0.0) &\n",
    "                (common_fnih_kxr_00['V00MCMTLP'] < 1.0) & (common_fnih_kxr_00['V00MCMTLP'] >= 0.0) & \n",
    "                (common_fnih_kxr_00['V00MCMTLC'] < 1.0) & (common_fnih_kxr_00['V00MCMTLC'] >= 0.0) &\n",
    "                (common_fnih_kxr_00['V00MCMFMA'] < 1.0) & (common_fnih_kxr_00['V00MCMFMA'] >= 0.0) & \n",
    "                (common_fnih_kxr_00['V00MCMFMP'] < 1.0) & (common_fnih_kxr_00['V00MCMFMP'] >= 0.0) &\n",
    "                (common_fnih_kxr_00['V00MCMFMC'] < 1.0) & (common_fnih_kxr_00['V00MCMFMC'] >= 0.0) & \n",
    "                (common_fnih_kxr_00['V00MCMTMA'] < 1.0) & (common_fnih_kxr_00['V00MCMTMA'] >= 0.0) &\n",
    "                (common_fnih_kxr_00['V00MCMTMP'] < 1.0) & (common_fnih_kxr_00['V00MCMTMP'] >= 0.0) & \n",
    "                (common_fnih_kxr_00['V00MCMTMC'] < 1.0) & (common_fnih_kxr_00['V00MCMTMC'] >= 0.0)),'AnyTCL']=0.0\n",
    "print('Number of Subjects WITHOUT Any Cartilage Thickness Loss: {}'.\n",
    "        format((moaks_OA_features['AnyTCL']==0.0).sum()))\n"
   ]
  },
  {
   "cell_type": "code",
   "execution_count": 18,
   "metadata": {},
   "outputs": [
    {
     "name": "stdout",
     "output_type": "stream",
     "text": [
      "1.0    569\n",
      "0.0     31\n",
      "Name: AnyTCL, dtype: int64\n"
     ]
    }
   ],
   "source": [
    "# print(moaks_OA_features[moaks_OA_features['AnyTCL']==0].count())\n",
    "print(moaks_OA_features.AnyTCL.value_counts())"
   ]
  },
  {
   "cell_type": "code",
   "execution_count": 19,
   "metadata": {},
   "outputs": [
    {
     "name": "stdout",
     "output_type": "stream",
     "text": [
      "Number of Subjects with Partial Thickness Cartilage Loss: 500\n"
     ]
    }
   ],
   "source": [
    "# Now we fill the PartialTCL column initially with the values of the AnyTCL column\n",
    "# Where the FullTCL column is 1.0 then the PartialTCL is 0.0\n",
    "# So if the PartialTCL is 1.0 then the Thickness Cartilage Loss variables are between 1.0 and 3.0\n",
    "\n",
    "moaks_OA_features['PartialTCL'] = moaks_OA_features['AnyTCL']\n",
    "moaks_OA_features.loc[(moaks_OA_features['FullTCL']==1),'PartialTCL']=0.0\n",
    "print('Number of Subjects with Partial Thickness Cartilage Loss: {}'.\n",
    "        format((moaks_OA_features['PartialTCL']==1.0).sum()))"
   ]
  },
  {
   "cell_type": "code",
   "execution_count": 20,
   "metadata": {},
   "outputs": [],
   "source": [
    "# # NOW WE FILL THE DEFINITE OSTEOPHYTES COLUMN\n",
    "\n",
    "# moaks_OA_features.loc[((moaks_grades['V00MOSFLA'] >= 2.0) | (moaks_grades['V00MOSFLP'] >= 2.0) |\n",
    "#                 (moaks_grades['V00MOSFLC'] >= 2.0) | (moaks_grades['V00MOSTL'] >= 2.0) |\n",
    "#                 (moaks_grades['V00MOSFMA'] >= 2.0) | (moaks_grades['V00MOSFMP'] >= 2.0) |\n",
    "#                 (moaks_grades['V00MOSFMC'] >= 2.0) | (moaks_grades['V00MOSTM'] >= 2.0)),'Definite_Osteophytes'] = 1.0\n",
    "\n",
    "# moaks_OA_features.loc[((moaks_grades['V00MOSFLA'] < 2.0) & (moaks_grades['V00MOSFLA'] >= 0.0) & \n",
    "#                 (moaks_grades['V00MOSFLP'] < 2.0) & (moaks_grades['V00MOSFLP'] >= 0.0) &\n",
    "#                 (moaks_grades['V00MOSFLC'] < 2.0) & (moaks_grades['V00MOSFLC'] >= 0.0) & \n",
    "#                 (moaks_grades['V00MOSTL'] < 2.0) & (moaks_grades['V00MOSTL'] >= 0.0) &\n",
    "#                 (moaks_grades['V00MOSFMA'] < 2.0) & (moaks_grades['V00MOSFMA'] >= 0.0) & \n",
    "#                 (moaks_grades['V00MOSFMP'] < 2.0) & (moaks_grades['V00MOSFMP'] >= 0.0) &\n",
    "#                 (moaks_grades['V00MOSFMC'] < 2.0) & (moaks_grades['V00MOSFMC'] >= 0.0) & \n",
    "#                 (moaks_grades['V00MOSTM'] < 2.0) & (moaks_grades['V00MOSTM'] >= 0.0)),'Definite_Osteophytes'] = 0.0\n",
    "\n",
    "# print('With Definite Osteophytes->1.0, Without->0.0 \\n{}'.format(moaks_OA_features.Definite_Osteophytes.value_counts(dropna=False)))\n",
    "\n",
    "\n",
    "# # print('Number of Subjects WITH Definite Osteophytes: {}'.\n",
    "# #         format((moaks_OA_features['Definite_Osteophytes']==1.0).sum()))\n",
    "\n",
    "# # print('Number of Subjects WITHOUT Definite Osteophytes: {}'.\n",
    "# #         format((moaks_OA_features['Definite_Osteophytes']==0.0).sum()))\n"
   ]
  },
  {
   "cell_type": "code",
   "execution_count": 21,
   "metadata": {},
   "outputs": [
    {
     "name": "stdout",
     "output_type": "stream",
     "text": [
      "With Xray Osteophytes->1.0, Without->0.0 \n",
      "1.0    546\n",
      "0.0     54\n",
      "Name: XR_Osteophytes, dtype: int64\n"
     ]
    }
   ],
   "source": [
    "## NOW WE FILL THE XRAY OSTEOPHYTES COLUMN\n",
    "moaks_OA_features.loc[((common_fnih_kxr_00['V00XROSFL'] >= 1.0) | (common_fnih_kxr_00['V00XROSFM'] >= 1.0) | \n",
    "                (common_fnih_kxr_00['V00XROSTL'] >= 1.0) | (common_fnih_kxr_00['V00XROSTM'] >= 1.0)),'XR_Osteophytes'] = 1.0\n",
    "\n",
    "moaks_OA_features.loc[((common_fnih_kxr_00['V00XROSFL'] < 1.0) & (common_fnih_kxr_00['V00XROSFL'] >= 0.0) &\n",
    "                (common_fnih_kxr_00['V00XROSFM'] < 1.0) & (common_fnih_kxr_00['V00XROSFM'] >= 0.0) & \n",
    "                (common_fnih_kxr_00['V00XROSTL'] < 1.0) & (common_fnih_kxr_00['V00XROSTL'] >= 0.0) &\n",
    "                (common_fnih_kxr_00['V00XROSTM'] < 1.0) & (common_fnih_kxr_00['V00XROSTM'] >= 0.0)),'XR_Osteophytes'] = 0.0\n",
    "\n",
    "print('With Xray Osteophytes->1.0, Without->0.0 \\n{}'.format(moaks_OA_features.XR_Osteophytes.value_counts(dropna=False)))"
   ]
  },
  {
   "cell_type": "code",
   "execution_count": 22,
   "metadata": {},
   "outputs": [],
   "source": [
    "# print(moaks_OA_features.loc[moaks_OA_features.XR_Osteophytes.isna()].index)\n",
    "# print(common_fnih_kxr_00.iloc[moaks_OA_features.loc[moaks_OA_features.XR_Osteophytes.isna()].index,-5:])"
   ]
  },
  {
   "cell_type": "code",
   "execution_count": 23,
   "metadata": {},
   "outputs": [
    {
     "name": "stdout",
     "output_type": "stream",
     "text": [
      "With BML->1.0, Without->0.0 \n",
      "1.0    346\n",
      "0.0    253\n",
      "NaN      1\n",
      "Name: BML, dtype: int64\n"
     ]
    }
   ],
   "source": [
    "# NOW WE FILL THE BML COLUMN\n",
    "\n",
    "moaks_OA_features.loc[((common_fnih_kxr_00['V00MBMSFLC'] >= 1.0) | (common_fnih_kxr_00['V00MBMSFLP'] >= 1.0) |\n",
    "                (common_fnih_kxr_00['V00MBMSTLA'] >= 1.0) | (common_fnih_kxr_00['V00MBMSTLC'] >= 1.0) |\n",
    "                (common_fnih_kxr_00['V00MBMSTLP'] >= 1.0) | (common_fnih_kxr_00['V00MBMSFMC'] >= 1.0) | \n",
    "                (common_fnih_kxr_00['V00MBMSFMP'] >= 1.0) | (common_fnih_kxr_00['V00MBMSTMA'] >= 1.0) | \n",
    "                (common_fnih_kxr_00['V00MBMSTMC'] >= 1.0) | (common_fnih_kxr_00['V00MBMSTMP'] >= 1.0)),'BML'] = 1.0\n",
    "\n",
    "moaks_OA_features.loc[((common_fnih_kxr_00['V00MBMSFLC'] < 1.0) & (common_fnih_kxr_00['V00MBMSFLC'] >= 0.0) &\n",
    "                (common_fnih_kxr_00['V00MBMSFLP'] < 1.0) & (common_fnih_kxr_00['V00MBMSFLP'] >= 0.0) &\n",
    "                (common_fnih_kxr_00['V00MBMSTLA'] < 1.0) & (common_fnih_kxr_00['V00MBMSTLA'] >= 0.0) &\n",
    "                (common_fnih_kxr_00['V00MBMSTLC'] < 1.0) & (common_fnih_kxr_00['V00MBMSTLC'] >= 0.0) &\n",
    "                (common_fnih_kxr_00['V00MBMSTLP'] < 1.0) & (common_fnih_kxr_00['V00MBMSTLP'] >= 0.0) & \n",
    "                (common_fnih_kxr_00['V00MBMSFMC'] < 1.0) & (common_fnih_kxr_00['V00MBMSFMC'] >= 0.0) & \n",
    "                (common_fnih_kxr_00['V00MBMSFMP'] < 1.0) & (common_fnih_kxr_00['V00MBMSFMP'] >= 0.0) & \n",
    "                (common_fnih_kxr_00['V00MBMSTMA'] < 1.0) & (common_fnih_kxr_00['V00MBMSTMA'] >= 0.0) & \n",
    "                (common_fnih_kxr_00['V00MBMSTMC'] < 1.0) & (common_fnih_kxr_00['V00MBMSTMC'] >= 0.0) & \n",
    "                (common_fnih_kxr_00['V00MBMSTMP'] < 1.0) & (common_fnih_kxr_00['V00MBMSTMP'] >= 0.0)),'BML'] = 0.0\n",
    "\n",
    "print('With BML->1.0, Without->0.0 \\n{}'.format(moaks_OA_features.BML.value_counts(dropna=False)))\n",
    "\n",
    "\n",
    "# print('Number of Subjects WITH Bone Marrow Lesions: {}'.\n",
    "#         format((moaks_OA_features['BML']==1.0).sum()))\n",
    "\n",
    "# print('Number of Subjects WITHOUT Bone Marrow Lesions: {}'.\n",
    "#         format((moaks_OA_features['BML']==0.0).sum()))"
   ]
  },
  {
   "cell_type": "code",
   "execution_count": 24,
   "metadata": {},
   "outputs": [
    {
     "name": "stdout",
     "output_type": "stream",
     "text": [
      "With Meniscal Degradation->1.0, Without->0.0 \n",
      "1.0    494\n",
      "0.0    106\n",
      "Name: Meniscus_Degradation, dtype: int64\n"
     ]
    }
   ],
   "source": [
    "# AND NOW WE FILL THE MENISCUS DEGRADATION COLUMN\n",
    "\n",
    "moaks_OA_features.loc[((common_fnih_kxr_00['V00MMTLA'] >= 2.0) | (common_fnih_kxr_00['V00MMTLB'] >= 2.0) |\n",
    "                (common_fnih_kxr_00['V00MMTLP'] >= 2.0) | (common_fnih_kxr_00['V00MMRTL'] >= 2.0) |\n",
    "                (common_fnih_kxr_00['V00MMTMA'] >= 2.0) | (common_fnih_kxr_00['V00MMTMB'] >= 2.0) |\n",
    "                (common_fnih_kxr_00['V00MMTMP'] >= 2.0) | (common_fnih_kxr_00['V00MMRTM'] >= 2.0) |\n",
    "                (common_fnih_kxr_00['V00MMXLL'] >= 1.0) | (common_fnih_kxr_00['V00MMXLA'] >= 1.0) |\n",
    "                (common_fnih_kxr_00['V00MMXMM'] >= 1.0) | (common_fnih_kxr_00['V00MMXMA'] >= 1.0)),'Meniscus_Degradation'] = 1.0\n",
    "\n",
    "moaks_OA_features.loc[((common_fnih_kxr_00['V00MMTLA'] < 2.0) & (common_fnih_kxr_00['V00MMTLA'] >= 0.0) & \n",
    "                (common_fnih_kxr_00['V00MMTLB'] < 2.0) & (common_fnih_kxr_00['V00MMTLB'] >= 0.0) &\n",
    "                (common_fnih_kxr_00['V00MMTLP'] < 2.0) & (common_fnih_kxr_00['V00MMTLP'] >= 0.0) & \n",
    "                (common_fnih_kxr_00['V00MMRTL'] < 2.0) & (common_fnih_kxr_00['V00MMRTL'] >= 0.0) &\n",
    "                (common_fnih_kxr_00['V00MMTMA'] < 2.0) & (common_fnih_kxr_00['V00MMTMA'] >= 0.0) & \n",
    "                (common_fnih_kxr_00['V00MMTMB'] < 2.0) & (common_fnih_kxr_00['V00MMTMB'] >= 0.0) &\n",
    "                (common_fnih_kxr_00['V00MMTMP'] < 2.0) & (common_fnih_kxr_00['V00MMTMP'] >= 0.0) & \n",
    "                (common_fnih_kxr_00['V00MMRTM'] < 2.0) & (common_fnih_kxr_00['V00MMRTM'] >= 0.0) &\n",
    "                (common_fnih_kxr_00['V00MMXLL'] < 1.0) & (common_fnih_kxr_00['V00MMXLL'] >= 0.0) & \n",
    "                (common_fnih_kxr_00['V00MMXLA'] < 1.0) & (common_fnih_kxr_00['V00MMXLA'] >= 0.0) &\n",
    "                (common_fnih_kxr_00['V00MMXMM'] < 1.0) & (common_fnih_kxr_00['V00MMXMM'] >= 0.0) & \n",
    "                (common_fnih_kxr_00['V00MMXMA'] < 1.0) & (common_fnih_kxr_00['V00MMXMA'] >= 0.0)),'Meniscus_Degradation'] = 0.0\n",
    "\n",
    "print('With Meniscal Degradation->1.0, Without->0.0 \\n{}'.format(moaks_OA_features.Meniscus_Degradation.value_counts(dropna=False)))\n",
    "\n",
    "\n",
    "# print('Number of Subjects WITH Meniscus Degradation: {}'.\n",
    "#         format((moaks_OA_features['Meniscus_Degradation']==1.0).sum()))\n",
    "\n",
    "# print('Number of Subjects WITHOUT Meniscus Degradation: {}'.\n",
    "#         format((moaks_OA_features['Meniscus_Degradation']==0.0).sum()))"
   ]
  },
  {
   "cell_type": "code",
   "execution_count": 25,
   "metadata": {},
   "outputs": [
    {
     "name": "stdout",
     "output_type": "stream",
     "text": [
      "Number of NaN values per column: [0, 0, 0, 0, 0, 0, 1, 0]\n"
     ]
    }
   ],
   "source": [
    "print('Number of NaN values per column: {}'.format(moaks_OA_features.isna().sum().to_list()))"
   ]
  },
  {
   "cell_type": "code",
   "execution_count": 26,
   "metadata": {},
   "outputs": [
    {
     "data": {
      "text/html": [
       "<div>\n",
       "<style scoped>\n",
       "    .dataframe tbody tr th:only-of-type {\n",
       "        vertical-align: middle;\n",
       "    }\n",
       "\n",
       "    .dataframe tbody tr th {\n",
       "        vertical-align: top;\n",
       "    }\n",
       "\n",
       "    .dataframe thead th {\n",
       "        text-align: right;\n",
       "    }\n",
       "</style>\n",
       "<table border=\"1\" class=\"dataframe\">\n",
       "  <thead>\n",
       "    <tr style=\"text-align: right;\">\n",
       "      <th></th>\n",
       "      <th>ID</th>\n",
       "      <th>SIDE</th>\n",
       "      <th>XR_Osteophytes</th>\n",
       "      <th>FullTCL</th>\n",
       "      <th>AnyTCL</th>\n",
       "      <th>PartialTCL</th>\n",
       "      <th>BML</th>\n",
       "      <th>Meniscus_Degradation</th>\n",
       "    </tr>\n",
       "  </thead>\n",
       "  <tbody>\n",
       "    <tr>\n",
       "      <th>0</th>\n",
       "      <td>9001695</td>\n",
       "      <td>1</td>\n",
       "      <td>1.0</td>\n",
       "      <td>0.0</td>\n",
       "      <td>1.0</td>\n",
       "      <td>1.0</td>\n",
       "      <td>1.0</td>\n",
       "      <td>1.0</td>\n",
       "    </tr>\n",
       "    <tr>\n",
       "      <th>1</th>\n",
       "      <td>9002116</td>\n",
       "      <td>2</td>\n",
       "      <td>1.0</td>\n",
       "      <td>0.0</td>\n",
       "      <td>1.0</td>\n",
       "      <td>1.0</td>\n",
       "      <td>1.0</td>\n",
       "      <td>1.0</td>\n",
       "    </tr>\n",
       "    <tr>\n",
       "      <th>2</th>\n",
       "      <td>9002430</td>\n",
       "      <td>1</td>\n",
       "      <td>1.0</td>\n",
       "      <td>0.0</td>\n",
       "      <td>1.0</td>\n",
       "      <td>1.0</td>\n",
       "      <td>1.0</td>\n",
       "      <td>1.0</td>\n",
       "    </tr>\n",
       "    <tr>\n",
       "      <th>3</th>\n",
       "      <td>9002817</td>\n",
       "      <td>1</td>\n",
       "      <td>1.0</td>\n",
       "      <td>0.0</td>\n",
       "      <td>1.0</td>\n",
       "      <td>1.0</td>\n",
       "      <td>1.0</td>\n",
       "      <td>1.0</td>\n",
       "    </tr>\n",
       "    <tr>\n",
       "      <th>4</th>\n",
       "      <td>9003316</td>\n",
       "      <td>1</td>\n",
       "      <td>1.0</td>\n",
       "      <td>0.0</td>\n",
       "      <td>1.0</td>\n",
       "      <td>1.0</td>\n",
       "      <td>1.0</td>\n",
       "      <td>0.0</td>\n",
       "    </tr>\n",
       "    <tr>\n",
       "      <th>...</th>\n",
       "      <td>...</td>\n",
       "      <td>...</td>\n",
       "      <td>...</td>\n",
       "      <td>...</td>\n",
       "      <td>...</td>\n",
       "      <td>...</td>\n",
       "      <td>...</td>\n",
       "      <td>...</td>\n",
       "    </tr>\n",
       "    <tr>\n",
       "      <th>595</th>\n",
       "      <td>9993833</td>\n",
       "      <td>2</td>\n",
       "      <td>1.0</td>\n",
       "      <td>0.0</td>\n",
       "      <td>1.0</td>\n",
       "      <td>1.0</td>\n",
       "      <td>1.0</td>\n",
       "      <td>1.0</td>\n",
       "    </tr>\n",
       "    <tr>\n",
       "      <th>596</th>\n",
       "      <td>9994408</td>\n",
       "      <td>1</td>\n",
       "      <td>1.0</td>\n",
       "      <td>0.0</td>\n",
       "      <td>1.0</td>\n",
       "      <td>1.0</td>\n",
       "      <td>1.0</td>\n",
       "      <td>1.0</td>\n",
       "    </tr>\n",
       "    <tr>\n",
       "      <th>597</th>\n",
       "      <td>9995338</td>\n",
       "      <td>2</td>\n",
       "      <td>1.0</td>\n",
       "      <td>0.0</td>\n",
       "      <td>1.0</td>\n",
       "      <td>1.0</td>\n",
       "      <td>1.0</td>\n",
       "      <td>0.0</td>\n",
       "    </tr>\n",
       "    <tr>\n",
       "      <th>598</th>\n",
       "      <td>9996098</td>\n",
       "      <td>1</td>\n",
       "      <td>1.0</td>\n",
       "      <td>0.0</td>\n",
       "      <td>1.0</td>\n",
       "      <td>1.0</td>\n",
       "      <td>1.0</td>\n",
       "      <td>1.0</td>\n",
       "    </tr>\n",
       "    <tr>\n",
       "      <th>599</th>\n",
       "      <td>9997381</td>\n",
       "      <td>1</td>\n",
       "      <td>1.0</td>\n",
       "      <td>0.0</td>\n",
       "      <td>1.0</td>\n",
       "      <td>1.0</td>\n",
       "      <td>0.0</td>\n",
       "      <td>1.0</td>\n",
       "    </tr>\n",
       "  </tbody>\n",
       "</table>\n",
       "<p>600 rows × 8 columns</p>\n",
       "</div>"
      ],
      "text/plain": [
       "          ID  SIDE  XR_Osteophytes  FullTCL  AnyTCL  PartialTCL  BML  \\\n",
       "0    9001695     1             1.0      0.0     1.0         1.0  1.0   \n",
       "1    9002116     2             1.0      0.0     1.0         1.0  1.0   \n",
       "2    9002430     1             1.0      0.0     1.0         1.0  1.0   \n",
       "3    9002817     1             1.0      0.0     1.0         1.0  1.0   \n",
       "4    9003316     1             1.0      0.0     1.0         1.0  1.0   \n",
       "..       ...   ...             ...      ...     ...         ...  ...   \n",
       "595  9993833     2             1.0      0.0     1.0         1.0  1.0   \n",
       "596  9994408     1             1.0      0.0     1.0         1.0  1.0   \n",
       "597  9995338     2             1.0      0.0     1.0         1.0  1.0   \n",
       "598  9996098     1             1.0      0.0     1.0         1.0  1.0   \n",
       "599  9997381     1             1.0      0.0     1.0         1.0  0.0   \n",
       "\n",
       "     Meniscus_Degradation  \n",
       "0                     1.0  \n",
       "1                     1.0  \n",
       "2                     1.0  \n",
       "3                     1.0  \n",
       "4                     0.0  \n",
       "..                    ...  \n",
       "595                   1.0  \n",
       "596                   1.0  \n",
       "597                   0.0  \n",
       "598                   1.0  \n",
       "599                   1.0  \n",
       "\n",
       "[600 rows x 8 columns]"
      ]
     },
     "execution_count": 26,
     "metadata": {},
     "output_type": "execute_result"
    }
   ],
   "source": [
    "moaks_OA_features"
   ]
  },
  {
   "cell_type": "code",
   "execution_count": 27,
   "metadata": {},
   "outputs": [],
   "source": [
    "moaks_OA_features.to_csv('moaks_fnih_sq00_OA_features.csv')"
   ]
  },
  {
   "cell_type": "markdown",
   "metadata": {},
   "source": [
    "# NOW WE CONSTRUCT THE DF THAT CONTAINS THE OA CRITERIA AS COLUMNS"
   ]
  },
  {
   "cell_type": "code",
   "execution_count": 28,
   "metadata": {},
   "outputs": [
    {
     "data": {
      "text/html": [
       "<div>\n",
       "<style scoped>\n",
       "    .dataframe tbody tr th:only-of-type {\n",
       "        vertical-align: middle;\n",
       "    }\n",
       "\n",
       "    .dataframe tbody tr th {\n",
       "        vertical-align: top;\n",
       "    }\n",
       "\n",
       "    .dataframe thead th {\n",
       "        text-align: right;\n",
       "    }\n",
       "</style>\n",
       "<table border=\"1\" class=\"dataframe\">\n",
       "  <thead>\n",
       "    <tr style=\"text-align: right;\">\n",
       "      <th></th>\n",
       "      <th>ID</th>\n",
       "      <th>SIDE</th>\n",
       "      <th>Osteo_AND_FullTCL</th>\n",
       "      <th>Osteo_AND_PartialTCL_AND_BML</th>\n",
       "      <th>Osteo_AND_PartialTCL_AND_Meniscus_Degradation</th>\n",
       "      <th>Osteo_AND_BML_AND_Meniscus_Degradation</th>\n",
       "      <th>FullTCL_AND_BML_AND_Meniscus_Degradation</th>\n",
       "    </tr>\n",
       "  </thead>\n",
       "  <tbody>\n",
       "    <tr>\n",
       "      <th>0</th>\n",
       "      <td>9001695</td>\n",
       "      <td>1</td>\n",
       "      <td>NaN</td>\n",
       "      <td>NaN</td>\n",
       "      <td>NaN</td>\n",
       "      <td>NaN</td>\n",
       "      <td>NaN</td>\n",
       "    </tr>\n",
       "    <tr>\n",
       "      <th>1</th>\n",
       "      <td>9002116</td>\n",
       "      <td>2</td>\n",
       "      <td>NaN</td>\n",
       "      <td>NaN</td>\n",
       "      <td>NaN</td>\n",
       "      <td>NaN</td>\n",
       "      <td>NaN</td>\n",
       "    </tr>\n",
       "    <tr>\n",
       "      <th>2</th>\n",
       "      <td>9002430</td>\n",
       "      <td>1</td>\n",
       "      <td>NaN</td>\n",
       "      <td>NaN</td>\n",
       "      <td>NaN</td>\n",
       "      <td>NaN</td>\n",
       "      <td>NaN</td>\n",
       "    </tr>\n",
       "    <tr>\n",
       "      <th>3</th>\n",
       "      <td>9002817</td>\n",
       "      <td>1</td>\n",
       "      <td>NaN</td>\n",
       "      <td>NaN</td>\n",
       "      <td>NaN</td>\n",
       "      <td>NaN</td>\n",
       "      <td>NaN</td>\n",
       "    </tr>\n",
       "    <tr>\n",
       "      <th>4</th>\n",
       "      <td>9003316</td>\n",
       "      <td>1</td>\n",
       "      <td>NaN</td>\n",
       "      <td>NaN</td>\n",
       "      <td>NaN</td>\n",
       "      <td>NaN</td>\n",
       "      <td>NaN</td>\n",
       "    </tr>\n",
       "    <tr>\n",
       "      <th>...</th>\n",
       "      <td>...</td>\n",
       "      <td>...</td>\n",
       "      <td>...</td>\n",
       "      <td>...</td>\n",
       "      <td>...</td>\n",
       "      <td>...</td>\n",
       "      <td>...</td>\n",
       "    </tr>\n",
       "    <tr>\n",
       "      <th>595</th>\n",
       "      <td>9993833</td>\n",
       "      <td>2</td>\n",
       "      <td>NaN</td>\n",
       "      <td>NaN</td>\n",
       "      <td>NaN</td>\n",
       "      <td>NaN</td>\n",
       "      <td>NaN</td>\n",
       "    </tr>\n",
       "    <tr>\n",
       "      <th>596</th>\n",
       "      <td>9994408</td>\n",
       "      <td>1</td>\n",
       "      <td>NaN</td>\n",
       "      <td>NaN</td>\n",
       "      <td>NaN</td>\n",
       "      <td>NaN</td>\n",
       "      <td>NaN</td>\n",
       "    </tr>\n",
       "    <tr>\n",
       "      <th>597</th>\n",
       "      <td>9995338</td>\n",
       "      <td>2</td>\n",
       "      <td>NaN</td>\n",
       "      <td>NaN</td>\n",
       "      <td>NaN</td>\n",
       "      <td>NaN</td>\n",
       "      <td>NaN</td>\n",
       "    </tr>\n",
       "    <tr>\n",
       "      <th>598</th>\n",
       "      <td>9996098</td>\n",
       "      <td>1</td>\n",
       "      <td>NaN</td>\n",
       "      <td>NaN</td>\n",
       "      <td>NaN</td>\n",
       "      <td>NaN</td>\n",
       "      <td>NaN</td>\n",
       "    </tr>\n",
       "    <tr>\n",
       "      <th>599</th>\n",
       "      <td>9997381</td>\n",
       "      <td>1</td>\n",
       "      <td>NaN</td>\n",
       "      <td>NaN</td>\n",
       "      <td>NaN</td>\n",
       "      <td>NaN</td>\n",
       "      <td>NaN</td>\n",
       "    </tr>\n",
       "  </tbody>\n",
       "</table>\n",
       "<p>600 rows × 7 columns</p>\n",
       "</div>"
      ],
      "text/plain": [
       "          ID  SIDE  Osteo_AND_FullTCL  Osteo_AND_PartialTCL_AND_BML  \\\n",
       "0    9001695     1                NaN                           NaN   \n",
       "1    9002116     2                NaN                           NaN   \n",
       "2    9002430     1                NaN                           NaN   \n",
       "3    9002817     1                NaN                           NaN   \n",
       "4    9003316     1                NaN                           NaN   \n",
       "..       ...   ...                ...                           ...   \n",
       "595  9993833     2                NaN                           NaN   \n",
       "596  9994408     1                NaN                           NaN   \n",
       "597  9995338     2                NaN                           NaN   \n",
       "598  9996098     1                NaN                           NaN   \n",
       "599  9997381     1                NaN                           NaN   \n",
       "\n",
       "     Osteo_AND_PartialTCL_AND_Meniscus_Degradation  \\\n",
       "0                                              NaN   \n",
       "1                                              NaN   \n",
       "2                                              NaN   \n",
       "3                                              NaN   \n",
       "4                                              NaN   \n",
       "..                                             ...   \n",
       "595                                            NaN   \n",
       "596                                            NaN   \n",
       "597                                            NaN   \n",
       "598                                            NaN   \n",
       "599                                            NaN   \n",
       "\n",
       "     Osteo_AND_BML_AND_Meniscus_Degradation  \\\n",
       "0                                       NaN   \n",
       "1                                       NaN   \n",
       "2                                       NaN   \n",
       "3                                       NaN   \n",
       "4                                       NaN   \n",
       "..                                      ...   \n",
       "595                                     NaN   \n",
       "596                                     NaN   \n",
       "597                                     NaN   \n",
       "598                                     NaN   \n",
       "599                                     NaN   \n",
       "\n",
       "     FullTCL_AND_BML_AND_Meniscus_Degradation  \n",
       "0                                         NaN  \n",
       "1                                         NaN  \n",
       "2                                         NaN  \n",
       "3                                         NaN  \n",
       "4                                         NaN  \n",
       "..                                        ...  \n",
       "595                                       NaN  \n",
       "596                                       NaN  \n",
       "597                                       NaN  \n",
       "598                                       NaN  \n",
       "599                                       NaN  \n",
       "\n",
       "[600 rows x 7 columns]"
      ]
     },
     "execution_count": 28,
     "metadata": {},
     "output_type": "execute_result"
    }
   ],
   "source": [
    "moaks_OA_criteria = pd.DataFrame(columns=['ID','SIDE',\n",
    "             'Osteo_AND_FullTCL',\n",
    "             'Osteo_AND_PartialTCL_AND_BML',\n",
    "             'Osteo_AND_PartialTCL_AND_Meniscus_Degradation',\n",
    "             'Osteo_AND_BML_AND_Meniscus_Degradation',\n",
    "             'FullTCL_AND_BML_AND_Meniscus_Degradation'])\n",
    "# the ID and SIDE columns are integers\n",
    "moaks_OA_criteria[['ID','SIDE']] = common_fnih_kxr_00[['ID','SIDE']]\n",
    "# and we fill the rest of the df with np.nan values\n",
    "moaks_OA_criteria.iloc[:,2:] = np.nan\n",
    "moaks_OA_criteria"
   ]
  },
  {
   "cell_type": "code",
   "execution_count": 29,
   "metadata": {},
   "outputs": [
    {
     "name": "stdout",
     "output_type": "stream",
     "text": [
      "With XR Osteophytes AND FullTCL->1.0, Without->0.0: \n",
      "0.0    532\n",
      "1.0     68\n",
      "Name: Osteo_AND_FullTCL, dtype: int64\n"
     ]
    }
   ],
   "source": [
    "moaks_OA_criteria.loc[((moaks_OA_features['XR_Osteophytes'] == 1.0) & \n",
    "            (moaks_OA_features['FullTCL'] == 1.0)),'Osteo_AND_FullTCL'] = 1.0\n",
    "         \n",
    "moaks_OA_criteria.loc[((moaks_OA_features['XR_Osteophytes'] != 1.0) | \n",
    "            (moaks_OA_features['FullTCL'] != 1.0)),'Osteo_AND_FullTCL'] = 0.0\n",
    "\n",
    "print('With XR Osteophytes AND FullTCL->1.0, Without->0.0: \\n{}'.\n",
    "        format(moaks_OA_criteria['Osteo_AND_FullTCL'].value_counts(dropna=False)))        "
   ]
  },
  {
   "cell_type": "code",
   "execution_count": 30,
   "metadata": {},
   "outputs": [
    {
     "name": "stdout",
     "output_type": "stream",
     "text": [
      "With XR Osteophytes AND PartialTCL AND BML->1.0, Without->0.0 \n",
      "0.0    333\n",
      "1.0    267\n",
      "Name: Osteo_AND_PartialTCL_AND_BML, dtype: int64\n"
     ]
    }
   ],
   "source": [
    "moaks_OA_criteria.loc[((moaks_OA_features['XR_Osteophytes'] == 1.0) & \n",
    "            (moaks_OA_features['PartialTCL'] == 1.0) & \n",
    "            (moaks_OA_features['BML'] == 1.0)),'Osteo_AND_PartialTCL_AND_BML'] = 1.0\n",
    "moaks_OA_criteria.loc[((moaks_OA_features['XR_Osteophytes'] != 1.0) | \n",
    "            (moaks_OA_features['PartialTCL'] != 1.0) |\n",
    "            (moaks_OA_features['BML'] != 1.0)),'Osteo_AND_PartialTCL_AND_BML'] = 0.0\n",
    "print('With XR Osteophytes AND PartialTCL AND BML->1.0, Without->0.0 \\n{}'.\n",
    "        format(moaks_OA_criteria.Osteo_AND_PartialTCL_AND_BML.value_counts(dropna=False)))"
   ]
  },
  {
   "cell_type": "code",
   "execution_count": 31,
   "metadata": {},
   "outputs": [
    {
     "name": "stdout",
     "output_type": "stream",
     "text": [
      "With Osteophytes AND Partial TCL AND Meniscus_Degradation->1.0, Without->0.0: \n",
      "1.0    381\n",
      "0.0    219\n",
      "Name: Osteo_AND_PartialTCL_AND_Meniscus_Degradation, dtype: int64\n"
     ]
    }
   ],
   "source": [
    "moaks_OA_criteria.loc[((moaks_OA_features['XR_Osteophytes'] == 1.0) & \n",
    "            (moaks_OA_features['PartialTCL'] == 1.0) & \n",
    "            (moaks_OA_features['Meniscus_Degradation'] == 1.0)),'Osteo_AND_PartialTCL_AND_Meniscus_Degradation'] = 1.0\n",
    "moaks_OA_criteria.loc[((moaks_OA_features['XR_Osteophytes'] != 1.0) | \n",
    "            (moaks_OA_features['PartialTCL'] != 1.0) |\n",
    "            (moaks_OA_features['Meniscus_Degradation'] != 1.0)),'Osteo_AND_PartialTCL_AND_Meniscus_Degradation'] = 0.0\n",
    "print('With Osteophytes AND Partial TCL AND Meniscus_Degradation->1.0, Without->0.0: \\n{}'.\n",
    "        format((moaks_OA_criteria['Osteo_AND_PartialTCL_AND_Meniscus_Degradation'].value_counts(dropna=False)))) "
   ]
  },
  {
   "cell_type": "code",
   "execution_count": 32,
   "metadata": {},
   "outputs": [
    {
     "name": "stdout",
     "output_type": "stream",
     "text": [
      "With Osteophytes AND BML AND Meniscus_Degradation->1.0, Without->0.0: \n",
      "0.0    306\n",
      "1.0    294\n",
      "Name: Osteo_AND_BML_AND_Meniscus_Degradation, dtype: int64\n"
     ]
    }
   ],
   "source": [
    "moaks_OA_criteria.loc[((moaks_OA_features['XR_Osteophytes'] == 1.0) & \n",
    "            (moaks_OA_features['BML'] == 1.0) & \n",
    "            (moaks_OA_features['Meniscus_Degradation'] == 1.0)),'Osteo_AND_BML_AND_Meniscus_Degradation'] = 1.0\n",
    "moaks_OA_criteria.loc[((moaks_OA_features['XR_Osteophytes'] != 1.0) | \n",
    "            (moaks_OA_features['BML'] != 1.0) |\n",
    "            (moaks_OA_features['Meniscus_Degradation'] != 1.0)),'Osteo_AND_BML_AND_Meniscus_Degradation'] = 0.0            \n",
    "print('With Osteophytes AND BML AND Meniscus_Degradation->1.0, Without->0.0: \\n{}'.\n",
    "        format((moaks_OA_criteria['Osteo_AND_BML_AND_Meniscus_Degradation'].value_counts(dropna=False)))) "
   ]
  },
  {
   "cell_type": "code",
   "execution_count": 33,
   "metadata": {},
   "outputs": [
    {
     "name": "stdout",
     "output_type": "stream",
     "text": [
      "With FullTCL AND BML AND Meniscus_Degradation->1.0, Without->0.0: \n",
      "0.0    548\n",
      "1.0     52\n",
      "Name: FullTCL_AND_BML_AND_Meniscus_Degradation, dtype: int64\n"
     ]
    }
   ],
   "source": [
    "moaks_OA_criteria.loc[((moaks_OA_features['FullTCL'] == 1.0) & \n",
    "            (moaks_OA_features['BML'] == 1.0) & \n",
    "            (moaks_OA_features['Meniscus_Degradation'] == 1.0)),'FullTCL_AND_BML_AND_Meniscus_Degradation'] = 1.0\n",
    "moaks_OA_criteria.loc[((moaks_OA_features['FullTCL'] != 1.0) | \n",
    "            (moaks_OA_features['BML'] != 1.0) |\n",
    "            (moaks_OA_features['Meniscus_Degradation'] != 1.0)),'FullTCL_AND_BML_AND_Meniscus_Degradation'] = 0.0\n",
    "print('With FullTCL AND BML AND Meniscus_Degradation->1.0, Without->0.0: \\n{}'.\n",
    "        format((moaks_OA_criteria['FullTCL_AND_BML_AND_Meniscus_Degradation'].value_counts(dropna=False)))) \n"
   ]
  },
  {
   "cell_type": "code",
   "execution_count": 34,
   "metadata": {},
   "outputs": [
    {
     "name": "stdout",
     "output_type": "stream",
     "text": [
      "Number of subjects without OA for each criterion is: \n",
      "ID                                               0\n",
      "SIDE                                             0\n",
      "Osteo_AND_FullTCL                                0\n",
      "Osteo_AND_PartialTCL_AND_BML                     0\n",
      "Osteo_AND_PartialTCL_AND_Meniscus_Degradation    0\n",
      "Osteo_AND_BML_AND_Meniscus_Degradation           0\n",
      "FullTCL_AND_BML_AND_Meniscus_Degradation         0\n",
      "dtype: int64\n"
     ]
    }
   ],
   "source": [
    "print('Number of subjects without OA for each criterion is: \\n{}'.format(moaks_OA_criteria.isna().sum()))"
   ]
  },
  {
   "cell_type": "code",
   "execution_count": 35,
   "metadata": {},
   "outputs": [],
   "source": [
    "moaks_OA_criteria.fillna(-1.0,inplace=True)"
   ]
  },
  {
   "cell_type": "code",
   "execution_count": 36,
   "metadata": {},
   "outputs": [],
   "source": [
    "moaks_OA_criteria.to_csv('moaks_fnih_sq00_OA_criteria.csv')"
   ]
  },
  {
   "cell_type": "code",
   "execution_count": 37,
   "metadata": {},
   "outputs": [],
   "source": [
    "moaks_osteo_FullTCL = moaks_OA_criteria.loc[(moaks_OA_criteria['Osteo_AND_FullTCL']==1.0),\n",
    "                        ['ID','SIDE','Osteo_AND_FullTCL']]\n",
    "\n",
    "moaks_osteo_PartialTCL_bml = moaks_OA_criteria.loc[(moaks_OA_criteria['Osteo_AND_PartialTCL_AND_BML']==1.0),\n",
    "                        ['ID','SIDE','Osteo_AND_PartialTCL_AND_BML']]\n",
    "\n",
    "moaks_osteo_PartialTCL_meniscus = moaks_OA_criteria.loc[(moaks_OA_criteria['Osteo_AND_PartialTCL_AND_Meniscus_Degradation']==1.0),\n",
    "                        ['ID','SIDE','Osteo_AND_PartialTCL_AND_Meniscus_Degradation']]\n",
    "\n",
    "moaks_osteo_bml_meniscus = moaks_OA_criteria.loc[(moaks_OA_criteria['Osteo_AND_BML_AND_Meniscus_Degradation']==1.0),\n",
    "                        ['ID','SIDE','Osteo_AND_BML_AND_Meniscus_Degradation']]\n",
    "\n",
    "\n",
    "moaks_FullTCL_bml_meniscus = moaks_OA_criteria.loc[(moaks_OA_criteria['FullTCL_AND_BML_AND_Meniscus_Degradation']==1.0),\n",
    "                        ['ID','SIDE','FullTCL_AND_BML_AND_Meniscus_Degradation']]"
   ]
  },
  {
   "cell_type": "code",
   "execution_count": 38,
   "metadata": {},
   "outputs": [
    {
     "name": "stdout",
     "output_type": "stream",
     "text": [
      "Number of subjects that satisfy at least one OA criterion is : 478\n"
     ]
    }
   ],
   "source": [
    "# NOW WE FIND THOSE WHO SATISFY AT LEAST ONE OF THE OA CRITERIA\n",
    "moaks_OA_criteria['moaks_OA'] = np.nan\n",
    "moaks_OA_criteria.loc[((moaks_OA_criteria['Osteo_AND_FullTCL']==1.0) |\n",
    "                (moaks_OA_criteria['Osteo_AND_PartialTCL_AND_BML']==1.0) |\n",
    "                (moaks_OA_criteria['Osteo_AND_PartialTCL_AND_Meniscus_Degradation']==1.0) |\n",
    "                (moaks_OA_criteria['Osteo_AND_BML_AND_Meniscus_Degradation']==1.0) |\n",
    "                (moaks_OA_criteria['FullTCL_AND_BML_AND_Meniscus_Degradation']==1.0)),'moaks_OA'] = 1.0\n",
    "# moaks_OA_criteria.loc[((moaks_OA_criteria['Osteo_AND_FullTCL'] != 0.0) |\n",
    "#                 (moaks_OA_criteria['Osteo_AND_PartialTCL_AND_BML'] != 0.0) |\n",
    "#                 (moaks_OA_criteria['Osteo_AND_PartialTCL_AND_Meniscus_Degradation'] != 0.0) |\n",
    "#                 (moaks_OA_criteria['Osteo_AND_BML_AND_Meniscus_Degradation'] != 0.0) |\n",
    "#                 (moaks_OA_criteria['FullTCL_AND_BML_AND_Meniscus_Degradation'] != 0.0)),'moaks_OA'] = 0.0\n",
    "moaks_OA_criteria.fillna(0.0,inplace=True)\n",
    "print('Number of subjects that satisfy at least one OA criterion is : {}'.format((moaks_OA_criteria['moaks_OA']==1.0).sum()))"
   ]
  },
  {
   "cell_type": "code",
   "execution_count": 39,
   "metadata": {},
   "outputs": [
    {
     "data": {
      "text/plain": [
       "1.0    478\n",
       "0.0    122\n",
       "Name: moaks_OA, dtype: int64"
      ]
     },
     "execution_count": 39,
     "metadata": {},
     "output_type": "execute_result"
    }
   ],
   "source": [
    "moaks_OA_criteria['moaks_OA'].value_counts()"
   ]
  },
  {
   "cell_type": "markdown",
   "metadata": {},
   "source": [
    "# NOW WE CREATE THE DATAFRAME CONTAINING INFORMATION REGARDING \n",
    "# 1.MOAKS FEATURES \n",
    "# 2.MOAKS CRITERIA\n",
    "# 3.MOAKS GRADES\n",
    "# 4.KL GRADES\n",
    "# 5.MOAKS-KL GRADES CROSSTABLE"
   ]
  },
  {
   "cell_type": "code",
   "execution_count": 40,
   "metadata": {},
   "outputs": [
    {
     "name": "stdout",
     "output_type": "stream",
     "text": [
      "<class 'pandas.core.frame.DataFrame'>\n",
      "Int64Index: 600 entries, 0 to 599\n",
      "Data columns (total 9 columns):\n",
      " #   Column                                         Non-Null Count  Dtype  \n",
      "---  ------                                         --------------  -----  \n",
      " 0   ID                                             600 non-null    int64  \n",
      " 1   SIDE                                           600 non-null    int64  \n",
      " 2   Osteo_AND_FullTCL                              600 non-null    float64\n",
      " 3   Osteo_AND_PartialTCL_AND_BML                   600 non-null    float64\n",
      " 4   Osteo_AND_PartialTCL_AND_Meniscus_Degradation  600 non-null    float64\n",
      " 5   Osteo_AND_BML_AND_Meniscus_Degradation         600 non-null    float64\n",
      " 6   FullTCL_AND_BML_AND_Meniscus_Degradation       600 non-null    float64\n",
      " 7   moaks_OA                                       600 non-null    float64\n",
      " 8   V00XRKL                                        600 non-null    float64\n",
      "dtypes: float64(7), int64(2)\n",
      "memory usage: 46.9 KB\n",
      "None\n"
     ]
    }
   ],
   "source": [
    "# Here we upload the DataFrame with the KL grades\n",
    "# and we merge the MOAKS and KL dataframes\n",
    "kl_id_side_grade = pd.read_csv('/home/anastasis/EMC_Thesis/My_codes/KL_readings/KL_SQ00_ID_SIDE_GRADE.csv')\n",
    "moaks_kl_and_criteria = pd.merge(moaks_OA_criteria,kl_id_side_grade,on=['ID','SIDE'],how='inner')\n",
    "print(moaks_kl_and_criteria.info())"
   ]
  },
  {
   "cell_type": "code",
   "execution_count": 41,
   "metadata": {},
   "outputs": [
    {
     "name": "stdout",
     "output_type": "stream",
     "text": [
      "Number of different KL grades in the moaks_kl_and_criteria dataframe:\n",
      "2.0    306\n",
      "3.0    219\n",
      "1.0     75\n",
      "Name: V00XRKL, dtype: int64\n"
     ]
    }
   ],
   "source": [
    "print('Number of different KL grades in the moaks_kl_and_criteria dataframe:\\n{}'\n",
    "        .format(moaks_kl_and_criteria['V00XRKL'].value_counts()))\n"
   ]
  },
  {
   "cell_type": "code",
   "execution_count": 42,
   "metadata": {},
   "outputs": [],
   "source": [
    "moaks_kl_and_criteria.to_csv('moaks_fnih_sq00_kl_grades_and_features.csv')\n"
   ]
  },
  {
   "cell_type": "code",
   "execution_count": 43,
   "metadata": {},
   "outputs": [],
   "source": [
    "moaks_KL_OA_all_info = pd.merge(moaks_OA_features,moaks_kl_and_criteria,on=['ID','SIDE'],how='outer')"
   ]
  },
  {
   "cell_type": "code",
   "execution_count": 44,
   "metadata": {},
   "outputs": [
    {
     "name": "stdout",
     "output_type": "stream",
     "text": [
      "<class 'pandas.core.frame.DataFrame'>\n",
      "Int64Index: 600 entries, 0 to 599\n",
      "Data columns (total 15 columns):\n",
      " #   Column                                         Non-Null Count  Dtype  \n",
      "---  ------                                         --------------  -----  \n",
      " 0   ID                                             600 non-null    int64  \n",
      " 1   SIDE                                           600 non-null    int64  \n",
      " 2   XR_Osteophytes                                 600 non-null    float64\n",
      " 3   FullTCL                                        600 non-null    float64\n",
      " 4   AnyTCL                                         600 non-null    float64\n",
      " 5   PartialTCL                                     600 non-null    float64\n",
      " 6   BML                                            599 non-null    float64\n",
      " 7   Meniscus_Degradation                           600 non-null    float64\n",
      " 8   Osteo_AND_FullTCL                              600 non-null    float64\n",
      " 9   Osteo_AND_PartialTCL_AND_BML                   600 non-null    float64\n",
      " 10  Osteo_AND_PartialTCL_AND_Meniscus_Degradation  600 non-null    float64\n",
      " 11  Osteo_AND_BML_AND_Meniscus_Degradation         600 non-null    float64\n",
      " 12  FullTCL_AND_BML_AND_Meniscus_Degradation       600 non-null    float64\n",
      " 13  moaks_OA                                       600 non-null    float64\n",
      " 14  V00XRKL                                        600 non-null    float64\n",
      "dtypes: float64(13), int64(2)\n",
      "memory usage: 75.0 KB\n"
     ]
    }
   ],
   "source": [
    "moaks_KL_OA_all_info.info()"
   ]
  },
  {
   "cell_type": "code",
   "execution_count": 45,
   "metadata": {},
   "outputs": [],
   "source": [
    "moaks_KL_OA_all_info.to_csv('moaks_fnih_sq00_all_info.csv')"
   ]
  },
  {
   "cell_type": "code",
   "execution_count": 46,
   "metadata": {},
   "outputs": [],
   "source": [
    "all_moaks_grades_sq00 = moaks_KL_OA_all_info.loc[:,['ID','SIDE','moaks_OA']]\n",
    "all_moaks_vs_kl_grades_sq00 = moaks_KL_OA_all_info.loc[:,['ID','SIDE','moaks_OA','V00XRKL']]"
   ]
  },
  {
   "cell_type": "code",
   "execution_count": 47,
   "metadata": {},
   "outputs": [
    {
     "name": "stdout",
     "output_type": "stream",
     "text": [
      "Sum of FNIH_SQ00 subjects that have MOAKS = 0.0: 122\n",
      "Sum of FNIH_SQ00 subjects that have MOAKS = 1.0: 478\n"
     ]
    }
   ],
   "source": [
    "print('Sum of FNIH_SQ00 subjects that have MOAKS = 0.0: {}'.format((all_moaks_grades_sq00['moaks_OA']==0.0).sum()))\n",
    "print('Sum of FNIH_SQ00 subjects that have MOAKS = 1.0: {}'.format((all_moaks_grades_sq00['moaks_OA']==1.0).sum()))"
   ]
  },
  {
   "cell_type": "code",
   "execution_count": 48,
   "metadata": {},
   "outputs": [
    {
     "name": "stdout",
     "output_type": "stream",
     "text": [
      "          ID  SIDE  moaks_OA  V00XRKL\n",
      "0    9001695     1       1.0      2.0\n",
      "1    9002116     2       1.0      3.0\n",
      "2    9002430     1       1.0      2.0\n",
      "3    9002817     1       1.0      3.0\n",
      "4    9003316     1       1.0      2.0\n",
      "..       ...   ...       ...      ...\n",
      "595  9993833     2       1.0      3.0\n",
      "596  9994408     1       1.0      3.0\n",
      "597  9995338     2       1.0      2.0\n",
      "598  9996098     1       1.0      3.0\n",
      "599  9997381     1       1.0      2.0\n",
      "\n",
      "[478 rows x 4 columns] \n",
      " number of subjects with moaks grade = 1.0:  478\n"
     ]
    }
   ],
   "source": [
    "moaks_fnih_sq00_only_moaks_one = all_moaks_vs_kl_grades_sq00.loc[(all_moaks_vs_kl_grades_sq00['moaks_OA']==1.0)]\n",
    "print(moaks_fnih_sq00_only_moaks_one,'\\n','number of subjects with moaks grade = 1.0: ',moaks_fnih_sq00_only_moaks_one.moaks_OA.count())"
   ]
  },
  {
   "cell_type": "code",
   "execution_count": 49,
   "metadata": {},
   "outputs": [
    {
     "name": "stdout",
     "output_type": "stream",
     "text": [
      "          ID  SIDE  moaks_OA  V00XRKL\n",
      "5    9003380     1       0.0      1.0\n",
      "7    9004175     1       0.0      2.0\n",
      "16   9015798     1       0.0      2.0\n",
      "20   9021102     2       0.0      2.0\n",
      "21   9022789     1       0.0      2.0\n",
      "..       ...   ...       ...      ...\n",
      "561  9925594     1       0.0      1.0\n",
      "566  9936451     1       0.0      2.0\n",
      "583  9969009     2       0.0      2.0\n",
      "584  9976207     2       0.0      1.0\n",
      "586  9981798     1       0.0      1.0\n",
      "\n",
      "[122 rows x 4 columns] \n",
      " number of subjects with moaks grade = 0.0:  122\n"
     ]
    }
   ],
   "source": [
    "moaks_fnih_sq00_only_moaks_zero = all_moaks_vs_kl_grades_sq00.loc[(all_moaks_vs_kl_grades_sq00['moaks_OA']==0.0)]\n",
    "print(moaks_fnih_sq00_only_moaks_zero,'\\n','number of subjects with moaks grade = 0.0: ',moaks_fnih_sq00_only_moaks_zero.moaks_OA.count())"
   ]
  },
  {
   "cell_type": "code",
   "execution_count": 50,
   "metadata": {},
   "outputs": [
    {
     "data": {
      "text/html": [
       "<div>\n",
       "<style scoped>\n",
       "    .dataframe tbody tr th:only-of-type {\n",
       "        vertical-align: middle;\n",
       "    }\n",
       "\n",
       "    .dataframe tbody tr th {\n",
       "        vertical-align: top;\n",
       "    }\n",
       "\n",
       "    .dataframe thead th {\n",
       "        text-align: right;\n",
       "    }\n",
       "</style>\n",
       "<table border=\"1\" class=\"dataframe\">\n",
       "  <thead>\n",
       "    <tr style=\"text-align: right;\">\n",
       "      <th></th>\n",
       "      <th>ID</th>\n",
       "      <th>SIDE</th>\n",
       "      <th>moaks_OA</th>\n",
       "      <th>V00XRKL</th>\n",
       "    </tr>\n",
       "  </thead>\n",
       "  <tbody>\n",
       "    <tr>\n",
       "      <th>0</th>\n",
       "      <td>9001695</td>\n",
       "      <td>1</td>\n",
       "      <td>1.0</td>\n",
       "      <td>2.0</td>\n",
       "    </tr>\n",
       "    <tr>\n",
       "      <th>1</th>\n",
       "      <td>9002116</td>\n",
       "      <td>2</td>\n",
       "      <td>1.0</td>\n",
       "      <td>3.0</td>\n",
       "    </tr>\n",
       "    <tr>\n",
       "      <th>2</th>\n",
       "      <td>9002430</td>\n",
       "      <td>1</td>\n",
       "      <td>1.0</td>\n",
       "      <td>2.0</td>\n",
       "    </tr>\n",
       "    <tr>\n",
       "      <th>3</th>\n",
       "      <td>9002817</td>\n",
       "      <td>1</td>\n",
       "      <td>1.0</td>\n",
       "      <td>3.0</td>\n",
       "    </tr>\n",
       "    <tr>\n",
       "      <th>4</th>\n",
       "      <td>9003316</td>\n",
       "      <td>1</td>\n",
       "      <td>1.0</td>\n",
       "      <td>2.0</td>\n",
       "    </tr>\n",
       "    <tr>\n",
       "      <th>...</th>\n",
       "      <td>...</td>\n",
       "      <td>...</td>\n",
       "      <td>...</td>\n",
       "      <td>...</td>\n",
       "    </tr>\n",
       "    <tr>\n",
       "      <th>595</th>\n",
       "      <td>9993833</td>\n",
       "      <td>2</td>\n",
       "      <td>1.0</td>\n",
       "      <td>3.0</td>\n",
       "    </tr>\n",
       "    <tr>\n",
       "      <th>596</th>\n",
       "      <td>9994408</td>\n",
       "      <td>1</td>\n",
       "      <td>1.0</td>\n",
       "      <td>3.0</td>\n",
       "    </tr>\n",
       "    <tr>\n",
       "      <th>597</th>\n",
       "      <td>9995338</td>\n",
       "      <td>2</td>\n",
       "      <td>1.0</td>\n",
       "      <td>2.0</td>\n",
       "    </tr>\n",
       "    <tr>\n",
       "      <th>598</th>\n",
       "      <td>9996098</td>\n",
       "      <td>1</td>\n",
       "      <td>1.0</td>\n",
       "      <td>3.0</td>\n",
       "    </tr>\n",
       "    <tr>\n",
       "      <th>599</th>\n",
       "      <td>9997381</td>\n",
       "      <td>1</td>\n",
       "      <td>1.0</td>\n",
       "      <td>2.0</td>\n",
       "    </tr>\n",
       "  </tbody>\n",
       "</table>\n",
       "<p>600 rows × 4 columns</p>\n",
       "</div>"
      ],
      "text/plain": [
       "          ID  SIDE  moaks_OA  V00XRKL\n",
       "0    9001695     1       1.0      2.0\n",
       "1    9002116     2       1.0      3.0\n",
       "2    9002430     1       1.0      2.0\n",
       "3    9002817     1       1.0      3.0\n",
       "4    9003316     1       1.0      2.0\n",
       "..       ...   ...       ...      ...\n",
       "595  9993833     2       1.0      3.0\n",
       "596  9994408     1       1.0      3.0\n",
       "597  9995338     2       1.0      2.0\n",
       "598  9996098     1       1.0      3.0\n",
       "599  9997381     1       1.0      2.0\n",
       "\n",
       "[600 rows x 4 columns]"
      ]
     },
     "execution_count": 50,
     "metadata": {},
     "output_type": "execute_result"
    }
   ],
   "source": [
    "all_moaks_vs_kl_grades_sq00"
   ]
  },
  {
   "cell_type": "code",
   "execution_count": 51,
   "metadata": {},
   "outputs": [],
   "source": [
    "# Here we save the dataframes containing the information we want\n",
    "all_moaks_vs_kl_grades_sq00.to_csv('moaks_fnih_sq00_moaks_vs_kl.csv')\n",
    "moaks_fnih_sq00_only_moaks_one.to_csv('moaks_fnih_sq00_only_moaks_one.csv')\n",
    "moaks_fnih_sq00_only_moaks_zero.to_csv('moaks_fnih_sq00_only_moaks_zero.csv')\n",
    "all_moaks_grades_sq00.to_csv('moaks_fnih_sq00_moaks_grades.csv')"
   ]
  },
  {
   "cell_type": "code",
   "execution_count": 52,
   "metadata": {},
   "outputs": [
    {
     "data": {
      "text/html": [
       "<div>\n",
       "<style scoped>\n",
       "    .dataframe tbody tr th:only-of-type {\n",
       "        vertical-align: middle;\n",
       "    }\n",
       "\n",
       "    .dataframe tbody tr th {\n",
       "        vertical-align: top;\n",
       "    }\n",
       "\n",
       "    .dataframe thead th {\n",
       "        text-align: right;\n",
       "    }\n",
       "</style>\n",
       "<table border=\"1\" class=\"dataframe\">\n",
       "  <thead>\n",
       "    <tr style=\"text-align: right;\">\n",
       "      <th>V00XRKL</th>\n",
       "      <th>1.0</th>\n",
       "      <th>2.0</th>\n",
       "      <th>3.0</th>\n",
       "      <th>Total</th>\n",
       "    </tr>\n",
       "    <tr>\n",
       "      <th>moaks_OA</th>\n",
       "      <th></th>\n",
       "      <th></th>\n",
       "      <th></th>\n",
       "      <th></th>\n",
       "    </tr>\n",
       "  </thead>\n",
       "  <tbody>\n",
       "    <tr>\n",
       "      <th>0.0</th>\n",
       "      <td>56</td>\n",
       "      <td>65</td>\n",
       "      <td>1</td>\n",
       "      <td>122</td>\n",
       "    </tr>\n",
       "    <tr>\n",
       "      <th>1.0</th>\n",
       "      <td>19</td>\n",
       "      <td>241</td>\n",
       "      <td>218</td>\n",
       "      <td>478</td>\n",
       "    </tr>\n",
       "    <tr>\n",
       "      <th>Total</th>\n",
       "      <td>75</td>\n",
       "      <td>306</td>\n",
       "      <td>219</td>\n",
       "      <td>600</td>\n",
       "    </tr>\n",
       "  </tbody>\n",
       "</table>\n",
       "</div>"
      ],
      "text/plain": [
       "V00XRKL   1.0  2.0  3.0  Total\n",
       "moaks_OA                      \n",
       "0.0        56   65    1    122\n",
       "1.0        19  241  218    478\n",
       "Total      75  306  219    600"
      ]
     },
     "execution_count": 52,
     "metadata": {},
     "output_type": "execute_result"
    }
   ],
   "source": [
    "moaks_OA_KL_crosstab = pd.crosstab(all_moaks_vs_kl_grades_sq00.moaks_OA,all_moaks_vs_kl_grades_sq00.V00XRKL,margins=True,margins_name='Total')\n",
    "moaks_OA_KL_crosstab.to_csv('moaks_fnih_sq00_OA_KL_crosstab.csv')\n",
    "moaks_OA_KL_crosstab"
   ]
  },
  {
   "cell_type": "code",
   "execution_count": 53,
   "metadata": {},
   "outputs": [
    {
     "name": "stdout",
     "output_type": "stream",
     "text": [
      "Number of subjects without definite osteophytes in FNIH_SQ00 is : 54\n",
      "Number of subjects without TCL in FNIH_SQ00 is : 31\n",
      "Number of subjects without BML in FNIH_SQ00 is : 253\n",
      "Number of subjects without Meniscus Degradation in FNIH_SQ00 is : 106\n"
     ]
    }
   ],
   "source": [
    "# NOW WE SAVE THE SUBJECTS WITH ZERO FEATURES IN ORDER TO INVESTIGATE THE INCIDENCE OA\n",
    "moaks_OA_osteo_zero = moaks_OA_features.loc[moaks_OA_features.XR_Osteophytes == 0.0]\n",
    "moaks_OA_osteo_zero.to_csv('moaks_fnih_sq00_Zero_Osteo.csv')\n",
    "print('Number of subjects without definite osteophytes in FNIH_SQ00 is : {}'.format(moaks_OA_osteo_zero.shape[0]))\n",
    "\n",
    "moaks_OA_TCL_zero = moaks_OA_features.loc[(moaks_OA_features.FullTCL == 0.0) & (moaks_OA_features.PartialTCL == 0.0) & (moaks_OA_features.AnyTCL == 0.0)]\n",
    "moaks_OA_TCL_zero.to_csv('moaks_fnih_sq00_Zero_TCL.csv')\n",
    "print('Number of subjects without TCL in FNIH_SQ00 is : {}'.format(moaks_OA_TCL_zero.shape[0]))\n",
    "\n",
    "moaks_OA_bml_zero = moaks_OA_features.loc[moaks_OA_features.BML == 0.0]\n",
    "moaks_OA_bml_zero.to_csv('moaks_fnih_sq00_Zero_BML.csv')\n",
    "print('Number of subjects without BML in FNIH_SQ00 is : {}'.format(moaks_OA_bml_zero.shape[0]))\n",
    "\n",
    "moaks_OA_meniscus_zero = moaks_OA_features.loc[moaks_OA_features.Meniscus_Degradation == 0.0]\n",
    "moaks_OA_meniscus_zero.to_csv('moaks_fnih_sq00_Zero_Meniscus.csv')\n",
    "print('Number of subjects without Meniscus Degradation in FNIH_SQ00 is : {}'.format(moaks_OA_meniscus_zero.shape[0]))\n"
   ]
  },
  {
   "cell_type": "code",
   "execution_count": null,
   "metadata": {},
   "outputs": [],
   "source": []
  }
 ],
 "metadata": {
  "interpreter": {
   "hash": "916dbcbb3f70747c44a77c7bcd40155683ae19c65e1c03b4aa3499c5328201f1"
  },
  "kernelspec": {
   "display_name": "Python 3.8.10 64-bit",
   "language": "python",
   "name": "python3"
  },
  "language_info": {
   "codemirror_mode": {
    "name": "ipython",
    "version": 3
   },
   "file_extension": ".py",
   "mimetype": "text/x-python",
   "name": "python",
   "nbconvert_exporter": "python",
   "pygments_lexer": "ipython3",
   "version": "3.9.7"
  },
  "orig_nbformat": 4
 },
 "nbformat": 4,
 "nbformat_minor": 2
}
