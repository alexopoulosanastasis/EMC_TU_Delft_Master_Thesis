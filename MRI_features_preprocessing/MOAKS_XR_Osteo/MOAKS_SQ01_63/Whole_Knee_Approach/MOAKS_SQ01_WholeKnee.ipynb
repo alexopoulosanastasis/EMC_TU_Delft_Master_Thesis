{
 "cells": [
  {
   "cell_type": "code",
   "execution_count": 1,
   "metadata": {},
   "outputs": [],
   "source": [
    "import pandas as pd\n",
    "import numpy as np\n",
    "from functools import reduce"
   ]
  },
  {
   "cell_type": "code",
   "execution_count": 2,
   "metadata": {},
   "outputs": [],
   "source": [
    "moaks_sq01 = pd.read_csv('/home/anastasis/EMC_Thesis/OAI Data/OAICompleteData_ASCII/kMRI_SQ_MOAKS_BICL01.txt', sep=\"|\")"
   ]
  },
  {
   "cell_type": "code",
   "execution_count": 3,
   "metadata": {},
   "outputs": [
    {
     "name": "stdout",
     "output_type": "stream",
     "text": [
      "<class 'pandas.core.frame.DataFrame'>\n",
      "RangeIndex: 3086 entries, 0 to 3085\n",
      "Columns: 121 entries, ID to V01MTCMNTS\n",
      "dtypes: float64(116), int64(2), object(3)\n",
      "memory usage: 2.8+ MB\n",
      "None \n",
      " 0      NaN\n",
      "1      NaN\n",
      "2      NaN\n",
      "3      NaN\n",
      "4      NaN\n",
      "        ..\n",
      "3081   NaN\n",
      "3082   NaN\n",
      "3083   NaN\n",
      "3084   NaN\n",
      "3085   NaN\n",
      "Name: V01MITBSIG, Length: 3086, dtype: float64\n"
     ]
    }
   ],
   "source": [
    "print(moaks_sq01.info(),'\\n',moaks_sq01.iloc[:,-3])"
   ]
  },
  {
   "cell_type": "markdown",
   "metadata": {},
   "source": [
    "# NOW WE DELETE ALL THE COMMENTS OF THE INITIAL DATAFRAME AND CONVERT THE VALUES TO NUMBERS"
   ]
  },
  {
   "cell_type": "code",
   "execution_count": 4,
   "metadata": {},
   "outputs": [
    {
     "name": "stdout",
     "output_type": "stream",
     "text": [
      "65     1011\n",
      "61      852\n",
      "22      600\n",
      "63E     299\n",
      "63A     107\n",
      "63C      62\n",
      "63F      60\n",
      "63B      57\n",
      "63D      38\n",
      "Name: READPRJ, dtype: int64\n"
     ]
    }
   ],
   "source": [
    "# Firstly we replace all the comments\n",
    "moaks_without_commments = moaks_sq01.replace(r'(\\:).*$',r'\\1',regex=True)\n",
    "# Secondly we replace all the '.:' and the ':' bullets with space and remove 'R' from Reader Column\n",
    "moaks_without_commments_bullets = moaks_without_commments.replace({'\\.\\:':'',':':''},regex=True)\n",
    "# Thirdly we remove the Comments and Technical Considerations Columns from the whole Dataset\n",
    "moaks_without_commments_bullets = moaks_without_commments_bullets.drop(columns=['V01MCMNTS','V01MTCMNTS'])\n",
    "print(moaks_without_commments_bullets.READPRJ.value_counts())"
   ]
  },
  {
   "cell_type": "code",
   "execution_count": 5,
   "metadata": {},
   "outputs": [
    {
     "name": "stdout",
     "output_type": "stream",
     "text": [
      "600\n",
      "Number of subjects with OA at 12 months prj63: 107\n",
      "Number of subjects with OA at 12 months unique to prj63: 97\n"
     ]
    }
   ],
   "source": [
    "# WE KEEP ONLY THE SUBJECTS THAT ARE PRESENT IN PROJECT 65 AND NOT IN PROJECT 22\n",
    "\n",
    "moaks_without_commments_bullets_prj22 = moaks_without_commments_bullets.loc[moaks_without_commments_bullets['READPRJ']=='22']\n",
    "print(moaks_without_commments_bullets_prj22.shape[0])\n",
    "\n",
    "moaks_without_commments_bullets_prj63A = moaks_without_commments_bullets.loc[moaks_without_commments_bullets['READPRJ']=='63A']\n",
    "print('Number of subjects with OA at 12 months prj63: {}'.format(moaks_without_commments_bullets_prj63A.shape[0]))\n",
    "moaks_without_commments_bullets_prj63A_unique_ID = pd.merge(moaks_without_commments_bullets_prj63A,moaks_without_commments_bullets_prj22,on=['ID','SIDE'],how='outer',indicator=True)\n",
    "moaks_without_commments_bullets_prj63A_unique_ID = moaks_without_commments_bullets_prj63A_unique_ID.loc[(moaks_without_commments_bullets_prj63A_unique_ID._merge=='left_only'),['ID','SIDE']]\n",
    "moaks_without_commments_bullets_prj63A_unique_info = moaks_without_commments_bullets_prj63A.merge(moaks_without_commments_bullets_prj63A_unique_ID,on=['ID','SIDE'],how='inner')\n",
    "moaks_without_commments_bullets_prj63A_unique_info = moaks_without_commments_bullets_prj63A_unique_info.drop_duplicates(subset=['ID','SIDE'])\n",
    "print('Number of subjects with OA at 12 months unique to prj63: {}'.format(moaks_without_commments_bullets_prj63A_unique_info.shape[0]))\n",
    "\n"
   ]
  },
  {
   "cell_type": "code",
   "execution_count": 6,
   "metadata": {},
   "outputs": [
    {
     "data": {
      "text/plain": [
       "right_only    590\n",
       "left_only      97\n",
       "both           10\n",
       "Name: _merge, dtype: int64"
      ]
     },
     "execution_count": 6,
     "metadata": {},
     "output_type": "execute_result"
    }
   ],
   "source": [
    "abc = (pd.merge(moaks_without_commments_bullets_prj63A,moaks_without_commments_bullets_prj22,on=['ID','SIDE'],how='outer',indicator=True))._merge\n",
    "abc.value_counts()"
   ]
  },
  {
   "cell_type": "code",
   "execution_count": 7,
   "metadata": {},
   "outputs": [
    {
     "name": "stdout",
     "output_type": "stream",
     "text": [
      "<class 'pandas.core.frame.DataFrame'>\n",
      "Int64Index: 97 entries, 0 to 96\n",
      "Columns: 119 entries, ID to V01MITBSIG\n",
      "dtypes: float32(117), int64(2)\n",
      "memory usage: 46.6 KB\n",
      "None\n",
      "Number of NaN values are :  7372\n"
     ]
    }
   ],
   "source": [
    "# THEN WE CONVERT ALL THE DF VALUES TO FLOAT AND THE ID AND SIDE TO INT\n",
    "moaks_without_commments_bullets_prj63A_unique_info.replace(to_replace={'63A':'63.1'},inplace=True)\n",
    "moaks_without_c_b_numeric_63A =  moaks_without_commments_bullets_prj63A_unique_info.apply(pd.to_numeric,downcast='float')\n",
    "moaks_without_c_b_numeric_63A[['ID','SIDE']] = moaks_without_c_b_numeric_63A[['ID','SIDE']].astype('int')\n",
    "print(moaks_without_c_b_numeric_63A.info())\n",
    "print('Number of NaN values are : ',moaks_without_c_b_numeric_63A.isna().sum().sum())\n"
   ]
  },
  {
   "cell_type": "code",
   "execution_count": 8,
   "metadata": {},
   "outputs": [
    {
     "name": "stdout",
     "output_type": "stream",
     "text": [
      "Number of NaN values in the initial dataframe: [0, 0, 0, 0, 0, 0, 0, 0, 0, 0, 0, 0, 0, 0, 0, 0, 0, 0, 0, 0, 0, 0, 0, 0, 0, 0, 0, 0, 0, 0, 0, 0, 0, 97, 97, 97, 97, 97, 97, 97, 97, 97, 97, 97, 97, 97, 97, 97, 97, 97, 97, 97, 97, 97, 97, 97, 97, 97, 97, 97, 97, 97, 97, 0, 0, 0, 0, 0, 0, 97, 97, 97, 97, 97, 97, 97, 97, 97, 97, 97, 97, 0, 97, 97, 0, 0, 0, 97, 97, 97, 97, 97, 97, 97, 97, 97, 97, 97, 97, 97, 97, 97, 97, 97, 97, 97, 97, 97, 97, 97, 97, 97, 97, 97, 97, 97, 97, 97, 97]\n"
     ]
    }
   ],
   "source": [
    "print('Number of NaN values in the initial dataframe: {}'.format(moaks_without_c_b_numeric_63A.loc[:,:].isna().sum().to_list()))"
   ]
  },
  {
   "cell_type": "code",
   "execution_count": 9,
   "metadata": {},
   "outputs": [
    {
     "name": "stdout",
     "output_type": "stream",
     "text": [
      "<class 'pandas.core.frame.DataFrame'>\n",
      "Int64Index: 97 entries, 0 to 96\n",
      "Columns: 119 entries, ID to V01MITBSIG\n",
      "dtypes: float32(117), int64(2)\n",
      "memory usage: 46.6 KB\n",
      "Number of NaN values in the Dataframe: [0, 0, 0, 0, 0, 0, 0, 0, 0, 0, 0, 0, 0, 0, 0, 0, 0, 0, 0, 0, 0, 0, 0, 0, 0, 0, 0, 0, 0, 0, 0, 0, 0, 0, 0, 0, 0, 0, 0, 0, 0, 0, 0, 0, 0, 0, 0, 0, 0, 0, 0, 0, 0, 0, 0, 0, 0, 0, 0, 0, 0, 0, 0, 0, 0, 0, 0, 0, 0, 0, 0, 0, 0, 0, 0, 0, 0, 0, 0, 0, 0, 0, 0, 0, 0, 0, 0, 0, 0, 0, 0, 0, 0, 0, 0, 0, 0, 0, 0, 0, 0, 0, 0, 0, 0, 0, 0, 0, 0, 0, 0, 0, 0, 0, 0, 0, 0, 0, 0]\n"
     ]
    }
   ],
   "source": [
    "moaks_without_c_b_nan_numeric = moaks_without_c_b_numeric_63A.fillna(-1.0)\n",
    "moaks_without_c_b_nan_numeric.info()\n",
    "print('Number of NaN values in the Dataframe: {}'.format(moaks_without_c_b_nan_numeric.isna().sum().to_list()))"
   ]
  },
  {
   "cell_type": "code",
   "execution_count": 10,
   "metadata": {},
   "outputs": [
    {
     "name": "stdout",
     "output_type": "stream",
     "text": [
      "[0, 0, 0, 0, 0, 0, 0, 0, 0, 0, 0, 0, 0, 0, 0, 0, 0, 0, 0, 0, 0, 0, 0, 0, 0, 0, 0, 0, 0, 0, 0, 0, 0, 0, 0, 0, 0, 0, 0, 0, 0, 0, 0, 0, 0, 0, 0, 0, 0, 0, 0, 0, 0, 0, 0, 0, 0, 0, 0, 0, 0, 0, 0, 0, 0, 0, 0, 0, 0, 0, 0, 0, 0, 0, 0, 0, 0, 0, 0, 0, 0, 0, 0, 0, 0, 0, 0, 0, 0, 0, 0, 0, 0, 0, 0, 0, 0, 0, 0, 0, 0, 0, 0, 0, 0, 0, 0, 0, 0, 0, 0, 0, 0, 0, 0, 0, 0, 0, 0]\n"
     ]
    }
   ],
   "source": [
    "# So the clean version of the moaks_sq01 is the below: \n",
    "moaks_grades = moaks_without_c_b_nan_numeric\n",
    "print(moaks_grades.isna().sum().to_list())\n",
    "moaks_grades.to_csv('moaks_sq01_initial_numeric_df.csv')"
   ]
  },
  {
   "cell_type": "markdown",
   "metadata": {},
   "source": [
    "# NOW WE LOAD THE RADIOGRAPH INFORMATION DATABASE IN ORDER TO ACQUIRE THE XR OSTEOPHYTES\n"
   ]
  },
  {
   "cell_type": "code",
   "execution_count": 11,
   "metadata": {},
   "outputs": [
    {
     "data": {
      "text/html": [
       "<div>\n",
       "<style scoped>\n",
       "    .dataframe tbody tr th:only-of-type {\n",
       "        vertical-align: middle;\n",
       "    }\n",
       "\n",
       "    .dataframe tbody tr th {\n",
       "        vertical-align: top;\n",
       "    }\n",
       "\n",
       "    .dataframe thead th {\n",
       "        text-align: right;\n",
       "    }\n",
       "</style>\n",
       "<table border=\"1\" class=\"dataframe\">\n",
       "  <thead>\n",
       "    <tr style=\"text-align: right;\">\n",
       "      <th></th>\n",
       "      <th>ID</th>\n",
       "      <th>SIDE</th>\n",
       "      <th>READPRJ</th>\n",
       "      <th>VERSION</th>\n",
       "      <th>V01MCMPM</th>\n",
       "      <th>V01MCMPL</th>\n",
       "      <th>V01MCMFMA</th>\n",
       "      <th>V01MCMFLA</th>\n",
       "      <th>V01MCMFMP</th>\n",
       "      <th>V01MCMFLP</th>\n",
       "      <th>...</th>\n",
       "      <th>V01MPPBUR</th>\n",
       "      <th>V01MSYIC</th>\n",
       "      <th>V01MEFFWK</th>\n",
       "      <th>V01MPOPCYS</th>\n",
       "      <th>V01MITBSIG</th>\n",
       "      <th>V01XROSFL</th>\n",
       "      <th>V01XROSFM</th>\n",
       "      <th>V01XROSTL</th>\n",
       "      <th>V01XROSTM</th>\n",
       "      <th>V01XRKL</th>\n",
       "    </tr>\n",
       "  </thead>\n",
       "  <tbody>\n",
       "    <tr>\n",
       "      <th>0</th>\n",
       "      <td>9002316</td>\n",
       "      <td>2</td>\n",
       "      <td>63.099998</td>\n",
       "      <td>1.2</td>\n",
       "      <td>2.0</td>\n",
       "      <td>1.0</td>\n",
       "      <td>0.0</td>\n",
       "      <td>0.0</td>\n",
       "      <td>0.0</td>\n",
       "      <td>0.0</td>\n",
       "      <td>...</td>\n",
       "      <td>-1.0</td>\n",
       "      <td>-1.0</td>\n",
       "      <td>-1.0</td>\n",
       "      <td>-1.0</td>\n",
       "      <td>-1.0</td>\n",
       "      <td>0.0</td>\n",
       "      <td>0.0</td>\n",
       "      <td>0.0</td>\n",
       "      <td>1.0</td>\n",
       "      <td>2.0</td>\n",
       "    </tr>\n",
       "    <tr>\n",
       "      <th>1</th>\n",
       "      <td>9026695</td>\n",
       "      <td>1</td>\n",
       "      <td>63.099998</td>\n",
       "      <td>1.2</td>\n",
       "      <td>2.0</td>\n",
       "      <td>2.0</td>\n",
       "      <td>0.0</td>\n",
       "      <td>0.0</td>\n",
       "      <td>2.0</td>\n",
       "      <td>0.0</td>\n",
       "      <td>...</td>\n",
       "      <td>-1.0</td>\n",
       "      <td>-1.0</td>\n",
       "      <td>-1.0</td>\n",
       "      <td>-1.0</td>\n",
       "      <td>-1.0</td>\n",
       "      <td>0.0</td>\n",
       "      <td>1.0</td>\n",
       "      <td>0.0</td>\n",
       "      <td>1.0</td>\n",
       "      <td>3.0</td>\n",
       "    </tr>\n",
       "    <tr>\n",
       "      <th>2</th>\n",
       "      <td>9044788</td>\n",
       "      <td>2</td>\n",
       "      <td>63.099998</td>\n",
       "      <td>1.2</td>\n",
       "      <td>1.0</td>\n",
       "      <td>0.0</td>\n",
       "      <td>0.0</td>\n",
       "      <td>0.0</td>\n",
       "      <td>0.0</td>\n",
       "      <td>0.0</td>\n",
       "      <td>...</td>\n",
       "      <td>-1.0</td>\n",
       "      <td>-1.0</td>\n",
       "      <td>-1.0</td>\n",
       "      <td>-1.0</td>\n",
       "      <td>-1.0</td>\n",
       "      <td>0.0</td>\n",
       "      <td>0.0</td>\n",
       "      <td>1.0</td>\n",
       "      <td>0.0</td>\n",
       "      <td>2.0</td>\n",
       "    </tr>\n",
       "    <tr>\n",
       "      <th>3</th>\n",
       "      <td>9062483</td>\n",
       "      <td>2</td>\n",
       "      <td>63.099998</td>\n",
       "      <td>1.2</td>\n",
       "      <td>0.0</td>\n",
       "      <td>0.0</td>\n",
       "      <td>0.0</td>\n",
       "      <td>0.0</td>\n",
       "      <td>2.0</td>\n",
       "      <td>0.0</td>\n",
       "      <td>...</td>\n",
       "      <td>-1.0</td>\n",
       "      <td>-1.0</td>\n",
       "      <td>-1.0</td>\n",
       "      <td>-1.0</td>\n",
       "      <td>-1.0</td>\n",
       "      <td>0.0</td>\n",
       "      <td>1.0</td>\n",
       "      <td>0.0</td>\n",
       "      <td>1.0</td>\n",
       "      <td>2.0</td>\n",
       "    </tr>\n",
       "    <tr>\n",
       "      <th>4</th>\n",
       "      <td>9063928</td>\n",
       "      <td>2</td>\n",
       "      <td>63.099998</td>\n",
       "      <td>1.2</td>\n",
       "      <td>1.0</td>\n",
       "      <td>0.0</td>\n",
       "      <td>0.0</td>\n",
       "      <td>0.0</td>\n",
       "      <td>0.0</td>\n",
       "      <td>0.0</td>\n",
       "      <td>...</td>\n",
       "      <td>-1.0</td>\n",
       "      <td>-1.0</td>\n",
       "      <td>-1.0</td>\n",
       "      <td>-1.0</td>\n",
       "      <td>-1.0</td>\n",
       "      <td>0.0</td>\n",
       "      <td>0.0</td>\n",
       "      <td>0.0</td>\n",
       "      <td>1.0</td>\n",
       "      <td>2.0</td>\n",
       "    </tr>\n",
       "    <tr>\n",
       "      <th>...</th>\n",
       "      <td>...</td>\n",
       "      <td>...</td>\n",
       "      <td>...</td>\n",
       "      <td>...</td>\n",
       "      <td>...</td>\n",
       "      <td>...</td>\n",
       "      <td>...</td>\n",
       "      <td>...</td>\n",
       "      <td>...</td>\n",
       "      <td>...</td>\n",
       "      <td>...</td>\n",
       "      <td>...</td>\n",
       "      <td>...</td>\n",
       "      <td>...</td>\n",
       "      <td>...</td>\n",
       "      <td>...</td>\n",
       "      <td>...</td>\n",
       "      <td>...</td>\n",
       "      <td>...</td>\n",
       "      <td>...</td>\n",
       "      <td>...</td>\n",
       "    </tr>\n",
       "    <tr>\n",
       "      <th>92</th>\n",
       "      <td>9943227</td>\n",
       "      <td>2</td>\n",
       "      <td>63.099998</td>\n",
       "      <td>1.2</td>\n",
       "      <td>2.0</td>\n",
       "      <td>2.0</td>\n",
       "      <td>0.0</td>\n",
       "      <td>0.0</td>\n",
       "      <td>2.0</td>\n",
       "      <td>0.0</td>\n",
       "      <td>...</td>\n",
       "      <td>-1.0</td>\n",
       "      <td>-1.0</td>\n",
       "      <td>-1.0</td>\n",
       "      <td>-1.0</td>\n",
       "      <td>-1.0</td>\n",
       "      <td>0.0</td>\n",
       "      <td>1.0</td>\n",
       "      <td>0.0</td>\n",
       "      <td>1.0</td>\n",
       "      <td>2.0</td>\n",
       "    </tr>\n",
       "    <tr>\n",
       "      <th>93</th>\n",
       "      <td>9957519</td>\n",
       "      <td>2</td>\n",
       "      <td>63.099998</td>\n",
       "      <td>1.2</td>\n",
       "      <td>0.0</td>\n",
       "      <td>0.0</td>\n",
       "      <td>0.0</td>\n",
       "      <td>0.0</td>\n",
       "      <td>0.0</td>\n",
       "      <td>0.0</td>\n",
       "      <td>...</td>\n",
       "      <td>-1.0</td>\n",
       "      <td>-1.0</td>\n",
       "      <td>-1.0</td>\n",
       "      <td>-1.0</td>\n",
       "      <td>-1.0</td>\n",
       "      <td>0.0</td>\n",
       "      <td>0.0</td>\n",
       "      <td>1.0</td>\n",
       "      <td>1.0</td>\n",
       "      <td>2.0</td>\n",
       "    </tr>\n",
       "    <tr>\n",
       "      <th>94</th>\n",
       "      <td>9961728</td>\n",
       "      <td>2</td>\n",
       "      <td>63.099998</td>\n",
       "      <td>1.2</td>\n",
       "      <td>2.0</td>\n",
       "      <td>2.0</td>\n",
       "      <td>1.0</td>\n",
       "      <td>0.0</td>\n",
       "      <td>2.0</td>\n",
       "      <td>0.0</td>\n",
       "      <td>...</td>\n",
       "      <td>-1.0</td>\n",
       "      <td>-1.0</td>\n",
       "      <td>-1.0</td>\n",
       "      <td>-1.0</td>\n",
       "      <td>-1.0</td>\n",
       "      <td>0.0</td>\n",
       "      <td>1.0</td>\n",
       "      <td>0.0</td>\n",
       "      <td>1.0</td>\n",
       "      <td>2.0</td>\n",
       "    </tr>\n",
       "    <tr>\n",
       "      <th>95</th>\n",
       "      <td>9984706</td>\n",
       "      <td>1</td>\n",
       "      <td>63.099998</td>\n",
       "      <td>1.2</td>\n",
       "      <td>0.0</td>\n",
       "      <td>2.0</td>\n",
       "      <td>0.0</td>\n",
       "      <td>2.0</td>\n",
       "      <td>2.0</td>\n",
       "      <td>0.0</td>\n",
       "      <td>...</td>\n",
       "      <td>-1.0</td>\n",
       "      <td>-1.0</td>\n",
       "      <td>-1.0</td>\n",
       "      <td>-1.0</td>\n",
       "      <td>-1.0</td>\n",
       "      <td>0.0</td>\n",
       "      <td>1.0</td>\n",
       "      <td>1.0</td>\n",
       "      <td>1.0</td>\n",
       "      <td>2.0</td>\n",
       "    </tr>\n",
       "    <tr>\n",
       "      <th>96</th>\n",
       "      <td>9988820</td>\n",
       "      <td>2</td>\n",
       "      <td>63.099998</td>\n",
       "      <td>1.2</td>\n",
       "      <td>0.0</td>\n",
       "      <td>1.0</td>\n",
       "      <td>0.0</td>\n",
       "      <td>0.0</td>\n",
       "      <td>0.0</td>\n",
       "      <td>0.0</td>\n",
       "      <td>...</td>\n",
       "      <td>-1.0</td>\n",
       "      <td>-1.0</td>\n",
       "      <td>-1.0</td>\n",
       "      <td>-1.0</td>\n",
       "      <td>-1.0</td>\n",
       "      <td>1.0</td>\n",
       "      <td>1.0</td>\n",
       "      <td>1.0</td>\n",
       "      <td>0.0</td>\n",
       "      <td>2.0</td>\n",
       "    </tr>\n",
       "  </tbody>\n",
       "</table>\n",
       "<p>97 rows × 124 columns</p>\n",
       "</div>"
      ],
      "text/plain": [
       "         ID  SIDE    READPRJ  VERSION  V01MCMPM  V01MCMPL  V01MCMFMA  \\\n",
       "0   9002316     2  63.099998      1.2       2.0       1.0        0.0   \n",
       "1   9026695     1  63.099998      1.2       2.0       2.0        0.0   \n",
       "2   9044788     2  63.099998      1.2       1.0       0.0        0.0   \n",
       "3   9062483     2  63.099998      1.2       0.0       0.0        0.0   \n",
       "4   9063928     2  63.099998      1.2       1.0       0.0        0.0   \n",
       "..      ...   ...        ...      ...       ...       ...        ...   \n",
       "92  9943227     2  63.099998      1.2       2.0       2.0        0.0   \n",
       "93  9957519     2  63.099998      1.2       0.0       0.0        0.0   \n",
       "94  9961728     2  63.099998      1.2       2.0       2.0        1.0   \n",
       "95  9984706     1  63.099998      1.2       0.0       2.0        0.0   \n",
       "96  9988820     2  63.099998      1.2       0.0       1.0        0.0   \n",
       "\n",
       "    V01MCMFLA  V01MCMFMP  V01MCMFLP  ...  V01MPPBUR  V01MSYIC  V01MEFFWK  \\\n",
       "0         0.0        0.0        0.0  ...       -1.0      -1.0       -1.0   \n",
       "1         0.0        2.0        0.0  ...       -1.0      -1.0       -1.0   \n",
       "2         0.0        0.0        0.0  ...       -1.0      -1.0       -1.0   \n",
       "3         0.0        2.0        0.0  ...       -1.0      -1.0       -1.0   \n",
       "4         0.0        0.0        0.0  ...       -1.0      -1.0       -1.0   \n",
       "..        ...        ...        ...  ...        ...       ...        ...   \n",
       "92        0.0        2.0        0.0  ...       -1.0      -1.0       -1.0   \n",
       "93        0.0        0.0        0.0  ...       -1.0      -1.0       -1.0   \n",
       "94        0.0        2.0        0.0  ...       -1.0      -1.0       -1.0   \n",
       "95        2.0        2.0        0.0  ...       -1.0      -1.0       -1.0   \n",
       "96        0.0        0.0        0.0  ...       -1.0      -1.0       -1.0   \n",
       "\n",
       "    V01MPOPCYS  V01MITBSIG  V01XROSFL  V01XROSFM  V01XROSTL  V01XROSTM  \\\n",
       "0         -1.0        -1.0        0.0        0.0        0.0        1.0   \n",
       "1         -1.0        -1.0        0.0        1.0        0.0        1.0   \n",
       "2         -1.0        -1.0        0.0        0.0        1.0        0.0   \n",
       "3         -1.0        -1.0        0.0        1.0        0.0        1.0   \n",
       "4         -1.0        -1.0        0.0        0.0        0.0        1.0   \n",
       "..         ...         ...        ...        ...        ...        ...   \n",
       "92        -1.0        -1.0        0.0        1.0        0.0        1.0   \n",
       "93        -1.0        -1.0        0.0        0.0        1.0        1.0   \n",
       "94        -1.0        -1.0        0.0        1.0        0.0        1.0   \n",
       "95        -1.0        -1.0        0.0        1.0        1.0        1.0   \n",
       "96        -1.0        -1.0        1.0        1.0        1.0        0.0   \n",
       "\n",
       "    V01XRKL  \n",
       "0       2.0  \n",
       "1       3.0  \n",
       "2       2.0  \n",
       "3       2.0  \n",
       "4       2.0  \n",
       "..      ...  \n",
       "92      2.0  \n",
       "93      2.0  \n",
       "94      2.0  \n",
       "95      2.0  \n",
       "96      2.0  \n",
       "\n",
       "[97 rows x 124 columns]"
      ]
     },
     "execution_count": 11,
     "metadata": {},
     "output_type": "execute_result"
    }
   ],
   "source": [
    "kxr_sq_bu01= pd.read_csv('/home/anastasis/EMC_Thesis/OAI Data/OAICompleteData_ASCII/kxr_sq_bu01.txt', sep=\"|\")\n",
    "KL_prj15 = kxr_sq_bu01[kxr_sq_bu01['readprj'] == 15].copy()\n",
    "KL_prj15_osteophytes = KL_prj15.loc[:,['ID','SIDE','V01XROSFL','V01XROSFM','V01XROSTL','V01XROSTM','V01XRKL']]\n",
    "\n",
    "#now we create the df that contains both MOAKS grades and XR Osteophytes\n",
    "common_sq_kxr_01 = pd.merge(moaks_grades,KL_prj15_osteophytes,on=['ID','SIDE'],how='inner')\n",
    "common_sq_kxr_01.fillna(0.0,inplace=True)\n",
    "common_sq_kxr_01"
   ]
  },
  {
   "cell_type": "markdown",
   "metadata": {},
   "source": [
    "# NOW WE FIND THE SUBJECTS THAT FULFILL THE OA FEATURES FOR THE WHOLE KNEE JOINT"
   ]
  },
  {
   "cell_type": "code",
   "execution_count": 12,
   "metadata": {},
   "outputs": [
    {
     "name": "stdout",
     "output_type": "stream",
     "text": [
      "Type of ID and SIDE columns <class 'numpy.int64'> and type of the rest of the columns <class 'numpy.float64'>\n"
     ]
    }
   ],
   "source": [
    "# FRIST WE CONSTRUCT A NEW DATAFRAME WITH ALL THE OA FEATURES AS COLUMNS\n",
    "# The 'AnyTCL' column is an assistive variable that indicates as 1.0\n",
    "# the subjects with at least on variable of thickness cartilage loss >=1.0\n",
    "# and as 0.0 the subjects that DO NOT have any thickness cartilage loss\n",
    "\n",
    "moaks_OA_features = pd.DataFrame(\n",
    "    columns=['ID','SIDE','XR_Osteophytes','FullTCL','AnyTCL',\n",
    "             'PartialTCL','BML', 'Meniscus_Degradation'])\n",
    "# the ID and SIDE columns are integers\n",
    "moaks_OA_features[['ID','SIDE']] = common_sq_kxr_01[['ID','SIDE']]\n",
    "# and we fill the rest of the df with np.nan values\n",
    "moaks_OA_features.iloc[:,2:] = np.nan\n",
    "\n",
    "print('Type of ID and SIDE columns {} and type of the rest of the columns {}'\n",
    "    .format(type(moaks_OA_features.iloc[0,0]),type(moaks_OA_features.iloc[0,2])))\n"
   ]
  },
  {
   "cell_type": "code",
   "execution_count": 13,
   "metadata": {},
   "outputs": [
    {
     "data": {
      "text/html": [
       "<div>\n",
       "<style scoped>\n",
       "    .dataframe tbody tr th:only-of-type {\n",
       "        vertical-align: middle;\n",
       "    }\n",
       "\n",
       "    .dataframe tbody tr th {\n",
       "        vertical-align: top;\n",
       "    }\n",
       "\n",
       "    .dataframe thead th {\n",
       "        text-align: right;\n",
       "    }\n",
       "</style>\n",
       "<table border=\"1\" class=\"dataframe\">\n",
       "  <thead>\n",
       "    <tr style=\"text-align: right;\">\n",
       "      <th></th>\n",
       "      <th>ID</th>\n",
       "      <th>SIDE</th>\n",
       "      <th>XR_Osteophytes</th>\n",
       "      <th>FullTCL</th>\n",
       "      <th>AnyTCL</th>\n",
       "      <th>PartialTCL</th>\n",
       "      <th>BML</th>\n",
       "      <th>Meniscus_Degradation</th>\n",
       "    </tr>\n",
       "  </thead>\n",
       "  <tbody>\n",
       "    <tr>\n",
       "      <th>0</th>\n",
       "      <td>9002316</td>\n",
       "      <td>2</td>\n",
       "      <td>NaN</td>\n",
       "      <td>NaN</td>\n",
       "      <td>NaN</td>\n",
       "      <td>NaN</td>\n",
       "      <td>NaN</td>\n",
       "      <td>NaN</td>\n",
       "    </tr>\n",
       "    <tr>\n",
       "      <th>1</th>\n",
       "      <td>9026695</td>\n",
       "      <td>1</td>\n",
       "      <td>NaN</td>\n",
       "      <td>NaN</td>\n",
       "      <td>NaN</td>\n",
       "      <td>NaN</td>\n",
       "      <td>NaN</td>\n",
       "      <td>NaN</td>\n",
       "    </tr>\n",
       "    <tr>\n",
       "      <th>2</th>\n",
       "      <td>9044788</td>\n",
       "      <td>2</td>\n",
       "      <td>NaN</td>\n",
       "      <td>NaN</td>\n",
       "      <td>NaN</td>\n",
       "      <td>NaN</td>\n",
       "      <td>NaN</td>\n",
       "      <td>NaN</td>\n",
       "    </tr>\n",
       "    <tr>\n",
       "      <th>3</th>\n",
       "      <td>9062483</td>\n",
       "      <td>2</td>\n",
       "      <td>NaN</td>\n",
       "      <td>NaN</td>\n",
       "      <td>NaN</td>\n",
       "      <td>NaN</td>\n",
       "      <td>NaN</td>\n",
       "      <td>NaN</td>\n",
       "    </tr>\n",
       "    <tr>\n",
       "      <th>4</th>\n",
       "      <td>9063928</td>\n",
       "      <td>2</td>\n",
       "      <td>NaN</td>\n",
       "      <td>NaN</td>\n",
       "      <td>NaN</td>\n",
       "      <td>NaN</td>\n",
       "      <td>NaN</td>\n",
       "      <td>NaN</td>\n",
       "    </tr>\n",
       "    <tr>\n",
       "      <th>...</th>\n",
       "      <td>...</td>\n",
       "      <td>...</td>\n",
       "      <td>...</td>\n",
       "      <td>...</td>\n",
       "      <td>...</td>\n",
       "      <td>...</td>\n",
       "      <td>...</td>\n",
       "      <td>...</td>\n",
       "    </tr>\n",
       "    <tr>\n",
       "      <th>92</th>\n",
       "      <td>9943227</td>\n",
       "      <td>2</td>\n",
       "      <td>NaN</td>\n",
       "      <td>NaN</td>\n",
       "      <td>NaN</td>\n",
       "      <td>NaN</td>\n",
       "      <td>NaN</td>\n",
       "      <td>NaN</td>\n",
       "    </tr>\n",
       "    <tr>\n",
       "      <th>93</th>\n",
       "      <td>9957519</td>\n",
       "      <td>2</td>\n",
       "      <td>NaN</td>\n",
       "      <td>NaN</td>\n",
       "      <td>NaN</td>\n",
       "      <td>NaN</td>\n",
       "      <td>NaN</td>\n",
       "      <td>NaN</td>\n",
       "    </tr>\n",
       "    <tr>\n",
       "      <th>94</th>\n",
       "      <td>9961728</td>\n",
       "      <td>2</td>\n",
       "      <td>NaN</td>\n",
       "      <td>NaN</td>\n",
       "      <td>NaN</td>\n",
       "      <td>NaN</td>\n",
       "      <td>NaN</td>\n",
       "      <td>NaN</td>\n",
       "    </tr>\n",
       "    <tr>\n",
       "      <th>95</th>\n",
       "      <td>9984706</td>\n",
       "      <td>1</td>\n",
       "      <td>NaN</td>\n",
       "      <td>NaN</td>\n",
       "      <td>NaN</td>\n",
       "      <td>NaN</td>\n",
       "      <td>NaN</td>\n",
       "      <td>NaN</td>\n",
       "    </tr>\n",
       "    <tr>\n",
       "      <th>96</th>\n",
       "      <td>9988820</td>\n",
       "      <td>2</td>\n",
       "      <td>NaN</td>\n",
       "      <td>NaN</td>\n",
       "      <td>NaN</td>\n",
       "      <td>NaN</td>\n",
       "      <td>NaN</td>\n",
       "      <td>NaN</td>\n",
       "    </tr>\n",
       "  </tbody>\n",
       "</table>\n",
       "<p>97 rows × 8 columns</p>\n",
       "</div>"
      ],
      "text/plain": [
       "         ID  SIDE  XR_Osteophytes  FullTCL  AnyTCL  PartialTCL  BML  \\\n",
       "0   9002316     2             NaN      NaN     NaN         NaN  NaN   \n",
       "1   9026695     1             NaN      NaN     NaN         NaN  NaN   \n",
       "2   9044788     2             NaN      NaN     NaN         NaN  NaN   \n",
       "3   9062483     2             NaN      NaN     NaN         NaN  NaN   \n",
       "4   9063928     2             NaN      NaN     NaN         NaN  NaN   \n",
       "..      ...   ...             ...      ...     ...         ...  ...   \n",
       "92  9943227     2             NaN      NaN     NaN         NaN  NaN   \n",
       "93  9957519     2             NaN      NaN     NaN         NaN  NaN   \n",
       "94  9961728     2             NaN      NaN     NaN         NaN  NaN   \n",
       "95  9984706     1             NaN      NaN     NaN         NaN  NaN   \n",
       "96  9988820     2             NaN      NaN     NaN         NaN  NaN   \n",
       "\n",
       "    Meniscus_Degradation  \n",
       "0                    NaN  \n",
       "1                    NaN  \n",
       "2                    NaN  \n",
       "3                    NaN  \n",
       "4                    NaN  \n",
       "..                   ...  \n",
       "92                   NaN  \n",
       "93                   NaN  \n",
       "94                   NaN  \n",
       "95                   NaN  \n",
       "96                   NaN  \n",
       "\n",
       "[97 rows x 8 columns]"
      ]
     },
     "execution_count": 13,
     "metadata": {},
     "output_type": "execute_result"
    }
   ],
   "source": [
    "moaks_OA_features"
   ]
  },
  {
   "cell_type": "code",
   "execution_count": 14,
   "metadata": {},
   "outputs": [],
   "source": [
    "# Then we fill the FullTCL column with all the subjects with \n",
    "# at least one cartilage thickness loss variable larger than 3.0\n",
    "# and the FullTCL cell value is 1.0\n",
    "moaks_OA_features.loc[((common_sq_kxr_01['V01MCMFLA'] >= 3.0) | (common_sq_kxr_01['V01MCMFLP'] >= 3.0) |\n",
    "                (common_sq_kxr_01['V01MCMFLC'] >= 3.0) | (common_sq_kxr_01['V01MCMTLA'] >= 3.0) |\n",
    "                (common_sq_kxr_01['V01MCMTLP'] >= 3.0) | (common_sq_kxr_01['V01MCMTLC'] >= 3.0) |\n",
    "                (common_sq_kxr_01['V01MCMFMA'] >= 3.0) | (common_sq_kxr_01['V01MCMFMP'] >= 3.0) |\n",
    "                (common_sq_kxr_01['V01MCMFMC'] >= 3.0) | (common_sq_kxr_01['V01MCMTMA'] >= 3.0) |\n",
    "                (common_sq_kxr_01['V01MCMTMP'] >= 3.0) | (common_sq_kxr_01['V01MCMTMC'] >= 3.0)),'FullTCL']=1.0"
   ]
  },
  {
   "cell_type": "code",
   "execution_count": 15,
   "metadata": {},
   "outputs": [
    {
     "name": "stdout",
     "output_type": "stream",
     "text": [
      "Number of subjects WITH Full CTL : 6\n"
     ]
    }
   ],
   "source": [
    "print('Number of subjects WITH Full CTL : {}'.format((moaks_OA_features['FullTCL']==1.0).sum()))\n"
   ]
  },
  {
   "cell_type": "code",
   "execution_count": 16,
   "metadata": {},
   "outputs": [
    {
     "name": "stdout",
     "output_type": "stream",
     "text": [
      "0.0    91\n",
      "1.0     6\n",
      "Name: FullTCL, dtype: int64\n"
     ]
    }
   ],
   "source": [
    "# Then we fill the rest of the values of Full_CTL column with 0.0 values instead of NaN\n",
    "moaks_OA_features.loc[((common_sq_kxr_01['V01MCMFLA'] < 3.0) &  (common_sq_kxr_01['V01MCMFLA'] >= 0.0) &\n",
    "                (common_sq_kxr_01['V01MCMFLP'] < 3.0) & (common_sq_kxr_01['V01MCMFLP'] >= 0.0) &\n",
    "                (common_sq_kxr_01['V01MCMFLC'] < 3.0) & (common_sq_kxr_01['V01MCMFLC'] >= 0.0) & \n",
    "                (common_sq_kxr_01['V01MCMTLA'] < 3.0) & (common_sq_kxr_01['V01MCMTLA'] >= 0.0) &\n",
    "                (common_sq_kxr_01['V01MCMTLP'] < 3.0) & (common_sq_kxr_01['V01MCMTLP'] >= 0.0) & \n",
    "                (common_sq_kxr_01['V01MCMTLC'] < 3.0) & (common_sq_kxr_01['V01MCMTLC'] >= 0.0) &\n",
    "                (common_sq_kxr_01['V01MCMFMA'] < 3.0) & (common_sq_kxr_01['V01MCMFMA'] >= 0.0) & \n",
    "                (common_sq_kxr_01['V01MCMFMP'] < 3.0) & (common_sq_kxr_01['V01MCMFMP'] >= 0.0) &\n",
    "                (common_sq_kxr_01['V01MCMFMC'] < 3.0) & (common_sq_kxr_01['V01MCMFMC'] >= 0.0) & \n",
    "                (common_sq_kxr_01['V01MCMTMA'] < 3.0) & (common_sq_kxr_01['V01MCMTMA'] >= 0.0) &\n",
    "                (common_sq_kxr_01['V01MCMTMP'] < 3.0) & (common_sq_kxr_01['V01MCMTMP'] >= 0.0) & \n",
    "                (common_sq_kxr_01['V01MCMTMC'] < 3.0) & (common_sq_kxr_01['V01MCMTMC'] >= 0.0)),'FullTCL']=0.0\n",
    "print(moaks_OA_features['FullTCL'].value_counts())\n"
   ]
  },
  {
   "cell_type": "code",
   "execution_count": 17,
   "metadata": {},
   "outputs": [],
   "source": [
    "# now the column AnyTCL is filled based on the initial Thickness Cartilage Loss variables\n",
    "# if at least one variable value is larger than 1.0 then it has either Full or Partial Thickness Cartilage Loss\n",
    "# and the AnyTCL cell value is 1.0\n",
    "\n",
    "moaks_OA_features.loc[((common_sq_kxr_01['V01MCMFLA'] >= 1.0) | (common_sq_kxr_01['V01MCMFLP'] >= 1.0) |\n",
    "                (common_sq_kxr_01['V01MCMFLC'] >= 1.0) | (common_sq_kxr_01['V01MCMTLA'] >= 1.0) |\n",
    "                (common_sq_kxr_01['V01MCMTLP'] >= 1.0) | (common_sq_kxr_01['V01MCMTLC'] >= 1.0) |\n",
    "                (common_sq_kxr_01['V01MCMFMA'] >= 1.0) | (common_sq_kxr_01['V01MCMFMP'] >= 1.0) |\n",
    "                (common_sq_kxr_01['V01MCMFMC'] >= 1.0) | (common_sq_kxr_01['V01MCMTMA'] >= 1.0) |\n",
    "                (common_sq_kxr_01['V01MCMTMP'] >= 1.0) | (common_sq_kxr_01['V01MCMTMC'] >= 1.0)),'AnyTCL']=1.0\n",
    "\n"
   ]
  },
  {
   "cell_type": "code",
   "execution_count": 18,
   "metadata": {},
   "outputs": [
    {
     "name": "stdout",
     "output_type": "stream",
     "text": [
      "Number of Subjects WITHOUT Any Cartilage Thickness Loss: 9\n"
     ]
    }
   ],
   "source": [
    "# if all Thickness Cartilage Loss variables are less than 1.0 then the subject has no Thickness Cartilage Loss\n",
    "# and the AnyTCL cell value is 0.0\n",
    "moaks_OA_features.loc[((common_sq_kxr_01['V01MCMFLA'] < 1.0) & (common_sq_kxr_01['V01MCMFLA'] >= 0.0) & \n",
    "                (common_sq_kxr_01['V01MCMFLP'] < 1.0) & (common_sq_kxr_01['V01MCMFLP'] >= 0.0) &\n",
    "                (common_sq_kxr_01['V01MCMFLC'] < 1.0) & (common_sq_kxr_01['V01MCMFLC'] >= 0.0) & \n",
    "                (common_sq_kxr_01['V01MCMTLA'] < 1.0) & (common_sq_kxr_01['V01MCMTLA'] >= 0.0) &\n",
    "                (common_sq_kxr_01['V01MCMTLP'] < 1.0) & (common_sq_kxr_01['V01MCMTLP'] >= 0.0) & \n",
    "                (common_sq_kxr_01['V01MCMTLC'] < 1.0) & (common_sq_kxr_01['V01MCMTLC'] >= 0.0) &\n",
    "                (common_sq_kxr_01['V01MCMFMA'] < 1.0) & (common_sq_kxr_01['V01MCMFMA'] >= 0.0) & \n",
    "                (common_sq_kxr_01['V01MCMFMP'] < 1.0) & (common_sq_kxr_01['V01MCMFMP'] >= 0.0) &\n",
    "                (common_sq_kxr_01['V01MCMFMC'] < 1.0) & (common_sq_kxr_01['V01MCMFMC'] >= 0.0) & \n",
    "                (common_sq_kxr_01['V01MCMTMA'] < 1.0) & (common_sq_kxr_01['V01MCMTMA'] >= 0.0) &\n",
    "                (common_sq_kxr_01['V01MCMTMP'] < 1.0) & (common_sq_kxr_01['V01MCMTMP'] >= 0.0) & \n",
    "                (common_sq_kxr_01['V01MCMTMC'] < 1.0) & (common_sq_kxr_01['V01MCMTMC'] >= 0.0)),'AnyTCL']=0.0\n",
    "print('Number of Subjects WITHOUT Any Cartilage Thickness Loss: {}'.\n",
    "        format((moaks_OA_features['AnyTCL']==0.0).sum()))\n"
   ]
  },
  {
   "cell_type": "code",
   "execution_count": 19,
   "metadata": {},
   "outputs": [
    {
     "name": "stdout",
     "output_type": "stream",
     "text": [
      "1.0    88\n",
      "0.0     9\n",
      "Name: AnyTCL, dtype: int64\n"
     ]
    }
   ],
   "source": [
    "print(moaks_OA_features.AnyTCL.value_counts())"
   ]
  },
  {
   "cell_type": "code",
   "execution_count": 20,
   "metadata": {},
   "outputs": [
    {
     "name": "stdout",
     "output_type": "stream",
     "text": [
      "Number of Subjects with Partial Thickness Cartilage Loss: 82\n"
     ]
    }
   ],
   "source": [
    "# Now we fill the PartialTCL column initially with the values of the AnyTCL column\n",
    "# Where the FullTCL column is 1.0 then the PartialTCL is 0.0\n",
    "# So if the PartialTCL is 1.0 then the Thickness Cartilage Loss variables are between 1.0 and 3.0\n",
    "\n",
    "moaks_OA_features['PartialTCL'] = moaks_OA_features['AnyTCL']\n",
    "moaks_OA_features.loc[(moaks_OA_features['FullTCL']==1),'PartialTCL']=0.0\n",
    "print('Number of Subjects with Partial Thickness Cartilage Loss: {}'.\n",
    "        format((moaks_OA_features['PartialTCL']==1.0).sum()))"
   ]
  },
  {
   "cell_type": "code",
   "execution_count": 21,
   "metadata": {},
   "outputs": [
    {
     "data": {
      "text/plain": [
       "V01MCMFLA    0\n",
       "V01MCMFLP    0\n",
       "V01MCMFLP    0\n",
       "V01MCMTLA    0\n",
       "V01MCMTLP    0\n",
       "V01MCMTLC    0\n",
       "V01MCMFMA    0\n",
       "V01MCMFMP    0\n",
       "V01MCMFMP    0\n",
       "V01MCMTMA    0\n",
       "V01MCMTMP    0\n",
       "V01MCMTMC    0\n",
       "dtype: int64"
      ]
     },
     "execution_count": 21,
     "metadata": {},
     "output_type": "execute_result"
    }
   ],
   "source": [
    "(common_sq_kxr_01.loc[:,['V01MCMFLA','V01MCMFLP','V01MCMFLP','V01MCMTLA','V01MCMTLP','V01MCMTLC'\n",
    "                    ,'V01MCMFMA','V01MCMFMP','V01MCMFMP','V01MCMTMA','V01MCMTMP','V01MCMTMC']]==-1.0).sum()"
   ]
  },
  {
   "cell_type": "code",
   "execution_count": 22,
   "metadata": {},
   "outputs": [
    {
     "name": "stdout",
     "output_type": "stream",
     "text": [
      "With XR Osteophytes->1.0, Without->0.0 \n",
      "1.0    97\n",
      "Name: XR_Osteophytes, dtype: int64\n"
     ]
    }
   ],
   "source": [
    "# NOW WE FILL THE XR OSTEOPHYTES COLUMN\n",
    "\n",
    "moaks_OA_features.loc[((common_sq_kxr_01['V01XROSFL'] >= 1.0) | \n",
    "                (common_sq_kxr_01['V01XROSFM'] >= 1.0) | \n",
    "                (common_sq_kxr_01['V01XROSTL'] >= 1.0) | \n",
    "                (common_sq_kxr_01['V01XROSTM'] >= 1.0) ),'XR_Osteophytes'] = 1.0\n",
    "\n",
    "moaks_OA_features.loc[((common_sq_kxr_01['V01XROSFL'] < 1.0) & (common_sq_kxr_01['V01XROSFL'] >= 0.0) & \n",
    "                (common_sq_kxr_01['V01XROSFM'] < 1.0) & (common_sq_kxr_01['V01XROSFM'] >= 0.0) & \n",
    "                (common_sq_kxr_01['V01XROSTL'] < 1.0) & (common_sq_kxr_01['V01XROSTL'] >= 0.0) & \n",
    "                (common_sq_kxr_01['V01XROSTM'] < 1.0) & (common_sq_kxr_01['V01XROSTM'] >= 0.0)),'XR_Osteophytes'] = 0.0\n",
    "\n",
    "print('With XR Osteophytes->1.0, Without->0.0 \\n{}'.format(moaks_OA_features.XR_Osteophytes.value_counts(dropna=False)))\n"
   ]
  },
  {
   "cell_type": "code",
   "execution_count": 23,
   "metadata": {},
   "outputs": [
    {
     "data": {
      "text/plain": [
       "V01XROSFL    0\n",
       "V01XROSFM    0\n",
       "V01XROSTL    0\n",
       "V01XROSTM    0\n",
       "dtype: int64"
      ]
     },
     "execution_count": 23,
     "metadata": {},
     "output_type": "execute_result"
    }
   ],
   "source": [
    "(common_sq_kxr_01.loc[:,['V01XROSFL','V01XROSFM','V01XROSTL','V01XROSTM']]==-1.0).sum()"
   ]
  },
  {
   "cell_type": "code",
   "execution_count": 24,
   "metadata": {},
   "outputs": [
    {
     "name": "stdout",
     "output_type": "stream",
     "text": [
      "With BML->1.0, Without->0.0 \n",
      "1.0    50\n",
      "0.0    43\n",
      "NaN     4\n",
      "Name: BML, dtype: int64\n"
     ]
    }
   ],
   "source": [
    "# NOW WE FILL THE BML COLUMN\n",
    "\n",
    "moaks_OA_features.loc[((common_sq_kxr_01['V01MBMSFLC'] >= 1.0) | (common_sq_kxr_01['V01MBMSFLP'] >= 1.0) |\n",
    "                (common_sq_kxr_01['V01MBMSTLA'] >= 1.0) | (common_sq_kxr_01['V01MBMSTLC'] >= 1.0) |\n",
    "                (common_sq_kxr_01['V01MBMSTLP'] >= 1.0) | (common_sq_kxr_01['V01MBMSFMC'] >= 1.0) | \n",
    "                (common_sq_kxr_01['V01MBMSFMP'] >= 1.0) | (common_sq_kxr_01['V01MBMSTMA'] >= 1.0) | \n",
    "                (common_sq_kxr_01['V01MBMSTMC'] >= 1.0) | (common_sq_kxr_01['V01MBMSTMP'] >= 1.0)),'BML'] = 1.0\n",
    "\n",
    "moaks_OA_features.loc[((common_sq_kxr_01['V01MBMSFLC'] < 1.0) & (common_sq_kxr_01['V01MBMSFLC'] >= 0.0) &\n",
    "                (common_sq_kxr_01['V01MBMSFLP'] < 1.0) & (common_sq_kxr_01['V01MBMSFLP'] >= 0.0) &\n",
    "                (common_sq_kxr_01['V01MBMSTLA'] < 1.0) & (common_sq_kxr_01['V01MBMSTLA'] >= 0.0) &\n",
    "                (common_sq_kxr_01['V01MBMSTLC'] < 1.0) & (common_sq_kxr_01['V01MBMSTLC'] >= 0.0) &\n",
    "                (common_sq_kxr_01['V01MBMSTLP'] < 1.0) & (common_sq_kxr_01['V01MBMSTLP'] >= 0.0) & \n",
    "                (common_sq_kxr_01['V01MBMSFMC'] < 1.0) & (common_sq_kxr_01['V01MBMSFMC'] >= 0.0) & \n",
    "                (common_sq_kxr_01['V01MBMSFMP'] < 1.0) & (common_sq_kxr_01['V01MBMSFMP'] >= 0.0) & \n",
    "                (common_sq_kxr_01['V01MBMSTMA'] < 1.0) & (common_sq_kxr_01['V01MBMSTMA'] >= 0.0) & \n",
    "                (common_sq_kxr_01['V01MBMSTMC'] < 1.0) & (common_sq_kxr_01['V01MBMSTMC'] >= 0.0) & \n",
    "                (common_sq_kxr_01['V01MBMSTMP'] < 1.0) & (common_sq_kxr_01['V01MBMSTMP'] >= 0.0)),'BML'] = 0.0\n",
    "print('With BML->1.0, Without->0.0 \\n{}'.format(moaks_OA_features.BML.value_counts(dropna=False)))\n"
   ]
  },
  {
   "cell_type": "code",
   "execution_count": 25,
   "metadata": {},
   "outputs": [
    {
     "data": {
      "text/plain": [
       "V01MBMSFLC    0\n",
       "V01MBMSFLP    0\n",
       "V01MBMSTLA    0\n",
       "V01MBMSTLC    0\n",
       "V01MBMSTLP    0\n",
       "V01MBMSFMC    2\n",
       "V01MBMSFMP    4\n",
       "V01MBMSTMA    0\n",
       "V01MBMSTMC    1\n",
       "V01MBMSTMP    0\n",
       "dtype: int64"
      ]
     },
     "execution_count": 25,
     "metadata": {},
     "output_type": "execute_result"
    }
   ],
   "source": [
    "(common_sq_kxr_01.loc[:,['V01MBMSFLC','V01MBMSFLP','V01MBMSTLA','V01MBMSTLC','V01MBMSTLP',\n",
    "                    'V01MBMSFMC','V01MBMSFMP','V01MBMSTMA','V01MBMSTMC','V01MBMSTMP']]==-1.0).sum()"
   ]
  },
  {
   "cell_type": "code",
   "execution_count": 26,
   "metadata": {},
   "outputs": [
    {
     "name": "stdout",
     "output_type": "stream",
     "text": [
      "With Meniscus Degradation ->1.0, Without->0.0 \n",
      "1.0    76\n",
      "NaN    21\n",
      "Name: Meniscus_Degradation, dtype: int64\n"
     ]
    }
   ],
   "source": [
    "# AND NOW WE FILL THE MENISCUS DEGRADATION COLUMN\n",
    "\n",
    "moaks_OA_features.loc[((common_sq_kxr_01['V01MMTLA'] >= 2.0) | (common_sq_kxr_01['V01MMTLB'] >= 2.0) |\n",
    "                (common_sq_kxr_01['V01MMTLP'] >= 2.0) | (common_sq_kxr_01['V01MMRTL'] >= 2.0) |\n",
    "                (common_sq_kxr_01['V01MMTMA'] >= 2.0) | (common_sq_kxr_01['V01MMTMB'] >= 2.0) |\n",
    "                (common_sq_kxr_01['V01MMTMP'] >= 2.0) | (common_sq_kxr_01['V01MMRTM'] >= 2.0) |\n",
    "                (common_sq_kxr_01['V01MMXLL'] >= 1.0) | (common_sq_kxr_01['V01MMXLA'] >= 1.0) |\n",
    "                (common_sq_kxr_01['V01MMXMM'] >= 1.0) | (common_sq_kxr_01['V01MMXMA'] >= 1.0)),'Meniscus_Degradation'] = 1.0\n",
    "\n",
    "moaks_OA_features.loc[((common_sq_kxr_01['V01MMTLA'] < 2.0) & (common_sq_kxr_01['V01MMTLA'] >= 0.0) & \n",
    "                (common_sq_kxr_01['V01MMTLB'] < 2.0) & (common_sq_kxr_01['V01MMTLB'] >= 0.0) &\n",
    "                (common_sq_kxr_01['V01MMTLP'] < 2.0) & (common_sq_kxr_01['V01MMTLP'] >= 0.0) & \n",
    "                (common_sq_kxr_01['V01MMRTL'] < 2.0) & (common_sq_kxr_01['V01MMRTL'] >= 0.0) &\n",
    "                (common_sq_kxr_01['V01MMTMA'] < 2.0) & (common_sq_kxr_01['V01MMTMA'] >= 0.0) & \n",
    "                (common_sq_kxr_01['V01MMTMB'] < 2.0) & (common_sq_kxr_01['V01MMTMB'] >= 0.0) &\n",
    "                (common_sq_kxr_01['V01MMTMP'] < 2.0) & (common_sq_kxr_01['V01MMTMP'] >= 0.0) & \n",
    "                (common_sq_kxr_01['V01MMRTM'] < 2.0) & (common_sq_kxr_01['V01MMRTM'] >= 0.0) &\n",
    "                (common_sq_kxr_01['V01MMXLL'] < 1.0) & (common_sq_kxr_01['V01MMXLL'] >= 0.0) & \n",
    "                (common_sq_kxr_01['V01MMXLA'] < 1.0) & (common_sq_kxr_01['V01MMXLA'] >= 0.0) &\n",
    "                (common_sq_kxr_01['V01MMXMM'] < 1.0) & (common_sq_kxr_01['V01MMXMM'] >= 0.0) & \n",
    "                (common_sq_kxr_01['V01MMXMA'] < 1.0) & (common_sq_kxr_01['V01MMXMA'] >= 0.0)),'Meniscus_Degradation'] = 0.0\n",
    "\n",
    "print('With Meniscus Degradation ->1.0, Without->0.0 \\n{}'.format(moaks_OA_features.Meniscus_Degradation.value_counts(dropna=False)))\n",
    "\n",
    "# print('Number of Subjects WITH Meniscus Degradation: {}'.\n",
    "#         format((moaks_OA_features['Meniscus_Degradation']==1.0).sum()))\n",
    "\n",
    "# print('Number of Subjects WITHOUT Meniscus Degradation: {}'.\n",
    "#         format((moaks_OA_features['Meniscus_Degradation']==0.0).sum()))"
   ]
  },
  {
   "cell_type": "code",
   "execution_count": 27,
   "metadata": {},
   "outputs": [
    {
     "data": {
      "text/plain": [
       "V01MMTLA     0\n",
       "V01MMTLB     0\n",
       "V01MMTLP     0\n",
       "V01MMRTL     0\n",
       "V01MMTMA     0\n",
       "V01MMTMB     0\n",
       "V01MMTMP     0\n",
       "V01MMRTM     0\n",
       "V01MMXLL     0\n",
       "V01MMXLA    97\n",
       "V01MMXMM     0\n",
       "V01MMXMA    97\n",
       "dtype: int64"
      ]
     },
     "execution_count": 27,
     "metadata": {},
     "output_type": "execute_result"
    }
   ],
   "source": [
    "(common_sq_kxr_01.loc[:,['V01MMTLA','V01MMTLB','V01MMTLP','V01MMRTL','V01MMTMA','V01MMTMB','V01MMTMP','V01MMRTM',\n",
    "            'V01MMXLL','V01MMXLA','V01MMXMM','V01MMXMA']]==-1.0).sum()"
   ]
  },
  {
   "cell_type": "code",
   "execution_count": 28,
   "metadata": {},
   "outputs": [
    {
     "name": "stdout",
     "output_type": "stream",
     "text": [
      "Number of NaN values per column: [0, 0, 0, 0, 0, 0, 4, 21]\n"
     ]
    }
   ],
   "source": [
    "print('Number of NaN values per column: {}'.format(moaks_OA_features.isna().sum().to_list()))"
   ]
  },
  {
   "cell_type": "code",
   "execution_count": 29,
   "metadata": {},
   "outputs": [
    {
     "data": {
      "text/html": [
       "<div>\n",
       "<style scoped>\n",
       "    .dataframe tbody tr th:only-of-type {\n",
       "        vertical-align: middle;\n",
       "    }\n",
       "\n",
       "    .dataframe tbody tr th {\n",
       "        vertical-align: top;\n",
       "    }\n",
       "\n",
       "    .dataframe thead th {\n",
       "        text-align: right;\n",
       "    }\n",
       "</style>\n",
       "<table border=\"1\" class=\"dataframe\">\n",
       "  <thead>\n",
       "    <tr style=\"text-align: right;\">\n",
       "      <th></th>\n",
       "      <th>ID</th>\n",
       "      <th>SIDE</th>\n",
       "      <th>XR_Osteophytes</th>\n",
       "      <th>FullTCL</th>\n",
       "      <th>AnyTCL</th>\n",
       "      <th>PartialTCL</th>\n",
       "      <th>BML</th>\n",
       "      <th>Meniscus_Degradation</th>\n",
       "    </tr>\n",
       "  </thead>\n",
       "  <tbody>\n",
       "    <tr>\n",
       "      <th>0</th>\n",
       "      <td>9002316</td>\n",
       "      <td>2</td>\n",
       "      <td>1.0</td>\n",
       "      <td>0.0</td>\n",
       "      <td>1.0</td>\n",
       "      <td>1.0</td>\n",
       "      <td>1.0</td>\n",
       "      <td>1.0</td>\n",
       "    </tr>\n",
       "    <tr>\n",
       "      <th>1</th>\n",
       "      <td>9026695</td>\n",
       "      <td>1</td>\n",
       "      <td>1.0</td>\n",
       "      <td>0.0</td>\n",
       "      <td>1.0</td>\n",
       "      <td>1.0</td>\n",
       "      <td>1.0</td>\n",
       "      <td>1.0</td>\n",
       "    </tr>\n",
       "    <tr>\n",
       "      <th>2</th>\n",
       "      <td>9044788</td>\n",
       "      <td>2</td>\n",
       "      <td>1.0</td>\n",
       "      <td>0.0</td>\n",
       "      <td>1.0</td>\n",
       "      <td>1.0</td>\n",
       "      <td>1.0</td>\n",
       "      <td>-1.0</td>\n",
       "    </tr>\n",
       "    <tr>\n",
       "      <th>3</th>\n",
       "      <td>9062483</td>\n",
       "      <td>2</td>\n",
       "      <td>1.0</td>\n",
       "      <td>0.0</td>\n",
       "      <td>1.0</td>\n",
       "      <td>1.0</td>\n",
       "      <td>0.0</td>\n",
       "      <td>-1.0</td>\n",
       "    </tr>\n",
       "    <tr>\n",
       "      <th>4</th>\n",
       "      <td>9063928</td>\n",
       "      <td>2</td>\n",
       "      <td>1.0</td>\n",
       "      <td>0.0</td>\n",
       "      <td>1.0</td>\n",
       "      <td>1.0</td>\n",
       "      <td>1.0</td>\n",
       "      <td>1.0</td>\n",
       "    </tr>\n",
       "    <tr>\n",
       "      <th>...</th>\n",
       "      <td>...</td>\n",
       "      <td>...</td>\n",
       "      <td>...</td>\n",
       "      <td>...</td>\n",
       "      <td>...</td>\n",
       "      <td>...</td>\n",
       "      <td>...</td>\n",
       "      <td>...</td>\n",
       "    </tr>\n",
       "    <tr>\n",
       "      <th>92</th>\n",
       "      <td>9943227</td>\n",
       "      <td>2</td>\n",
       "      <td>1.0</td>\n",
       "      <td>0.0</td>\n",
       "      <td>1.0</td>\n",
       "      <td>1.0</td>\n",
       "      <td>1.0</td>\n",
       "      <td>1.0</td>\n",
       "    </tr>\n",
       "    <tr>\n",
       "      <th>93</th>\n",
       "      <td>9957519</td>\n",
       "      <td>2</td>\n",
       "      <td>1.0</td>\n",
       "      <td>0.0</td>\n",
       "      <td>1.0</td>\n",
       "      <td>1.0</td>\n",
       "      <td>0.0</td>\n",
       "      <td>1.0</td>\n",
       "    </tr>\n",
       "    <tr>\n",
       "      <th>94</th>\n",
       "      <td>9961728</td>\n",
       "      <td>2</td>\n",
       "      <td>1.0</td>\n",
       "      <td>0.0</td>\n",
       "      <td>1.0</td>\n",
       "      <td>1.0</td>\n",
       "      <td>0.0</td>\n",
       "      <td>-1.0</td>\n",
       "    </tr>\n",
       "    <tr>\n",
       "      <th>95</th>\n",
       "      <td>9984706</td>\n",
       "      <td>1</td>\n",
       "      <td>1.0</td>\n",
       "      <td>0.0</td>\n",
       "      <td>1.0</td>\n",
       "      <td>1.0</td>\n",
       "      <td>1.0</td>\n",
       "      <td>1.0</td>\n",
       "    </tr>\n",
       "    <tr>\n",
       "      <th>96</th>\n",
       "      <td>9988820</td>\n",
       "      <td>2</td>\n",
       "      <td>1.0</td>\n",
       "      <td>0.0</td>\n",
       "      <td>1.0</td>\n",
       "      <td>1.0</td>\n",
       "      <td>0.0</td>\n",
       "      <td>1.0</td>\n",
       "    </tr>\n",
       "  </tbody>\n",
       "</table>\n",
       "<p>97 rows × 8 columns</p>\n",
       "</div>"
      ],
      "text/plain": [
       "         ID  SIDE  XR_Osteophytes  FullTCL  AnyTCL  PartialTCL  BML  \\\n",
       "0   9002316     2             1.0      0.0     1.0         1.0  1.0   \n",
       "1   9026695     1             1.0      0.0     1.0         1.0  1.0   \n",
       "2   9044788     2             1.0      0.0     1.0         1.0  1.0   \n",
       "3   9062483     2             1.0      0.0     1.0         1.0  0.0   \n",
       "4   9063928     2             1.0      0.0     1.0         1.0  1.0   \n",
       "..      ...   ...             ...      ...     ...         ...  ...   \n",
       "92  9943227     2             1.0      0.0     1.0         1.0  1.0   \n",
       "93  9957519     2             1.0      0.0     1.0         1.0  0.0   \n",
       "94  9961728     2             1.0      0.0     1.0         1.0  0.0   \n",
       "95  9984706     1             1.0      0.0     1.0         1.0  1.0   \n",
       "96  9988820     2             1.0      0.0     1.0         1.0  0.0   \n",
       "\n",
       "    Meniscus_Degradation  \n",
       "0                    1.0  \n",
       "1                    1.0  \n",
       "2                   -1.0  \n",
       "3                   -1.0  \n",
       "4                    1.0  \n",
       "..                   ...  \n",
       "92                   1.0  \n",
       "93                   1.0  \n",
       "94                  -1.0  \n",
       "95                   1.0  \n",
       "96                   1.0  \n",
       "\n",
       "[97 rows x 8 columns]"
      ]
     },
     "execution_count": 29,
     "metadata": {},
     "output_type": "execute_result"
    }
   ],
   "source": [
    "moaks_OA_features.fillna(-1.0,inplace=True)\n",
    "moaks_OA_features"
   ]
  },
  {
   "cell_type": "code",
   "execution_count": 30,
   "metadata": {},
   "outputs": [],
   "source": [
    "moaks_OA_features.to_csv('moaks_sq01_OA_features.csv')"
   ]
  },
  {
   "cell_type": "markdown",
   "metadata": {},
   "source": [
    "# NOW WE CONSTRUCT THE DF THAT CONTAINS THE OA CRITERIA AS COLUMNS"
   ]
  },
  {
   "cell_type": "code",
   "execution_count": 31,
   "metadata": {},
   "outputs": [
    {
     "data": {
      "text/html": [
       "<div>\n",
       "<style scoped>\n",
       "    .dataframe tbody tr th:only-of-type {\n",
       "        vertical-align: middle;\n",
       "    }\n",
       "\n",
       "    .dataframe tbody tr th {\n",
       "        vertical-align: top;\n",
       "    }\n",
       "\n",
       "    .dataframe thead th {\n",
       "        text-align: right;\n",
       "    }\n",
       "</style>\n",
       "<table border=\"1\" class=\"dataframe\">\n",
       "  <thead>\n",
       "    <tr style=\"text-align: right;\">\n",
       "      <th></th>\n",
       "      <th>ID</th>\n",
       "      <th>SIDE</th>\n",
       "      <th>Osteo_AND_FullTCL</th>\n",
       "      <th>Osteo_AND_PartialTCL_AND_BML</th>\n",
       "      <th>Osteo_AND_PartialTCL_AND_Meniscus_Degradation</th>\n",
       "      <th>Osteo_AND_BML_AND_Meniscus_Degradation</th>\n",
       "      <th>FullTCL_AND_BML_AND_Meniscus_Degradation</th>\n",
       "    </tr>\n",
       "  </thead>\n",
       "  <tbody>\n",
       "    <tr>\n",
       "      <th>0</th>\n",
       "      <td>9002316</td>\n",
       "      <td>2</td>\n",
       "      <td>NaN</td>\n",
       "      <td>NaN</td>\n",
       "      <td>NaN</td>\n",
       "      <td>NaN</td>\n",
       "      <td>NaN</td>\n",
       "    </tr>\n",
       "    <tr>\n",
       "      <th>1</th>\n",
       "      <td>9026695</td>\n",
       "      <td>1</td>\n",
       "      <td>NaN</td>\n",
       "      <td>NaN</td>\n",
       "      <td>NaN</td>\n",
       "      <td>NaN</td>\n",
       "      <td>NaN</td>\n",
       "    </tr>\n",
       "    <tr>\n",
       "      <th>2</th>\n",
       "      <td>9044788</td>\n",
       "      <td>2</td>\n",
       "      <td>NaN</td>\n",
       "      <td>NaN</td>\n",
       "      <td>NaN</td>\n",
       "      <td>NaN</td>\n",
       "      <td>NaN</td>\n",
       "    </tr>\n",
       "    <tr>\n",
       "      <th>3</th>\n",
       "      <td>9062483</td>\n",
       "      <td>2</td>\n",
       "      <td>NaN</td>\n",
       "      <td>NaN</td>\n",
       "      <td>NaN</td>\n",
       "      <td>NaN</td>\n",
       "      <td>NaN</td>\n",
       "    </tr>\n",
       "    <tr>\n",
       "      <th>4</th>\n",
       "      <td>9063928</td>\n",
       "      <td>2</td>\n",
       "      <td>NaN</td>\n",
       "      <td>NaN</td>\n",
       "      <td>NaN</td>\n",
       "      <td>NaN</td>\n",
       "      <td>NaN</td>\n",
       "    </tr>\n",
       "    <tr>\n",
       "      <th>...</th>\n",
       "      <td>...</td>\n",
       "      <td>...</td>\n",
       "      <td>...</td>\n",
       "      <td>...</td>\n",
       "      <td>...</td>\n",
       "      <td>...</td>\n",
       "      <td>...</td>\n",
       "    </tr>\n",
       "    <tr>\n",
       "      <th>92</th>\n",
       "      <td>9943227</td>\n",
       "      <td>2</td>\n",
       "      <td>NaN</td>\n",
       "      <td>NaN</td>\n",
       "      <td>NaN</td>\n",
       "      <td>NaN</td>\n",
       "      <td>NaN</td>\n",
       "    </tr>\n",
       "    <tr>\n",
       "      <th>93</th>\n",
       "      <td>9957519</td>\n",
       "      <td>2</td>\n",
       "      <td>NaN</td>\n",
       "      <td>NaN</td>\n",
       "      <td>NaN</td>\n",
       "      <td>NaN</td>\n",
       "      <td>NaN</td>\n",
       "    </tr>\n",
       "    <tr>\n",
       "      <th>94</th>\n",
       "      <td>9961728</td>\n",
       "      <td>2</td>\n",
       "      <td>NaN</td>\n",
       "      <td>NaN</td>\n",
       "      <td>NaN</td>\n",
       "      <td>NaN</td>\n",
       "      <td>NaN</td>\n",
       "    </tr>\n",
       "    <tr>\n",
       "      <th>95</th>\n",
       "      <td>9984706</td>\n",
       "      <td>1</td>\n",
       "      <td>NaN</td>\n",
       "      <td>NaN</td>\n",
       "      <td>NaN</td>\n",
       "      <td>NaN</td>\n",
       "      <td>NaN</td>\n",
       "    </tr>\n",
       "    <tr>\n",
       "      <th>96</th>\n",
       "      <td>9988820</td>\n",
       "      <td>2</td>\n",
       "      <td>NaN</td>\n",
       "      <td>NaN</td>\n",
       "      <td>NaN</td>\n",
       "      <td>NaN</td>\n",
       "      <td>NaN</td>\n",
       "    </tr>\n",
       "  </tbody>\n",
       "</table>\n",
       "<p>97 rows × 7 columns</p>\n",
       "</div>"
      ],
      "text/plain": [
       "         ID  SIDE  Osteo_AND_FullTCL  Osteo_AND_PartialTCL_AND_BML  \\\n",
       "0   9002316     2                NaN                           NaN   \n",
       "1   9026695     1                NaN                           NaN   \n",
       "2   9044788     2                NaN                           NaN   \n",
       "3   9062483     2                NaN                           NaN   \n",
       "4   9063928     2                NaN                           NaN   \n",
       "..      ...   ...                ...                           ...   \n",
       "92  9943227     2                NaN                           NaN   \n",
       "93  9957519     2                NaN                           NaN   \n",
       "94  9961728     2                NaN                           NaN   \n",
       "95  9984706     1                NaN                           NaN   \n",
       "96  9988820     2                NaN                           NaN   \n",
       "\n",
       "    Osteo_AND_PartialTCL_AND_Meniscus_Degradation  \\\n",
       "0                                             NaN   \n",
       "1                                             NaN   \n",
       "2                                             NaN   \n",
       "3                                             NaN   \n",
       "4                                             NaN   \n",
       "..                                            ...   \n",
       "92                                            NaN   \n",
       "93                                            NaN   \n",
       "94                                            NaN   \n",
       "95                                            NaN   \n",
       "96                                            NaN   \n",
       "\n",
       "    Osteo_AND_BML_AND_Meniscus_Degradation  \\\n",
       "0                                      NaN   \n",
       "1                                      NaN   \n",
       "2                                      NaN   \n",
       "3                                      NaN   \n",
       "4                                      NaN   \n",
       "..                                     ...   \n",
       "92                                     NaN   \n",
       "93                                     NaN   \n",
       "94                                     NaN   \n",
       "95                                     NaN   \n",
       "96                                     NaN   \n",
       "\n",
       "    FullTCL_AND_BML_AND_Meniscus_Degradation  \n",
       "0                                        NaN  \n",
       "1                                        NaN  \n",
       "2                                        NaN  \n",
       "3                                        NaN  \n",
       "4                                        NaN  \n",
       "..                                       ...  \n",
       "92                                       NaN  \n",
       "93                                       NaN  \n",
       "94                                       NaN  \n",
       "95                                       NaN  \n",
       "96                                       NaN  \n",
       "\n",
       "[97 rows x 7 columns]"
      ]
     },
     "execution_count": 31,
     "metadata": {},
     "output_type": "execute_result"
    }
   ],
   "source": [
    "moaks_OA_criteria = pd.DataFrame(columns=['ID','SIDE',\n",
    "             'Osteo_AND_FullTCL',\n",
    "             'Osteo_AND_PartialTCL_AND_BML',\n",
    "             'Osteo_AND_PartialTCL_AND_Meniscus_Degradation',\n",
    "             'Osteo_AND_BML_AND_Meniscus_Degradation',\n",
    "             'FullTCL_AND_BML_AND_Meniscus_Degradation'])\n",
    "# the ID and SIDE columns are integers\n",
    "moaks_OA_criteria[['ID','SIDE']] = common_sq_kxr_01[['ID','SIDE']]\n",
    "# and we fill the rest of the df with np.nan values\n",
    "moaks_OA_criteria.iloc[:,2:] = np.nan\n",
    "moaks_OA_criteria"
   ]
  },
  {
   "cell_type": "code",
   "execution_count": 32,
   "metadata": {},
   "outputs": [
    {
     "name": "stdout",
     "output_type": "stream",
     "text": [
      "With Definite Osteophytes AND FullTCL->1.0, Without->0.0: \n",
      "0.0    91\n",
      "1.0     6\n",
      "Name: Osteo_AND_FullTCL, dtype: int64\n"
     ]
    }
   ],
   "source": [
    "moaks_OA_criteria.loc[((moaks_OA_features['XR_Osteophytes'] == 1.0) & \n",
    "            (moaks_OA_features['FullTCL'] == 1.0)),'Osteo_AND_FullTCL'] = 1.0\n",
    "         \n",
    "moaks_OA_criteria.loc[((moaks_OA_features['XR_Osteophytes'] != 1.0) | \n",
    "            (moaks_OA_features['FullTCL'] != 1.0)),'Osteo_AND_FullTCL'] = 0.0\n",
    "\n",
    "print('With Definite Osteophytes AND FullTCL->1.0, Without->0.0: \\n{}'.\n",
    "        format(moaks_OA_criteria['Osteo_AND_FullTCL'].value_counts(dropna=False)))        "
   ]
  },
  {
   "cell_type": "code",
   "execution_count": 33,
   "metadata": {},
   "outputs": [
    {
     "name": "stdout",
     "output_type": "stream",
     "text": [
      "With Definite Osteophytes AND PartialTCL AND BML->1.0, Without->0.0 \n",
      "0.0    54\n",
      "1.0    43\n",
      "Name: Osteo_AND_PartialTCL_AND_BML, dtype: int64\n"
     ]
    }
   ],
   "source": [
    "moaks_OA_criteria.loc[((moaks_OA_features['XR_Osteophytes'] == 1.0) & \n",
    "            (moaks_OA_features['PartialTCL'] == 1.0) & \n",
    "            (moaks_OA_features['BML'] == 1.0)),'Osteo_AND_PartialTCL_AND_BML'] = 1.0\n",
    "moaks_OA_criteria.loc[((moaks_OA_features['XR_Osteophytes'] != 1.0) | \n",
    "            (moaks_OA_features['PartialTCL'] != 1.0) | \n",
    "            (moaks_OA_features['BML'] != 1.0)),'Osteo_AND_PartialTCL_AND_BML'] = 0.0\n",
    "print('With Definite Osteophytes AND PartialTCL AND BML->1.0, Without->0.0 \\n{}'.\n",
    "        format(moaks_OA_criteria.Osteo_AND_PartialTCL_AND_BML.value_counts(dropna=False)))"
   ]
  },
  {
   "cell_type": "code",
   "execution_count": 34,
   "metadata": {},
   "outputs": [
    {
     "name": "stdout",
     "output_type": "stream",
     "text": [
      "With Osteophytes AND Partial TCL AND Meniscus_Degradation->1.0, Without->0.0: \n",
      "1.0    67\n",
      "0.0    30\n",
      "Name: Osteo_AND_PartialTCL_AND_Meniscus_Degradation, dtype: int64\n"
     ]
    }
   ],
   "source": [
    "moaks_OA_criteria.loc[((moaks_OA_features['XR_Osteophytes'] == 1.0) & \n",
    "            (moaks_OA_features['PartialTCL'] == 1.0) & \n",
    "            (moaks_OA_features['Meniscus_Degradation'] == 1.0)),'Osteo_AND_PartialTCL_AND_Meniscus_Degradation'] = 1.0\n",
    "moaks_OA_criteria.loc[((moaks_OA_features['XR_Osteophytes'] != 1.0) | \n",
    "            (moaks_OA_features['PartialTCL'] != 1.0) | \n",
    "            (moaks_OA_features['Meniscus_Degradation'] != 1.0)),'Osteo_AND_PartialTCL_AND_Meniscus_Degradation'] = 0.0\n",
    "print('With Osteophytes AND Partial TCL AND Meniscus_Degradation->1.0, Without->0.0: \\n{}'.\n",
    "        format((moaks_OA_criteria['Osteo_AND_PartialTCL_AND_Meniscus_Degradation'].value_counts(dropna=False)))) "
   ]
  },
  {
   "cell_type": "code",
   "execution_count": 35,
   "metadata": {},
   "outputs": [
    {
     "name": "stdout",
     "output_type": "stream",
     "text": [
      "With Osteophytes AND BML AND Meniscus_Degradation->1.0, Without->0.0: \n",
      "0.0    54\n",
      "1.0    43\n",
      "Name: Osteo_AND_BML_AND_Meniscus_Degradation, dtype: int64\n"
     ]
    }
   ],
   "source": [
    "moaks_OA_criteria.loc[((moaks_OA_features['XR_Osteophytes'] == 1.0) & \n",
    "            (moaks_OA_features['BML'] == 1.0) & \n",
    "            (moaks_OA_features['Meniscus_Degradation'] == 1.0)),'Osteo_AND_BML_AND_Meniscus_Degradation'] = 1.0\n",
    "moaks_OA_criteria.loc[((moaks_OA_features['XR_Osteophytes'] != 1.0) |\n",
    "            (moaks_OA_features['BML'] != 1.0) |\n",
    "            (moaks_OA_features['Meniscus_Degradation'] != 1.0)),'Osteo_AND_BML_AND_Meniscus_Degradation'] = 0.0            \n",
    "print('With Osteophytes AND BML AND Meniscus_Degradation->1.0, Without->0.0: \\n{}'.\n",
    "        format((moaks_OA_criteria['Osteo_AND_BML_AND_Meniscus_Degradation'].value_counts(dropna=False)))) "
   ]
  },
  {
   "cell_type": "code",
   "execution_count": 36,
   "metadata": {},
   "outputs": [
    {
     "name": "stdout",
     "output_type": "stream",
     "text": [
      "With FullTCL AND BML AND Meniscus_Degradation->1.0, Without->0.0: \n",
      "0.0    93\n",
      "NaN     2\n",
      "1.0     2\n",
      "Name: FullTCL_AND_BML_AND_Meniscus_Degradation, dtype: int64\n"
     ]
    }
   ],
   "source": [
    "moaks_OA_criteria.loc[((moaks_OA_features['FullTCL'] == 1.0) & \n",
    "            (moaks_OA_features['BML'] == 1.0) & \n",
    "            (moaks_OA_features['Meniscus_Degradation'] == 1.0)),'FullTCL_AND_BML_AND_Meniscus_Degradation'] = 1.0\n",
    "moaks_OA_criteria.loc[((moaks_OA_features['FullTCL'] != 1.0) | \n",
    "            (moaks_OA_features['BML'] != 1.0) | \n",
    "            (moaks_OA_features['Meniscus_Degradation'] == 0.0)),'FullTCL_AND_BML_AND_Meniscus_Degradation'] = 0.0\n",
    "print('With FullTCL AND BML AND Meniscus_Degradation->1.0, Without->0.0: \\n{}'.\n",
    "        format((moaks_OA_criteria['FullTCL_AND_BML_AND_Meniscus_Degradation'].value_counts(dropna=False)))) \n"
   ]
  },
  {
   "cell_type": "code",
   "execution_count": 37,
   "metadata": {},
   "outputs": [
    {
     "name": "stdout",
     "output_type": "stream",
     "text": [
      "Number of subjects without OA for each criterion is: \n",
      "ID                                               0\n",
      "SIDE                                             0\n",
      "Osteo_AND_FullTCL                                0\n",
      "Osteo_AND_PartialTCL_AND_BML                     0\n",
      "Osteo_AND_PartialTCL_AND_Meniscus_Degradation    0\n",
      "Osteo_AND_BML_AND_Meniscus_Degradation           0\n",
      "FullTCL_AND_BML_AND_Meniscus_Degradation         2\n",
      "dtype: int64\n"
     ]
    }
   ],
   "source": [
    "print('Number of subjects without OA for each criterion is: \\n{}'.format(moaks_OA_criteria.isna().sum()))"
   ]
  },
  {
   "cell_type": "code",
   "execution_count": 38,
   "metadata": {},
   "outputs": [],
   "source": [
    "moaks_OA_criteria.fillna(-1.0,inplace=True)"
   ]
  },
  {
   "cell_type": "code",
   "execution_count": 39,
   "metadata": {},
   "outputs": [],
   "source": [
    "moaks_OA_criteria.to_csv('moaks_sq01_OA_criteria.csv')"
   ]
  },
  {
   "cell_type": "code",
   "execution_count": 40,
   "metadata": {},
   "outputs": [
    {
     "name": "stdout",
     "output_type": "stream",
     "text": [
      "Number of subjects that satisfy at least one OA criterion is : 81\n"
     ]
    }
   ],
   "source": [
    "# NOW WE FIND THOSE WHO SATISFY AT LEAST ONE OF THE OA CRITERIA\n",
    "moaks_OA_criteria['moaks_OA'] = np.nan\n",
    "moaks_OA_criteria.loc[((moaks_OA_criteria['Osteo_AND_FullTCL']==1.0) |\n",
    "                (moaks_OA_criteria['Osteo_AND_PartialTCL_AND_BML']==1.0) |\n",
    "                (moaks_OA_criteria['Osteo_AND_PartialTCL_AND_Meniscus_Degradation']==1.0) |\n",
    "                (moaks_OA_criteria['Osteo_AND_BML_AND_Meniscus_Degradation']==1.0) |\n",
    "                (moaks_OA_criteria['FullTCL_AND_BML_AND_Meniscus_Degradation']==1.0)),'moaks_OA'] = 1.0\n",
    "# moaks_OA_criteria.loc[((moaks_OA_criteria['Osteo_AND_FullTCL']==0.0) &\n",
    "#                 (moaks_OA_criteria['Osteo_AND_PartialTCL_AND_BML']==0.0) &\n",
    "#                 (moaks_OA_criteria['Osteo_AND_PartialTCL_AND_Meniscus_Degradation']==0.0) &\n",
    "#                 (moaks_OA_criteria['Osteo_AND_BML_AND_Meniscus_Degradation']==0.0) &\n",
    "#                 (moaks_OA_criteria['FullTCL_AND_BML_AND_Meniscus_Degra`dation']==0.0)),'moaks_OA'] = 0.0\n",
    "moaks_OA_criteria.fillna(0.0,inplace=True)\n",
    "\n",
    "print('Number of subjects that satisfy at least one OA criterion is : {}'.format((moaks_OA_criteria['moaks_OA']==1.0).sum()))"
   ]
  },
  {
   "cell_type": "code",
   "execution_count": 41,
   "metadata": {},
   "outputs": [
    {
     "name": "stdout",
     "output_type": "stream",
     "text": [
      "97 \n",
      " 1.0    81\n",
      "0.0    16\n",
      "Name: moaks_OA, dtype: int64\n"
     ]
    }
   ],
   "source": [
    "print(moaks_OA_criteria.shape[0],'\\n',moaks_OA_criteria['moaks_OA'].value_counts())"
   ]
  },
  {
   "cell_type": "code",
   "execution_count": 42,
   "metadata": {},
   "outputs": [
    {
     "name": "stdout",
     "output_type": "stream",
     "text": [
      "         ID  SIDE  Osteo_AND_FullTCL  Osteo_AND_PartialTCL_AND_BML  \\\n",
      "0   9002316     2                0.0                           1.0   \n",
      "1   9026695     1                0.0                           1.0   \n",
      "2   9044788     2                0.0                           1.0   \n",
      "3   9062483     2                0.0                           0.0   \n",
      "4   9063928     2                0.0                           1.0   \n",
      "..      ...   ...                ...                           ...   \n",
      "92  9943227     2                0.0                           1.0   \n",
      "93  9957519     2                0.0                           0.0   \n",
      "94  9961728     2                0.0                           0.0   \n",
      "95  9984706     1                0.0                           1.0   \n",
      "96  9988820     2                0.0                           0.0   \n",
      "\n",
      "    Osteo_AND_PartialTCL_AND_Meniscus_Degradation  \\\n",
      "0                                             1.0   \n",
      "1                                             1.0   \n",
      "2                                             0.0   \n",
      "3                                             0.0   \n",
      "4                                             1.0   \n",
      "..                                            ...   \n",
      "92                                            1.0   \n",
      "93                                            1.0   \n",
      "94                                            0.0   \n",
      "95                                            1.0   \n",
      "96                                            1.0   \n",
      "\n",
      "    Osteo_AND_BML_AND_Meniscus_Degradation  \\\n",
      "0                                      1.0   \n",
      "1                                      1.0   \n",
      "2                                      0.0   \n",
      "3                                      0.0   \n",
      "4                                      1.0   \n",
      "..                                     ...   \n",
      "92                                     1.0   \n",
      "93                                     0.0   \n",
      "94                                     0.0   \n",
      "95                                     1.0   \n",
      "96                                     0.0   \n",
      "\n",
      "    FullTCL_AND_BML_AND_Meniscus_Degradation  moaks_OA  \n",
      "0                                        0.0       1.0  \n",
      "1                                        0.0       1.0  \n",
      "2                                        0.0       1.0  \n",
      "3                                        0.0       0.0  \n",
      "4                                        0.0       1.0  \n",
      "..                                       ...       ...  \n",
      "92                                       0.0       1.0  \n",
      "93                                       0.0       1.0  \n",
      "94                                       0.0       0.0  \n",
      "95                                       0.0       1.0  \n",
      "96                                       0.0       1.0  \n",
      "\n",
      "[97 rows x 8 columns]\n"
     ]
    }
   ],
   "source": [
    "print(moaks_OA_criteria)"
   ]
  },
  {
   "cell_type": "markdown",
   "metadata": {},
   "source": [
    "# NOW WE CREATE THE DATAFRAME CONTAINING INFORMATION REGARDING \n",
    "# 1.MOAKS FEATURES \n",
    "# 2.MOAKS CRITERIA\n",
    "# 3.MOAKS GRADES\n",
    "# 4.KL GRADES\n",
    "# 5.MOAKS-KL GRADES CROSSTABLE"
   ]
  },
  {
   "cell_type": "code",
   "execution_count": 43,
   "metadata": {},
   "outputs": [
    {
     "name": "stdout",
     "output_type": "stream",
     "text": [
      "97 \n",
      "          ID  SIDE  Osteo_AND_FullTCL  Osteo_AND_PartialTCL_AND_BML  \\\n",
      "0   9002316     2                0.0                           1.0   \n",
      "1   9026695     1                0.0                           1.0   \n",
      "2   9044788     2                0.0                           1.0   \n",
      "3   9062483     2                0.0                           0.0   \n",
      "4   9063928     2                0.0                           1.0   \n",
      "..      ...   ...                ...                           ...   \n",
      "92  9943227     2                0.0                           1.0   \n",
      "93  9957519     2                0.0                           0.0   \n",
      "94  9961728     2                0.0                           0.0   \n",
      "95  9984706     1                0.0                           1.0   \n",
      "96  9988820     2                0.0                           0.0   \n",
      "\n",
      "    Osteo_AND_PartialTCL_AND_Meniscus_Degradation  \\\n",
      "0                                             1.0   \n",
      "1                                             1.0   \n",
      "2                                             0.0   \n",
      "3                                             0.0   \n",
      "4                                             1.0   \n",
      "..                                            ...   \n",
      "92                                            1.0   \n",
      "93                                            1.0   \n",
      "94                                            0.0   \n",
      "95                                            1.0   \n",
      "96                                            1.0   \n",
      "\n",
      "    Osteo_AND_BML_AND_Meniscus_Degradation  \\\n",
      "0                                      1.0   \n",
      "1                                      1.0   \n",
      "2                                      0.0   \n",
      "3                                      0.0   \n",
      "4                                      1.0   \n",
      "..                                     ...   \n",
      "92                                     1.0   \n",
      "93                                     0.0   \n",
      "94                                     0.0   \n",
      "95                                     1.0   \n",
      "96                                     0.0   \n",
      "\n",
      "    FullTCL_AND_BML_AND_Meniscus_Degradation  moaks_OA  V01XRKL  \n",
      "0                                        0.0       1.0      2.0  \n",
      "1                                        0.0       1.0      3.0  \n",
      "2                                        0.0       1.0      2.0  \n",
      "3                                        0.0       0.0      2.0  \n",
      "4                                        0.0       1.0      2.0  \n",
      "..                                       ...       ...      ...  \n",
      "92                                       0.0       1.0      2.0  \n",
      "93                                       0.0       1.0      2.0  \n",
      "94                                       0.0       0.0      2.0  \n",
      "95                                       0.0       1.0      2.0  \n",
      "96                                       0.0       1.0      2.0  \n",
      "\n",
      "[97 rows x 9 columns]\n"
     ]
    }
   ],
   "source": [
    "# Here we upload the DataFrame with the KL grades\n",
    "# and we merge the MOAKS and KL dataframes\n",
    "kl_id_side_grade = pd.read_csv('/home/anastasis/EMC_Thesis/My_codes/KL_readings/KL_SQ01_ID_SIDE_GRADE.csv')\n",
    "moaks_kl_OA_full = moaks_OA_criteria.merge(kl_id_side_grade,on=['ID','SIDE'],how='inner')\n",
    "print(moaks_kl_OA_full.shape[0],'\\n',moaks_kl_OA_full)"
   ]
  },
  {
   "cell_type": "code",
   "execution_count": 44,
   "metadata": {},
   "outputs": [
    {
     "name": "stdout",
     "output_type": "stream",
     "text": [
      "Number of different KL grades in the moaks_kl_OA_full dataframe:\n",
      "2.0    78\n",
      "3.0    18\n",
      "4.0     1\n",
      "Name: V01XRKL, dtype: int64\n"
     ]
    }
   ],
   "source": [
    "print('Number of different KL grades in the moaks_kl_OA_full dataframe:\\n{}'\n",
    "        .format(moaks_kl_OA_full['V01XRKL'].value_counts()))\n",
    "moaks_kl_OA_full.to_csv('moaks_sq01_OA_KL_both_grades.csv')"
   ]
  },
  {
   "cell_type": "code",
   "execution_count": 45,
   "metadata": {},
   "outputs": [
    {
     "name": "stdout",
     "output_type": "stream",
     "text": [
      "<class 'pandas.core.frame.DataFrame'>\n",
      "Int64Index: 97 entries, 0 to 96\n",
      "Data columns (total 16 columns):\n",
      " #   Column                                         Non-Null Count  Dtype   \n",
      "---  ------                                         --------------  -----   \n",
      " 0   ID                                             97 non-null     int64   \n",
      " 1   SIDE                                           97 non-null     int64   \n",
      " 2   XR_Osteophytes                                 97 non-null     float64 \n",
      " 3   FullTCL                                        97 non-null     float64 \n",
      " 4   AnyTCL                                         97 non-null     float64 \n",
      " 5   PartialTCL                                     97 non-null     float64 \n",
      " 6   BML                                            97 non-null     float64 \n",
      " 7   Meniscus_Degradation                           97 non-null     float64 \n",
      " 8   Osteo_AND_FullTCL                              97 non-null     float64 \n",
      " 9   Osteo_AND_PartialTCL_AND_BML                   97 non-null     float64 \n",
      " 10  Osteo_AND_PartialTCL_AND_Meniscus_Degradation  97 non-null     float64 \n",
      " 11  Osteo_AND_BML_AND_Meniscus_Degradation         97 non-null     float64 \n",
      " 12  FullTCL_AND_BML_AND_Meniscus_Degradation       97 non-null     float64 \n",
      " 13  moaks_OA                                       97 non-null     float64 \n",
      " 14  V01XRKL                                        97 non-null     float64 \n",
      " 15  _merge                                         97 non-null     category\n",
      "dtypes: category(1), float64(13), int64(2)\n",
      "memory usage: 12.3 KB\n",
      "both          97\n",
      "left_only      0\n",
      "right_only     0\n",
      "Name: _merge, dtype: int64 \n",
      " None\n"
     ]
    }
   ],
   "source": [
    "moaks_KL_OA_all_info = moaks_OA_features.merge(moaks_kl_OA_full,on=['ID','SIDE'],how='outer',indicator=True)\n",
    "print(moaks_KL_OA_all_info._merge.value_counts(),'\\n',moaks_KL_OA_all_info.info())\n",
    "moaks_KL_OA_all_info.to_csv('moaks_sq01_all_info.csv')"
   ]
  },
  {
   "cell_type": "code",
   "execution_count": 46,
   "metadata": {},
   "outputs": [
    {
     "name": "stdout",
     "output_type": "stream",
     "text": [
      "<class 'pandas.core.frame.DataFrame'>\n",
      "Int64Index: 97 entries, 0 to 96\n",
      "Data columns (total 3 columns):\n",
      " #   Column    Non-Null Count  Dtype  \n",
      "---  ------    --------------  -----  \n",
      " 0   ID        97 non-null     int64  \n",
      " 1   SIDE      97 non-null     int64  \n",
      " 2   moaks_OA  97 non-null     float64\n",
      "dtypes: float64(1), int64(2)\n",
      "memory usage: 3.0 KB\n",
      "None\n",
      "<class 'pandas.core.frame.DataFrame'>\n",
      "Int64Index: 97 entries, 0 to 96\n",
      "Data columns (total 4 columns):\n",
      " #   Column    Non-Null Count  Dtype  \n",
      "---  ------    --------------  -----  \n",
      " 0   ID        97 non-null     int64  \n",
      " 1   SIDE      97 non-null     int64  \n",
      " 2   moaks_OA  97 non-null     float64\n",
      " 3   V01XRKL   97 non-null     float64\n",
      "dtypes: float64(2), int64(2)\n",
      "memory usage: 3.8 KB\n",
      "None\n"
     ]
    }
   ],
   "source": [
    "all_common_sq_kxr_01_sq01 = moaks_KL_OA_all_info.loc[:,['ID','SIDE','moaks_OA']]\n",
    "print(all_common_sq_kxr_01_sq01.info())\n",
    "all_moaks_vs_kl_grades_sq01 = moaks_KL_OA_all_info.loc[:,['ID','SIDE','moaks_OA','V01XRKL']]\n",
    "print(all_moaks_vs_kl_grades_sq01.info())"
   ]
  },
  {
   "cell_type": "code",
   "execution_count": 47,
   "metadata": {},
   "outputs": [
    {
     "name": "stdout",
     "output_type": "stream",
     "text": [
      "Sum of sq01 subjects that have MOAKS = 0.0: 16\n",
      "Sum of sq01 subjects that have MOAKS = 1.0: 81\n"
     ]
    }
   ],
   "source": [
    "print('Sum of sq01 subjects that have MOAKS = 0.0: {}'.format((all_common_sq_kxr_01_sq01['moaks_OA']==0.0).sum()))\n",
    "print('Sum of sq01 subjects that have MOAKS = 1.0: {}'.format((all_common_sq_kxr_01_sq01['moaks_OA']==1.0).sum()))"
   ]
  },
  {
   "cell_type": "code",
   "execution_count": 48,
   "metadata": {},
   "outputs": [
    {
     "name": "stdout",
     "output_type": "stream",
     "text": [
      "         ID  SIDE  moaks_OA  V01XRKL\n",
      "0   9002316     2       1.0      2.0\n",
      "1   9026695     1       1.0      3.0\n",
      "2   9044788     2       1.0      2.0\n",
      "4   9063928     2       1.0      2.0\n",
      "5   9067323     2       1.0      2.0\n",
      "..      ...   ...       ...      ...\n",
      "91  9916319     2       1.0      2.0\n",
      "92  9943227     2       1.0      2.0\n",
      "93  9957519     2       1.0      2.0\n",
      "95  9984706     1       1.0      2.0\n",
      "96  9988820     2       1.0      2.0\n",
      "\n",
      "[81 rows x 4 columns] \n",
      " number of subjects with moaks grade = 1.0:  81\n"
     ]
    }
   ],
   "source": [
    "moaks_sq01_only_moaks_one = all_moaks_vs_kl_grades_sq01.loc[(all_moaks_vs_kl_grades_sq01['moaks_OA']==1.0)]\n",
    "print(moaks_sq01_only_moaks_one,'\\n','number of subjects with moaks grade = 1.0: ',moaks_sq01_only_moaks_one.moaks_OA.count())"
   ]
  },
  {
   "cell_type": "code",
   "execution_count": 49,
   "metadata": {},
   "outputs": [
    {
     "name": "stdout",
     "output_type": "stream",
     "text": [
      "         ID  SIDE  moaks_OA  V01XRKL\n",
      "3   9062483     2       0.0      2.0\n",
      "9   9101270     2       0.0      2.0\n",
      "14  9169022     1       0.0      2.0\n",
      "20  9232259     1       0.0      2.0\n",
      "22  9268233     1       0.0      2.0\n",
      "24  9272198     1       0.0      2.0\n",
      "42  9487864     1       0.0      2.0\n",
      "44  9504056     2       0.0      2.0\n",
      "50  9568180     2       0.0      2.0\n",
      "54  9599243     1       0.0      2.0\n",
      "55  9609732     1       0.0      2.0\n",
      "65  9716478     2       0.0      2.0\n",
      "80  9841815     2       0.0      2.0\n",
      "81  9860552     1       0.0      3.0\n",
      "83  9883539     2       0.0      2.0\n",
      "94  9961728     2       0.0      2.0 \n",
      " number of subjects with moaks grade = 0.0:  16\n"
     ]
    }
   ],
   "source": [
    "moaks_sq01_only_moaks_zero = all_moaks_vs_kl_grades_sq01.loc[(all_moaks_vs_kl_grades_sq01['moaks_OA']==0.0)]\n",
    "print(moaks_sq01_only_moaks_zero,'\\n','number of subjects with moaks grade = 0.0: ',moaks_sq01_only_moaks_zero.moaks_OA.count())"
   ]
  },
  {
   "cell_type": "code",
   "execution_count": 50,
   "metadata": {},
   "outputs": [],
   "source": [
    "# Here we save the dataframes containing the information we want\n",
    "all_moaks_vs_kl_grades_sq01.to_csv('moaks_sq01_moaks_vs_kl.csv')\n",
    "moaks_sq01_only_moaks_one.to_csv('moaks_sq01_only_moaks_one.csv')\n",
    "moaks_sq01_only_moaks_zero.to_csv('moaks_sq01_only_moaks_zero.csv')\n",
    "all_common_sq_kxr_01_sq01.to_csv('moaks_sq01_common_sq_kxr_01.csv')"
   ]
  },
  {
   "cell_type": "code",
   "execution_count": 51,
   "metadata": {},
   "outputs": [
    {
     "data": {
      "text/html": [
       "<div>\n",
       "<style scoped>\n",
       "    .dataframe tbody tr th:only-of-type {\n",
       "        vertical-align: middle;\n",
       "    }\n",
       "\n",
       "    .dataframe tbody tr th {\n",
       "        vertical-align: top;\n",
       "    }\n",
       "\n",
       "    .dataframe thead th {\n",
       "        text-align: right;\n",
       "    }\n",
       "</style>\n",
       "<table border=\"1\" class=\"dataframe\">\n",
       "  <thead>\n",
       "    <tr style=\"text-align: right;\">\n",
       "      <th>V01XRKL</th>\n",
       "      <th>2.0</th>\n",
       "      <th>3.0</th>\n",
       "      <th>4.0</th>\n",
       "      <th>Total</th>\n",
       "    </tr>\n",
       "    <tr>\n",
       "      <th>moaks_OA</th>\n",
       "      <th></th>\n",
       "      <th></th>\n",
       "      <th></th>\n",
       "      <th></th>\n",
       "    </tr>\n",
       "  </thead>\n",
       "  <tbody>\n",
       "    <tr>\n",
       "      <th>0.0</th>\n",
       "      <td>15</td>\n",
       "      <td>1</td>\n",
       "      <td>0</td>\n",
       "      <td>16</td>\n",
       "    </tr>\n",
       "    <tr>\n",
       "      <th>1.0</th>\n",
       "      <td>63</td>\n",
       "      <td>17</td>\n",
       "      <td>1</td>\n",
       "      <td>81</td>\n",
       "    </tr>\n",
       "    <tr>\n",
       "      <th>Total</th>\n",
       "      <td>78</td>\n",
       "      <td>18</td>\n",
       "      <td>1</td>\n",
       "      <td>97</td>\n",
       "    </tr>\n",
       "  </tbody>\n",
       "</table>\n",
       "</div>"
      ],
      "text/plain": [
       "V01XRKL   2.0  3.0  4.0  Total\n",
       "moaks_OA                      \n",
       "0.0        15    1    0     16\n",
       "1.0        63   17    1     81\n",
       "Total      78   18    1     97"
      ]
     },
     "execution_count": 51,
     "metadata": {},
     "output_type": "execute_result"
    }
   ],
   "source": [
    "moaks_OA_KL_crosstab = pd.crosstab(all_moaks_vs_kl_grades_sq01.moaks_OA,all_moaks_vs_kl_grades_sq01.V01XRKL,margins=True,margins_name='Total')\n",
    "moaks_OA_KL_crosstab.to_csv('moaks_sq01_OA_KL_crosstab.csv')\n",
    "moaks_OA_KL_crosstab\n"
   ]
  },
  {
   "cell_type": "code",
   "execution_count": 52,
   "metadata": {},
   "outputs": [
    {
     "name": "stdout",
     "output_type": "stream",
     "text": [
      "Number of subjects without definite osteophytes in SQ01 is : 0\n",
      "Number of subjects without TCL in SQ01 is : 9\n",
      "Number of subjects without BML in SQ01 is : 43\n",
      "Number of subjects without Meniscus Degradation in SQ01 is : 0\n"
     ]
    }
   ],
   "source": [
    "# NOW WE SAVE THE SUBJECTS WITH ZERO FEATURES IN ORDER TO INVESTIGATE THE INCIDENCE OA\n",
    "moaks_OA_osteo_zero = moaks_OA_features.loc[moaks_OA_features.XR_Osteophytes == 0.0]\n",
    "moaks_OA_osteo_zero.to_csv('moaks_sq01_Zero_Osteo.csv')\n",
    "print('Number of subjects without definite osteophytes in SQ01 is : {}'.format(moaks_OA_osteo_zero.shape[0]))\n",
    "\n",
    "moaks_OA_TCL_zero = moaks_OA_features.loc[(moaks_OA_features.FullTCL == 0.0) & (moaks_OA_features.PartialTCL == 0.0)]\n",
    "moaks_OA_TCL_zero.to_csv('moaks_sq01_Zero_TCL.csv')\n",
    "print('Number of subjects without TCL in SQ01 is : {}'.format(moaks_OA_TCL_zero.shape[0]))\n",
    "\n",
    "moaks_OA_bml_zero = moaks_OA_features.loc[moaks_OA_features.BML == 0.0]\n",
    "moaks_OA_bml_zero.to_csv('moaks_sq01_Zero_BML.csv')\n",
    "print('Number of subjects without BML in SQ01 is : {}'.format(moaks_OA_bml_zero.shape[0]))\n",
    "\n",
    "moaks_OA_meniscus_zero = moaks_OA_features.loc[moaks_OA_features.Meniscus_Degradation == 0.0]\n",
    "moaks_OA_meniscus_zero.to_csv('moaks_sq01_Zero_Meniscus.csv')\n",
    "print('Number of subjects without Meniscus Degradation in SQ01 is : {}'.format(moaks_OA_meniscus_zero.shape[0]))\n"
   ]
  },
  {
   "cell_type": "code",
   "execution_count": null,
   "metadata": {},
   "outputs": [],
   "source": []
  },
  {
   "cell_type": "code",
   "execution_count": null,
   "metadata": {},
   "outputs": [],
   "source": []
  }
 ],
 "metadata": {
  "interpreter": {
   "hash": "916dbcbb3f70747c44a77c7bcd40155683ae19c65e1c03b4aa3499c5328201f1"
  },
  "kernelspec": {
   "display_name": "Python 3.8.10 64-bit",
   "language": "python",
   "name": "python3"
  },
  "language_info": {
   "codemirror_mode": {
    "name": "ipython",
    "version": 3
   },
   "file_extension": ".py",
   "mimetype": "text/x-python",
   "name": "python",
   "nbconvert_exporter": "python",
   "pygments_lexer": "ipython3",
   "version": "3.9.7"
  },
  "orig_nbformat": 4
 },
 "nbformat": 4,
 "nbformat_minor": 2
}
