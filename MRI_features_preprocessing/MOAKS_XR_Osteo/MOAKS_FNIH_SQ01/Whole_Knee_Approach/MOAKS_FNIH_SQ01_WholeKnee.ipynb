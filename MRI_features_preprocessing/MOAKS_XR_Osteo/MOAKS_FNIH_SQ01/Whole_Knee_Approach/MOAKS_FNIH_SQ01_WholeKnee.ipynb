{
 "cells": [
  {
   "cell_type": "code",
   "execution_count": 1,
   "metadata": {},
   "outputs": [],
   "source": [
    "import pandas as pd\n",
    "import numpy as np\n",
    "from functools import reduce"
   ]
  },
  {
   "cell_type": "code",
   "execution_count": 2,
   "metadata": {},
   "outputs": [],
   "source": [
    "moaks_fnih_sq01 = pd.read_csv('/home/anastasis/EMC_Thesis/OAI Data/OAICompleteData_ASCII/kMRI_FNIH_SQ_MOAKS_BICL01.txt', sep=\"|\")"
   ]
  },
  {
   "cell_type": "code",
   "execution_count": 3,
   "metadata": {},
   "outputs": [
    {
     "name": "stdout",
     "output_type": "stream",
     "text": [
      "<class 'pandas.core.frame.DataFrame'>\n",
      "RangeIndex: 600 entries, 0 to 599\n",
      "Columns: 122 entries, ID to V01MTCMNTS\n",
      "dtypes: float64(16), int64(2), object(104)\n",
      "memory usage: 572.0+ KB\n",
      "None \n",
      " 0      1: Yes\n",
      "1      1: Yes\n",
      "2      1: Yes\n",
      "3       0: No\n",
      "4       0: No\n",
      "        ...  \n",
      "595    1: Yes\n",
      "596     0: No\n",
      "597    1: Yes\n",
      "598     0: No\n",
      "599     0: No\n",
      "Name: V01MPOPCYS, Length: 600, dtype: object\n"
     ]
    }
   ],
   "source": [
    "print(moaks_fnih_sq01.info(),'\\n',moaks_fnih_sq01.iloc[:,-3])"
   ]
  },
  {
   "cell_type": "markdown",
   "metadata": {},
   "source": [
    "# NOW WE DELETE ALL THE COMMENTS OF THE INITIAL DATAFRAME AND CONVERT THE VALUES TO NUMBERS"
   ]
  },
  {
   "cell_type": "code",
   "execution_count": 4,
   "metadata": {},
   "outputs": [
    {
     "name": "stdout",
     "output_type": "stream",
     "text": [
      "22    600\n",
      "Name: READPRJ, dtype: int64\n"
     ]
    }
   ],
   "source": [
    "# Firstly we replace all the comments\n",
    "moaks_without_commments = moaks_fnih_sq01.replace(r'(\\:).*$',r'\\1',regex=True)\n",
    "# Secondly we replace all the '.:' and the ':' bullets with space and remove 'R' from Reader Column\n",
    "moaks_without_commments_bullets = moaks_without_commments.replace({'\\.\\:':'',':':'','R':''},regex=True)\n",
    "# Thirdly we remove the Comments and Technical Considerations Columns from the whole Dataset\n",
    "moaks_without_commments_bullets = moaks_without_commments_bullets.drop(columns=['V01MCMNTS','V01MTCMNTS'])\n",
    "print(moaks_without_commments_bullets.READPRJ.value_counts())"
   ]
  },
  {
   "cell_type": "code",
   "execution_count": 5,
   "metadata": {},
   "outputs": [
    {
     "name": "stdout",
     "output_type": "stream",
     "text": [
      "<class 'pandas.core.frame.DataFrame'>\n",
      "RangeIndex: 600 entries, 0 to 599\n",
      "Columns: 120 entries, ID to V01MPOPCYS\n",
      "dtypes: float32(118), int64(2)\n",
      "memory usage: 286.1 KB\n",
      "None\n",
      "Number of NaN values are :  2994\n"
     ]
    }
   ],
   "source": [
    "# THEN WE CONVERT ALL THE DF VALUES TO FLOAT AND THE ID AND SIDE TO INT\n",
    "moaks_without_c_b_numeric =  moaks_without_commments_bullets.apply(pd.to_numeric,downcast='float')\n",
    "moaks_without_c_b_numeric[['ID','SIDE']] = moaks_without_c_b_numeric[['ID','SIDE']].astype('int')\n",
    "print(moaks_without_c_b_numeric.info())\n",
    "print('Number of NaN values are : ',moaks_without_c_b_numeric.isna().sum().sum())"
   ]
  },
  {
   "cell_type": "code",
   "execution_count": 6,
   "metadata": {},
   "outputs": [
    {
     "name": "stdout",
     "output_type": "stream",
     "text": [
      "Number of NaN values in the initial dataframe: [0, 0, 0, 0, 0, 18, 18, 18, 18, 18, 18, 18, 18, 18, 18, 18, 18, 18, 18, 18, 18, 18, 18, 18, 18, 18, 18, 18, 18, 18, 18, 18, 18, 18, 18, 18, 18, 19, 18, 18, 18, 18, 18, 18, 18, 18, 18, 18, 18, 18, 18, 18, 18, 18, 18, 18, 18, 18, 18, 18, 18, 18, 18, 18, 18, 18, 18, 18, 18, 18, 18, 18, 18, 18, 18, 18, 18, 18, 18, 18, 18, 18, 20, 18, 18, 18, 18, 19, 18, 18, 18, 18, 18, 18, 18, 18, 18, 18, 18, 18, 18, 18, 18, 130, 130, 130, 20, 18, 18, 18, 18, 18, 18, 18, 18, 18, 18, 18, 600, 18]\n"
     ]
    }
   ],
   "source": [
    "print('Number of NaN values in the initial dataframe: {}'.format(moaks_without_c_b_numeric.loc[:,:].isna().sum().to_list()))"
   ]
  },
  {
   "cell_type": "code",
   "execution_count": 7,
   "metadata": {},
   "outputs": [
    {
     "name": "stdout",
     "output_type": "stream",
     "text": [
      "<class 'pandas.core.frame.DataFrame'>\n",
      "RangeIndex: 600 entries, 0 to 599\n",
      "Columns: 120 entries, ID to V01MPOPCYS\n",
      "dtypes: float32(118), int64(2)\n",
      "memory usage: 286.1 KB\n",
      "Number of NaN values in the Dataframe: 0\n"
     ]
    }
   ],
   "source": [
    "moaks_without_c_b_nan_numeric = moaks_without_c_b_numeric.fillna(-1.0)\n",
    "moaks_without_c_b_nan_numeric.info()\n",
    "print('Number of NaN values in the Dataframe: {}'.format(moaks_without_c_b_nan_numeric.isna().sum().sum()))"
   ]
  },
  {
   "cell_type": "code",
   "execution_count": 8,
   "metadata": {},
   "outputs": [
    {
     "name": "stdout",
     "output_type": "stream",
     "text": [
      "<class 'pandas.core.frame.DataFrame'>\n",
      "RangeIndex: 600 entries, 0 to 599\n",
      "Columns: 120 entries, ID to V01MPOPCYS\n",
      "dtypes: float32(118), int64(2)\n",
      "memory usage: 286.1 KB\n",
      "None\n"
     ]
    }
   ],
   "source": [
    "# So the clean version of the moaks_fnih_sq01 is the below: \n",
    "moaks_grades = moaks_without_c_b_nan_numeric\n",
    "print(moaks_grades.info())\n",
    "moaks_grades.to_csv('moaks_fnih_sq01_initial_numeric_df.csv')"
   ]
  },
  {
   "cell_type": "markdown",
   "metadata": {},
   "source": [
    "# NOW WE LOAD THE RADIOGRAPH INFORMATION DATABASE IN ORDER TO ACQUIRE THE XR OSTEOPHYTES"
   ]
  },
  {
   "cell_type": "code",
   "execution_count": 9,
   "metadata": {},
   "outputs": [],
   "source": [
    "kxr_sq_bu01= pd.read_csv('/home/anastasis/EMC_Thesis/OAI Data/OAICompleteData_ASCII/kxr_sq_bu01.txt', sep=\"|\")\n",
    "KL_prj15 = kxr_sq_bu01[kxr_sq_bu01['readprj'] == 15].copy()\n",
    "KL_prj15_osteophytes = KL_prj15.loc[:,['ID','SIDE','V01XROSFL','V01XROSFM','V01XROSTL','V01XROSTM','V01XRKL']]\n"
   ]
  },
  {
   "cell_type": "code",
   "execution_count": 10,
   "metadata": {},
   "outputs": [
    {
     "data": {
      "text/plain": [
       "ID           0\n",
       "SIDE         0\n",
       "VERSION      0\n",
       "READPRJ      0\n",
       "V01READER    0\n",
       "            ..\n",
       "V01XROSFL    0\n",
       "V01XROSFM    0\n",
       "V01XROSTL    0\n",
       "V01XROSTM    0\n",
       "V01XRKL      0\n",
       "Length: 125, dtype: int64"
      ]
     },
     "execution_count": 10,
     "metadata": {},
     "output_type": "execute_result"
    }
   ],
   "source": [
    "#now we create the df that contains both MOAKS grades and XR Osteophytes\n",
    "common_fnih_kxr_01 = pd.merge(moaks_grades,KL_prj15_osteophytes,on=['ID','SIDE'],how='inner')\n",
    "common_fnih_kxr_01.fillna(0.0,inplace=True)\n",
    "common_fnih_kxr_01.isna().sum()"
   ]
  },
  {
   "cell_type": "code",
   "execution_count": 55,
   "metadata": {},
   "outputs": [
    {
     "data": {
      "text/plain": [
       "2.0    296\n",
       "3.0    224\n",
       "1.0     59\n",
       "4.0      5\n",
       "Name: V01XRKL, dtype: int64"
      ]
     },
     "execution_count": 55,
     "metadata": {},
     "output_type": "execute_result"
    }
   ],
   "source": [
    "common_fnih_kxr_01[common_fnih_kxr_01.V01XRKL==0]\n",
    "common_fnih_kxr_01.V01XRKL.value_counts()"
   ]
  },
  {
   "cell_type": "markdown",
   "metadata": {},
   "source": [
    "# NOW WE FIND THE SUBJECTS THAT FULFILL THE OA FEATURES FOR THE WHOLE KNEE JOINT"
   ]
  },
  {
   "cell_type": "code",
   "execution_count": 11,
   "metadata": {},
   "outputs": [
    {
     "name": "stdout",
     "output_type": "stream",
     "text": [
      "Type of ID and SIDE columns <class 'numpy.int64'> and type of the rest of the columns <class 'numpy.float64'>\n"
     ]
    }
   ],
   "source": [
    "# FRIST WE CONSTRUCT A NEW DATAFRAME WITH ALL THE OA FEATURES AS COLUMNS\n",
    "# The 'AnyTCL' column is an assistive variable that indicates as 1.0\n",
    "# the subjects with at least on variable of thickness cartilage loss >=1.0\n",
    "# and as 0.0 the subjects that DO NOT have any thickness cartilage loss\n",
    "\n",
    "moaks_OA_features = pd.DataFrame(\n",
    "    columns=['ID','SIDE','XR_Osteophytes','FullTCL','AnyTCL',\n",
    "             'PartialTCL','BML', 'Meniscus_Degradation'])\n",
    "# the ID and SIDE columns are integers\n",
    "moaks_OA_features[['ID','SIDE']] = common_fnih_kxr_01[['ID','SIDE']]\n",
    "# and we fill the rest of the df with np.nan values\n",
    "moaks_OA_features.iloc[:,2:] = np.nan\n",
    "\n",
    "print('Type of ID and SIDE columns {} and type of the rest of the columns {}'\n",
    "    .format(type(moaks_OA_features.iloc[0,0]),type(moaks_OA_features.iloc[0,2])))\n"
   ]
  },
  {
   "cell_type": "code",
   "execution_count": 12,
   "metadata": {},
   "outputs": [
    {
     "data": {
      "text/html": [
       "<div>\n",
       "<style scoped>\n",
       "    .dataframe tbody tr th:only-of-type {\n",
       "        vertical-align: middle;\n",
       "    }\n",
       "\n",
       "    .dataframe tbody tr th {\n",
       "        vertical-align: top;\n",
       "    }\n",
       "\n",
       "    .dataframe thead th {\n",
       "        text-align: right;\n",
       "    }\n",
       "</style>\n",
       "<table border=\"1\" class=\"dataframe\">\n",
       "  <thead>\n",
       "    <tr style=\"text-align: right;\">\n",
       "      <th></th>\n",
       "      <th>ID</th>\n",
       "      <th>SIDE</th>\n",
       "      <th>XR_Osteophytes</th>\n",
       "      <th>FullTCL</th>\n",
       "      <th>AnyTCL</th>\n",
       "      <th>PartialTCL</th>\n",
       "      <th>BML</th>\n",
       "      <th>Meniscus_Degradation</th>\n",
       "    </tr>\n",
       "  </thead>\n",
       "  <tbody>\n",
       "    <tr>\n",
       "      <th>0</th>\n",
       "      <td>9001695</td>\n",
       "      <td>1</td>\n",
       "      <td>NaN</td>\n",
       "      <td>NaN</td>\n",
       "      <td>NaN</td>\n",
       "      <td>NaN</td>\n",
       "      <td>NaN</td>\n",
       "      <td>NaN</td>\n",
       "    </tr>\n",
       "    <tr>\n",
       "      <th>1</th>\n",
       "      <td>9002116</td>\n",
       "      <td>2</td>\n",
       "      <td>NaN</td>\n",
       "      <td>NaN</td>\n",
       "      <td>NaN</td>\n",
       "      <td>NaN</td>\n",
       "      <td>NaN</td>\n",
       "      <td>NaN</td>\n",
       "    </tr>\n",
       "    <tr>\n",
       "      <th>2</th>\n",
       "      <td>9002430</td>\n",
       "      <td>1</td>\n",
       "      <td>NaN</td>\n",
       "      <td>NaN</td>\n",
       "      <td>NaN</td>\n",
       "      <td>NaN</td>\n",
       "      <td>NaN</td>\n",
       "      <td>NaN</td>\n",
       "    </tr>\n",
       "    <tr>\n",
       "      <th>3</th>\n",
       "      <td>9002817</td>\n",
       "      <td>1</td>\n",
       "      <td>NaN</td>\n",
       "      <td>NaN</td>\n",
       "      <td>NaN</td>\n",
       "      <td>NaN</td>\n",
       "      <td>NaN</td>\n",
       "      <td>NaN</td>\n",
       "    </tr>\n",
       "    <tr>\n",
       "      <th>4</th>\n",
       "      <td>9003316</td>\n",
       "      <td>1</td>\n",
       "      <td>NaN</td>\n",
       "      <td>NaN</td>\n",
       "      <td>NaN</td>\n",
       "      <td>NaN</td>\n",
       "      <td>NaN</td>\n",
       "      <td>NaN</td>\n",
       "    </tr>\n",
       "    <tr>\n",
       "      <th>...</th>\n",
       "      <td>...</td>\n",
       "      <td>...</td>\n",
       "      <td>...</td>\n",
       "      <td>...</td>\n",
       "      <td>...</td>\n",
       "      <td>...</td>\n",
       "      <td>...</td>\n",
       "      <td>...</td>\n",
       "    </tr>\n",
       "    <tr>\n",
       "      <th>579</th>\n",
       "      <td>9993833</td>\n",
       "      <td>2</td>\n",
       "      <td>NaN</td>\n",
       "      <td>NaN</td>\n",
       "      <td>NaN</td>\n",
       "      <td>NaN</td>\n",
       "      <td>NaN</td>\n",
       "      <td>NaN</td>\n",
       "    </tr>\n",
       "    <tr>\n",
       "      <th>580</th>\n",
       "      <td>9994408</td>\n",
       "      <td>1</td>\n",
       "      <td>NaN</td>\n",
       "      <td>NaN</td>\n",
       "      <td>NaN</td>\n",
       "      <td>NaN</td>\n",
       "      <td>NaN</td>\n",
       "      <td>NaN</td>\n",
       "    </tr>\n",
       "    <tr>\n",
       "      <th>581</th>\n",
       "      <td>9995338</td>\n",
       "      <td>2</td>\n",
       "      <td>NaN</td>\n",
       "      <td>NaN</td>\n",
       "      <td>NaN</td>\n",
       "      <td>NaN</td>\n",
       "      <td>NaN</td>\n",
       "      <td>NaN</td>\n",
       "    </tr>\n",
       "    <tr>\n",
       "      <th>582</th>\n",
       "      <td>9996098</td>\n",
       "      <td>1</td>\n",
       "      <td>NaN</td>\n",
       "      <td>NaN</td>\n",
       "      <td>NaN</td>\n",
       "      <td>NaN</td>\n",
       "      <td>NaN</td>\n",
       "      <td>NaN</td>\n",
       "    </tr>\n",
       "    <tr>\n",
       "      <th>583</th>\n",
       "      <td>9997381</td>\n",
       "      <td>1</td>\n",
       "      <td>NaN</td>\n",
       "      <td>NaN</td>\n",
       "      <td>NaN</td>\n",
       "      <td>NaN</td>\n",
       "      <td>NaN</td>\n",
       "      <td>NaN</td>\n",
       "    </tr>\n",
       "  </tbody>\n",
       "</table>\n",
       "<p>584 rows × 8 columns</p>\n",
       "</div>"
      ],
      "text/plain": [
       "          ID  SIDE  XR_Osteophytes  FullTCL  AnyTCL  PartialTCL  BML  \\\n",
       "0    9001695     1             NaN      NaN     NaN         NaN  NaN   \n",
       "1    9002116     2             NaN      NaN     NaN         NaN  NaN   \n",
       "2    9002430     1             NaN      NaN     NaN         NaN  NaN   \n",
       "3    9002817     1             NaN      NaN     NaN         NaN  NaN   \n",
       "4    9003316     1             NaN      NaN     NaN         NaN  NaN   \n",
       "..       ...   ...             ...      ...     ...         ...  ...   \n",
       "579  9993833     2             NaN      NaN     NaN         NaN  NaN   \n",
       "580  9994408     1             NaN      NaN     NaN         NaN  NaN   \n",
       "581  9995338     2             NaN      NaN     NaN         NaN  NaN   \n",
       "582  9996098     1             NaN      NaN     NaN         NaN  NaN   \n",
       "583  9997381     1             NaN      NaN     NaN         NaN  NaN   \n",
       "\n",
       "     Meniscus_Degradation  \n",
       "0                     NaN  \n",
       "1                     NaN  \n",
       "2                     NaN  \n",
       "3                     NaN  \n",
       "4                     NaN  \n",
       "..                    ...  \n",
       "579                   NaN  \n",
       "580                   NaN  \n",
       "581                   NaN  \n",
       "582                   NaN  \n",
       "583                   NaN  \n",
       "\n",
       "[584 rows x 8 columns]"
      ]
     },
     "execution_count": 12,
     "metadata": {},
     "output_type": "execute_result"
    }
   ],
   "source": [
    "moaks_OA_features"
   ]
  },
  {
   "cell_type": "code",
   "execution_count": 13,
   "metadata": {},
   "outputs": [],
   "source": [
    "# Then we fill the FullTCL column with all the subjects with \n",
    "# at least one cartilage thickness loss variable larger than 3.0\n",
    "# and the FullTCL cell value is 1.0\n",
    "moaks_OA_features.loc[((common_fnih_kxr_01['V01MCMFLA'] >= 3.0) | (common_fnih_kxr_01['V01MCMFLP'] >= 3.0) |\n",
    "                (common_fnih_kxr_01['V01MCMFLC'] >= 3.0) | (common_fnih_kxr_01['V01MCMTLA'] >= 3.0) |\n",
    "                (common_fnih_kxr_01['V01MCMTLP'] >= 3.0) | (common_fnih_kxr_01['V01MCMTLC'] >= 3.0) |\n",
    "                (common_fnih_kxr_01['V01MCMFMA'] >= 3.0) | (common_fnih_kxr_01['V01MCMFMP'] >= 3.0) |\n",
    "                (common_fnih_kxr_01['V01MCMFMC'] >= 3.0) | (common_fnih_kxr_01['V01MCMTMA'] >= 3.0) |\n",
    "                (common_fnih_kxr_01['V01MCMTMP'] >= 3.0) | (common_fnih_kxr_01['V01MCMTMC'] >= 3.0)),'FullTCL']=1.0"
   ]
  },
  {
   "cell_type": "code",
   "execution_count": 14,
   "metadata": {},
   "outputs": [
    {
     "name": "stdout",
     "output_type": "stream",
     "text": [
      "Number of subjects WITH Full CTL : 66\n"
     ]
    }
   ],
   "source": [
    "print('Number of subjects WITH Full CTL : {}'.format((moaks_OA_features['FullTCL']==1.0).sum()))\n"
   ]
  },
  {
   "cell_type": "code",
   "execution_count": 15,
   "metadata": {},
   "outputs": [
    {
     "name": "stdout",
     "output_type": "stream",
     "text": [
      "0.0    508\n",
      "1.0     66\n",
      "Name: FullTCL, dtype: int64\n"
     ]
    }
   ],
   "source": [
    "# Then we fill the rest of the values of Full_CTL column with 0.0 values instead of NaN\n",
    "moaks_OA_features.loc[((common_fnih_kxr_01['V01MCMFLA'] < 3.0) &  (common_fnih_kxr_01['V01MCMFLA'] >= 0.0) &\n",
    "                (common_fnih_kxr_01['V01MCMFLP'] < 3.0) & (common_fnih_kxr_01['V01MCMFLP'] >= 0.0) &\n",
    "                (common_fnih_kxr_01['V01MCMFLC'] < 3.0) & (common_fnih_kxr_01['V01MCMFLC'] >= 0.0) & \n",
    "                (common_fnih_kxr_01['V01MCMTLA'] < 3.0) & (common_fnih_kxr_01['V01MCMTLA'] >= 0.0) &\n",
    "                (common_fnih_kxr_01['V01MCMTLP'] < 3.0) & (common_fnih_kxr_01['V01MCMTLP'] >= 0.0) & \n",
    "                (common_fnih_kxr_01['V01MCMTLC'] < 3.0) & (common_fnih_kxr_01['V01MCMTLC'] >= 0.0) &\n",
    "                (common_fnih_kxr_01['V01MCMFMA'] < 3.0) & (common_fnih_kxr_01['V01MCMFMA'] >= 0.0) & \n",
    "                (common_fnih_kxr_01['V01MCMFMP'] < 3.0) & (common_fnih_kxr_01['V01MCMFMP'] >= 0.0) &\n",
    "                (common_fnih_kxr_01['V01MCMFMC'] < 3.0) & (common_fnih_kxr_01['V01MCMFMC'] >= 0.0) & \n",
    "                (common_fnih_kxr_01['V01MCMTMA'] < 3.0) & (common_fnih_kxr_01['V01MCMTMA'] >= 0.0) &\n",
    "                (common_fnih_kxr_01['V01MCMTMP'] < 3.0) & (common_fnih_kxr_01['V01MCMTMP'] >= 0.0) & \n",
    "                (common_fnih_kxr_01['V01MCMTMC'] < 3.0) & (common_fnih_kxr_01['V01MCMTMC'] >= 0.0)),'FullTCL']=0.0\n",
    "print(moaks_OA_features['FullTCL'].value_counts())\n"
   ]
  },
  {
   "cell_type": "code",
   "execution_count": 16,
   "metadata": {},
   "outputs": [],
   "source": [
    "# now the column AnyTCL is filled based on the initial Thickness Cartilage Loss variables\n",
    "# if at least one variable value is larger than 1.0 then it has either Full or Partial Thickness Cartilage Loss\n",
    "# and the AnyTCL cell value is 1.0\n",
    "\n",
    "moaks_OA_features.loc[((common_fnih_kxr_01['V01MCMFLA'] >= 1.0) | (common_fnih_kxr_01['V01MCMFLP'] >= 1.0) |\n",
    "                (common_fnih_kxr_01['V01MCMFLC'] >= 1.0) | (common_fnih_kxr_01['V01MCMTLA'] >= 1.0) |\n",
    "                (common_fnih_kxr_01['V01MCMTLP'] >= 1.0) | (common_fnih_kxr_01['V01MCMTLC'] >= 1.0) |\n",
    "                (common_fnih_kxr_01['V01MCMFMA'] >= 1.0) | (common_fnih_kxr_01['V01MCMFMP'] >= 1.0) |\n",
    "                (common_fnih_kxr_01['V01MCMFMC'] >= 1.0) | (common_fnih_kxr_01['V01MCMTMA'] >= 1.0) |\n",
    "                (common_fnih_kxr_01['V01MCMTMP'] >= 1.0) | (common_fnih_kxr_01['V01MCMTMC'] >= 1.0)),'AnyTCL']=1.0\n",
    "\n"
   ]
  },
  {
   "cell_type": "code",
   "execution_count": 17,
   "metadata": {},
   "outputs": [
    {
     "name": "stdout",
     "output_type": "stream",
     "text": [
      "Number of Subjects WITHOUT Any Cartilage Thickness Loss: 32\n"
     ]
    }
   ],
   "source": [
    "# if all Thickness Cartilage Loss variables are less than 1.0 then the subject has no Thickness Cartilage Loss\n",
    "# and the AnyTCL cell value is 0.0\n",
    "moaks_OA_features.loc[((common_fnih_kxr_01['V01MCMFLA'] < 1.0) & (common_fnih_kxr_01['V01MCMFLA'] >= 0.0) & \n",
    "                (common_fnih_kxr_01['V01MCMFLP'] < 1.0) & (common_fnih_kxr_01['V01MCMFLP'] >= 0.0) &\n",
    "                (common_fnih_kxr_01['V01MCMFLC'] < 1.0) & (common_fnih_kxr_01['V01MCMFLC'] >= 0.0) & \n",
    "                (common_fnih_kxr_01['V01MCMTLA'] < 1.0) & (common_fnih_kxr_01['V01MCMTLA'] >= 0.0) &\n",
    "                (common_fnih_kxr_01['V01MCMTLP'] < 1.0) & (common_fnih_kxr_01['V01MCMTLP'] >= 0.0) & \n",
    "                (common_fnih_kxr_01['V01MCMTLC'] < 1.0) & (common_fnih_kxr_01['V01MCMTLC'] >= 0.0) &\n",
    "                (common_fnih_kxr_01['V01MCMFMA'] < 1.0) & (common_fnih_kxr_01['V01MCMFMA'] >= 0.0) & \n",
    "                (common_fnih_kxr_01['V01MCMFMP'] < 1.0) & (common_fnih_kxr_01['V01MCMFMP'] >= 0.0) &\n",
    "                (common_fnih_kxr_01['V01MCMFMC'] < 1.0) & (common_fnih_kxr_01['V01MCMFMC'] >= 0.0) & \n",
    "                (common_fnih_kxr_01['V01MCMTMA'] < 1.0) & (common_fnih_kxr_01['V01MCMTMA'] >= 0.0) &\n",
    "                (common_fnih_kxr_01['V01MCMTMP'] < 1.0) & (common_fnih_kxr_01['V01MCMTMP'] >= 0.0) & \n",
    "                (common_fnih_kxr_01['V01MCMTMC'] < 1.0) & (common_fnih_kxr_01['V01MCMTMC'] >= 0.0)),'AnyTCL']=0.0\n",
    "print('Number of Subjects WITHOUT Any Cartilage Thickness Loss: {}'.\n",
    "        format((moaks_OA_features['AnyTCL']==0.0).sum()))\n"
   ]
  },
  {
   "cell_type": "code",
   "execution_count": 18,
   "metadata": {},
   "outputs": [
    {
     "name": "stdout",
     "output_type": "stream",
     "text": [
      "1.0    547\n",
      "0.0     32\n",
      "Name: AnyTCL, dtype: int64\n"
     ]
    }
   ],
   "source": [
    "# print(moaks_OA_features[moaks_OA_features['AnyTCL']==0].count())\n",
    "print(moaks_OA_features.AnyTCL.value_counts())"
   ]
  },
  {
   "cell_type": "code",
   "execution_count": 19,
   "metadata": {},
   "outputs": [
    {
     "name": "stdout",
     "output_type": "stream",
     "text": [
      "Number of Subjects with Partial Thickness Cartilage Loss: 481\n"
     ]
    }
   ],
   "source": [
    "# Now we fill the PartialTCL column initially with the values of the AnyTCL column\n",
    "# Where the FullTCL column is 1.0 then the PartialTCL is 0.0\n",
    "# So if the PartialTCL is 1.0 then the Thickness Cartilage Loss variables are between 1.0 and 3.0\n",
    "\n",
    "moaks_OA_features['PartialTCL'] = moaks_OA_features['AnyTCL']\n",
    "moaks_OA_features.loc[(moaks_OA_features['FullTCL']==1),'PartialTCL']=0.0\n",
    "print('Number of Subjects with Partial Thickness Cartilage Loss: {}'.\n",
    "        format((moaks_OA_features['PartialTCL']==1.0).sum()))"
   ]
  },
  {
   "cell_type": "code",
   "execution_count": 20,
   "metadata": {},
   "outputs": [],
   "source": [
    "# # NOW WE FILL THE DEFINITE OSTEOPHYTES COLUMN\n",
    "\n",
    "# moaks_OA_features.loc[((moaks_grades['V01MOSFLA'] >= 2.0) | (moaks_grades['V01MOSFLP'] >= 2.0) |\n",
    "#                 (moaks_grades['V01MOSFLC'] >= 2.0) | (moaks_grades['V01MOSTL'] >= 2.0) |\n",
    "#                 (moaks_grades['V01MOSFMA'] >= 2.0) | (moaks_grades['V01MOSFMP'] >= 2.0) |\n",
    "#                 (moaks_grades['V01MOSFMC'] >= 2.0) | (moaks_grades['V01MOSTM'] >= 2.0)),'Definite_Osteophytes'] = 1.0\n",
    "\n",
    "# moaks_OA_features.loc[((moaks_grades['V01MOSFLA'] < 2.0) & (moaks_grades['V01MOSFLA'] >= 0.0) & \n",
    "#                 (moaks_grades['V01MOSFLP'] < 2.0) & (moaks_grades['V01MOSFLP'] >= 0.0) &\n",
    "#                 (moaks_grades['V01MOSFLC'] < 2.0) & (moaks_grades['V01MOSFLC'] >= 0.0) & \n",
    "#                 (moaks_grades['V01MOSTL'] < 2.0) & (moaks_grades['V01MOSTL'] >= 0.0) &\n",
    "#                 (moaks_grades['V01MOSFMA'] < 2.0) & (moaks_grades['V01MOSFMA'] >= 0.0) & \n",
    "#                 (moaks_grades['V01MOSFMP'] < 2.0) & (moaks_grades['V01MOSFMP'] >= 0.0) &\n",
    "#                 (moaks_grades['V01MOSFMC'] < 2.0) & (moaks_grades['V01MOSFMC'] >= 0.0) & \n",
    "#                 (moaks_grades['V01MOSTM'] < 2.0) & (moaks_grades['V01MOSTM'] >= 0.0)),'Definite_Osteophytes'] = 0.0\n",
    "\n",
    "# print('With Definite Osteophytes->1.0, Without->0.0 \\n{}'.format(moaks_OA_features.Definite_Osteophytes.value_counts(dropna=False)))\n",
    "\n",
    "\n",
    "# # print('Number of Subjects WITH Definite Osteophytes: {}'.\n",
    "# #         format((moaks_OA_features['Definite_Osteophytes']==1.0).sum()))\n",
    "\n",
    "# # print('Number of Subjects WITHOUT Definite Osteophytes: {}'.\n",
    "# #         format((moaks_OA_features['Definite_Osteophytes']==0.0).sum()))\n"
   ]
  },
  {
   "cell_type": "code",
   "execution_count": 21,
   "metadata": {},
   "outputs": [
    {
     "name": "stdout",
     "output_type": "stream",
     "text": [
      "With Xray Osteophytes->1.0, Without->0.0 \n",
      "1.0    538\n",
      "0.0     46\n",
      "Name: XR_Osteophytes, dtype: int64\n"
     ]
    }
   ],
   "source": [
    "## NOW WE FILL THE XRAY OSTEOPHYTES COLUMN\n",
    "moaks_OA_features.loc[((common_fnih_kxr_01['V01XROSFL'] >= 1.0) | (common_fnih_kxr_01['V01XROSFM'] >= 1.0) | \n",
    "                (common_fnih_kxr_01['V01XROSTL'] >= 1.0) | (common_fnih_kxr_01['V01XROSTM'] >= 1.0)),'XR_Osteophytes'] = 1.0\n",
    "\n",
    "moaks_OA_features.loc[((common_fnih_kxr_01['V01XROSFL'] < 1.0) & (common_fnih_kxr_01['V01XROSFL'] >= 0.0) &\n",
    "                (common_fnih_kxr_01['V01XROSFM'] < 1.0) & (common_fnih_kxr_01['V01XROSFM'] >= 0.0) & \n",
    "                (common_fnih_kxr_01['V01XROSTL'] < 1.0) & (common_fnih_kxr_01['V01XROSTL'] >= 0.0) &\n",
    "                (common_fnih_kxr_01['V01XROSTM'] < 1.0) & (common_fnih_kxr_01['V01XROSTM'] >= 0.0)),'XR_Osteophytes'] = 0.0\n",
    "\n",
    "print('With Xray Osteophytes->1.0, Without->0.0 \\n{}'.format(moaks_OA_features.XR_Osteophytes.value_counts(dropna=False)))"
   ]
  },
  {
   "cell_type": "code",
   "execution_count": 22,
   "metadata": {},
   "outputs": [],
   "source": [
    "# print(moaks_OA_features.loc[moaks_OA_features.XR_Osteophytes.isna()].index)\n",
    "# print(common_fnih_kxr_01.iloc[moaks_OA_features.loc[moaks_OA_features.XR_Osteophytes.isna()].index,-5:])"
   ]
  },
  {
   "cell_type": "code",
   "execution_count": 23,
   "metadata": {},
   "outputs": [
    {
     "name": "stdout",
     "output_type": "stream",
     "text": [
      "With BML->1.0, Without->0.0 \n",
      "1.0    278\n",
      "0.0    264\n",
      "NaN     42\n",
      "Name: BML, dtype: int64\n"
     ]
    }
   ],
   "source": [
    "# NOW WE FILL THE BML COLUMN\n",
    "\n",
    "moaks_OA_features.loc[((common_fnih_kxr_01['V01MBMSFLC'] >= 1.0) | (common_fnih_kxr_01['V01MBMSFLP'] >= 1.0) |\n",
    "                (common_fnih_kxr_01['V01MBMSTLA'] >= 1.0) | (common_fnih_kxr_01['V01MBMSTLC'] >= 1.0) |\n",
    "                (common_fnih_kxr_01['V01MBMSTLP'] >= 1.0) | (common_fnih_kxr_01['V01MBMSFMC'] >= 1.0) | \n",
    "                (common_fnih_kxr_01['V01MBMSFMP'] >= 1.0) | (common_fnih_kxr_01['V01MBMSTMA'] >= 1.0) | \n",
    "                (common_fnih_kxr_01['V01MBMSTMC'] >= 1.0) | (common_fnih_kxr_01['V01MBMSTMP'] >= 1.0)),'BML'] = 1.0\n",
    "\n",
    "moaks_OA_features.loc[((common_fnih_kxr_01['V01MBMSFLC'] < 1.0) & (common_fnih_kxr_01['V01MBMSFLC'] >= 0.0) &\n",
    "                (common_fnih_kxr_01['V01MBMSFLP'] < 1.0) & (common_fnih_kxr_01['V01MBMSFLP'] >= 0.0) &\n",
    "                (common_fnih_kxr_01['V01MBMSTLA'] < 1.0) & (common_fnih_kxr_01['V01MBMSTLA'] >= 0.0) &\n",
    "                (common_fnih_kxr_01['V01MBMSTLC'] < 1.0) & (common_fnih_kxr_01['V01MBMSTLC'] >= 0.0) &\n",
    "                (common_fnih_kxr_01['V01MBMSTLP'] < 1.0) & (common_fnih_kxr_01['V01MBMSTLP'] >= 0.0) & \n",
    "                (common_fnih_kxr_01['V01MBMSFMC'] < 1.0) & (common_fnih_kxr_01['V01MBMSFMC'] >= 0.0) & \n",
    "                (common_fnih_kxr_01['V01MBMSFMP'] < 1.0) & (common_fnih_kxr_01['V01MBMSFMP'] >= 0.0) & \n",
    "                (common_fnih_kxr_01['V01MBMSTMA'] < 1.0) & (common_fnih_kxr_01['V01MBMSTMA'] >= 0.0) & \n",
    "                (common_fnih_kxr_01['V01MBMSTMC'] < 1.0) & (common_fnih_kxr_01['V01MBMSTMC'] >= 0.0) & \n",
    "                (common_fnih_kxr_01['V01MBMSTMP'] < 1.0) & (common_fnih_kxr_01['V01MBMSTMP'] >= 0.0)),'BML'] = 0.0\n",
    "\n",
    "print('With BML->1.0, Without->0.0 \\n{}'.format(moaks_OA_features.BML.value_counts(dropna=False)))\n",
    "\n",
    "\n",
    "# print('Number of Subjects WITH Bone Marrow Lesions: {}'.\n",
    "#         format((moaks_OA_features['BML']==1.0).sum()))\n",
    "\n",
    "# print('Number of Subjects WITHOUT Bone Marrow Lesions: {}'.\n",
    "#         format((moaks_OA_features['BML']==0.0).sum()))"
   ]
  },
  {
   "cell_type": "code",
   "execution_count": 24,
   "metadata": {},
   "outputs": [
    {
     "name": "stdout",
     "output_type": "stream",
     "text": [
      "With Meniscal Degradation->1.0, Without->0.0 \n",
      "1.0    481\n",
      "0.0     98\n",
      "NaN      5\n",
      "Name: Meniscus_Degradation, dtype: int64\n"
     ]
    }
   ],
   "source": [
    "# AND NOW WE FILL THE MENISCUS DEGRADATION COLUMN\n",
    "\n",
    "moaks_OA_features.loc[((common_fnih_kxr_01['V01MMTLA'] >= 2.0) | (common_fnih_kxr_01['V01MMTLB'] >= 2.0) |\n",
    "                (common_fnih_kxr_01['V01MMTLP'] >= 2.0) | (common_fnih_kxr_01['V01MMRTL'] >= 2.0) |\n",
    "                (common_fnih_kxr_01['V01MMTMA'] >= 2.0) | (common_fnih_kxr_01['V01MMTMB'] >= 2.0) |\n",
    "                (common_fnih_kxr_01['V01MMTMP'] >= 2.0) | (common_fnih_kxr_01['V01MMRTM'] >= 2.0) |\n",
    "                (common_fnih_kxr_01['V01MMXLL'] >= 1.0) | (common_fnih_kxr_01['V01MMXLA'] >= 1.0) |\n",
    "                (common_fnih_kxr_01['V01MMXMM'] >= 1.0) | (common_fnih_kxr_01['V01MMXMA'] >= 1.0)),'Meniscus_Degradation'] = 1.0\n",
    "\n",
    "moaks_OA_features.loc[((common_fnih_kxr_01['V01MMTLA'] < 2.0) & (common_fnih_kxr_01['V01MMTLA'] >= 0.0) & \n",
    "                (common_fnih_kxr_01['V01MMTLB'] < 2.0) & (common_fnih_kxr_01['V01MMTLB'] >= 0.0) &\n",
    "                (common_fnih_kxr_01['V01MMTLP'] < 2.0) & (common_fnih_kxr_01['V01MMTLP'] >= 0.0) & \n",
    "                (common_fnih_kxr_01['V01MMRTL'] < 2.0) & (common_fnih_kxr_01['V01MMRTL'] >= 0.0) &\n",
    "                (common_fnih_kxr_01['V01MMTMA'] < 2.0) & (common_fnih_kxr_01['V01MMTMA'] >= 0.0) & \n",
    "                (common_fnih_kxr_01['V01MMTMB'] < 2.0) & (common_fnih_kxr_01['V01MMTMB'] >= 0.0) &\n",
    "                (common_fnih_kxr_01['V01MMTMP'] < 2.0) & (common_fnih_kxr_01['V01MMTMP'] >= 0.0) & \n",
    "                (common_fnih_kxr_01['V01MMRTM'] < 2.0) & (common_fnih_kxr_01['V01MMRTM'] >= 0.0) &\n",
    "                (common_fnih_kxr_01['V01MMXLL'] < 1.0) & (common_fnih_kxr_01['V01MMXLL'] >= 0.0) & \n",
    "                (common_fnih_kxr_01['V01MMXLA'] < 1.0) & (common_fnih_kxr_01['V01MMXLA'] >= 0.0) &\n",
    "                (common_fnih_kxr_01['V01MMXMM'] < 1.0) & (common_fnih_kxr_01['V01MMXMM'] >= 0.0) & \n",
    "                (common_fnih_kxr_01['V01MMXMA'] < 1.0) & (common_fnih_kxr_01['V01MMXMA'] >= 0.0)),'Meniscus_Degradation'] = 0.0\n",
    "\n",
    "print('With Meniscal Degradation->1.0, Without->0.0 \\n{}'.format(moaks_OA_features.Meniscus_Degradation.value_counts(dropna=False)))\n",
    "\n",
    "\n",
    "# print('Number of Subjects WITH Meniscus Degradation: {}'.\n",
    "#         format((moaks_OA_features['Meniscus_Degradation']==1.0).sum()))\n",
    "\n",
    "# print('Number of Subjects WITHOUT Meniscus Degradation: {}'.\n",
    "#         format((moaks_OA_features['Meniscus_Degradation']==0.0).sum()))"
   ]
  },
  {
   "cell_type": "code",
   "execution_count": 25,
   "metadata": {},
   "outputs": [
    {
     "name": "stdout",
     "output_type": "stream",
     "text": [
      "Number of NaN values per column: [0, 0, 0, 10, 5, 5, 42, 5]\n"
     ]
    }
   ],
   "source": [
    "print('Number of NaN values per column: {}'.format(moaks_OA_features.isna().sum().to_list()))"
   ]
  },
  {
   "cell_type": "code",
   "execution_count": 26,
   "metadata": {},
   "outputs": [
    {
     "data": {
      "text/html": [
       "<div>\n",
       "<style scoped>\n",
       "    .dataframe tbody tr th:only-of-type {\n",
       "        vertical-align: middle;\n",
       "    }\n",
       "\n",
       "    .dataframe tbody tr th {\n",
       "        vertical-align: top;\n",
       "    }\n",
       "\n",
       "    .dataframe thead th {\n",
       "        text-align: right;\n",
       "    }\n",
       "</style>\n",
       "<table border=\"1\" class=\"dataframe\">\n",
       "  <thead>\n",
       "    <tr style=\"text-align: right;\">\n",
       "      <th></th>\n",
       "      <th>ID</th>\n",
       "      <th>SIDE</th>\n",
       "      <th>XR_Osteophytes</th>\n",
       "      <th>FullTCL</th>\n",
       "      <th>AnyTCL</th>\n",
       "      <th>PartialTCL</th>\n",
       "      <th>BML</th>\n",
       "      <th>Meniscus_Degradation</th>\n",
       "    </tr>\n",
       "  </thead>\n",
       "  <tbody>\n",
       "    <tr>\n",
       "      <th>0</th>\n",
       "      <td>9001695</td>\n",
       "      <td>1</td>\n",
       "      <td>1.0</td>\n",
       "      <td>NaN</td>\n",
       "      <td>1.0</td>\n",
       "      <td>1.0</td>\n",
       "      <td>1.0</td>\n",
       "      <td>1.0</td>\n",
       "    </tr>\n",
       "    <tr>\n",
       "      <th>1</th>\n",
       "      <td>9002116</td>\n",
       "      <td>2</td>\n",
       "      <td>1.0</td>\n",
       "      <td>0.0</td>\n",
       "      <td>1.0</td>\n",
       "      <td>1.0</td>\n",
       "      <td>1.0</td>\n",
       "      <td>1.0</td>\n",
       "    </tr>\n",
       "    <tr>\n",
       "      <th>2</th>\n",
       "      <td>9002430</td>\n",
       "      <td>1</td>\n",
       "      <td>1.0</td>\n",
       "      <td>0.0</td>\n",
       "      <td>1.0</td>\n",
       "      <td>1.0</td>\n",
       "      <td>0.0</td>\n",
       "      <td>1.0</td>\n",
       "    </tr>\n",
       "    <tr>\n",
       "      <th>3</th>\n",
       "      <td>9002817</td>\n",
       "      <td>1</td>\n",
       "      <td>1.0</td>\n",
       "      <td>0.0</td>\n",
       "      <td>1.0</td>\n",
       "      <td>1.0</td>\n",
       "      <td>1.0</td>\n",
       "      <td>1.0</td>\n",
       "    </tr>\n",
       "    <tr>\n",
       "      <th>4</th>\n",
       "      <td>9003316</td>\n",
       "      <td>1</td>\n",
       "      <td>1.0</td>\n",
       "      <td>0.0</td>\n",
       "      <td>1.0</td>\n",
       "      <td>1.0</td>\n",
       "      <td>1.0</td>\n",
       "      <td>0.0</td>\n",
       "    </tr>\n",
       "    <tr>\n",
       "      <th>...</th>\n",
       "      <td>...</td>\n",
       "      <td>...</td>\n",
       "      <td>...</td>\n",
       "      <td>...</td>\n",
       "      <td>...</td>\n",
       "      <td>...</td>\n",
       "      <td>...</td>\n",
       "      <td>...</td>\n",
       "    </tr>\n",
       "    <tr>\n",
       "      <th>579</th>\n",
       "      <td>9993833</td>\n",
       "      <td>2</td>\n",
       "      <td>1.0</td>\n",
       "      <td>0.0</td>\n",
       "      <td>1.0</td>\n",
       "      <td>1.0</td>\n",
       "      <td>1.0</td>\n",
       "      <td>1.0</td>\n",
       "    </tr>\n",
       "    <tr>\n",
       "      <th>580</th>\n",
       "      <td>9994408</td>\n",
       "      <td>1</td>\n",
       "      <td>1.0</td>\n",
       "      <td>0.0</td>\n",
       "      <td>1.0</td>\n",
       "      <td>1.0</td>\n",
       "      <td>1.0</td>\n",
       "      <td>1.0</td>\n",
       "    </tr>\n",
       "    <tr>\n",
       "      <th>581</th>\n",
       "      <td>9995338</td>\n",
       "      <td>2</td>\n",
       "      <td>1.0</td>\n",
       "      <td>0.0</td>\n",
       "      <td>1.0</td>\n",
       "      <td>1.0</td>\n",
       "      <td>0.0</td>\n",
       "      <td>0.0</td>\n",
       "    </tr>\n",
       "    <tr>\n",
       "      <th>582</th>\n",
       "      <td>9996098</td>\n",
       "      <td>1</td>\n",
       "      <td>1.0</td>\n",
       "      <td>0.0</td>\n",
       "      <td>1.0</td>\n",
       "      <td>1.0</td>\n",
       "      <td>0.0</td>\n",
       "      <td>1.0</td>\n",
       "    </tr>\n",
       "    <tr>\n",
       "      <th>583</th>\n",
       "      <td>9997381</td>\n",
       "      <td>1</td>\n",
       "      <td>1.0</td>\n",
       "      <td>0.0</td>\n",
       "      <td>1.0</td>\n",
       "      <td>1.0</td>\n",
       "      <td>0.0</td>\n",
       "      <td>1.0</td>\n",
       "    </tr>\n",
       "  </tbody>\n",
       "</table>\n",
       "<p>584 rows × 8 columns</p>\n",
       "</div>"
      ],
      "text/plain": [
       "          ID  SIDE  XR_Osteophytes  FullTCL  AnyTCL  PartialTCL  BML  \\\n",
       "0    9001695     1             1.0      NaN     1.0         1.0  1.0   \n",
       "1    9002116     2             1.0      0.0     1.0         1.0  1.0   \n",
       "2    9002430     1             1.0      0.0     1.0         1.0  0.0   \n",
       "3    9002817     1             1.0      0.0     1.0         1.0  1.0   \n",
       "4    9003316     1             1.0      0.0     1.0         1.0  1.0   \n",
       "..       ...   ...             ...      ...     ...         ...  ...   \n",
       "579  9993833     2             1.0      0.0     1.0         1.0  1.0   \n",
       "580  9994408     1             1.0      0.0     1.0         1.0  1.0   \n",
       "581  9995338     2             1.0      0.0     1.0         1.0  0.0   \n",
       "582  9996098     1             1.0      0.0     1.0         1.0  0.0   \n",
       "583  9997381     1             1.0      0.0     1.0         1.0  0.0   \n",
       "\n",
       "     Meniscus_Degradation  \n",
       "0                     1.0  \n",
       "1                     1.0  \n",
       "2                     1.0  \n",
       "3                     1.0  \n",
       "4                     0.0  \n",
       "..                    ...  \n",
       "579                   1.0  \n",
       "580                   1.0  \n",
       "581                   0.0  \n",
       "582                   1.0  \n",
       "583                   1.0  \n",
       "\n",
       "[584 rows x 8 columns]"
      ]
     },
     "execution_count": 26,
     "metadata": {},
     "output_type": "execute_result"
    }
   ],
   "source": [
    "moaks_OA_features"
   ]
  },
  {
   "cell_type": "code",
   "execution_count": 27,
   "metadata": {},
   "outputs": [],
   "source": [
    "moaks_OA_features.to_csv('moaks_fnih_sq01_OA_features.csv')"
   ]
  },
  {
   "cell_type": "markdown",
   "metadata": {},
   "source": [
    "# NOW WE CONSTRUCT THE DF THAT CONTAINS THE OA CRITERIA AS COLUMNS"
   ]
  },
  {
   "cell_type": "code",
   "execution_count": 28,
   "metadata": {},
   "outputs": [
    {
     "data": {
      "text/html": [
       "<div>\n",
       "<style scoped>\n",
       "    .dataframe tbody tr th:only-of-type {\n",
       "        vertical-align: middle;\n",
       "    }\n",
       "\n",
       "    .dataframe tbody tr th {\n",
       "        vertical-align: top;\n",
       "    }\n",
       "\n",
       "    .dataframe thead th {\n",
       "        text-align: right;\n",
       "    }\n",
       "</style>\n",
       "<table border=\"1\" class=\"dataframe\">\n",
       "  <thead>\n",
       "    <tr style=\"text-align: right;\">\n",
       "      <th></th>\n",
       "      <th>ID</th>\n",
       "      <th>SIDE</th>\n",
       "      <th>Osteo_AND_FullTCL</th>\n",
       "      <th>Osteo_AND_PartialTCL_AND_BML</th>\n",
       "      <th>Osteo_AND_PartialTCL_AND_Meniscus_Degradation</th>\n",
       "      <th>Osteo_AND_BML_AND_Meniscus_Degradation</th>\n",
       "      <th>FullTCL_AND_BML_AND_Meniscus_Degradation</th>\n",
       "    </tr>\n",
       "  </thead>\n",
       "  <tbody>\n",
       "    <tr>\n",
       "      <th>0</th>\n",
       "      <td>9001695</td>\n",
       "      <td>1</td>\n",
       "      <td>NaN</td>\n",
       "      <td>NaN</td>\n",
       "      <td>NaN</td>\n",
       "      <td>NaN</td>\n",
       "      <td>NaN</td>\n",
       "    </tr>\n",
       "    <tr>\n",
       "      <th>1</th>\n",
       "      <td>9002116</td>\n",
       "      <td>2</td>\n",
       "      <td>NaN</td>\n",
       "      <td>NaN</td>\n",
       "      <td>NaN</td>\n",
       "      <td>NaN</td>\n",
       "      <td>NaN</td>\n",
       "    </tr>\n",
       "    <tr>\n",
       "      <th>2</th>\n",
       "      <td>9002430</td>\n",
       "      <td>1</td>\n",
       "      <td>NaN</td>\n",
       "      <td>NaN</td>\n",
       "      <td>NaN</td>\n",
       "      <td>NaN</td>\n",
       "      <td>NaN</td>\n",
       "    </tr>\n",
       "    <tr>\n",
       "      <th>3</th>\n",
       "      <td>9002817</td>\n",
       "      <td>1</td>\n",
       "      <td>NaN</td>\n",
       "      <td>NaN</td>\n",
       "      <td>NaN</td>\n",
       "      <td>NaN</td>\n",
       "      <td>NaN</td>\n",
       "    </tr>\n",
       "    <tr>\n",
       "      <th>4</th>\n",
       "      <td>9003316</td>\n",
       "      <td>1</td>\n",
       "      <td>NaN</td>\n",
       "      <td>NaN</td>\n",
       "      <td>NaN</td>\n",
       "      <td>NaN</td>\n",
       "      <td>NaN</td>\n",
       "    </tr>\n",
       "    <tr>\n",
       "      <th>...</th>\n",
       "      <td>...</td>\n",
       "      <td>...</td>\n",
       "      <td>...</td>\n",
       "      <td>...</td>\n",
       "      <td>...</td>\n",
       "      <td>...</td>\n",
       "      <td>...</td>\n",
       "    </tr>\n",
       "    <tr>\n",
       "      <th>579</th>\n",
       "      <td>9993833</td>\n",
       "      <td>2</td>\n",
       "      <td>NaN</td>\n",
       "      <td>NaN</td>\n",
       "      <td>NaN</td>\n",
       "      <td>NaN</td>\n",
       "      <td>NaN</td>\n",
       "    </tr>\n",
       "    <tr>\n",
       "      <th>580</th>\n",
       "      <td>9994408</td>\n",
       "      <td>1</td>\n",
       "      <td>NaN</td>\n",
       "      <td>NaN</td>\n",
       "      <td>NaN</td>\n",
       "      <td>NaN</td>\n",
       "      <td>NaN</td>\n",
       "    </tr>\n",
       "    <tr>\n",
       "      <th>581</th>\n",
       "      <td>9995338</td>\n",
       "      <td>2</td>\n",
       "      <td>NaN</td>\n",
       "      <td>NaN</td>\n",
       "      <td>NaN</td>\n",
       "      <td>NaN</td>\n",
       "      <td>NaN</td>\n",
       "    </tr>\n",
       "    <tr>\n",
       "      <th>582</th>\n",
       "      <td>9996098</td>\n",
       "      <td>1</td>\n",
       "      <td>NaN</td>\n",
       "      <td>NaN</td>\n",
       "      <td>NaN</td>\n",
       "      <td>NaN</td>\n",
       "      <td>NaN</td>\n",
       "    </tr>\n",
       "    <tr>\n",
       "      <th>583</th>\n",
       "      <td>9997381</td>\n",
       "      <td>1</td>\n",
       "      <td>NaN</td>\n",
       "      <td>NaN</td>\n",
       "      <td>NaN</td>\n",
       "      <td>NaN</td>\n",
       "      <td>NaN</td>\n",
       "    </tr>\n",
       "  </tbody>\n",
       "</table>\n",
       "<p>584 rows × 7 columns</p>\n",
       "</div>"
      ],
      "text/plain": [
       "          ID  SIDE  Osteo_AND_FullTCL  Osteo_AND_PartialTCL_AND_BML  \\\n",
       "0    9001695     1                NaN                           NaN   \n",
       "1    9002116     2                NaN                           NaN   \n",
       "2    9002430     1                NaN                           NaN   \n",
       "3    9002817     1                NaN                           NaN   \n",
       "4    9003316     1                NaN                           NaN   \n",
       "..       ...   ...                ...                           ...   \n",
       "579  9993833     2                NaN                           NaN   \n",
       "580  9994408     1                NaN                           NaN   \n",
       "581  9995338     2                NaN                           NaN   \n",
       "582  9996098     1                NaN                           NaN   \n",
       "583  9997381     1                NaN                           NaN   \n",
       "\n",
       "     Osteo_AND_PartialTCL_AND_Meniscus_Degradation  \\\n",
       "0                                              NaN   \n",
       "1                                              NaN   \n",
       "2                                              NaN   \n",
       "3                                              NaN   \n",
       "4                                              NaN   \n",
       "..                                             ...   \n",
       "579                                            NaN   \n",
       "580                                            NaN   \n",
       "581                                            NaN   \n",
       "582                                            NaN   \n",
       "583                                            NaN   \n",
       "\n",
       "     Osteo_AND_BML_AND_Meniscus_Degradation  \\\n",
       "0                                       NaN   \n",
       "1                                       NaN   \n",
       "2                                       NaN   \n",
       "3                                       NaN   \n",
       "4                                       NaN   \n",
       "..                                      ...   \n",
       "579                                     NaN   \n",
       "580                                     NaN   \n",
       "581                                     NaN   \n",
       "582                                     NaN   \n",
       "583                                     NaN   \n",
       "\n",
       "     FullTCL_AND_BML_AND_Meniscus_Degradation  \n",
       "0                                         NaN  \n",
       "1                                         NaN  \n",
       "2                                         NaN  \n",
       "3                                         NaN  \n",
       "4                                         NaN  \n",
       "..                                        ...  \n",
       "579                                       NaN  \n",
       "580                                       NaN  \n",
       "581                                       NaN  \n",
       "582                                       NaN  \n",
       "583                                       NaN  \n",
       "\n",
       "[584 rows x 7 columns]"
      ]
     },
     "execution_count": 28,
     "metadata": {},
     "output_type": "execute_result"
    }
   ],
   "source": [
    "moaks_OA_criteria = pd.DataFrame(columns=['ID','SIDE',\n",
    "             'Osteo_AND_FullTCL',\n",
    "             'Osteo_AND_PartialTCL_AND_BML',\n",
    "             'Osteo_AND_PartialTCL_AND_Meniscus_Degradation',\n",
    "             'Osteo_AND_BML_AND_Meniscus_Degradation',\n",
    "             'FullTCL_AND_BML_AND_Meniscus_Degradation'])\n",
    "# the ID and SIDE columns are integers\n",
    "moaks_OA_criteria[['ID','SIDE']] = common_fnih_kxr_01[['ID','SIDE']]\n",
    "# and we fill the rest of the df with np.nan values\n",
    "moaks_OA_criteria.iloc[:,2:] = np.nan\n",
    "moaks_OA_criteria"
   ]
  },
  {
   "cell_type": "code",
   "execution_count": 29,
   "metadata": {},
   "outputs": [
    {
     "name": "stdout",
     "output_type": "stream",
     "text": [
      "With XR Osteophytes AND FullTCL->1.0, Without->0.0: \n",
      "0.0    519\n",
      "1.0     65\n",
      "Name: Osteo_AND_FullTCL, dtype: int64\n"
     ]
    }
   ],
   "source": [
    "moaks_OA_criteria.loc[((moaks_OA_features['XR_Osteophytes'] == 1.0) & \n",
    "            (moaks_OA_features['FullTCL'] == 1.0)),'Osteo_AND_FullTCL'] = 1.0\n",
    "         \n",
    "moaks_OA_criteria.loc[((moaks_OA_features['XR_Osteophytes'] != 1.0) | \n",
    "            (moaks_OA_features['FullTCL'] != 1.0)),'Osteo_AND_FullTCL'] = 0.0\n",
    "\n",
    "print('With XR Osteophytes AND FullTCL->1.0, Without->0.0: \\n{}'.\n",
    "        format(moaks_OA_criteria['Osteo_AND_FullTCL'].value_counts(dropna=False)))        "
   ]
  },
  {
   "cell_type": "code",
   "execution_count": 30,
   "metadata": {},
   "outputs": [
    {
     "name": "stdout",
     "output_type": "stream",
     "text": [
      "With XR Osteophytes AND PartialTCL AND BML->1.0, Without->0.0 \n",
      "0.0    362\n",
      "1.0    222\n",
      "Name: Osteo_AND_PartialTCL_AND_BML, dtype: int64\n"
     ]
    }
   ],
   "source": [
    "moaks_OA_criteria.loc[((moaks_OA_features['XR_Osteophytes'] == 1.0) & \n",
    "            (moaks_OA_features['PartialTCL'] == 1.0) & \n",
    "            (moaks_OA_features['BML'] == 1.0)),'Osteo_AND_PartialTCL_AND_BML'] = 1.0\n",
    "moaks_OA_criteria.loc[((moaks_OA_features['XR_Osteophytes'] != 1.0) | \n",
    "            (moaks_OA_features['PartialTCL'] != 1.0) |\n",
    "            (moaks_OA_features['BML'] != 1.0)),'Osteo_AND_PartialTCL_AND_BML'] = 0.0\n",
    "print('With XR Osteophytes AND PartialTCL AND BML->1.0, Without->0.0 \\n{}'.\n",
    "        format(moaks_OA_criteria.Osteo_AND_PartialTCL_AND_BML.value_counts(dropna=False)))"
   ]
  },
  {
   "cell_type": "code",
   "execution_count": 31,
   "metadata": {},
   "outputs": [
    {
     "name": "stdout",
     "output_type": "stream",
     "text": [
      "With Osteophytes AND Partial TCL AND Meniscus_Degradation->1.0, Without->0.0: \n",
      "1.0    376\n",
      "0.0    208\n",
      "Name: Osteo_AND_PartialTCL_AND_Meniscus_Degradation, dtype: int64\n"
     ]
    }
   ],
   "source": [
    "moaks_OA_criteria.loc[((moaks_OA_features['XR_Osteophytes'] == 1.0) & \n",
    "            (moaks_OA_features['PartialTCL'] == 1.0) & \n",
    "            (moaks_OA_features['Meniscus_Degradation'] == 1.0)),'Osteo_AND_PartialTCL_AND_Meniscus_Degradation'] = 1.0\n",
    "moaks_OA_criteria.loc[((moaks_OA_features['XR_Osteophytes'] != 1.0) | \n",
    "            (moaks_OA_features['PartialTCL'] != 1.0) |\n",
    "            (moaks_OA_features['Meniscus_Degradation'] != 1.0)),'Osteo_AND_PartialTCL_AND_Meniscus_Degradation'] = 0.0\n",
    "print('With Osteophytes AND Partial TCL AND Meniscus_Degradation->1.0, Without->0.0: \\n{}'.\n",
    "        format((moaks_OA_criteria['Osteo_AND_PartialTCL_AND_Meniscus_Degradation'].value_counts(dropna=False)))) "
   ]
  },
  {
   "cell_type": "code",
   "execution_count": 32,
   "metadata": {},
   "outputs": [
    {
     "name": "stdout",
     "output_type": "stream",
     "text": [
      "With Osteophytes AND BML AND Meniscus_Degradation->1.0, Without->0.0: \n",
      "0.0    337\n",
      "1.0    247\n",
      "Name: Osteo_AND_BML_AND_Meniscus_Degradation, dtype: int64\n"
     ]
    }
   ],
   "source": [
    "moaks_OA_criteria.loc[((moaks_OA_features['XR_Osteophytes'] == 1.0) & \n",
    "            (moaks_OA_features['BML'] == 1.0) & \n",
    "            (moaks_OA_features['Meniscus_Degradation'] == 1.0)),'Osteo_AND_BML_AND_Meniscus_Degradation'] = 1.0\n",
    "moaks_OA_criteria.loc[((moaks_OA_features['XR_Osteophytes'] != 1.0) | \n",
    "            (moaks_OA_features['BML'] != 1.0) |\n",
    "            (moaks_OA_features['Meniscus_Degradation'] != 1.0)),'Osteo_AND_BML_AND_Meniscus_Degradation'] = 0.0            \n",
    "print('With Osteophytes AND BML AND Meniscus_Degradation->1.0, Without->0.0: \\n{}'.\n",
    "        format((moaks_OA_criteria['Osteo_AND_BML_AND_Meniscus_Degradation'].value_counts(dropna=False)))) "
   ]
  },
  {
   "cell_type": "code",
   "execution_count": 33,
   "metadata": {},
   "outputs": [
    {
     "name": "stdout",
     "output_type": "stream",
     "text": [
      "With FullTCL AND BML AND Meniscus_Degradation->1.0, Without->0.0: \n",
      "0.0    540\n",
      "1.0     44\n",
      "Name: FullTCL_AND_BML_AND_Meniscus_Degradation, dtype: int64\n"
     ]
    }
   ],
   "source": [
    "moaks_OA_criteria.loc[((moaks_OA_features['FullTCL'] == 1.0) & \n",
    "            (moaks_OA_features['BML'] == 1.0) & \n",
    "            (moaks_OA_features['Meniscus_Degradation'] == 1.0)),'FullTCL_AND_BML_AND_Meniscus_Degradation'] = 1.0\n",
    "moaks_OA_criteria.loc[((moaks_OA_features['FullTCL'] != 1.0) | \n",
    "            (moaks_OA_features['BML'] != 1.0) |\n",
    "            (moaks_OA_features['Meniscus_Degradation'] != 1.0)),'FullTCL_AND_BML_AND_Meniscus_Degradation'] = 0.0\n",
    "print('With FullTCL AND BML AND Meniscus_Degradation->1.0, Without->0.0: \\n{}'.\n",
    "        format((moaks_OA_criteria['FullTCL_AND_BML_AND_Meniscus_Degradation'].value_counts(dropna=False)))) \n"
   ]
  },
  {
   "cell_type": "code",
   "execution_count": 34,
   "metadata": {},
   "outputs": [
    {
     "name": "stdout",
     "output_type": "stream",
     "text": [
      "Number of subjects without OA for each criterion is: \n",
      "ID                                               0\n",
      "SIDE                                             0\n",
      "Osteo_AND_FullTCL                                0\n",
      "Osteo_AND_PartialTCL_AND_BML                     0\n",
      "Osteo_AND_PartialTCL_AND_Meniscus_Degradation    0\n",
      "Osteo_AND_BML_AND_Meniscus_Degradation           0\n",
      "FullTCL_AND_BML_AND_Meniscus_Degradation         0\n",
      "dtype: int64\n"
     ]
    }
   ],
   "source": [
    "print('Number of subjects without OA for each criterion is: \\n{}'.format(moaks_OA_criteria.isna().sum()))"
   ]
  },
  {
   "cell_type": "code",
   "execution_count": 35,
   "metadata": {},
   "outputs": [],
   "source": [
    "moaks_OA_criteria.fillna(-1.0,inplace=True)"
   ]
  },
  {
   "cell_type": "code",
   "execution_count": 36,
   "metadata": {},
   "outputs": [],
   "source": [
    "moaks_OA_criteria.to_csv('moaks_fnih_sq01_OA_criteria.csv')"
   ]
  },
  {
   "cell_type": "code",
   "execution_count": 37,
   "metadata": {},
   "outputs": [],
   "source": [
    "moaks_osteo_FullTCL = moaks_OA_criteria.loc[(moaks_OA_criteria['Osteo_AND_FullTCL']==1.0),\n",
    "                        ['ID','SIDE','Osteo_AND_FullTCL']]\n",
    "\n",
    "moaks_osteo_PartialTCL_bml = moaks_OA_criteria.loc[(moaks_OA_criteria['Osteo_AND_PartialTCL_AND_BML']==1.0),\n",
    "                        ['ID','SIDE','Osteo_AND_PartialTCL_AND_BML']]\n",
    "\n",
    "moaks_osteo_PartialTCL_meniscus = moaks_OA_criteria.loc[(moaks_OA_criteria['Osteo_AND_PartialTCL_AND_Meniscus_Degradation']==1.0),\n",
    "                        ['ID','SIDE','Osteo_AND_PartialTCL_AND_Meniscus_Degradation']]\n",
    "\n",
    "moaks_osteo_bml_meniscus = moaks_OA_criteria.loc[(moaks_OA_criteria['Osteo_AND_BML_AND_Meniscus_Degradation']==1.0),\n",
    "                        ['ID','SIDE','Osteo_AND_BML_AND_Meniscus_Degradation']]\n",
    "\n",
    "\n",
    "moaks_FullTCL_bml_meniscus = moaks_OA_criteria.loc[(moaks_OA_criteria['FullTCL_AND_BML_AND_Meniscus_Degradation']==1.0),\n",
    "                        ['ID','SIDE','FullTCL_AND_BML_AND_Meniscus_Degradation']]"
   ]
  },
  {
   "cell_type": "code",
   "execution_count": 38,
   "metadata": {},
   "outputs": [
    {
     "name": "stdout",
     "output_type": "stream",
     "text": [
      "Number of subjects that satisfy at least one OA criterion is : 466\n"
     ]
    }
   ],
   "source": [
    "# NOW WE FIND THOSE WHO SATISFY AT LEAST ONE OF THE OA CRITERIA\n",
    "moaks_OA_criteria['moaks_OA'] = np.nan\n",
    "moaks_OA_criteria.loc[((moaks_OA_criteria['Osteo_AND_FullTCL']==1.0) |\n",
    "                (moaks_OA_criteria['Osteo_AND_PartialTCL_AND_BML']==1.0) |\n",
    "                (moaks_OA_criteria['Osteo_AND_PartialTCL_AND_Meniscus_Degradation']==1.0) |\n",
    "                (moaks_OA_criteria['Osteo_AND_BML_AND_Meniscus_Degradation']==1.0) |\n",
    "                (moaks_OA_criteria['FullTCL_AND_BML_AND_Meniscus_Degradation']==1.0)),'moaks_OA'] = 1.0\n",
    "# moaks_OA_criteria.loc[((moaks_OA_criteria['Osteo_AND_FullTCL'] != 0.0) |\n",
    "#                 (moaks_OA_criteria['Osteo_AND_PartialTCL_AND_BML'] != 0.0) |\n",
    "#                 (moaks_OA_criteria['Osteo_AND_PartialTCL_AND_Meniscus_Degradation'] != 0.0) |\n",
    "#                 (moaks_OA_criteria['Osteo_AND_BML_AND_Meniscus_Degradation'] != 0.0) |\n",
    "#                 (moaks_OA_criteria['FullTCL_AND_BML_AND_Meniscus_Degradation'] != 0.0)),'moaks_OA'] = 0.0\n",
    "moaks_OA_criteria.fillna(0.0,inplace=True)\n",
    "print('Number of subjects that satisfy at least one OA criterion is : {}'.format((moaks_OA_criteria['moaks_OA']==1.0).sum()))"
   ]
  },
  {
   "cell_type": "code",
   "execution_count": 39,
   "metadata": {},
   "outputs": [
    {
     "data": {
      "text/plain": [
       "1.0    466\n",
       "0.0    118\n",
       "Name: moaks_OA, dtype: int64"
      ]
     },
     "execution_count": 39,
     "metadata": {},
     "output_type": "execute_result"
    }
   ],
   "source": [
    "moaks_OA_criteria['moaks_OA'].value_counts()"
   ]
  },
  {
   "cell_type": "markdown",
   "metadata": {},
   "source": [
    "# NOW WE CREATE THE DATAFRAME CONTAINING INFORMATION REGARDING \n",
    "# 1.MOAKS FEATURES \n",
    "# 2.MOAKS CRITERIA\n",
    "# 3.MOAKS GRADES\n",
    "# 4.KL GRADES\n",
    "# 5.MOAKS-KL GRADES CROSSTABLE"
   ]
  },
  {
   "cell_type": "code",
   "execution_count": 40,
   "metadata": {},
   "outputs": [
    {
     "name": "stdout",
     "output_type": "stream",
     "text": [
      "<class 'pandas.core.frame.DataFrame'>\n",
      "Int64Index: 584 entries, 0 to 583\n",
      "Data columns (total 9 columns):\n",
      " #   Column                                         Non-Null Count  Dtype  \n",
      "---  ------                                         --------------  -----  \n",
      " 0   ID                                             584 non-null    int64  \n",
      " 1   SIDE                                           584 non-null    int64  \n",
      " 2   Osteo_AND_FullTCL                              584 non-null    float64\n",
      " 3   Osteo_AND_PartialTCL_AND_BML                   584 non-null    float64\n",
      " 4   Osteo_AND_PartialTCL_AND_Meniscus_Degradation  584 non-null    float64\n",
      " 5   Osteo_AND_BML_AND_Meniscus_Degradation         584 non-null    float64\n",
      " 6   FullTCL_AND_BML_AND_Meniscus_Degradation       584 non-null    float64\n",
      " 7   moaks_OA                                       584 non-null    float64\n",
      " 8   V01XRKL                                        584 non-null    float64\n",
      "dtypes: float64(7), int64(2)\n",
      "memory usage: 45.6 KB\n",
      "None\n"
     ]
    }
   ],
   "source": [
    "# Here we upload the DataFrame with the KL grades\n",
    "# and we merge the MOAKS and KL dataframes\n",
    "kl_id_side_grade = pd.read_csv('/home/anastasis/EMC_Thesis/My_codes/KL_readings/KL_SQ01_ID_SIDE_GRADE.csv')\n",
    "moaks_kl_and_criteria = pd.merge(moaks_OA_criteria,kl_id_side_grade,on=['ID','SIDE'],how='inner')\n",
    "print(moaks_kl_and_criteria.info())"
   ]
  },
  {
   "cell_type": "code",
   "execution_count": 41,
   "metadata": {},
   "outputs": [
    {
     "name": "stdout",
     "output_type": "stream",
     "text": [
      "Number of different KL grades in the moaks_kl_and_criteria dataframe:\n",
      "2.0    296\n",
      "3.0    224\n",
      "1.0     59\n",
      "4.0      5\n",
      "Name: V01XRKL, dtype: int64\n"
     ]
    }
   ],
   "source": [
    "print('Number of different KL grades in the moaks_kl_and_criteria dataframe:\\n{}'\n",
    "        .format(moaks_kl_and_criteria['V01XRKL'].value_counts()))\n"
   ]
  },
  {
   "cell_type": "code",
   "execution_count": 42,
   "metadata": {},
   "outputs": [],
   "source": [
    "moaks_kl_and_criteria.to_csv('moaks_fnih_sq01_kl_grades_and_features.csv')\n"
   ]
  },
  {
   "cell_type": "code",
   "execution_count": 43,
   "metadata": {},
   "outputs": [],
   "source": [
    "moaks_KL_OA_all_info = pd.merge(moaks_OA_features,moaks_kl_and_criteria,on=['ID','SIDE'],how='outer')"
   ]
  },
  {
   "cell_type": "code",
   "execution_count": 44,
   "metadata": {},
   "outputs": [
    {
     "name": "stdout",
     "output_type": "stream",
     "text": [
      "<class 'pandas.core.frame.DataFrame'>\n",
      "Int64Index: 584 entries, 0 to 583\n",
      "Data columns (total 15 columns):\n",
      " #   Column                                         Non-Null Count  Dtype  \n",
      "---  ------                                         --------------  -----  \n",
      " 0   ID                                             584 non-null    int64  \n",
      " 1   SIDE                                           584 non-null    int64  \n",
      " 2   XR_Osteophytes                                 584 non-null    float64\n",
      " 3   FullTCL                                        574 non-null    float64\n",
      " 4   AnyTCL                                         579 non-null    float64\n",
      " 5   PartialTCL                                     579 non-null    float64\n",
      " 6   BML                                            542 non-null    float64\n",
      " 7   Meniscus_Degradation                           579 non-null    float64\n",
      " 8   Osteo_AND_FullTCL                              584 non-null    float64\n",
      " 9   Osteo_AND_PartialTCL_AND_BML                   584 non-null    float64\n",
      " 10  Osteo_AND_PartialTCL_AND_Meniscus_Degradation  584 non-null    float64\n",
      " 11  Osteo_AND_BML_AND_Meniscus_Degradation         584 non-null    float64\n",
      " 12  FullTCL_AND_BML_AND_Meniscus_Degradation       584 non-null    float64\n",
      " 13  moaks_OA                                       584 non-null    float64\n",
      " 14  V01XRKL                                        584 non-null    float64\n",
      "dtypes: float64(13), int64(2)\n",
      "memory usage: 73.0 KB\n"
     ]
    }
   ],
   "source": [
    "moaks_KL_OA_all_info.info()"
   ]
  },
  {
   "cell_type": "code",
   "execution_count": 45,
   "metadata": {},
   "outputs": [],
   "source": [
    "moaks_KL_OA_all_info.to_csv('moaks_fnih_sq01_all_info.csv')"
   ]
  },
  {
   "cell_type": "code",
   "execution_count": 46,
   "metadata": {},
   "outputs": [],
   "source": [
    "all_moaks_grades_sq01 = moaks_KL_OA_all_info.loc[:,['ID','SIDE','moaks_OA']]\n",
    "all_moaks_vs_kl_grades_sq01 = moaks_KL_OA_all_info.loc[:,['ID','SIDE','moaks_OA','V01XRKL']]"
   ]
  },
  {
   "cell_type": "code",
   "execution_count": 47,
   "metadata": {},
   "outputs": [
    {
     "name": "stdout",
     "output_type": "stream",
     "text": [
      "Sum of FNIH_SQ01 subjects that have MOAKS = 0.0: 118\n",
      "Sum of FNIH_SQ01 subjects that have MOAKS = 1.0: 466\n"
     ]
    }
   ],
   "source": [
    "print('Sum of FNIH_SQ01 subjects that have MOAKS = 0.0: {}'.format((all_moaks_grades_sq01['moaks_OA']==0.0).sum()))\n",
    "print('Sum of FNIH_SQ01 subjects that have MOAKS = 1.0: {}'.format((all_moaks_grades_sq01['moaks_OA']==1.0).sum()))"
   ]
  },
  {
   "cell_type": "code",
   "execution_count": 48,
   "metadata": {},
   "outputs": [
    {
     "name": "stdout",
     "output_type": "stream",
     "text": [
      "          ID  SIDE  moaks_OA  V01XRKL\n",
      "0    9001695     1       1.0      2.0\n",
      "1    9002116     2       1.0      3.0\n",
      "2    9002430     1       1.0      2.0\n",
      "3    9002817     1       1.0      3.0\n",
      "4    9003316     1       1.0      2.0\n",
      "..       ...   ...       ...      ...\n",
      "578  9993650     2       1.0      4.0\n",
      "579  9993833     2       1.0      3.0\n",
      "580  9994408     1       1.0      3.0\n",
      "582  9996098     1       1.0      3.0\n",
      "583  9997381     1       1.0      2.0\n",
      "\n",
      "[466 rows x 4 columns] \n",
      " number of subjects with moaks grade = 1.0:  466\n"
     ]
    }
   ],
   "source": [
    "moaks_fnih_sq01_only_moaks_one = all_moaks_vs_kl_grades_sq01.loc[(all_moaks_vs_kl_grades_sq01['moaks_OA']==1.0)]\n",
    "print(moaks_fnih_sq01_only_moaks_one,'\\n','number of subjects with moaks grade = 1.0: ',moaks_fnih_sq01_only_moaks_one.moaks_OA.count())"
   ]
  },
  {
   "cell_type": "code",
   "execution_count": 49,
   "metadata": {},
   "outputs": [
    {
     "name": "stdout",
     "output_type": "stream",
     "text": [
      "          ID  SIDE  moaks_OA  V01XRKL\n",
      "5    9003380     1       0.0      1.0\n",
      "7    9004175     1       0.0      2.0\n",
      "16   9015798     1       0.0      2.0\n",
      "20   9021102     2       0.0      2.0\n",
      "21   9022789     1       0.0      2.0\n",
      "..       ...   ...       ...      ...\n",
      "549  9936312     2       0.0      2.0\n",
      "550  9936451     1       0.0      2.0\n",
      "567  9969009     2       0.0      2.0\n",
      "570  9981798     1       0.0      1.0\n",
      "581  9995338     2       0.0      2.0\n",
      "\n",
      "[118 rows x 4 columns] \n",
      " number of subjects with moaks grade = 0.0:  118\n"
     ]
    }
   ],
   "source": [
    "moaks_fnih_sq01_only_moaks_zero = all_moaks_vs_kl_grades_sq01.loc[(all_moaks_vs_kl_grades_sq01['moaks_OA']==0.0)]\n",
    "print(moaks_fnih_sq01_only_moaks_zero,'\\n','number of subjects with moaks grade = 0.0: ',moaks_fnih_sq01_only_moaks_zero.moaks_OA.count())"
   ]
  },
  {
   "cell_type": "code",
   "execution_count": 50,
   "metadata": {},
   "outputs": [
    {
     "data": {
      "text/html": [
       "<div>\n",
       "<style scoped>\n",
       "    .dataframe tbody tr th:only-of-type {\n",
       "        vertical-align: middle;\n",
       "    }\n",
       "\n",
       "    .dataframe tbody tr th {\n",
       "        vertical-align: top;\n",
       "    }\n",
       "\n",
       "    .dataframe thead th {\n",
       "        text-align: right;\n",
       "    }\n",
       "</style>\n",
       "<table border=\"1\" class=\"dataframe\">\n",
       "  <thead>\n",
       "    <tr style=\"text-align: right;\">\n",
       "      <th></th>\n",
       "      <th>ID</th>\n",
       "      <th>SIDE</th>\n",
       "      <th>moaks_OA</th>\n",
       "      <th>V01XRKL</th>\n",
       "    </tr>\n",
       "  </thead>\n",
       "  <tbody>\n",
       "    <tr>\n",
       "      <th>0</th>\n",
       "      <td>9001695</td>\n",
       "      <td>1</td>\n",
       "      <td>1.0</td>\n",
       "      <td>2.0</td>\n",
       "    </tr>\n",
       "    <tr>\n",
       "      <th>1</th>\n",
       "      <td>9002116</td>\n",
       "      <td>2</td>\n",
       "      <td>1.0</td>\n",
       "      <td>3.0</td>\n",
       "    </tr>\n",
       "    <tr>\n",
       "      <th>2</th>\n",
       "      <td>9002430</td>\n",
       "      <td>1</td>\n",
       "      <td>1.0</td>\n",
       "      <td>2.0</td>\n",
       "    </tr>\n",
       "    <tr>\n",
       "      <th>3</th>\n",
       "      <td>9002817</td>\n",
       "      <td>1</td>\n",
       "      <td>1.0</td>\n",
       "      <td>3.0</td>\n",
       "    </tr>\n",
       "    <tr>\n",
       "      <th>4</th>\n",
       "      <td>9003316</td>\n",
       "      <td>1</td>\n",
       "      <td>1.0</td>\n",
       "      <td>2.0</td>\n",
       "    </tr>\n",
       "    <tr>\n",
       "      <th>...</th>\n",
       "      <td>...</td>\n",
       "      <td>...</td>\n",
       "      <td>...</td>\n",
       "      <td>...</td>\n",
       "    </tr>\n",
       "    <tr>\n",
       "      <th>579</th>\n",
       "      <td>9993833</td>\n",
       "      <td>2</td>\n",
       "      <td>1.0</td>\n",
       "      <td>3.0</td>\n",
       "    </tr>\n",
       "    <tr>\n",
       "      <th>580</th>\n",
       "      <td>9994408</td>\n",
       "      <td>1</td>\n",
       "      <td>1.0</td>\n",
       "      <td>3.0</td>\n",
       "    </tr>\n",
       "    <tr>\n",
       "      <th>581</th>\n",
       "      <td>9995338</td>\n",
       "      <td>2</td>\n",
       "      <td>0.0</td>\n",
       "      <td>2.0</td>\n",
       "    </tr>\n",
       "    <tr>\n",
       "      <th>582</th>\n",
       "      <td>9996098</td>\n",
       "      <td>1</td>\n",
       "      <td>1.0</td>\n",
       "      <td>3.0</td>\n",
       "    </tr>\n",
       "    <tr>\n",
       "      <th>583</th>\n",
       "      <td>9997381</td>\n",
       "      <td>1</td>\n",
       "      <td>1.0</td>\n",
       "      <td>2.0</td>\n",
       "    </tr>\n",
       "  </tbody>\n",
       "</table>\n",
       "<p>584 rows × 4 columns</p>\n",
       "</div>"
      ],
      "text/plain": [
       "          ID  SIDE  moaks_OA  V01XRKL\n",
       "0    9001695     1       1.0      2.0\n",
       "1    9002116     2       1.0      3.0\n",
       "2    9002430     1       1.0      2.0\n",
       "3    9002817     1       1.0      3.0\n",
       "4    9003316     1       1.0      2.0\n",
       "..       ...   ...       ...      ...\n",
       "579  9993833     2       1.0      3.0\n",
       "580  9994408     1       1.0      3.0\n",
       "581  9995338     2       0.0      2.0\n",
       "582  9996098     1       1.0      3.0\n",
       "583  9997381     1       1.0      2.0\n",
       "\n",
       "[584 rows x 4 columns]"
      ]
     },
     "execution_count": 50,
     "metadata": {},
     "output_type": "execute_result"
    }
   ],
   "source": [
    "all_moaks_vs_kl_grades_sq01"
   ]
  },
  {
   "cell_type": "code",
   "execution_count": 51,
   "metadata": {},
   "outputs": [],
   "source": [
    "# Here we save the dataframes containing the information we want\n",
    "all_moaks_vs_kl_grades_sq01.to_csv('moaks_fnih_sq01_moaks_vs_kl.csv')\n",
    "moaks_fnih_sq01_only_moaks_one.to_csv('moaks_fnih_sq01_only_moaks_one.csv')\n",
    "moaks_fnih_sq01_only_moaks_zero.to_csv('moaks_fnih_sq01_only_moaks_zero.csv')\n",
    "all_moaks_grades_sq01.to_csv('moaks_fnih_sq01_moaks_grades.csv')"
   ]
  },
  {
   "cell_type": "code",
   "execution_count": 52,
   "metadata": {},
   "outputs": [
    {
     "data": {
      "text/html": [
       "<div>\n",
       "<style scoped>\n",
       "    .dataframe tbody tr th:only-of-type {\n",
       "        vertical-align: middle;\n",
       "    }\n",
       "\n",
       "    .dataframe tbody tr th {\n",
       "        vertical-align: top;\n",
       "    }\n",
       "\n",
       "    .dataframe thead th {\n",
       "        text-align: right;\n",
       "    }\n",
       "</style>\n",
       "<table border=\"1\" class=\"dataframe\">\n",
       "  <thead>\n",
       "    <tr style=\"text-align: right;\">\n",
       "      <th>V01XRKL</th>\n",
       "      <th>1.0</th>\n",
       "      <th>2.0</th>\n",
       "      <th>3.0</th>\n",
       "      <th>4.0</th>\n",
       "      <th>Total</th>\n",
       "    </tr>\n",
       "    <tr>\n",
       "      <th>moaks_OA</th>\n",
       "      <th></th>\n",
       "      <th></th>\n",
       "      <th></th>\n",
       "      <th></th>\n",
       "      <th></th>\n",
       "    </tr>\n",
       "  </thead>\n",
       "  <tbody>\n",
       "    <tr>\n",
       "      <th>0.0</th>\n",
       "      <td>48</td>\n",
       "      <td>68</td>\n",
       "      <td>2</td>\n",
       "      <td>0</td>\n",
       "      <td>118</td>\n",
       "    </tr>\n",
       "    <tr>\n",
       "      <th>1.0</th>\n",
       "      <td>11</td>\n",
       "      <td>228</td>\n",
       "      <td>222</td>\n",
       "      <td>5</td>\n",
       "      <td>466</td>\n",
       "    </tr>\n",
       "    <tr>\n",
       "      <th>Total</th>\n",
       "      <td>59</td>\n",
       "      <td>296</td>\n",
       "      <td>224</td>\n",
       "      <td>5</td>\n",
       "      <td>584</td>\n",
       "    </tr>\n",
       "  </tbody>\n",
       "</table>\n",
       "</div>"
      ],
      "text/plain": [
       "V01XRKL   1.0  2.0  3.0  4.0  Total\n",
       "moaks_OA                           \n",
       "0.0        48   68    2    0    118\n",
       "1.0        11  228  222    5    466\n",
       "Total      59  296  224    5    584"
      ]
     },
     "execution_count": 52,
     "metadata": {},
     "output_type": "execute_result"
    }
   ],
   "source": [
    "moaks_OA_KL_crosstab = pd.crosstab(all_moaks_vs_kl_grades_sq01.moaks_OA,all_moaks_vs_kl_grades_sq01.V01XRKL,margins=True,margins_name='Total')\n",
    "moaks_OA_KL_crosstab.to_csv('moaks_fnih_sq01_OA_KL_crosstab.csv')\n",
    "moaks_OA_KL_crosstab"
   ]
  },
  {
   "cell_type": "code",
   "execution_count": 53,
   "metadata": {},
   "outputs": [
    {
     "name": "stdout",
     "output_type": "stream",
     "text": [
      "Number of subjects without definite osteophytes in FNIH_SQ01 is : 46\n",
      "Number of subjects without TCL in FNIH_SQ01 is : 32\n",
      "Number of subjects without BML in FNIH_SQ01 is : 264\n",
      "Number of subjects without Meniscus Degradation in FNIH_SQ01 is : 98\n"
     ]
    }
   ],
   "source": [
    "# NOW WE SAVE THE SUBJECTS WITH ZERO FEATURES IN ORDER TO INVESTIGATE THE INCIDENCE OA\n",
    "moaks_OA_osteo_zero = moaks_OA_features.loc[moaks_OA_features.XR_Osteophytes == 0.0]\n",
    "moaks_OA_osteo_zero.to_csv('moaks_fnih_sq01_Zero_Osteo.csv')\n",
    "print('Number of subjects without definite osteophytes in FNIH_SQ01 is : {}'.format(moaks_OA_osteo_zero.shape[0]))\n",
    "\n",
    "moaks_OA_TCL_zero = moaks_OA_features.loc[(moaks_OA_features.FullTCL == 0.0) & (moaks_OA_features.PartialTCL == 0.0)]\n",
    "moaks_OA_TCL_zero.to_csv('moaks_fnih_sq01_Zero_TCL.csv')\n",
    "print('Number of subjects without TCL in FNIH_SQ01 is : {}'.format(moaks_OA_TCL_zero.shape[0]))\n",
    "\n",
    "moaks_OA_bml_zero = moaks_OA_features.loc[moaks_OA_features.BML == 0.0]\n",
    "moaks_OA_bml_zero.to_csv('moaks_fnih_sq01_Zero_BML.csv')\n",
    "print('Number of subjects without BML in FNIH_SQ01 is : {}'.format(moaks_OA_bml_zero.shape[0]))\n",
    "\n",
    "moaks_OA_meniscus_zero = moaks_OA_features.loc[moaks_OA_features.Meniscus_Degradation == 0.0]\n",
    "moaks_OA_meniscus_zero.to_csv('moaks_fnih_sq01_Zero_Meniscus.csv')\n",
    "print('Number of subjects without Meniscus Degradation in FNIH_SQ01 is : {}'.format(moaks_OA_meniscus_zero.shape[0]))\n"
   ]
  },
  {
   "cell_type": "code",
   "execution_count": null,
   "metadata": {},
   "outputs": [],
   "source": []
  }
 ],
 "metadata": {
  "interpreter": {
   "hash": "916dbcbb3f70747c44a77c7bcd40155683ae19c65e1c03b4aa3499c5328201f1"
  },
  "kernelspec": {
   "display_name": "Python 3.8.10 64-bit",
   "language": "python",
   "name": "python3"
  },
  "language_info": {
   "codemirror_mode": {
    "name": "ipython",
    "version": 3
   },
   "file_extension": ".py",
   "mimetype": "text/x-python",
   "name": "python",
   "nbconvert_exporter": "python",
   "pygments_lexer": "ipython3",
   "version": "3.9.7"
  },
  "orig_nbformat": 4
 },
 "nbformat": 4,
 "nbformat_minor": 2
}
