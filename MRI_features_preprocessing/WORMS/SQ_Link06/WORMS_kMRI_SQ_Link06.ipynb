{
 "cells": [
  {
   "cell_type": "code",
   "execution_count": 13,
   "metadata": {},
   "outputs": [],
   "source": [
    "import numpy as np\n",
    "import pandas as pd"
   ]
  },
  {
   "cell_type": "code",
   "execution_count": 14,
   "metadata": {},
   "outputs": [],
   "source": [
    "worms_kmri_sq_link06_all_subjects = pd.read_csv('/home/anastasis/EMC_Thesis/OAI Data/OAICompleteData_ASCII/kmri_sq_worms_link06.txt', sep=\"|\")\n",
    "worms_kmri_sq_link06_all_subjects.rename(columns={'side':'SIDE'},inplace=True)"
   ]
  },
  {
   "cell_type": "code",
   "execution_count": 15,
   "metadata": {},
   "outputs": [],
   "source": [
    "moaks_sq06_all_subjects = pd.read_csv('/home/anastasis/EMC_Thesis/My_codes/MOAKS/MOAKS_SQ06/Whole_Knee_Approach/moaks_sq06_all_info.csv',index_col=0)\n",
    "moaks_sq06_all_subjects_ID_SIDE = moaks_sq06_all_subjects.loc[:,['ID','SIDE']]\n"
   ]
  },
  {
   "cell_type": "code",
   "execution_count": 16,
   "metadata": {},
   "outputs": [
    {
     "name": "stdout",
     "output_type": "stream",
     "text": [
      "left_only     287\n",
      "both           13\n",
      "right_only      0\n",
      "Name: _merge, dtype: int64\n",
      "left_only     287\n",
      "right_only      0\n",
      "both            0\n",
      "Name: _merge, dtype: int64\n"
     ]
    }
   ],
   "source": [
    "# HERE WE KEEP ONLY THE IDs THAT ARE PRESENT ONLY IN THE WORMS STUDY AND NOT IN THE FNIH_SQ AND SQ\n",
    "\n",
    "worms_kmri_sq_link06_with_sq = pd.merge(worms_kmri_sq_link06_all_subjects,moaks_sq06_all_subjects_ID_SIDE,on=['ID','SIDE'],how='left',indicator=True)\n",
    "print(worms_kmri_sq_link06_with_sq._merge.value_counts())\n",
    "worms_kmri_sq_link06_without_sq = worms_kmri_sq_link06_with_sq.loc[worms_kmri_sq_link06_with_sq._merge == 'left_only']\n",
    "print(worms_kmri_sq_link06_without_sq._merge.value_counts())\n",
    "worms_kmri_sq_link06_without_sq =  worms_kmri_sq_link06_without_sq.rename(columns={'_merge':'_merge_without_fnih'})\n"
   ]
  },
  {
   "cell_type": "code",
   "execution_count": 17,
   "metadata": {},
   "outputs": [],
   "source": [
    "worms_kmri_sq_link06 = worms_kmri_sq_link06_without_sq"
   ]
  },
  {
   "cell_type": "code",
   "execution_count": 18,
   "metadata": {},
   "outputs": [
    {
     "name": "stdout",
     "output_type": "stream",
     "text": [
      "<class 'pandas.core.frame.DataFrame'>\n",
      "Int64Index: 287 entries, 0 to 299\n",
      "Data columns (total 34 columns):\n",
      " #   Column               Non-Null Count  Dtype   \n",
      "---  ------               --------------  -----   \n",
      " 0   ID                   287 non-null    int64   \n",
      " 1   SIDE                 287 non-null    int64   \n",
      " 2   VERSION              287 non-null    float64 \n",
      " 3   READPRJ              287 non-null    int64   \n",
      " 4   V06MWMTMA            287 non-null    int64   \n",
      " 5   V06MWMTMB            287 non-null    int64   \n",
      " 6   V06MWMTMP            287 non-null    int64   \n",
      " 7   V06MWMTLA            287 non-null    int64   \n",
      " 8   V06MWMTLB            287 non-null    int64   \n",
      " 9   V06MWMTLP            287 non-null    int64   \n",
      " 10  V06MWMTMS            287 non-null    int64   \n",
      " 11  V06MWMTLS            287 non-null    int64   \n",
      " 12  V06MWACL             287 non-null    int64   \n",
      " 13  V06MWPCL             287 non-null    int64   \n",
      " 14  V06MWMCL             287 non-null    int64   \n",
      " 15  V06MWLCL             287 non-null    int64   \n",
      " 16  V06MWPATND           287 non-null    int64   \n",
      " 17  V06MWPOTND           287 non-null    int64   \n",
      " 18  V06MWCMP             287 non-null    int64   \n",
      " 19  V06MWCMFT            287 non-null    int64   \n",
      " 20  V06MWCMFM            287 non-null    int64   \n",
      " 21  V06MWCMFL            287 non-null    int64   \n",
      " 22  V06MWCMTM            287 non-null    int64   \n",
      " 23  V06MWCMTL            287 non-null    int64   \n",
      " 24  V06MWBMP             287 non-null    int64   \n",
      " 25  V06MWBMFT            287 non-null    int64   \n",
      " 26  V06MWBMFM            287 non-null    int64   \n",
      " 27  V06MWBMFL            287 non-null    int64   \n",
      " 28  V06MWBMTM            287 non-null    int64   \n",
      " 29  V06MWBMTL            287 non-null    int64   \n",
      " 30  V06MWEFFWK           230 non-null    float64 \n",
      " 31  V06MWLB              230 non-null    float64 \n",
      " 32  V06MWPOPCY           230 non-null    float64 \n",
      " 33  _merge_without_fnih  287 non-null    category\n",
      "dtypes: category(1), float64(4), int64(29)\n",
      "memory usage: 76.6 KB\n",
      "None\n"
     ]
    }
   ],
   "source": [
    "print(worms_kmri_sq_link06.info())"
   ]
  },
  {
   "cell_type": "markdown",
   "metadata": {},
   "source": [
    "# WORMS_OA_FEATURES_THRES1 \n",
    "# Cartilage grade >1 AND BML>1 AND Meniscus Degradation > 1"
   ]
  },
  {
   "cell_type": "code",
   "execution_count": 19,
   "metadata": {},
   "outputs": [
    {
     "name": "stdout",
     "output_type": "stream",
     "text": [
      "Type of ID and SIDE columns <class 'numpy.int64'> and type of the rest of the columns <class 'numpy.float64'>\n"
     ]
    }
   ],
   "source": [
    "# FIRST WE CONSTRUCT A NEW DATAFRAME WITH ALL THE OA FEATURES AS COLUMNS\n",
    "\n",
    "# THE FIRST FEATURE DATAFRAME WE CONSTRUCT IS WITH THRESHOLD > 1 \n",
    "# FOR BOTH BML AND CARTILAGE THICKNESS LOSS \n",
    "# Because it is not clear yet which threshold to use (1 or 0) \n",
    "\n",
    "worms_OA_features_thres1 = pd.DataFrame(\n",
    "    columns=['ID','SIDE','Cartilage_Morphology','BML', 'Meniscus_Degradation'])\n",
    "# the ID and SIDE columns are integers\n",
    "worms_OA_features_thres1[['ID','SIDE']] = worms_kmri_sq_link06[['ID','SIDE']]\n",
    "# and we fill the rest of the df with np.nan values\n",
    "worms_OA_features_thres1.iloc[:,2:] = np.nan\n",
    "\n",
    "print('Type of ID and SIDE columns {} and type of the rest of the columns {}'\n",
    "    .format(type(worms_OA_features_thres1.iloc[0,0]),type(worms_OA_features_thres1.iloc[0,2])))\n"
   ]
  },
  {
   "cell_type": "code",
   "execution_count": 20,
   "metadata": {},
   "outputs": [],
   "source": [
    "worms_OA_features_thres1.loc[((worms_kmri_sq_link06.V06MWCMFM > 1) | (worms_kmri_sq_link06.V06MWCMFL > 1) |\n",
    "                (worms_kmri_sq_link06.V06MWCMTM > 1) | (worms_kmri_sq_link06.V06MWCMTL > 0)),'Cartilage_Morphology'] = 1\n",
    "\n",
    "worms_OA_features_thres1.loc[((worms_kmri_sq_link06.V06MWBMFM > 1) | (worms_kmri_sq_link06.V06MWBMFL > 1) |\n",
    "                (worms_kmri_sq_link06.V06MWBMTM > 1) | (worms_kmri_sq_link06.V06MWBMTL > 1)),'BML'] = 1\n",
    "\n",
    "worms_OA_features_thres1.loc[((worms_kmri_sq_link06.V06MWMTMS > 1) | (worms_kmri_sq_link06.V06MWMTLS > 1)),'Meniscus_Degradation'] = 1                \n",
    "\n",
    "worms_OA_features_thres1.fillna(0, inplace=True)\n"
   ]
  },
  {
   "cell_type": "code",
   "execution_count": 21,
   "metadata": {},
   "outputs": [
    {
     "name": "stdout",
     "output_type": "stream",
     "text": [
      "Threshold 1 - Number of subjects with worms grade for cartilage morphology larger than ONE :  189\n",
      "Threshold 1 - Number of subjects with worms grade for BML larger than ONE :  49\n",
      "Threshold 1 - Number of subjects with worms grade for Meniscus Degradation larger than ONE :  76\n"
     ]
    }
   ],
   "source": [
    "worms_cart_with_OA_thres1 = worms_OA_features_thres1.loc[((worms_OA_features_thres1.Cartilage_Morphology == 1))]\n",
    "print('Threshold 1 - Number of subjects with worms grade for cartilage morphology larger than ONE : ',\n",
    "        format(worms_OA_features_thres1.Cartilage_Morphology.eq(1).sum()))\n",
    "worms_cart_with_OA_thres1.to_csv('worms_sq06_cartilage_with_OA_thres1.csv')        \n",
    "\n",
    "worms_bml_with_OA_thres1 = worms_OA_features_thres1.loc[((worms_OA_features_thres1.BML == 1))]        \n",
    "print('Threshold 1 - Number of subjects with worms grade for BML larger than ONE : ',\n",
    "        format(worms_OA_features_thres1.BML.eq(1).sum()))\n",
    "worms_bml_with_OA_thres1.to_csv('worms_sq06_bml_with_OA_thres1.csv')\n",
    "\n",
    "worms_men_with_OA_thres1 = worms_OA_features_thres1.loc[((worms_OA_features_thres1.Meniscus_Degradation == 1))]\n",
    "print('Threshold 1 - Number of subjects with worms grade for Meniscus Degradation larger than ONE : ',\n",
    "        format(worms_OA_features_thres1.Meniscus_Degradation.eq(1).sum()))\n",
    "worms_men_with_OA_thres1.to_csv('worms_sq06_men_with_OA_thres1.csv')"
   ]
  },
  {
   "cell_type": "code",
   "execution_count": 22,
   "metadata": {},
   "outputs": [
    {
     "name": "stdout",
     "output_type": "stream",
     "text": [
      "Number of subjects WITHOUT Cartilage is :  98\n",
      "Number of subjects WITHOUT BML is :  238\n",
      "Number of subjects WITHOUT OA is :  211\n"
     ]
    }
   ],
   "source": [
    "worms_wout_cart_thres1 = worms_OA_features_thres1.loc[(worms_OA_features_thres1.Cartilage_Morphology == 0)]                    \n",
    "print('Number of subjects WITHOUT Cartilage is : ',format(worms_wout_cart_thres1.shape[0]))        \n",
    "worms_wout_cart_thres1.to_csv('worms_sq06_without_Cart_thres1.csv')\n",
    "\n",
    "worms_wout_bml_thres1 = worms_OA_features_thres1.loc[(worms_OA_features_thres1.BML == 0)]                    \n",
    "print('Number of subjects WITHOUT BML is : ',format(worms_wout_bml_thres1.shape[0]))        \n",
    "worms_wout_bml_thres1.to_csv('worms_sq06_without_BML_thres1.csv')\n",
    "\n",
    "worms_wout_men_thres1 = worms_OA_features_thres1.loc[(worms_OA_features_thres1.Meniscus_Degradation == 0)]                    \n",
    "print('Number of subjects WITHOUT OA is : ',format(worms_wout_men_thres1.shape[0]))        \n",
    "worms_wout_men_thres1.to_csv('worms_sq06_without_Meniscus_thres1.csv')"
   ]
  },
  {
   "cell_type": "code",
   "execution_count": 23,
   "metadata": {},
   "outputs": [],
   "source": [
    "worms_sq06_all_info_thres1 = worms_OA_features_thres1.merge(worms_kmri_sq_link06,on=['ID','SIDE'], how='inner')\n",
    "worms_sq06_all_info_thres1.to_csv('worms_sq06_all_info_thres1.csv')\n"
   ]
  },
  {
   "cell_type": "markdown",
   "metadata": {},
   "source": [
    "# WORMS_OA_FEATURES_THRES0\n",
    "# Cartilage grade >0 AND BML>0 AND Meniscus Degradation > 0"
   ]
  },
  {
   "cell_type": "code",
   "execution_count": 24,
   "metadata": {},
   "outputs": [
    {
     "name": "stdout",
     "output_type": "stream",
     "text": [
      "Type of ID and SIDE columns <class 'numpy.int64'> and type of the rest of the columns <class 'numpy.float64'>\n"
     ]
    }
   ],
   "source": [
    "worms_OA_features_thres0 = pd.DataFrame(\n",
    "    columns=['ID','SIDE','Cartilage_Morphology','BML', 'Meniscus_Degradation'])\n",
    "# the ID and SIDE columns are integers\n",
    "worms_OA_features_thres0[['ID','SIDE']] = worms_kmri_sq_link06[['ID','SIDE']]\n",
    "# and we fill the rest of the df with np.nan values\n",
    "worms_OA_features_thres0.iloc[:,2:] = np.nan\n",
    "\n",
    "print('Type of ID and SIDE columns {} and type of the rest of the columns {}'\n",
    "    .format(type(worms_OA_features_thres0.iloc[0,0]),type(worms_OA_features_thres0.iloc[0,2])))\n"
   ]
  },
  {
   "cell_type": "code",
   "execution_count": 25,
   "metadata": {},
   "outputs": [],
   "source": [
    "worms_OA_features_thres0.loc[((worms_kmri_sq_link06.V06MWCMFM > 0) | (worms_kmri_sq_link06.V06MWCMFL > 0) |\n",
    "                (worms_kmri_sq_link06.V06MWCMTM > 0) | (worms_kmri_sq_link06.V06MWCMTL > 0)),'Cartilage_Morphology'] = 1\n",
    "\n",
    "worms_OA_features_thres0.loc[((worms_kmri_sq_link06.V06MWBMFM > 0) | (worms_kmri_sq_link06.V06MWBMFL > 0) |\n",
    "                (worms_kmri_sq_link06.V06MWBMTM > 0) | (worms_kmri_sq_link06.V06MWBMTL > 1)),'BML'] = 1\n",
    "\n",
    "worms_OA_features_thres0.loc[((worms_kmri_sq_link06.V06MWMTMS > 0) | (worms_kmri_sq_link06.V06MWMTLS > 0)),'Meniscus_Degradation'] = 1                \n",
    "\n",
    "worms_OA_features_thres0.fillna(0, inplace=True)\n"
   ]
  },
  {
   "cell_type": "code",
   "execution_count": 26,
   "metadata": {},
   "outputs": [
    {
     "name": "stdout",
     "output_type": "stream",
     "text": [
      "Threshold 0 - Number of subjects with worms grade for cartilage morphology larger than ZERO :  197\n",
      "Threshold 0 - Number of subjects with worms grade for BML larger than ZERO :  65\n",
      "Threshold 0 - Number of subjects with worms grade for Meniscus Degradation larger than ZERO :  128\n"
     ]
    }
   ],
   "source": [
    "worms_cart_with_OA_thres0 = worms_OA_features_thres0.loc[((worms_OA_features_thres0.Cartilage_Morphology == 1))]\n",
    "print('Threshold 0 - Number of subjects with worms grade for cartilage morphology larger than ZERO : ',\n",
    "        format(worms_OA_features_thres0.Cartilage_Morphology.eq(1).sum()))\n",
    "worms_cart_with_OA_thres0.to_csv('worms_sq06_cartilage_with_OA_thres0.csv')        \n",
    "\n",
    "worms_bml_with_OA_thres0 = worms_OA_features_thres0.loc[((worms_OA_features_thres0.BML == 1))]        \n",
    "print('Threshold 0 - Number of subjects with worms grade for BML larger than ZERO : ',\n",
    "        format(worms_OA_features_thres0.BML.eq(1).sum()))\n",
    "worms_bml_with_OA_thres0.to_csv('worms_sq06_bml_with_OA_thres0.csv')\n",
    "\n",
    "worms_men_with_OA_thres0 = worms_OA_features_thres0.loc[((worms_OA_features_thres0.Meniscus_Degradation == 1))]\n",
    "print('Threshold 0 - Number of subjects with worms grade for Meniscus Degradation larger than ZERO : ',\n",
    "        format(worms_OA_features_thres0.Meniscus_Degradation.eq(1).sum()))\n",
    "worms_men_with_OA_thres0.to_csv('worms_sq06_men_with_OA_thres0.csv')"
   ]
  },
  {
   "cell_type": "code",
   "execution_count": 27,
   "metadata": {},
   "outputs": [
    {
     "name": "stdout",
     "output_type": "stream",
     "text": [
      "Number of subjects WITHOUT Cartilage is :  90\n",
      "Number of subjects WITHOUT BML is :  222\n",
      "Number of subjects WITHOUT OA is :  159\n"
     ]
    }
   ],
   "source": [
    "worms_wout_cart_thres0 = worms_OA_features_thres0.loc[(worms_OA_features_thres0.Cartilage_Morphology == 0)]                    \n",
    "print('Number of subjects WITHOUT Cartilage is : ',format(worms_wout_cart_thres0.shape[0]))        \n",
    "worms_wout_cart_thres0.to_csv('worms_sq06_without_Cart_thres0.csv')\n",
    "\n",
    "worms_wout_bml_thres0 = worms_OA_features_thres0.loc[(worms_OA_features_thres0.BML == 0)]                    \n",
    "print('Number of subjects WITHOUT BML is : ',format(worms_wout_bml_thres0.shape[0]))        \n",
    "worms_wout_bml_thres0.to_csv('worms_sq06_without_BML_thres0.csv')\n",
    "\n",
    "worms_wout_men_thres0 = worms_OA_features_thres0.loc[(worms_OA_features_thres0.Meniscus_Degradation == 0)]                    \n",
    "print('Number of subjects WITHOUT OA is : ',format(worms_wout_men_thres0.shape[0]))        \n",
    "worms_wout_men_thres0.to_csv('worms_sq06_without_Meniscus_thres0.csv')"
   ]
  },
  {
   "cell_type": "code",
   "execution_count": 28,
   "metadata": {},
   "outputs": [],
   "source": [
    "worms_sq06_all_info_thres0 = worms_OA_features_thres0.merge(worms_kmri_sq_link06,on=['ID','SIDE'], how='inner')\n",
    "worms_sq06_all_info_thres0.to_csv('worms_sq06_all_info_thres0.csv')\n"
   ]
  },
  {
   "cell_type": "code",
   "execution_count": null,
   "metadata": {},
   "outputs": [],
   "source": []
  }
 ],
 "metadata": {
  "interpreter": {
   "hash": "904ae544174759c596af309efdc6c1352dabfd815eaa7de3ea2c0712376753c1"
  },
  "kernelspec": {
   "display_name": "Python 3.9.7 64-bit ('tf': conda)",
   "name": "python3"
  },
  "language_info": {
   "codemirror_mode": {
    "name": "ipython",
    "version": 3
   },
   "file_extension": ".py",
   "mimetype": "text/x-python",
   "name": "python",
   "nbconvert_exporter": "python",
   "pygments_lexer": "ipython3",
   "version": "3.9.7"
  },
  "orig_nbformat": 4
 },
 "nbformat": 4,
 "nbformat_minor": 2
}
