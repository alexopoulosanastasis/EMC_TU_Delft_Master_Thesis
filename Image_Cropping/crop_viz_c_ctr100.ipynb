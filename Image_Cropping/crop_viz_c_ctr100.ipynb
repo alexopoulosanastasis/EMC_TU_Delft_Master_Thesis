{
 "cells": [
  {
   "cell_type": "code",
   "execution_count": 1,
   "metadata": {},
   "outputs": [],
   "source": [
    "import numpy as np\n",
    "import SimpleITK as sitk\n",
    "import skimage\n",
    "import cv2\n",
    "import os, csv\n",
    "import matplotlib.pyplot as plt\n",
    "\n",
    "from matplotlib.patches import Rectangle\n"
   ]
  },
  {
   "cell_type": "code",
   "execution_count": 2,
   "metadata": {},
   "outputs": [
    {
     "name": "stdout",
     "output_type": "stream",
     "text": [
      "SimpleITK Version: 2.0.0rc2.dev909-g29cc1 (ITK 5.1)\n",
      "Compiled: Mar  5 2021 06:23:01\n",
      "\n"
     ]
    }
   ],
   "source": [
    "print(sitk.Version())\n"
   ]
  },
  {
   "cell_type": "code",
   "execution_count": 2,
   "metadata": {},
   "outputs": [],
   "source": [
    "control_path = '/data/scratch/aalexopoulos/OAI_IW-TSE_control_flipped/'\n",
    "control_imgs = sorted(os.path.join(control_path, fname) for fname in os.listdir(control_path))\n",
    "\n",
    "control_mask_path = '/data/scratch/aalexopoulos/OAI_IW-TSE_control_seg_flipped/'\n",
    "control_mask = sorted(os.path.join(control_mask_path, fname) for fname in os.listdir(control_mask_path))"
   ]
  },
  {
   "cell_type": "code",
   "execution_count": 4,
   "metadata": {},
   "outputs": [
    {
     "name": "stdout",
     "output_type": "stream",
     "text": [
      "Rect Height 155 and Width 306 based on the bone min max coords\n",
      "Rect Height 250 and Width 320 to incorporate as many pixels as possible\n"
     ]
    }
   ],
   "source": [
    "fb_xmin_c_global_xcoord = 33\n",
    "fb_xmin_c_global_ycoord = 133\n",
    "fb_xmax_c_global_xcoord = 339\n",
    "fb_xmax_c_global_ycoord = 209\n",
    "\n",
    "tb_xmin_c_global_xcoord = 43\n",
    "tb_xmin_c_global_ycoord = 197\n",
    "tb_xmax_c_global_xcoord = 320\n",
    "tb_xmax_c_global_ycoord = 288\n",
    "\n",
    "tb_ymin_c_global_xcoord = 153\n",
    "tb_ymin_c_global_ycoord = 169\n",
    "\n",
    "rect_xmin_global = 33\n",
    "rect_ymin_global = 133 \n",
    "rect_width_orig = fb_xmax_c_global_xcoord-fb_xmin_c_global_xcoord\n",
    "rect_height_orig = tb_xmax_c_global_ycoord-fb_xmin_c_global_ycoord\n",
    "rect_height = 250\n",
    "rect_height_230 = 230\n",
    "rect_width = 320\n",
    "print('Rect Height {} and Width {} based on the bone min max coords'.format(rect_height_orig, rect_width_orig))\n",
    "print('Rect Height {} and Width {} to incorporate as many pixels as possible'.format(rect_height, rect_width))"
   ]
  },
  {
   "cell_type": "code",
   "execution_count": 9,
   "metadata": {},
   "outputs": [
    {
     "name": "stdout",
     "output_type": "stream",
     "text": [
      "/media/anastasis/My Harddisk2/ThesisImages/canny_edges_control_results/9242547_IW-TSE_R/compare\n",
      "/media/anastasis/My Harddisk2/ThesisImages/canny_edges_control_results/9242547_IW-TSE_R/lateral\n",
      "/media/anastasis/My Harddisk2/ThesisImages/canny_edges_control_results/9242547_IW-TSE_R/medial\n",
      "/media/anastasis/My Harddisk2/ThesisImages/canny_edges_control_results/9242547_IW-TSE_R/whole_knee\n",
      "Whole Knee Canny Edge ONES: 0, Whole Knee Bone Pixels: 0\n",
      "Whole Knee Canny Edge ONES: 0, Whole Knee Bone Pixels: 0\n",
      "Whole Knee Canny Edge ONES: 0, Whole Knee Bone Pixels: 0\n",
      "Whole Knee Canny Edge ONES: 0, Whole Knee Bone Pixels: 0\n",
      "Whole Knee Canny Edge ONES: 0, Whole Knee Bone Pixels: 0\n",
      "Whole Knee Canny Edge ONES: 0, Whole Knee Bone Pixels: 0\n",
      "Whole Knee Canny Edge ONES: 0, Whole Knee Bone Pixels: 0\n",
      "Whole Knee Canny Edge ONES: 92, Whole Knee Bone Pixels: 663\n",
      "Whole Knee Canny Edge ONES: 234, Whole Knee Bone Pixels: 3282\n",
      "Whole Knee Canny Edge ONES: 369, Whole Knee Bone Pixels: 7594\n",
      "Whole Knee Canny Edge ONES: 789, Whole Knee Bone Pixels: 18777\n",
      "Whole Knee Canny Edge ONES: 1047, Whole Knee Bone Pixels: 30232\n",
      "Whole Knee Canny Edge ONES: 1163, Whole Knee Bone Pixels: 37808\n",
      "Whole Knee Canny Edge ONES: 1210, Whole Knee Bone Pixels: 42783\n",
      "Whole Knee Canny Edge ONES: 1235, Whole Knee Bone Pixels: 46427\n",
      "Whole Knee Canny Edge ONES: 1235, Whole Knee Bone Pixels: 49190\n",
      "Whole Knee Canny Edge ONES: 1232, Whole Knee Bone Pixels: 51216\n",
      "Whole Knee Canny Edge ONES: 1241, Whole Knee Bone Pixels: 52659\n",
      "Whole Knee Canny Edge ONES: 1294, Whole Knee Bone Pixels: 51449\n",
      "Whole Knee Canny Edge ONES: 1360, Whole Knee Bone Pixels: 47886\n",
      "Whole Knee Canny Edge ONES: 1284, Whole Knee Bone Pixels: 42876\n",
      "Whole Knee Canny Edge ONES: 1265, Whole Knee Bone Pixels: 37836\n",
      "Whole Knee Canny Edge ONES: 1149, Whole Knee Bone Pixels: 32807\n",
      "Whole Knee Canny Edge ONES: 1140, Whole Knee Bone Pixels: 26909\n",
      "Whole Knee Canny Edge ONES: 971, Whole Knee Bone Pixels: 20883\n",
      "Whole Knee Canny Edge ONES: 1015, Whole Knee Bone Pixels: 17230\n",
      "Whole Knee Canny Edge ONES: 752, Whole Knee Bone Pixels: 11511\n",
      "Whole Knee Canny Edge ONES: 462, Whole Knee Bone Pixels: 6473\n",
      "Whole Knee Canny Edge ONES: 259, Whole Knee Bone Pixels: 2521\n",
      "Whole Knee Canny Edge ONES: 0, Whole Knee Bone Pixels: 0\n",
      "Whole Knee Canny Edge ONES: 0, Whole Knee Bone Pixels: 0\n",
      "Whole Knee Canny Edge ONES: 0, Whole Knee Bone Pixels: 0\n",
      "Whole Knee Canny Edge ONES: 0, Whole Knee Bone Pixels: 0\n",
      "Whole Knee Canny Edge ONES: 0, Whole Knee Bone Pixels: 0\n",
      "Whole Knee Canny Edge ONES: 0, Whole Knee Bone Pixels: 0\n"
     ]
    }
   ],
   "source": [
    "count = 0\n",
    "for j in range(0,len(control_imgs[:100])):\n",
    "    input_img = sitk.ReadImage(control_imgs[j])\n",
    "    input_img_np = sitk.GetArrayFromImage(input_img)\n",
    "\n",
    "    input_mask = sitk.ReadImage(control_mask[j])\n",
    "    input_mask_np = sitk.GetArrayFromImage(input_mask)\n",
    "    import pathlib\n",
    "    main_path = '/data/scratch/aalexopoulos/crop_ctr/'+control_imgs[j].split('/')[-1].split('.')[0]+'/'\n",
    "    p_compare = pathlib.Path(main_path+'compare/')\n",
    "    p_compare.mkdir(parents=True, exist_ok=True)\n",
    "    print(str(p_compare))\n",
    "\n",
    "    p_crop_250_320_lat = pathlib.Path(main_path+'lateral/')\n",
    "    p_crop_250_320_lat.mkdir(parents=True,exist_ok=True)\n",
    "    print(str(p_crop_250_320_lat))\n",
    "\n",
    "    p_crop_250_320_med = pathlib.Path(main_path+'medial/')\n",
    "    p_crop_250_320_med.mkdir(parents=True,exist_ok=True)\n",
    "    print(str(p_crop_250_320_med))\n",
    "\n",
    "    p_crop_250_320 = pathlib.Path(main_path+'whole_knee/')\n",
    "    p_crop_250_320.mkdir(parents=True,exist_ok=True)\n",
    "    print(str(p_crop_250_320))\n",
    "\n",
    "    for i in range(input_mask_np.shape[0]):\n",
    "        knee_mask = input_mask_np[i,:,:].copy()\n",
    "        knee_canny = skimage.feature.canny(knee_mask,sigma=8,low_threshold=0.05,high_threshold=0.4)\n",
    "        knee_canny_true_count = np.count_nonzero(knee_canny)\n",
    "        print('Whole Knee Canny Edge ONES: {}, Whole Knee Bone Pixels: {}'.format(knee_canny_true_count,len(np.where(input_mask_np[i,:,:]>0.0)[0])))\n",
    "        \n",
    "        if len(np.where(input_mask_np[i,:,:]>0.0)[0])>500:\n",
    "\n",
    "            fig,((ax4,ax5,ax6),(ax7,ax8,ax9)) = plt.subplots(nrows=2,ncols=3,figsize=(20,12)\n",
    "                                                ,sharex=True,sharey=True)\n",
    "\n",
    "            ax4.add_patch(Rectangle((rect_xmin_global,rect_ymin_global),rect_width,rect_height,fill=False,edgecolor='w'))\n",
    "            ax4.plot(rect_xmin_global+int(rect_width/2), tb_ymin_c_global_ycoord, marker=\"o\", markersize=5, markerfacecolor='red')\n",
    "            ax4.imshow(input_img_np[i,:,:],cmap=plt.cm.gray)\n",
    "            ax4.set_title('IW-TSE MRI 250-320_Bottom',fontsize=20)\n",
    "            ax4.set_aspect('equal')\n",
    "\n",
    "            ax5.add_patch(Rectangle((rect_xmin_global,(rect_ymin_global-20)),rect_width,rect_height,fill=False,edgecolor='w'))\n",
    "            ax5.plot(rect_xmin_global+int(rect_width/2), tb_ymin_c_global_ycoord, marker=\"o\", markersize=5, markerfacecolor='red')\n",
    "            ax5.imshow(input_img_np[i,:,:],cmap=plt.cm.gray)\n",
    "            ax5.set_title('IW-TSE MRI 250-320_mid',fontsize=20)\n",
    "            ax5.set_aspect('equal')\n",
    "\n",
    "            ax6.add_patch(Rectangle((rect_xmin_global,(rect_ymin_global-40)),rect_width,rect_height,fill=False,edgecolor='w'))\n",
    "            ax6.plot(rect_xmin_global+int(rect_width/2), tb_ymin_c_global_ycoord, marker=\"o\", markersize=5, markerfacecolor='red')\n",
    "            ax6.imshow(input_img_np[i,:,:],cmap=plt.cm.gray)\n",
    "            ax6.set_title('IW-TSE MRI 250-320_Top',fontsize=20)\n",
    "            ax6.set_aspect('equal')\n",
    "\n",
    "            ax7.plot([tb_xmin_c_global_xcoord,tb_xmax_c_global_xcoord],[tb_xmin_c_global_ycoord,tb_xmax_c_global_ycoord],'y',lw=2)\n",
    "            ax7.plot([fb_xmin_c_global_xcoord,fb_xmax_c_global_xcoord],[fb_xmin_c_global_ycoord,fb_xmax_c_global_ycoord],'m',lw=2)\n",
    "            ax7.plot(rect_xmin_global+int(rect_width/2), tb_ymin_c_global_ycoord, marker=\"o\", markersize=5, markerfacecolor='red')\n",
    "            ax7.imshow(input_mask_np[i,:,:],cmap=plt.cm.gray)\n",
    "            ax7.set_title('IW-TSE MASK',fontsize=20)\n",
    "            ax7.set_aspect('equal')\n",
    "\n",
    "            fb_mask = input_mask_np[i,:,:].copy()\n",
    "            fb_mask[np.where(fb_mask!=1.0)]=0.0\n",
    "            fb_canny = skimage.feature.canny(fb_mask,sigma=8,low_threshold=0.37,high_threshold=0.39)\n",
    "            ax8.plot([tb_xmin_c_global_xcoord,tb_xmax_c_global_xcoord],[tb_xmin_c_global_ycoord,tb_xmax_c_global_ycoord],'y',lw=2)\n",
    "            ax8.plot([fb_xmin_c_global_xcoord,fb_xmax_c_global_xcoord],[fb_xmin_c_global_ycoord,fb_xmax_c_global_ycoord],'m',lw=2)\n",
    "            ax8.imshow(fb_canny,cmap=plt.cm.gray)\n",
    "            ax8.set_title('FEMURAL CANNY EDGE',fontsize=20)\n",
    "            ax8.set_aspect('equal')\n",
    "            \n",
    "            tb_mask = input_mask_np[i,:,:].copy()\n",
    "            tb_mask[np.where(tb_mask!=3.0)]=0.0\n",
    "            tb_canny = skimage.feature.canny(tb_mask,sigma=8,low_threshold=0.9,high_threshold=0.95)\n",
    "            ax9.plot([tb_xmin_c_global_xcoord,tb_xmax_c_global_xcoord],[tb_xmin_c_global_ycoord,tb_xmax_c_global_ycoord],'y',lw=2)\n",
    "            ax9.plot([fb_xmin_c_global_xcoord,fb_xmax_c_global_xcoord],[fb_xmin_c_global_ycoord,fb_xmax_c_global_ycoord],'m',lw=2)\n",
    "            ax9.imshow(tb_canny,cmap=plt.cm.gray)\n",
    "            ax9.set_title('TIBIAL CANNY EDGE',fontsize=20)\n",
    "            ax9.set_aspect('equal')\n",
    "            \n",
    "\n",
    "            savepath1 = str(p_compare)+'/'+control_imgs[j].split('/')[-1].split('.')[0]+'_slice_'+str(i)+'_compare.png'\n",
    "            plt.savefig(savepath1,bbox_inches='tight',dpi=100,facecolor='white')\n",
    "            plt.close()\n",
    "\n",
    "            savepath2 = str(p_crop_250_320_lat)+'/'+control_imgs[j].split('/')[-1].split('.')[0]+'_slice_'+str(i)+'_lat.png'\n",
    "            crop_img = input_img_np[i,rect_ymin_global:rect_ymin_global+rect_height,rect_xmin_global:rect_xmin_global+int(rect_width/2)]\n",
    "            crop_img_norm = (crop_img/crop_img.max())*255\n",
    "            cv2.imwrite(savepath2,crop_img_norm,[cv2.IMWRITE_WEBP_QUALITY,100])\n",
    "\n",
    "            savepath3 = str(p_crop_250_320_med)+'/'+control_imgs[j].split('/')[-1].split('.')[0]+'_slice_'+str(i)+'_med.png'\n",
    "            crop_img = input_img_np[i,(rect_ymin_global-20):rect_ymin_global+rect_height,rect_xmin_global+int(rect_width/2):rect_xmin_global+rect_width]\n",
    "            crop_img_norm = (crop_img/crop_img.max())*255\n",
    "            cv2.imwrite(savepath3,crop_img_norm,[cv2.IMWRITE_WEBP_QUALITY,100])\n",
    "\n",
    "            savepath4 = str(p_crop_250_320)+'/'+control_imgs[j].split('/')[-1].split('.')[0]+'_slice_'+str(i)+'.png'\n",
    "            crop_img = input_img_np[i,(rect_ymin_global-40):rect_ymin_global+rect_height,rect_xmin_global:rect_xmin_global+rect_width]\n",
    "            crop_img_norm = (crop_img/crop_img.max())*255\n",
    "            cv2.imwrite(savepath4,crop_img_norm,[cv2.IMWRITE_WEBP_QUALITY,100])\n",
    "\n"
   ]
  },
  {
   "cell_type": "code",
   "execution_count": null,
   "metadata": {},
   "outputs": [],
   "source": []
  }
 ],
 "metadata": {
  "interpreter": {
   "hash": "649993424da950d6720d4e5ee5cd45e310188b4d6555830498f7649bbce7d434"
  },
  "kernelspec": {
   "display_name": "Python 3.8.12 ('thesis')",
   "language": "python",
   "name": "python3"
  },
  "language_info": {
   "codemirror_mode": {
    "name": "ipython",
    "version": 3
   },
   "file_extension": ".py",
   "mimetype": "text/x-python",
   "name": "python",
   "nbconvert_exporter": "python",
   "pygments_lexer": "ipython3",
   "version": "3.8.12"
  },
  "orig_nbformat": 4
 },
 "nbformat": 4,
 "nbformat_minor": 2
}
