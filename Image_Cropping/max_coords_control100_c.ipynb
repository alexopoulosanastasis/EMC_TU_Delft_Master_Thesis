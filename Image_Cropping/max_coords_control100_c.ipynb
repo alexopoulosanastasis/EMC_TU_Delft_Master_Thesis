{
 "cells": [
  {
   "cell_type": "code",
   "execution_count": 1,
   "metadata": {},
   "outputs": [],
   "source": [
    "import numpy as np\n",
    "import SimpleITK as sitk\n",
    "import skimage\n",
    "import os, csv\n",
    "import matplotlib.pyplot as plt\n",
    "from matplotlib.patches import Rectangle\n"
   ]
  },
  {
   "cell_type": "code",
   "execution_count": 2,
   "metadata": {},
   "outputs": [
    {
     "ename": "FileNotFoundError",
     "evalue": "[Errno 2] No such file or directory: '/data/scratch/aalexopoulos/OAI_IW-TSE_control_flipped/'",
     "output_type": "error",
     "traceback": [
      "\u001b[0;31m---------------------------------------------------------------------------\u001b[0m",
      "\u001b[0;31mFileNotFoundError\u001b[0m                         Traceback (most recent call last)",
      "\u001b[1;32m/home/anastasis/EMC_Thesis/ImageCropping/max_coords_control100_c.ipynb Cell 2'\u001b[0m in \u001b[0;36m<module>\u001b[0;34m\u001b[0m\n\u001b[1;32m      <a href='vscode-notebook-cell:/home/anastasis/EMC_Thesis/ImageCropping/max_coords_control100_c.ipynb#ch0000001?line=0'>1</a>\u001b[0m control_path \u001b[39m=\u001b[39m \u001b[39m'\u001b[39m\u001b[39m/data/scratch/aalexopoulos/OAI_IW-TSE_control_flipped/\u001b[39m\u001b[39m'\u001b[39m\n\u001b[0;32m----> <a href='vscode-notebook-cell:/home/anastasis/EMC_Thesis/ImageCropping/max_coords_control100_c.ipynb#ch0000001?line=1'>2</a>\u001b[0m control_imgs \u001b[39m=\u001b[39m \u001b[39msorted\u001b[39m(os\u001b[39m.\u001b[39mpath\u001b[39m.\u001b[39mjoin(control_path, fname) \u001b[39mfor\u001b[39;00m fname \u001b[39min\u001b[39;00m os\u001b[39m.\u001b[39;49mlistdir(control_path))\n\u001b[1;32m      <a href='vscode-notebook-cell:/home/anastasis/EMC_Thesis/ImageCropping/max_coords_control100_c.ipynb#ch0000001?line=3'>4</a>\u001b[0m control_mask_path \u001b[39m=\u001b[39m \u001b[39m'\u001b[39m\u001b[39m/data/scratch/aalexopoulos/OAI_IW-TSE_control_seg_flipped/\u001b[39m\u001b[39m'\u001b[39m\n\u001b[1;32m      <a href='vscode-notebook-cell:/home/anastasis/EMC_Thesis/ImageCropping/max_coords_control100_c.ipynb#ch0000001?line=4'>5</a>\u001b[0m control_mask \u001b[39m=\u001b[39m \u001b[39msorted\u001b[39m(os\u001b[39m.\u001b[39mpath\u001b[39m.\u001b[39mjoin(control_mask_path, fname) \u001b[39mfor\u001b[39;00m fname \u001b[39min\u001b[39;00m os\u001b[39m.\u001b[39mlistdir(control_mask_path))\n",
      "\u001b[0;31mFileNotFoundError\u001b[0m: [Errno 2] No such file or directory: '/data/scratch/aalexopoulos/OAI_IW-TSE_control_flipped/'"
     ]
    }
   ],
   "source": [
    "control_path = '/data/scratch/aalexopoulos/OAI_IW-TSE_control_flipped/'\n",
    "control_imgs = sorted(os.path.join(control_path, fname) for fname in os.listdir(control_path))\n",
    "\n",
    "control_mask_path = '/data/scratch/aalexopoulos/OAI_IW-TSE_control_seg_flipped/'\n",
    "control_mask = sorted(os.path.join(control_mask_path, fname) for fname in os.listdir(control_mask_path))"
   ]
  },
  {
   "cell_type": "code",
   "execution_count": 3,
   "metadata": {},
   "outputs": [],
   "source": [
    "# FUNCTION THAT APPLIES CANNY EDGE FILTER IN EACH SLICE OF THE INPUT MASK \n",
    "# AND RETURNS THE EDGE MATRICES OF 0 AND 1 PIXEL VALUES\n",
    "\n",
    "def edges_calc(patient_mask_np):\n",
    "    edges_all = []\n",
    "    edges_fb = []\n",
    "    edges_tb = []\n",
    "    for i in range(patient_mask_np.shape[0]):\n",
    "        # The threshold is set to 500 bone pixels in order to minimize the misclassified bone pixels \n",
    "        # present in the mask that will be used for canny edge detection filters \n",
    "        # and thus in the search for min and max coords of tibia and femur bones\n",
    "        if len(np.where(patient_mask_np[i,:,:]>0.0)[0])>500:\n",
    "            edges1 = skimage.feature.canny(patient_mask_np[i,:,:],sigma=8,low_threshold=0.05,high_threshold=0.4)\n",
    "            edges_all.append(edges1)\n",
    "\n",
    "            patient_mask_np_fb = patient_mask_np[i,:,:].copy() \n",
    "            patient_mask_np_fb[np.where(patient_mask_np_fb!=1.0)]=0.0\n",
    "            edges_2 = skimage.feature.canny(patient_mask_np_fb,sigma=8,low_threshold=0.37,high_threshold=0.39)\n",
    "            edges_fb.append(edges_2)\n",
    "\n",
    "            patient_mask_np_tb = patient_mask_np[i,:,:].copy() \n",
    "            patient_mask_np_tb[np.where(patient_mask_np_tb!=3.0)]=0.0\n",
    "            edges_3 = skimage.feature.canny(patient_mask_np_tb,sigma=8,low_threshold=0.9,high_threshold=0.95)\n",
    "            edges_tb.append(edges_3)\n",
    "    \n",
    "    edges_all_np = np.array(edges_all).astype(int)\n",
    "    edges_fb_np = np.array(edges_fb).astype(int)\n",
    "    edges_tb_np = np.array(edges_tb).astype(int)\n",
    "\n",
    "    return edges_all_np, edges_fb_np, edges_tb_np\n",
    "\n"
   ]
  },
  {
   "cell_type": "code",
   "execution_count": 4,
   "metadata": {},
   "outputs": [],
   "source": [
    "# FUNCTION THAT CALCULATES THE MINIMUM AND MAXIMUM X AND Y COORDINATES\n",
    "# FOR THE FEMURAL AND TIBIAL BONES FOR EACH PATIENT\n",
    "\n",
    "# receives as input femur_edges(,384,384) and tibia_edges(,384,384)\n",
    "# and returns as output the X,Y coords of Xmin, Xmax for both Femor and Tibia Bones\n",
    "# and the X,Y coords of Ymin of the Tibial Bone\n",
    "\n",
    "# Here the thresholds are held in ZERO for the number of ones pixel values for the Canny Edge Images\n",
    "# because the minimization of misclassified bone pixels was applied in the Canny Edge calculation function\n",
    "\n",
    "def max_min_coords(femur_edges, tibia_edges):\n",
    "    #firstly find min and max X coords of FEMUR for each slice mask\n",
    "    ind_fb_xmin = []\n",
    "    ind_fb_xmax = []\n",
    "    for i in range(femur_edges.shape[0]):\n",
    "        if len(np.where(femur_edges[i,:,:]==1.0)[0])>0:\n",
    "            indices_1 = np.where(femur_edges[i,:,:]==1.0)\n",
    "            indices_1 = np.array(indices_1)\n",
    "            sorted_indices_1 = sorted((tp1 for tp1 in zip(*indices_1)), key=lambda x:x[1])\n",
    "            ind_fb_xmin.append(sorted_indices_1[0])\n",
    "            ind_fb_xmax.append(sorted_indices_1[-1])\n",
    "    \n",
    "    #secondly find min X coords of FEMUR for one input patient mask\n",
    "    ind_fb_xmin_np = np.array(ind_fb_xmin)\n",
    "    if ind_fb_xmin_np.ndim>1:    \n",
    "        ind_fb_xmin_global = ind_fb_xmin_np[np.where(ind_fb_xmin_np[:,1]==np.amin(ind_fb_xmin_np[:,1])),:]\n",
    "        if ind_fb_xmin_global.shape[1] == 1:\n",
    "            fb_xmin_global_xcoord = ind_fb_xmin_global[0][0][1]\n",
    "            fb_xmin_global_ycoord = ind_fb_xmin_global[0][0][0]\n",
    "        if ind_fb_xmin_global.shape[1] > 1:\n",
    "            idx = np.where(ind_fb_xmin_global[:,:,0] == np.min(ind_fb_xmin_global[:,:,0]))\n",
    "            fb_xmin_global_xcoord = ind_fb_xmin_global[idx][0][1]\n",
    "            fb_xmin_global_ycoord = ind_fb_xmin_global[idx][0][0]\n",
    "    xmin_femur_coords = np.array([fb_xmin_global_xcoord,fb_xmin_global_ycoord])\n",
    "\n",
    "    #thirdly find max X coords of FEMUR for one input patient mask\n",
    "    ind_fb_xmax_np = np.array(ind_fb_xmax)\n",
    "    if ind_fb_xmax_np.ndim>1:\n",
    "        ind_fb_xmax_global = ind_fb_xmax_np[np.where(ind_fb_xmax_np[:,1]==np.amax(ind_fb_xmax_np[:,1])),:]\n",
    "        if ind_fb_xmax_global.shape[1] == 1:\n",
    "            fb_xmax_global_xcoord = ind_fb_xmax_global[0][0][1]\n",
    "            fb_xmax_global_ycoord = ind_fb_xmax_global[0][0][0]\n",
    "        if ind_fb_xmax_global.shape[1] > 1:\n",
    "            idx = np.where(ind_fb_xmax_global[:,:,0] == np.max(ind_fb_xmax_global[:,:,0]))\n",
    "            fb_xmax_global_xcoord = ind_fb_xmax_global[idx][0][1]\n",
    "            fb_xmax_global_ycoord = ind_fb_xmax_global[idx][0][0]\n",
    "    xmax_femur_coords = np.array([fb_xmax_global_xcoord, fb_xmax_global_ycoord])\n",
    "\n",
    "    # NOW THE SAME FOR TIBIAL BONE\n",
    "    # Firstly find all min and max values for X coord of TIBIA for each slice\n",
    "    ind_tb_xmin = []\n",
    "    ind_tb_xmax = []\n",
    "    ind_tb_ymin = []\n",
    "    for i in range(tibia_edges.shape[0]):\n",
    "        if len(np.where(tibia_edges[i,:,:]==1.0)[0])>0:\n",
    "            indices_1 = np.where(tibia_edges[i,:,:]==1.0)\n",
    "            indices_1 = np.array(indices_1)\n",
    "            sorted_indices_1 = sorted((tp1 for tp1 in zip(*indices_1)), key=lambda x:x[1])\n",
    "            ind_tb_xmin.append(sorted_indices_1[0])\n",
    "            ind_tb_xmax.append(sorted_indices_1[-1])\n",
    "            sorted_indices_2 = sorted((tp2 for tp2 in zip(*indices_1)), key=lambda x:x[0])\n",
    "            ind_tb_ymin.append(sorted_indices_2[0])\n",
    "    \n",
    "    # Secondly find min values for X coord of TIBIA for one input patient mask\n",
    "    ind_tb_xmin_np = np.array(ind_tb_xmin)\n",
    "    if ind_tb_xmin_np.ndim>1:\n",
    "        ind_tb_xmin_global = ind_tb_xmin_np[np.where(ind_tb_xmin_np[:,1]==np.amin(ind_tb_xmin_np[:,1])),:]\n",
    "        if ind_tb_xmin_global.shape[1]==1:    \n",
    "            tb_xmin_global_xcoord = ind_tb_xmin_global[0][0][1]\n",
    "            tb_xmin_global_ycoord = ind_tb_xmin_global[0][0][0]\n",
    "        if ind_tb_xmin_global.shape[1]>1:\n",
    "            idx = np.where(ind_tb_xmin_global[:,:,0]==np.min(ind_tb_xmin_global[:,:,0]))\n",
    "            tb_xmin_global_xcoord = ind_tb_xmin_global[idx][0][1]\n",
    "            tb_xmin_global_ycoord = ind_tb_xmin_global[idx][0][0]\n",
    "    xmin_tibia_coords = np.array([tb_xmin_global_xcoord,tb_xmin_global_ycoord])\n",
    "\n",
    "    # Thirdly find max values for X coord of TIBIA for one input patient mask\n",
    "    ind_tb_xmax_np = np.array(ind_tb_xmax)\n",
    "    if ind_tb_xmax_np.ndim>1:\n",
    "        ind_tb_xmax_global = ind_tb_xmax_np[np.where(ind_tb_xmax_np[:,1]==np.amax(ind_tb_xmax_np[:,1])),:]\n",
    "        if ind_tb_xmax_global.shape[1]==1 :\n",
    "            tb_xmax_global_xcoord = ind_tb_xmax_global[0][0][1]\n",
    "            tb_xmax_global_ycoord = ind_tb_xmax_global[0][0][0]\n",
    "        if ind_tb_xmax_global.shape[1]>1 :\n",
    "            idx = np.where(ind_tb_xmax_global[:,:,0]==np.max(ind_tb_xmax_global[:,:,0]))\n",
    "            tb_xmax_global_xcoord = ind_tb_xmax_global[idx][0][1]\n",
    "            tb_xmax_global_ycoord = ind_tb_xmax_global[idx][0][0]\n",
    "    xmax_tibia_coords = np.array([tb_xmax_global_xcoord,tb_xmax_global_ycoord])\n",
    "\n",
    "    # Fourthly find min values for Y coord of TIBIA for one input patient mask\n",
    "    ind_tb_ymin_np = np.array(ind_tb_ymin)\n",
    "    if ind_tb_ymin_np.ndim>1:\n",
    "        ind_tb_ymin_global = ind_tb_ymin_np[np.where(ind_tb_ymin_np[:,0]==np.amin(ind_tb_ymin_np[:,0])),:]\n",
    "        if ind_tb_ymin_global.shape[1]==1:    \n",
    "            tb_ymin_global_xcoord = ind_tb_ymin_global[0][0][1]\n",
    "            tb_ymin_global_ycoord = ind_tb_ymin_global[0][0][0]\n",
    "        if ind_tb_ymin_global.shape[1]>1:\n",
    "            idx = np.where(ind_tb_ymin_global[:,:,1]==np.amin(ind_tb_ymin_global[:,:,1]))\n",
    "            tb_ymin_global_xcoord = ind_tb_ymin_global[idx][0][1]\n",
    "            tb_ymin_global_ycoord = ind_tb_ymin_global[idx][0][0]\n",
    "    ymin_tibia_coords = np.array([tb_ymin_global_xcoord,tb_ymin_global_ycoord])\n",
    "\n",
    "    return xmin_femur_coords, xmax_femur_coords, xmin_tibia_coords, xmax_tibia_coords, ymin_tibia_coords"
   ]
  },
  {
   "cell_type": "code",
   "execution_count": 5,
   "metadata": {},
   "outputs": [],
   "source": [
    "# HERE WE CREATE THE LISTS THAT WILL HOLD THE COORDINDATES OF MIN AND MAX TIBIAL AND FEMURAL VALUES\n",
    "control_femural_edges_50 = []\n",
    "control_tibial_edges_50 = []\n",
    "\n",
    "control_fb_xmin_c_50 = []\n",
    "control_fb_xmax_c_50 = []\n",
    "control_tb_xmin_c_50 = []\n",
    "control_tb_xmax_c_50 = []\n",
    "control_tb_ymin_c_50 = []\n",
    "\n",
    "# bla = ['p_num','FB Xmin Xcoord','FB Xmin Ycoord','FB Xmax Xcoord', 'FB Xmax Ycoord',\n",
    "        # 'TB Xmin Xcoord','TB Xmin Ycoord','TB Xmax Xcoord', 'TB Xmax Ycoord','TB Ymin Xcoord','TB Ymin Ycoord']\n",
    "\n",
    "control_all_coords_50 = np.empty((0,11),dtype=int)\n"
   ]
  },
  {
   "cell_type": "code",
   "execution_count": 6,
   "metadata": {},
   "outputs": [
    {
     "ename": "NameError",
     "evalue": "name 'control_imgs' is not defined",
     "output_type": "error",
     "traceback": [
      "\u001b[0;31m---------------------------------------------------------------------------\u001b[0m",
      "\u001b[0;31mNameError\u001b[0m                                 Traceback (most recent call last)",
      "\u001b[1;32m/home/anastasis/EMC_Thesis/ImageCropping/max_coords_control100_c.ipynb Cell 6'\u001b[0m in \u001b[0;36m<module>\u001b[0;34m\u001b[0m\n\u001b[1;32m      <a href='vscode-notebook-cell:/home/anastasis/EMC_Thesis/ImageCropping/max_coords_control100_c.ipynb#ch0000005?line=0'>1</a>\u001b[0m k \u001b[39m=\u001b[39m \u001b[39m0\u001b[39m\n\u001b[0;32m----> <a href='vscode-notebook-cell:/home/anastasis/EMC_Thesis/ImageCropping/max_coords_control100_c.ipynb#ch0000005?line=2'>3</a>\u001b[0m \u001b[39mfor\u001b[39;00m i \u001b[39min\u001b[39;00m \u001b[39mrange\u001b[39m(\u001b[39m0\u001b[39m,\u001b[39mlen\u001b[39m(control_imgs[:\u001b[39m50\u001b[39m])):\n\u001b[1;32m      <a href='vscode-notebook-cell:/home/anastasis/EMC_Thesis/ImageCropping/max_coords_control100_c.ipynb#ch0000005?line=3'>4</a>\u001b[0m     mask \u001b[39m=\u001b[39m sitk\u001b[39m.\u001b[39mReadImage(control_mask[i])\n\u001b[1;32m      <a href='vscode-notebook-cell:/home/anastasis/EMC_Thesis/ImageCropping/max_coords_control100_c.ipynb#ch0000005?line=4'>5</a>\u001b[0m     mask_np \u001b[39m=\u001b[39m sitk\u001b[39m.\u001b[39mGetArrayFromImage(mask)\n",
      "\u001b[0;31mNameError\u001b[0m: name 'control_imgs' is not defined"
     ]
    }
   ],
   "source": [
    "k = 0\n",
    "\n",
    "for i in range(0,len(control_imgs[:50])):\n",
    "    p_num = control_imgs[i].split('/')[-1]\n",
    "    mask = sitk.ReadImage(control_mask[i])\n",
    "    mask_np = sitk.GetArrayFromImage(mask)\n",
    "    \n",
    "    image = sitk.ReadImage(control_imgs[i])\n",
    "    image_np = sitk.GetArrayFromImage(image)\n",
    "\n",
    "    knee_edges, fb_edges, tb_edges = edges_calc(mask_np)\n",
    "    control_femural_edges_50.append(fb_edges)\n",
    "    control_tibial_edges_50.append(tb_edges)\n",
    "\n",
    "    fb_xmin_c, fb_xmax_c, tb_xmin_c, tb_xmax_c, tb_ymin_c = max_min_coords(fb_edges, tb_edges)\n",
    "    \n",
    "    control_fb_xmin_c_50.append(fb_xmin_c)\n",
    "    control_fb_xmax_c_50.append(fb_xmax_c)\n",
    "    control_tb_xmin_c_50.append(tb_xmin_c)\n",
    "    control_tb_xmax_c_50.append(tb_xmax_c)\n",
    "    control_tb_ymin_c_50.append(tb_ymin_c)\n",
    "    all_info = np.array([[k,fb_xmin_c[0],fb_xmin_c[1],fb_xmax_c[0],fb_xmax_c[1],tb_xmin_c[0],tb_xmin_c[1],tb_xmax_c[0],tb_xmax_c[1],tb_ymin_c[0],tb_ymin_c[1]]])\n",
    "    control_all_coords_50 = np.append(control_all_coords_50,all_info,axis=0)\n",
    "    \n",
    "    print(control_imgs[i].split('/')[-1],k)\n",
    "    k = k +1\n"
   ]
  },
  {
   "cell_type": "code",
   "execution_count": null,
   "metadata": {},
   "outputs": [],
   "source": [
    "control_fb_xmax_c_all_patients_np = np.array(control_fb_xmax_c_all_patients)\n",
    "control_fb_xmin_c_all_patients_np = np.array(control_fb_xmin_c_all_patients)\n",
    "control_tb_xmax_c_all_patients_np = np.array(control_tb_xmax_c_all_patients)\n",
    "control_tb_xmin_c_all_patients_np = np.array(control_tb_xmin_c_all_patients)\n",
    "control_tb_ymin_c_all_patients_np = np.array(control_tb_ymin_c_all_patients)"
   ]
  },
  {
   "cell_type": "code",
   "execution_count": null,
   "metadata": {},
   "outputs": [],
   "source": [
    "save_path_50 = '/data/scratch/aalexopoulos/coords_outputs/all_control_50_coords.csv'\n",
    "np.savetxt(save_path_50,control_all_coords_50,delimiter=',')\n"
   ]
  },
  {
   "cell_type": "code",
   "execution_count": 94,
   "metadata": {},
   "outputs": [
    {
     "name": "stdout",
     "output_type": "stream",
     "text": [
      "Global control femural xmax x coord: 350, y coord: 157\n",
      "Global control femural xmin x coord: 59, y coord: 128\n",
      "Global control tibial xmax x coord: 340, y coord: 269\n",
      "Global control tibial xmin x coord: 66, y coord: 235\n",
      "Global control tibial ymin x coord: 153, y coord: 212\n"
     ]
    }
   ],
   "source": [
    "fb_xmax_c_global = control_fb_xmax_c_50_np[np.where(control_fb_xmax_c_50_np[:,0] == np.amax(control_fb_xmax_c_50_np[:,0]))]\n",
    "fb_xmax_c_global_xcoord = fb_xmax_c_global[0][0]\n",
    "fb_xmax_c_global_ycoord = fb_xmax_c_global[0][1]\n",
    "print('Global control femural xmax x coord: {}, y coord: {}'.format(fb_xmax_c_global_xcoord, fb_xmax_c_global_ycoord))\n",
    "print(control_imgs[int(np.where(control_fb_xmax_c_50_np[:,0] == np.amax(control_fb_xmax_c_50_np[:,0]))[0])].split('/')[-1])\n",
    "\n",
    "fb_xmin_c_global = control_fb_xmin_c_50_np[np.where(control_fb_xmin_c_50_np[:,0] == np.amin(control_fb_xmin_c_50_np[:,0]))]\n",
    "fb_xmin_c_global_xcoord = fb_xmin_c_global[0][0]\n",
    "fb_xmin_c_global_ycoord = fb_xmin_c_global[0][1]\n",
    "print('Global control femural xmin x coord: {}, y coord: {}'.format(fb_xmin_c_global_xcoord, fb_xmin_c_global_ycoord))\n",
    "print(control_imgs[int(np.where(control_fb_xmin_c_50_np[:,0] == np.amin(control_fb_xmin_c_50_np[:,0]))[0])].split('/')[-1])\n",
    "\n",
    "tb_xmax_c_global = control_tb_xmax_c_50_np[np.where(control_tb_xmax_c_50_np[:,0] == np.amax(control_tb_xmax_c_50_np[:,0]))]\n",
    "tb_xmax_c_global_xcoord = tb_xmax_c_global[0][0]\n",
    "tb_xmax_c_global_ycoord = tb_xmax_c_global[0][1]\n",
    "print('Global control tibial xmax x coord: {}, y coord: {}'.format(tb_xmax_c_global_xcoord, tb_xmax_c_global_ycoord))\n",
    "print(control_imgs[int(np.where(control_tb_xmax_c_50_np[:,0] == np.amax(control_tb_xmax_c_50_np[:,0]))[0])].split('/')[-1])\n",
    "\n",
    "tb_xmin_c_global = control_tb_xmin_c_50_np[np.where(control_tb_xmin_c_50_np[:,0] == np.amin(control_tb_xmin_c_50_np[:,0]))]\n",
    "tb_xmin_c_global_xcoord = tb_xmin_c_global[0][0]\n",
    "tb_xmin_c_global_ycoord = tb_xmin_c_global[0][1]\n",
    "print('Global control tibial xmin x coord: {}, y coord: {}'.format(tb_xmin_c_global_xcoord, tb_xmin_c_global_ycoord))\n",
    "print(control_imgs[int(np.where(control_tb_xmin_c_50_np[:,0] == np.amin(control_tb_xmin_c_50_np[:,0]))[0])].split('/')[-1])\n",
    "\n",
    "tb_ymin_c_global = control_tb_ymin_c_50_np[np.where(control_tb_ymin_c_50_np[:,1] == np.amin(control_tb_ymin_c_50_np[:,1]))]\n",
    "tb_ymin_c_global_xcoord = tb_ymin_c_global[0][0]\n",
    "tb_ymin_c_global_ycoord = tb_ymin_c_global[0][1]\n",
    "print('Global control tibial ymin x coord: {}, y coord: {}'.format(tb_ymin_c_global_xcoord, tb_ymin_c_global_ycoord))\n",
    "print(control_imgs[int(np.where(control_tb_ymin_c_50_np[:,1] == np.amin(control_tb_ymin_c_50_np[:,1]))[0])].split('/')[-1])\n",
    "tb_ymin_c_global, tb_xmin_c_global, tb_xmax_c_global, fb_xmin_c_global, fb_xmax_c_global\n",
    "\n",
    "# bla = ['p_num','FB Xmin Xcoord','FB Xmin Ycoord','FB Xmax Xcoord', 'FB Xmax Ycoord',\n",
    "        # 'TB Xmin Xcoord','TB Xmin Ycoord','TB Xmax Xcoord', 'TB Xmax Ycoord','TB Ymin Xcoord','TB Ymin Ycoord']"
   ]
  },
  {
   "cell_type": "code",
   "execution_count": null,
   "metadata": {},
   "outputs": [],
   "source": [
    "global_control_coords = {'Global Control FB xmax x coord':fb_xmax_c_global_xcoord,'Global Control FB xmax y coord':fb_xmax_c_global_ycoord,\n",
    "                        'Global Control FB xmin x coord':fb_xmin_c_global_xcoord,'Global Control FB xmin y coord':fb_xmin_c_global_ycoord,\n",
    "                        'Global Control TB xmax x coord':tb_xmax_c_global_xcoord,'Global Control tb xmax y coord':tb_xmax_c_global_ycoord,\n",
    "                        'Global Control tb xmin x coord':tb_xmin_c_global_xcoord,'Global Control tb xmin y coord':tb_xmin_c_global_ycoord,\n",
    "                        'Global Control tb ymin x coord':tb_ymin_c_global_xcoord,'Global Control tb ymin y coord':tb_ymin_c_global_ycoord}\n",
    "\n",
    "with open('/data/scratch/aalexopoulos/coords_outputs/global_control_50_coords.csv','w') as f:\n",
    "    for key in global_control_coords.keys():\n",
    "        f.write(\"%s, %s\\n\" % (key, global_control_coords[key]))"
   ]
  },
  {
   "cell_type": "code",
   "execution_count": 95,
   "metadata": {},
   "outputs": [
    {
     "name": "stdout",
     "output_type": "stream",
     "text": [
      "[[ 66 235]\n",
      " [ 59 128]]\n",
      "Rect xmin coord: 59, ymin coord: 128\n",
      "[[340 269]\n",
      " [350 157]]\n",
      "Rect xmax coord: 350, ymax coord: 269\n",
      "Rect Width: 291, Rect Height: 141\n"
     ]
    }
   ],
   "source": [
    "xmin_coords = np.array([[tb_xmin_c_global_xcoord,tb_xmin_c_global_ycoord],[fb_xmin_c_global_xcoord,fb_xmin_c_global_ycoord]])\n",
    "xmin_coords_idx = np.where(xmin_coords[:,0]==np.amin(xmin_coords[:,0]))\n",
    "rect_xmin_global = xmin_coords[xmin_coords_idx][0,0]\n",
    "\n",
    "ymin_coords_idx = np.where(xmin_coords[:,1]==np.amin(xmin_coords[:,1]))\n",
    "rect_ymin_global = xmin_coords[ymin_coords_idx][0,1]\n",
    "\n",
    "xmax_coords = np.array([[tb_xmax_c_global_xcoord,tb_xmax_c_global_ycoord],[fb_xmax_c_global_xcoord,fb_xmax_c_global_ycoord]])\n",
    "xmax_coords_idx = np.where(xmax_coords[:,0]==np.amax(xmax_coords[:,0]))\n",
    "rect_xmax_global = xmax_coords[xmax_coords_idx][0,0]\n",
    "\n",
    "ymax_coords_idx = np.where(xmax_coords[:,1]==np.amax(xmax_coords[:,1]))\n",
    "rect_ymax_global = xmax_coords[ymax_coords_idx][0,1]\n",
    "\n",
    "print('RECTANGULAR COORDS FOR CONTROL GROUP')\n",
    "print(xmin_coords)\n",
    "print('Rect xmin coord: {}, ymin coord: {}'.format(rect_xmin_global, rect_ymin_global))\n",
    "print(xmax_coords)\n",
    "print('Rect xmax coord: {}, ymax coord: {}'.format(rect_xmax_global, rect_ymax_global))\n",
    "\n",
    "rect_width = rect_xmax_global-rect_xmin_global\n",
    "rect_height = rect_ymax_global-rect_ymin_global\n",
    "\n",
    "print('Rect Width: {}, Rect Height: {}'.format(rect_width,rect_height))"
   ]
  },
  {
   "cell_type": "code",
   "execution_count": null,
   "metadata": {},
   "outputs": [],
   "source": [
    "rect_control_coords = {'control rect xmin coord': rect_xmin_global,'control rect ymin coord': rect_ymin_global, \n",
    "                        'control rect xmax coord': rect_xmax_global,'control rect ymax coord': rect_ymax_global,\n",
    "                        'control rect width': rect_width,'control rect height': rect_height }\n",
    "with open('/data/scratch/aalexopoulos/coords_outputs/rect_control_100_coords.csv','w') as f:\n",
    "    for key in rect_control_coords.keys():\n",
    "        f.write(\"%s, %s\\n\" % (key, rect_control_coords[key]))"
   ]
  },
  {
   "cell_type": "markdown",
   "metadata": {},
   "source": [
    "### HERE 50-100 ###"
   ]
  },
  {
   "cell_type": "code",
   "execution_count": null,
   "metadata": {},
   "outputs": [],
   "source": [
    "# HERE WE CREATE THE LISTS THAT WILL HOLD THE COORDINDATES OF MIN AND MAX TIBIAL AND FEMURAL VALUES\n",
    "control_femural_edges_50_100 = []\n",
    "control_tibial_edges_50_100 = []\n",
    "\n",
    "control_fb_xmin_c_50_100 = []\n",
    "control_fb_xmax_c_50_100 = []\n",
    "control_tb_xmin_c_50_100 = []\n",
    "control_tb_xmax_c_50_100 = []\n",
    "control_tb_ymin_c_50_100 = []\n",
    "\n",
    "# bla = ['p_num','FB Xmin Xcoord','FB Xmin Ycoord','FB Xmax Xcoord', 'FB Xmax Ycoord',\n",
    "        # 'TB Xmin Xcoord','TB Xmin Ycoord','TB Xmax Xcoord', 'TB Xmax Ycoord','TB Ymin Xcoord','TB Ymin Ycoord']\n",
    "\n",
    "control_all_coords_50_100 = np.empty((0,11),dtype=int)\n"
   ]
  },
  {
   "cell_type": "code",
   "execution_count": null,
   "metadata": {},
   "outputs": [
    {
     "ename": "NameError",
     "evalue": "name 'control_imgs' is not defined",
     "output_type": "error",
     "traceback": [
      "\u001b[0;31m---------------------------------------------------------------------------\u001b[0m\n",
      "\u001b[0;31mNameError\u001b[0m                                 Traceback (most recent call last)\n",
      "\u001b[1;32m/home/anastasis/EMC_Thesis/ImageCropping/max_coords_control100_c.ipynb Cell 6'\u001b[0m in \u001b[0;36m<module>\u001b[0;34m\u001b[0m\n",
      "\u001b[1;32m      <a href='vscode-notebook-cell:/home/anastasis/EMC_Thesis/ImageCropping/max_coords_control100_c.ipynb#ch0000005?line=0'>1</a>\u001b[0m k \u001b[39m=\u001b[39m \u001b[39m0\u001b[39m\n",
      "\u001b[0;32m----> <a href='vscode-notebook-cell:/home/anastasis/EMC_Thesis/ImageCropping/max_coords_control100_c.ipynb#ch0000005?line=2'>3</a>\u001b[0m \u001b[39mfor\u001b[39;00m i \u001b[39min\u001b[39;00m \u001b[39mrange\u001b[39m(\u001b[39m0\u001b[39m,\u001b[39mlen\u001b[39m(control_imgs[:\u001b[39m50\u001b[39m])):\n",
      "\u001b[1;32m      <a href='vscode-notebook-cell:/home/anastasis/EMC_Thesis/ImageCropping/max_coords_control100_c.ipynb#ch0000005?line=3'>4</a>\u001b[0m     mask \u001b[39m=\u001b[39m sitk\u001b[39m.\u001b[39mReadImage(control_mask[i])\n",
      "\u001b[1;32m      <a href='vscode-notebook-cell:/home/anastasis/EMC_Thesis/ImageCropping/max_coords_control100_c.ipynb#ch0000005?line=4'>5</a>\u001b[0m     mask_np \u001b[39m=\u001b[39m sitk\u001b[39m.\u001b[39mGetArrayFromImage(mask)\n",
      "\n",
      "\u001b[0;31mNameError\u001b[0m: name 'control_imgs' is not defined"
     ]
    }
   ],
   "source": [
    "k = 0\n",
    "\n",
    "for i in range(50,len(control_imgs[:100])):\n",
    "    p_num = control_imgs[i].split('/')[-1]\n",
    "    mask = sitk.ReadImage(control_mask[i])\n",
    "    mask_np = sitk.GetArrayFromImage(mask)\n",
    "    \n",
    "    image = sitk.ReadImage(control_imgs[i])\n",
    "    image_np = sitk.GetArrayFromImage(image)\n",
    "\n",
    "    knee_edges, fb_edges, tb_edges = edges_calc(mask_np)\n",
    "    control_femural_edges_50_100.append(fb_edges)\n",
    "    control_tibial_edges_50_100.append(tb_edges)\n",
    "\n",
    "    fb_xmin_c, fb_xmax_c, tb_xmin_c, tb_xmax_c, tb_ymin_c = max_min_coords(fb_edges, tb_edges)\n",
    "    \n",
    "    control_fb_xmin_c_50_100.append(fb_xmin_c)\n",
    "    control_fb_xmax_c_50_100.append(fb_xmax_c)\n",
    "    control_tb_xmin_c_50_100.append(tb_xmin_c)\n",
    "    control_tb_xmax_c_50_100.append(tb_xmax_c)\n",
    "    control_tb_ymin_c_50_100.append(tb_ymin_c)\n",
    "    all_info = np.array([[k,fb_xmin_c[0],fb_xmin_c[1],fb_xmax_c[0],fb_xmax_c[1],tb_xmin_c[0],tb_xmin_c[1],tb_xmax_c[0],tb_xmax_c[1],tb_ymin_c[0],tb_ymin_c[1]]])\n",
    "    control_all_coords_50_100 = np.append(control_all_coords_50_100,all_info,axis=0)\n",
    "    \n",
    "    print(control_imgs[i].split('/')[-1],k)\n",
    "    k = k +1\n"
   ]
  },
  {
   "cell_type": "code",
   "execution_count": null,
   "metadata": {},
   "outputs": [],
   "source": [
    "control_fb_xmax_c_all_patients_np = np.array(control_fb_xmax_c_all_patients)\n",
    "control_fb_xmin_c_all_patients_np = np.array(control_fb_xmin_c_all_patients)\n",
    "control_tb_xmax_c_all_patients_np = np.array(control_tb_xmax_c_all_patients)\n",
    "control_tb_xmin_c_all_patients_np = np.array(control_tb_xmin_c_all_patients)\n",
    "control_tb_ymin_c_all_patients_np = np.array(control_tb_ymin_c_all_patients)"
   ]
  },
  {
   "cell_type": "code",
   "execution_count": null,
   "metadata": {},
   "outputs": [],
   "source": [
    "save_path_50_100 = '/data/scratch/aalexopoulos/coords_outputs/all_control_50_100_coords.csv'\n",
    "np.savetxt(save_path_50_100,control_all_coords_50_100,delimiter=',')\n"
   ]
  },
  {
   "cell_type": "code",
   "execution_count": null,
   "metadata": {},
   "outputs": [
    {
     "name": "stdout",
     "output_type": "stream",
     "text": [
      "Global control femural xmax x coord: 350, y coord: 157\n",
      "Global control femural xmin x coord: 59, y coord: 128\n",
      "Global control tibial xmax x coord: 340, y coord: 269\n",
      "Global control tibial xmin x coord: 66, y coord: 235\n",
      "Global control tibial ymin x coord: 153, y coord: 212\n"
     ]
    }
   ],
   "source": [
    "fb_xmax_c_global = control_fb_xmax_c_50_100_np[np.where(control_fb_xmax_c_50_100_np[:,0] == np.amax(control_fb_xmax_c_50_100_np[:,0]))]\n",
    "fb_xmax_c_global_xcoord = fb_xmax_c_global[0][0]\n",
    "fb_xmax_c_global_ycoord = fb_xmax_c_global[0][1]\n",
    "print('Global control femural xmax x coord: {}, y coord: {}'.format(fb_xmax_c_global_xcoord, fb_xmax_c_global_ycoord))\n",
    "print(control_imgs[int(np.where(control_fb_xmax_c_50_100_np[:,0] == np.amax(control_fb_xmax_c_50_100_np[:,0]))[0])].split('/')[-1])\n",
    "\n",
    "fb_xmin_c_global = control_fb_xmin_c_50_100_np[np.where(control_fb_xmin_c_50_100_np[:,0] == np.amin(control_fb_xmin_c_50_100_np[:,0]))]\n",
    "fb_xmin_c_global_xcoord = fb_xmin_c_global[0][0]\n",
    "fb_xmin_c_global_ycoord = fb_xmin_c_global[0][1]\n",
    "print('Global control femural xmin x coord: {}, y coord: {}'.format(fb_xmin_c_global_xcoord, fb_xmin_c_global_ycoord))\n",
    "print(control_imgs[int(np.where(control_fb_xmin_c_50_100_np[:,0] == np.amin(control_fb_xmin_c_50_100_np[:,0]))[0])].split('/')[-1])\n",
    "\n",
    "tb_xmax_c_global = control_tb_xmax_c_50_100_np[np.where(control_tb_xmax_c_50_100_np[:,0] == np.amax(control_tb_xmax_c_50_100_np[:,0]))]\n",
    "tb_xmax_c_global_xcoord = tb_xmax_c_global[0][0]\n",
    "tb_xmax_c_global_ycoord = tb_xmax_c_global[0][1]\n",
    "print('Global control tibial xmax x coord: {}, y coord: {}'.format(tb_xmax_c_global_xcoord, tb_xmax_c_global_ycoord))\n",
    "print(control_imgs[int(np.where(control_tb_xmax_c_50_100_np[:,0] == np.amax(control_tb_xmax_c_50_100_np[:,0]))[0])].split('/')[-1])\n",
    "\n",
    "tb_xmin_c_global = control_tb_xmin_c_50_100_np[np.where(control_tb_xmin_c_50_100_np[:,0] == np.amin(control_tb_xmin_c_50_100_np[:,0]))]\n",
    "tb_xmin_c_global_xcoord = tb_xmin_c_global[0][0]\n",
    "tb_xmin_c_global_ycoord = tb_xmin_c_global[0][1]\n",
    "print('Global control tibial xmin x coord: {}, y coord: {}'.format(tb_xmin_c_global_xcoord, tb_xmin_c_global_ycoord))\n",
    "print(control_imgs[int(np.where(control_tb_xmin_c_50_100_np[:,0] == np.amin(control_tb_xmin_c_50_100_np[:,0]))[0])].split('/')[-1])\n",
    "\n",
    "tb_ymin_c_global = control_tb_ymin_c_50_100_np[np.where(control_tb_ymin_c_50_100_np[:,1] == np.amin(control_tb_ymin_c_50_100_np[:,1]))]\n",
    "tb_ymin_c_global_xcoord = tb_ymin_c_global[0][0]\n",
    "tb_ymin_c_global_ycoord = tb_ymin_c_global[0][1]\n",
    "print('Global control tibial ymin x coord: {}, y coord: {}'.format(tb_ymin_c_global_xcoord, tb_ymin_c_global_ycoord))\n",
    "print(control_imgs[int(np.where(control_tb_ymin_c_50_100_np[:,1] == np.amin(control_tb_ymin_c_50_100_np[:,1]))[0])].split('/')[-1])\n",
    "tb_ymin_c_global, tb_xmin_c_global, tb_xmax_c_global, fb_xmin_c_global, fb_xmax_c_global\n",
    "\n",
    "# bla = ['p_num','FB Xmin Xcoord','FB Xmin Ycoord','FB Xmax Xcoord', 'FB Xmax Ycoord',\n",
    "        # 'TB Xmin Xcoord','TB Xmin Ycoord','TB Xmax Xcoord', 'TB Xmax Ycoord','TB Ymin Xcoord','TB Ymin Ycoord']"
   ]
  },
  {
   "cell_type": "code",
   "execution_count": null,
   "metadata": {},
   "outputs": [],
   "source": [
    "global_control_coords = {'Global Control FB xmax x coord':fb_xmax_c_global_xcoord,'Global Control FB xmax y coord':fb_xmax_c_global_ycoord,\n",
    "                        'Global Control FB xmin x coord':fb_xmin_c_global_xcoord,'Global Control FB xmin y coord':fb_xmin_c_global_ycoord,\n",
    "                        'Global Control TB xmax x coord':tb_xmax_c_global_xcoord,'Global Control tb xmax y coord':tb_xmax_c_global_ycoord,\n",
    "                        'Global Control tb xmin x coord':tb_xmin_c_global_xcoord,'Global Control tb xmin y coord':tb_xmin_c_global_ycoord,\n",
    "                        'Global Control tb ymin x coord':tb_ymin_c_global_xcoord,'Global Control tb ymin y coord':tb_ymin_c_global_ycoord}\n",
    "\n",
    "with open('/data/scratch/aalexopoulos/coords_outputs/global_control_100_coords.csv','w') as f:\n",
    "    for key in global_control_coords.keys():\n",
    "        f.write(\"%s, %s\\n\" % (key, global_control_coords[key]))"
   ]
  },
  {
   "cell_type": "code",
   "execution_count": null,
   "metadata": {},
   "outputs": [
    {
     "name": "stdout",
     "output_type": "stream",
     "text": [
      "[[ 66 235]\n",
      " [ 59 128]]\n",
      "Rect xmin coord: 59, ymin coord: 128\n",
      "[[340 269]\n",
      " [350 157]]\n",
      "Rect xmax coord: 350, ymax coord: 269\n",
      "Rect Width: 291, Rect Height: 141\n"
     ]
    }
   ],
   "source": [
    "xmin_coords = np.array([[tb_xmin_c_global_xcoord,tb_xmin_c_global_ycoord],[fb_xmin_c_global_xcoord,fb_xmin_c_global_ycoord]])\n",
    "xmin_coords_idx = np.where(xmin_coords[:,0]==np.amin(xmin_coords[:,0]))\n",
    "rect_xmin_global = xmin_coords[xmin_coords_idx][0,0]\n",
    "\n",
    "ymin_coords_idx = np.where(xmin_coords[:,1]==np.amin(xmin_coords[:,1]))\n",
    "rect_ymin_global = xmin_coords[ymin_coords_idx][0,1]\n",
    "\n",
    "xmax_coords = np.array([[tb_xmax_c_global_xcoord,tb_xmax_c_global_ycoord],[fb_xmax_c_global_xcoord,fb_xmax_c_global_ycoord]])\n",
    "xmax_coords_idx = np.where(xmax_coords[:,0]==np.amax(xmax_coords[:,0]))\n",
    "rect_xmax_global = xmax_coords[xmax_coords_idx][0,0]\n",
    "\n",
    "ymax_coords_idx = np.where(xmax_coords[:,1]==np.amax(xmax_coords[:,1]))\n",
    "rect_ymax_global = xmax_coords[ymax_coords_idx][0,1]\n",
    "\n",
    "print('RECTANGULAR COORDS FOR CONTROL GROUP')\n",
    "print(xmin_coords)\n",
    "print('Rect xmin coord: {}, ymin coord: {}'.format(rect_xmin_global, rect_ymin_global))\n",
    "print(xmax_coords)\n",
    "print('Rect xmax coord: {}, ymax coord: {}'.format(rect_xmax_global, rect_ymax_global))\n",
    "\n",
    "rect_width = rect_xmax_global-rect_xmin_global\n",
    "rect_height = rect_ymax_global-rect_ymin_global\n",
    "\n",
    "print('Rect Width: {}, Rect Height: {}'.format(rect_width,rect_height))"
   ]
  },
  {
   "cell_type": "code",
   "execution_count": null,
   "metadata": {},
   "outputs": [],
   "source": [
    "rect_control_coords = {'control rect xmin coord': rect_xmin_global,'control rect ymin coord': rect_ymin_global, \n",
    "                        'control rect xmax coord': rect_xmax_global,'control rect ymax coord': rect_ymax_global,\n",
    "                        'control rect width': rect_width,'control rect height': rect_height }\n",
    "with open('/data/scratch/aalexopoulos/coords_outputs/rect_control_100_coords.csv','w') as f:\n",
    "    for key in rect_control_coords.keys():\n",
    "        f.write(\"%s, %s\\n\" % (key, rect_control_coords[key]))"
   ]
  }
 ],
 "metadata": {
  "interpreter": {
   "hash": "649993424da950d6720d4e5ee5cd45e310188b4d6555830498f7649bbce7d434"
  },
  "kernelspec": {
   "display_name": "Python 3.8.12 ('thesis')",
   "language": "python",
   "name": "python3"
  },
  "language_info": {
   "codemirror_mode": {
    "name": "ipython",
    "version": 3
   },
   "file_extension": ".py",
   "mimetype": "text/x-python",
   "name": "python",
   "nbconvert_exporter": "python",
   "pygments_lexer": "ipython3",
   "version": "3.8.12"
  },
  "orig_nbformat": 4
 },
 "nbformat": 4,
 "nbformat_minor": 2
}
