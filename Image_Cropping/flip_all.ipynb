{
 "cells": [
  {
   "cell_type": "code",
   "execution_count": 2,
   "metadata": {},
   "outputs": [],
   "source": [
    "import numpy as np\n",
    "import SimpleITK as sitk\n",
    "import os, shutil\n",
    "import matplotlib.pyplot as plt\n",
    "from matplotlib.patches import Rectangle\n",
    "import nibabel as nib\n"
   ]
  },
  {
   "cell_type": "code",
   "execution_count": 4,
   "metadata": {},
   "outputs": [],
   "source": [
    "control_path = '/media/anastasis/My Harddisk2/ThesisImages/OAI_IW-TSE_control/'\n",
    "control_imgs = sorted(os.path.join(control_path, fname) for fname in os.listdir(control_path))\n",
    "\n",
    "control_mask_path = '/media/anastasis/My Harddisk2/ThesisImages/OAI_IW-TSE_control_seg/'\n",
    "control_mask = sorted(os.path.join(control_mask_path, fname) for fname in os.listdir(control_mask_path))"
   ]
  },
  {
   "cell_type": "code",
   "execution_count": 5,
   "metadata": {},
   "outputs": [
    {
     "data": {
      "text/plain": [
       "('/media/anastasis/My Harddisk2/ThesisImages/OAI_IW-TSE_control/9001400_IW-TSE_R.nii.gz',\n",
       " '/media/anastasis/My Harddisk2/ThesisImages/OAI_IW-TSE_control_seg/9001400_DESS_R_seg.nii.gz',\n",
       " 433,\n",
       " 433,\n",
       " '9001400',\n",
       " '9001400_DESS_R_seg')"
      ]
     },
     "execution_count": 5,
     "metadata": {},
     "output_type": "execute_result"
    }
   ],
   "source": [
    "control_imgs[0], control_mask[0], len(control_imgs), len(control_mask), control_imgs[0].split('/')[-1].split('.')[0][:7], control_mask[0].split('/')[-1].split('.')[0]\n",
    "\n"
   ]
  },
  {
   "cell_type": "code",
   "execution_count": 6,
   "metadata": {},
   "outputs": [],
   "source": [
    "control_imgs_flipped_path = '/media/anastasis/My Harddisk2/ThesisImages/OAI_IW-TSE_control_flipped/'\n",
    "control_segs_flipped_path = '/media/anastasis/My Harddisk2/ThesisImages/OAI_IW-TSE_control_seg_flipped/'\n"
   ]
  },
  {
   "cell_type": "code",
   "execution_count": 46,
   "metadata": {},
   "outputs": [],
   "source": [
    "for i in range(300,len(control_imgs)):\n",
    "    if control_imgs[i].endswith('_R.nii.gz'):\n",
    "        img_id = control_imgs[i].split('/')[-1]\n",
    "        img_path = control_imgs_flipped_path+img_id\n",
    "        shutil.copyfile(control_imgs[i],img_path)\n",
    "\n",
    "        mask_id = control_mask[i].split('/')[-1][:7]\n",
    "        mask_path = control_segs_flipped_path+mask_id+'_IW-TSE_R_seg.nii.gz'\n",
    "        shutil.copyfile(control_mask[i],mask_path)\n",
    "        # print(img_path,mask_path)\n",
    "    if control_imgs[i].endswith('_L.nii.gz'):\n",
    "        img_id = control_imgs[i].split('/')[-1].split('.')[0]\n",
    "        img_path = control_imgs_flipped_path+img_id\n",
    "        img = sitk.ReadImage(control_imgs[i])\n",
    "        img_np = sitk.GetArrayFromImage(img)\n",
    "        img_flipped = []\n",
    "\n",
    "        mask_id = control_mask[i].split('/')[-1].split('.')[0]\n",
    "        mask_path = control_segs_flipped_path+mask_id\n",
    "        mask = sitk.ReadImage(control_mask[i])\n",
    "        mask_np = sitk.GetArrayFromImage(mask)\n",
    "        mask_flipped = []\n",
    "\n",
    "        for k in range(img_np.shape[0]):\n",
    "            img_temp = img_np[k,:,:]\n",
    "            img_temp_fl = np.fliplr(img_temp)\n",
    "            img_flipped.append(img_temp_fl)\n",
    "\n",
    "            mask_temp = mask_np[k,:,:]\n",
    "            mask_temp_fl = np.fliplr(mask_temp)\n",
    "            mask_flipped.append(mask_temp_fl)\n",
    "\n",
    "        img_flipped_np = np.array(img_flipped)\n",
    "        mask_flipped_np = np.array(mask_flipped)\n",
    "\n",
    "        img_flipped_sitk = sitk.GetImageFromArray(img_flipped_np)\n",
    "        nifti_img_writer = sitk.ImageFileWriter()\n",
    "        nifti_img_writer.SetImageIO('NiftiImageIO')\n",
    "        nifti_img_out_path = control_imgs_flipped_path+img_id+'.nii.gz'\n",
    "        nifti_img_writer.SetFileName(nifti_img_out_path)\n",
    "        nifti_img_writer.Execute(img_flipped_sitk)\n",
    "\n",
    "        mask_flipped_sitk = sitk.GetImageFromArray(mask_flipped_np)\n",
    "        nifti_mask_writer = sitk.ImageFileWriter()\n",
    "        nifti_mask_writer.SetImageIO('NiftiImageIO')\n",
    "        nifti_mask_out_path = control_segs_flipped_path+img_id+'_seg.nii.gz'\n",
    "        nifti_mask_writer.SetFileName(nifti_mask_out_path)\n",
    "        nifti_mask_writer.Execute(mask_flipped_sitk)\n",
    "\n",
    "\n",
    "\n",
    "\n"
   ]
  },
  {
   "cell_type": "code",
   "execution_count": 47,
   "metadata": {},
   "outputs": [],
   "source": [
    "progress_path = '/media/anastasis/My Harddisk2/ThesisImages/OAI_IW-TSE_progress/'\n",
    "progress_imgs = sorted(os.path.join(progress_path, fname) for fname in os.listdir(progress_path))\n",
    "\n",
    "progress_mask_path = '/media/anastasis/My Harddisk2/ThesisImages/OAI_IW-TSE_progress_seg/'\n",
    "progress_mask = sorted(os.path.join(progress_mask_path, fname) for fname in os.listdir(progress_mask_path))"
   ]
  },
  {
   "cell_type": "code",
   "execution_count": 48,
   "metadata": {},
   "outputs": [],
   "source": [
    "progress_imgs_flipped_path = '/media/anastasis/My Harddisk2/ThesisImages/OAI_IW-TSE_progress_flipped/'\n",
    "progress_segs_flipped_path = '/media/anastasis/My Harddisk2/ThesisImages/OAI_IW-TSE_progress_seg_flipped/'\n"
   ]
  },
  {
   "cell_type": "code",
   "execution_count": 50,
   "metadata": {},
   "outputs": [],
   "source": [
    "for i in range(len(progress_imgs)):\n",
    "    if progress_imgs[i].endswith('_R.nii.gz'):\n",
    "        img_id = progress_imgs[i].split('/')[-1]\n",
    "        img_path = progress_imgs_flipped_path+img_id\n",
    "        shutil.copyfile(progress_imgs[i],img_path)\n",
    "\n",
    "        mask_id = progress_mask[i].split('/')[-1][:7]\n",
    "        mask_path = progress_segs_flipped_path+mask_id+'_IW-TSE_R_seg.nii.gz'\n",
    "        shutil.copyfile(progress_mask[i],mask_path)\n",
    "        # print(img_path,mask_path)\n",
    "    if progress_imgs[i].endswith('_L.nii.gz'):\n",
    "        img_id = progress_imgs[i].split('/')[-1].split('.')[0]\n",
    "        img_path = progress_imgs_flipped_path+img_id\n",
    "        img = sitk.ReadImage(progress_imgs[i])\n",
    "        img_np = sitk.GetArrayFromImage(img)\n",
    "        img_flipped = []\n",
    "\n",
    "        mask_id = progress_mask[i].split('/')[-1].split('.')[0]\n",
    "        mask_path = progress_segs_flipped_path+mask_id\n",
    "        mask = sitk.ReadImage(progress_mask[i])\n",
    "        mask_np = sitk.GetArrayFromImage(mask)\n",
    "        mask_flipped = []\n",
    "\n",
    "        for k in range(img_np.shape[0]):\n",
    "            img_temp = img_np[k,:,:]\n",
    "            img_temp_fl = np.fliplr(img_temp)\n",
    "            img_flipped.append(img_temp_fl)\n",
    "\n",
    "            mask_temp = mask_np[k,:,:]\n",
    "            mask_temp_fl = np.fliplr(mask_temp)\n",
    "            mask_flipped.append(mask_temp_fl)\n",
    "\n",
    "        img_flipped_np = np.array(img_flipped)\n",
    "        mask_flipped_np = np.array(mask_flipped)\n",
    "\n",
    "        img_flipped_sitk = sitk.GetImageFromArray(img_flipped_np)\n",
    "        nifti_img_writer = sitk.ImageFileWriter()\n",
    "        nifti_img_writer.SetImageIO('NiftiImageIO')\n",
    "        nifti_img_out_path = progress_imgs_flipped_path+img_id+'.nii.gz'\n",
    "        nifti_img_writer.SetFileName(nifti_img_out_path)\n",
    "        nifti_img_writer.Execute(img_flipped_sitk)\n",
    "\n",
    "        mask_flipped_sitk = sitk.GetImageFromArray(mask_flipped_np)\n",
    "        nifti_mask_writer = sitk.ImageFileWriter()\n",
    "        nifti_mask_writer.SetImageIO('NiftiImageIO')\n",
    "        nifti_mask_out_path = progress_segs_flipped_path+img_id+'_seg.nii.gz'\n",
    "        nifti_mask_writer.SetFileName(nifti_mask_out_path)\n",
    "        nifti_mask_writer.Execute(mask_flipped_sitk)\n",
    "\n",
    "    # if i==5:\n",
    "    #     break\n"
   ]
  },
  {
   "cell_type": "code",
   "execution_count": 42,
   "metadata": {},
   "outputs": [
    {
     "data": {
      "text/plain": [
       "((41, 384, 384), (41, 384, 384))"
      ]
     },
     "execution_count": 42,
     "metadata": {},
     "output_type": "execute_result"
    }
   ],
   "source": [
    "test_orig = sitk.ReadImage('/media/anastasis/My Harddisk2/ThesisImages/OAI_IW-TSE_progress_seg/9002316_DESS_L_seg.nii.gz')\n",
    "test_orig_np = sitk.GetArrayFromImage(test_orig)\n",
    "test_flip = sitk.ReadImage('/media/anastasis/My Harddisk2/ThesisImages/OAI_IW-TSE_progress_seg_flipped/9002316_IW-TSE_L_seg.nii.gz')\n",
    "test_flip_np = sitk.GetArrayFromImage(test_flip)\n",
    "\n",
    "test_orig_np.shape, test_flip_np.shape"
   ]
  }
 ],
 "metadata": {
  "interpreter": {
   "hash": "649993424da950d6720d4e5ee5cd45e310188b4d6555830498f7649bbce7d434"
  },
  "kernelspec": {
   "display_name": "Python 3.8.12 ('thesis')",
   "language": "python",
   "name": "python3"
  },
  "language_info": {
   "codemirror_mode": {
    "name": "ipython",
    "version": 3
   },
   "file_extension": ".py",
   "mimetype": "text/x-python",
   "name": "python",
   "nbconvert_exporter": "python",
   "pygments_lexer": "ipython3",
   "version": "3.8.12"
  },
  "orig_nbformat": 4
 },
 "nbformat": 4,
 "nbformat_minor": 2
}
