{
 "cells": [
  {
   "cell_type": "code",
   "execution_count": 1,
   "metadata": {},
   "outputs": [
    {
     "name": "stdout",
     "output_type": "stream",
     "text": [
      "2.6.2\n"
     ]
    }
   ],
   "source": [
    "import os,glob\n",
    "import nibabel as nib\n",
    "import tensorflow as tf\n",
    "import numpy as np\n",
    "import matplotlib.pyplot as plt\n",
    "import cv2\n",
    "import pandas as pd\n",
    "from tensorflow.keras.utils import Sequence\n",
    "from tensorflow.keras.utils import to_categorical\n",
    "from tensorflow.keras.models import Sequential\n",
    "from tensorflow.keras.preprocessing.image import load_img\n",
    "\n",
    "print(tf.__version__)\n"
   ]
  },
  {
   "cell_type": "code",
   "execution_count": 2,
   "metadata": {},
   "outputs": [],
   "source": [
    "# tf.debugging.set_log_device_placement(True)\n"
   ]
  },
  {
   "cell_type": "code",
   "execution_count": 3,
   "metadata": {},
   "outputs": [
    {
     "data": {
      "text/plain": [
       "True"
      ]
     },
     "execution_count": 3,
     "metadata": {},
     "output_type": "execute_result"
    }
   ],
   "source": [
    "tf.test.is_built_with_cuda()"
   ]
  },
  {
   "cell_type": "code",
   "execution_count": 4,
   "metadata": {},
   "outputs": [
    {
     "data": {
      "text/plain": [
       "<tensorflow.python.client.session.InteractiveSession at 0x7fd0a68c17f0>"
      ]
     },
     "execution_count": 4,
     "metadata": {},
     "output_type": "execute_result"
    }
   ],
   "source": [
    "# Set seed value\n",
    "seed_value = 1\n",
    "os.environ['PYTHONHASHSEED'] = str(seed_value)\n",
    "# set python built-in pseudo-random generator at a fixed value\n",
    "import random\n",
    "random.seed(seed_value)\n",
    "# set numpy pseudo-random generator at a fixed value\n",
    "np.random.seed(seed_value)\n",
    "# from comet_ml import Experiment\n",
    "# Set tensorflow pseudo-random generator at a fixed value\n",
    "tf.random.set_seed(seed_value)\n",
    "# Configure a new global tensorflow session\n",
    "from tensorflow.python.keras import backend as K \n",
    "session_conf = tf.compat.v1.ConfigProto()\n",
    "session_conf.gpu_options.allow_growth = True\n",
    "sess = tf.compat.v1.Session(graph=tf.compat.v1.get_default_graph(),config=session_conf)\n",
    "tf.compat.v1.keras.backend.set_session(sess)\n",
    "\n",
    "session = tf.compat.v1.InteractiveSession(config=session_conf)\n",
    "session"
   ]
  },
  {
   "cell_type": "code",
   "execution_count": 5,
   "metadata": {},
   "outputs": [
    {
     "name": "stdout",
     "output_type": "stream",
     "text": [
      "Num GPUs Available:  1\n"
     ]
    }
   ],
   "source": [
    "print(\"Num GPUs Available: \", len(tf.config.list_physical_devices('GPU'))) \n",
    "# sess = tf.compat.v1.Session(config=tf.compat.v1.ConfigProto(log_device_placement=True))"
   ]
  },
  {
   "cell_type": "code",
   "execution_count": 6,
   "metadata": {},
   "outputs": [
    {
     "data": {
      "text/plain": [
       "'float16'"
      ]
     },
     "execution_count": 6,
     "metadata": {},
     "output_type": "execute_result"
    }
   ],
   "source": [
    "K.set_floatx('float16')\n",
    "K.floatx()"
   ]
  },
  {
   "cell_type": "code",
   "execution_count": 7,
   "metadata": {},
   "outputs": [],
   "source": [
    "#Defining Paths to Dataset\n",
    "dataInputPath = '/media/anastasis/My Harddisk2/ThesisImages/OAI_2/slices_2/'\n",
    "imageInputPath = os.path.join(dataInputPath, 'img_train')\n",
    "maskInputPath = os.path.join(dataInputPath, 'mask_train')\n",
    "\n",
    "input_img_paths = sorted([\n",
    "    os.path.join(imageInputPath, fname) for fname in os.listdir(imageInputPath) \n",
    "    if fname.endswith('.png') and not fname.startswith('.') \n",
    "])\n",
    "\n",
    "input_mask_paths = sorted([\n",
    "    os.path.join(maskInputPath, fname) for fname in os.listdir(maskInputPath) \n",
    "    if fname.endswith('.png') and not fname.startswith('.') \n",
    "])\n",
    "# print('Number of samples: ',  len(input_img_paths))\n",
    "# for img_path, mask_path in zip(input_img_paths[:5],input_mask_paths[:5]):\n",
    "#     print(img_path,'\\n',mask_path)"
   ]
  },
  {
   "cell_type": "code",
   "execution_count": 8,
   "metadata": {},
   "outputs": [],
   "source": [
    "file_IDs = os.listdir(imageInputPath)\n",
    "label_IDs = os.listdir(maskInputPath)"
   ]
  },
  {
   "cell_type": "code",
   "execution_count": 9,
   "metadata": {},
   "outputs": [],
   "source": [
    "from sklearn.model_selection import train_test_split\n",
    "# X_train, X_test, y_train, y_test = train_test_split(file_IDs, label_IDs, test_size=0.2, random_state=seed_value)\n",
    "X_train, X_val, y_train, y_val = train_test_split(file_IDs, label_IDs, test_size=0.2, random_state=seed_value) \n",
    "\n",
    "training_data = {'train': X_train, 'validation': X_val}\n"
   ]
  },
  {
   "cell_type": "code",
   "execution_count": 10,
   "metadata": {},
   "outputs": [],
   "source": [
    "from sklearn.preprocessing import LabelEncoder\n",
    "labelencoder = LabelEncoder()\n",
    "\n",
    "class MRIData(tf.keras.utils.Sequence):\n",
    "    'Generates data for Keras'\n",
    "    def __init__(self, list_IDs, batch_size=8, dim=(384,384), n_channels=1,\n",
    "                 n_classes=5, shuffle=True):\n",
    "        'Initialization'\n",
    "        self.dim = dim\n",
    "        self.batch_size = batch_size\n",
    "        self.list_IDs = list_IDs\n",
    "        self.n_channels = n_channels\n",
    "        self.n_classes = n_classes\n",
    "        self.shuffle = shuffle\n",
    "        self.on_epoch_end()\n",
    "\n",
    "    def __len__(self):\n",
    "        'Denotes the number of batches per epoch'\n",
    "        return int(np.floor(len(self.list_IDs) / self.batch_size))\n",
    "\n",
    "    def __getitem__(self, index):\n",
    "        'Generate one batch of data'\n",
    "        # Generate indexes of the batch\n",
    "        indexes = self.indexes[index*self.batch_size:(index+1)*self.batch_size]\n",
    "\n",
    "        # Find list of IDs\n",
    "        list_IDs_temp = [self.list_IDs[k] for k in indexes]\n",
    "\n",
    "        # Generate data\n",
    "        X, y = self.data_generation(list_IDs_temp)\n",
    "\n",
    "        return X, y\n",
    "\n",
    "    def on_epoch_end(self):\n",
    "        'Updates indexes after each epoch'\n",
    "        self.indexes = np.arange(len(self.list_IDs))\n",
    "        if self.shuffle == True:\n",
    "            np.random.shuffle(self.indexes)\n",
    "\n",
    "    def data_generation(self, list_IDs_temp):\n",
    "        'Generates data containing batch_size samples' # X : (n_samples, *dim, n_channels)\n",
    "        # Initialization\n",
    "        X = np.ones((self.batch_size, *self.dim, self.n_channels))\n",
    "        y = np.ones((self.batch_size, *self.dim, self.n_channels))\n",
    "\n",
    "        # Generate data\n",
    "        for i, ID in enumerate(list_IDs_temp):\n",
    "            # Store sample\n",
    "            ImagePath = os.path.join(imageInputPath,ID)\n",
    "            X_temp = cv2.imread(ImagePath, 0)\n",
    "            X_temp = np.array(X_temp)\n",
    "            X_temp = np.expand_dims(X_temp, axis=2)\n",
    "            X[i,:,:] = X_temp\n",
    "\n",
    "             # Store class\n",
    "            MaskPath = os.path.join(maskInputPath,ID)\n",
    "            y_temp = cv2.imread(MaskPath, 0)\n",
    "            y_temp = np.array(y_temp)\n",
    "            y_temp = np.expand_dims(y_temp, axis=2)\n",
    "            n,h,w = y_temp.shape\n",
    "            y_temp = y_temp.reshape(-1,)\n",
    "            y_temp = labelencoder.fit_transform(y_temp)\n",
    "            y_temp = y_temp.reshape(n,h,w)\n",
    "            y[i,:,:] = y_temp\n",
    "\n",
    "        return X, tf.keras.utils.to_categorical(y, num_classes=self.n_classes).astype('float16')"
   ]
  },
  {
   "cell_type": "code",
   "execution_count": 11,
   "metadata": {},
   "outputs": [
    {
     "name": "stdout",
     "output_type": "stream",
     "text": [
      "training_gen created (8, 384, 384, 5) float16\n",
      "validation_gen created (8, 384, 384, 5) float16\n"
     ]
    }
   ],
   "source": [
    "#Parameters\n",
    "params = {'dim':(384,384),\n",
    "          'batch_size':8,\n",
    "          'n_classes':5,\n",
    "          'n_channels':1,\n",
    "          'shuffle':True}\n",
    "\n",
    "partition = training_data\n",
    "training_gen = MRIData(partition['train'],**params)\n",
    "print('training_gen created',training_gen[0][1].shape,training_gen[0][1].dtype)\n",
    "# batch1 = training_gen.__getitem__(10000)\n",
    "validation_gen = MRIData(partition['validation'],**params)\n",
    "print('validation_gen created',validation_gen[0][1].shape,validation_gen[0][1].dtype)\n"
   ]
  },
  {
   "cell_type": "code",
   "execution_count": 12,
   "metadata": {},
   "outputs": [],
   "source": [
    "# Defining the DICE COEFFICIENT\n",
    "def dice_coe(output, target, loss_type='jaccard',axis=(1,2,3),smooth=1e-5):\n",
    "    inse = tf.reduce_sum(output*target, axis=axis)\n",
    "    if loss_type == 'jaccard':\n",
    "        l = tf.reduce_sum(output*output,axis=axis)\n",
    "        r = tf.reduce_sum(target*target,axis=axis)\n",
    "    elif loss_type == 'sorensen':\n",
    "        l = tf.reduce_sum(output,axis=axis)\n",
    "        r = tf.reduce_sum(target,axis=axis)\n",
    "    else:\n",
    "        raise Exception('Unknown loss_type')\n",
    "    \n",
    "    dice = (2.*inse+smooth)/(l+r+smooth)\n",
    "\n",
    "    dice = tf.reduce_mean(dice,name='dice_coe')\n",
    "    return dice"
   ]
  },
  {
   "cell_type": "code",
   "execution_count": 13,
   "metadata": {},
   "outputs": [],
   "source": [
    "# Defining the U-NET model\n",
    "\n",
    "from tensorflow.keras.layers import (BatchNormalization, Conv2D, Conv2DTranspose,Dropout, Input, Lambda, MaxPool2D, UpSampling2D,concatenate)\n",
    "from tensorflow.keras.models import Model\n",
    "\n",
    "def multi_unet_model(n_classes = 5, IMG_HEIGHT = 384, IMG_WIDTH = 384, IMG_CHANNELS = 1):\n",
    "    inputs = Input((IMG_HEIGHT,IMG_WIDTH,IMG_CHANNELS))\n",
    "    \n",
    "    #Downstream\n",
    "    c1 = Conv2D(16,(3,3), activation='relu',kernel_initializer='he_normal',padding='same')(inputs)\n",
    "    c1 = Dropout(0.1)(c1)\n",
    "    c1 = Conv2D(16,(3,3), activation='relu',kernel_initializer='he_normal',padding='same')(c1)\n",
    "    p1 = MaxPool2D((2,2))(c1)\n",
    "\n",
    "    c2 = Conv2D(32,(3,3), activation='relu',kernel_initializer='he_normal',padding='same')(p1)\n",
    "    c2 = Dropout(0.1)(c2)\n",
    "    c2 = Conv2D(32,(3,3), activation='relu',kernel_initializer='he_normal',padding='same')(c2)\n",
    "    p2 = MaxPool2D((2,2))(c2)\n",
    "\n",
    "    c3 = Conv2D(64,(3,3), activation='relu',kernel_initializer='he_normal',padding='same')(p2)\n",
    "    c3 = Dropout(0.2)(c3)\n",
    "    c3 = Conv2D(64,(3,3), activation='relu',kernel_initializer='he_normal',padding='same')(c3)\n",
    "    p3 = MaxPool2D((2,2))(c3)\n",
    "\n",
    "    c4 = Conv2D(128,(3,3), activation='relu',kernel_initializer='he_normal',padding='same')(p3)\n",
    "    c4 = Dropout(0.2)(c4)\n",
    "    c4 = Conv2D(128,(3,3), activation='relu',kernel_initializer='he_normal',padding='same')(c4)\n",
    "    p4 = MaxPool2D((2,2))(c4)\n",
    "\n",
    "    c5 = Conv2D(256,(3,3), activation='relu',kernel_initializer='he_normal',padding='same')(p4)\n",
    "    c5 = Dropout(0.3)(c5)\n",
    "    c5 = Conv2D(256,(3,3), activation='relu',kernel_initializer='he_normal',padding='same')(c5)\n",
    "\n",
    "    #UpStream\n",
    "    u6 = Conv2DTranspose(128,(2,2), strides=(2,2), padding='same')(c5)\n",
    "    u6 = concatenate([u6,c4])\n",
    "    c6 = Conv2D(128,(3,3),activation='relu',kernel_initializer='he_normal',padding='same')(u6)\n",
    "    c6 = Dropout(0.2)(c6)\n",
    "    c6 = Conv2D(128,(3,3),activation='relu',kernel_initializer='he_normal',padding='same')(c6)\n",
    "\n",
    "    u7 = Conv2DTranspose(64,(2,2), strides=(2,2), padding='same')(c6)\n",
    "    u7 = concatenate([u7,c3])\n",
    "    c7 = Conv2D(64,(3,3),activation='relu',kernel_initializer='he_normal',padding='same')(u7)\n",
    "    c7 = Dropout(0.2)(c7)\n",
    "    c7 = Conv2D(64,(3,3),activation='relu',kernel_initializer='he_normal',padding='same')(c7)\n",
    "\n",
    "    u8 = Conv2DTranspose(32,(2,2), strides=(2,2), padding='same')(c7)\n",
    "    u8 = concatenate([u8,c2])\n",
    "    c8 = Conv2D(32,(3,3),activation='relu',kernel_initializer='he_normal',padding='same')(u8)\n",
    "    c8 = Dropout(0.1)(c8)\n",
    "    c8 = Conv2D(32,(3,3),activation='relu',kernel_initializer='he_normal',padding='same')(c8)\n",
    "\n",
    "    u9 = Conv2DTranspose(32,(2,2), strides=(2,2), padding='same')(c8)\n",
    "    u9 = concatenate([u9,c1])\n",
    "    c9 = Conv2D(32,(3,3),activation='relu',kernel_initializer='he_normal',padding='same')(u9)\n",
    "    c9 = Dropout(0.1)(c9)\n",
    "    c9 = Conv2D(32,(3,3),activation='relu',kernel_initializer='he_normal',padding='same')(c9)\n",
    "\n",
    "\n",
    "    outputs = Conv2D(n_classes, (1,1), activation='softmax')(c9)\n",
    "\n",
    "    model = Model(inputs=[inputs],outputs=[outputs])\n",
    "\n",
    "    return model\n"
   ]
  },
  {
   "cell_type": "code",
   "execution_count": 15,
   "metadata": {},
   "outputs": [],
   "source": [
    "def get_model_memory_usage(batch_size, model):\n",
    "    import numpy as np\n",
    "    try:\n",
    "        from keras import backend as K\n",
    "    except:\n",
    "        from tensorflow.keras import backend as K\n",
    "\n",
    "    shapes_mem_count = 0\n",
    "    internal_model_mem_count = 0\n",
    "    for l in model.layers:\n",
    "        layer_type = l.__class__.__name__\n",
    "        if layer_type == 'Model':\n",
    "            internal_model_mem_count += get_model_memory_usage(batch_size, l)\n",
    "        single_layer_mem = 1\n",
    "        out_shape = l.output_shape\n",
    "        if type(out_shape) is list:\n",
    "            out_shape = out_shape[0]\n",
    "        for s in out_shape:\n",
    "            if s is None:\n",
    "                continue\n",
    "            single_layer_mem *= s\n",
    "        shapes_mem_count += single_layer_mem\n",
    "\n",
    "    trainable_count = np.sum([K.count_params(p) for p in model.trainable_weights])\n",
    "    non_trainable_count = np.sum([K.count_params(p) for p in model.non_trainable_weights])\n",
    "\n",
    "    number_size = 4.0\n",
    "    if K.floatx() == 'float16':\n",
    "        number_size = 2.0\n",
    "    if K.floatx() == 'float64':\n",
    "        number_size = 8.0\n",
    "\n",
    "    total_memory = number_size * (batch_size * shapes_mem_count + trainable_count + non_trainable_count)\n",
    "    gbytes = np.round(total_memory / (1024.0 ** 3), 3) + internal_model_mem_count\n",
    "    return gbytes"
   ]
  },
  {
   "cell_type": "code",
   "execution_count": 16,
   "metadata": {},
   "outputs": [
    {
     "data": {
      "text/plain": [
       "1.618"
      ]
     },
     "execution_count": 16,
     "metadata": {},
     "output_type": "execute_result"
    }
   ],
   "source": [
    "get_model_memory_usage(batch_size=8,model=multi_unet_model())"
   ]
  },
  {
   "cell_type": "code",
   "execution_count": 14,
   "metadata": {},
   "outputs": [],
   "source": [
    "dice_coefficient = dice_coe\n",
    "model = multi_unet_model()\n",
    "model.compile(optimizer='adam',loss='categorical_crossentropy',metrics=[dice_coefficient,'accuracy'])\n"
   ]
  },
  {
   "cell_type": "code",
   "execution_count": 17,
   "metadata": {},
   "outputs": [
    {
     "name": "stdout",
     "output_type": "stream",
     "text": [
      "Epoch 1/5\n",
      "6496/6496 [==============================] - 5180s 796ms/step - loss: 0.0775 - dice_coe: 0.9826 - accuracy: 0.9789 - val_loss: 0.0211 - val_dice_coe: 0.9942 - val_accuracy: 0.9921\n",
      "Epoch 2/5\n",
      "6496/6496 [==============================] - 4700s 723ms/step - loss: 0.0218 - dice_coe: 0.9940 - accuracy: 0.9919 - val_loss: 0.0189 - val_dice_coe: 0.9947 - val_accuracy: 0.9928\n",
      "Epoch 3/5\n",
      "6496/6496 [==============================] - 4701s 724ms/step - loss: 0.0194 - dice_coe: 0.9946 - accuracy: 0.9926 - val_loss: 0.0171 - val_dice_coe: 0.9951 - val_accuracy: 0.9934\n",
      "Epoch 4/5\n",
      "6496/6496 [==============================] - 4552s 701ms/step - loss: 0.0186 - dice_coe: 0.9948 - accuracy: 0.9929 - val_loss: 0.0216 - val_dice_coe: 0.9942 - val_accuracy: 0.9922\n",
      "Epoch 5/5\n",
      "6496/6496 [==============================] - 4504s 693ms/step - loss: 0.0182 - dice_coe: 0.9949 - accuracy: 0.9930 - val_loss: 0.0166 - val_dice_coe: 0.9953 - val_accuracy: 0.9935\n"
     ]
    }
   ],
   "source": [
    "batch_size_unet = 8\n",
    "epochs_unet = 5\n",
    "\n",
    "history = model.fit(training_gen,\n",
    "                    verbose = 1,\n",
    "                    epochs = epochs_unet,\n",
    "                    validation_data = validation_gen)"
   ]
  },
  {
   "cell_type": "code",
   "execution_count": 20,
   "metadata": {},
   "outputs": [
    {
     "name": "stdout",
     "output_type": "stream",
     "text": [
      "INFO:tensorflow:Assets written to: /home/anastasis/EMC_Thesis/U_NET/saved_models/B8E5/UNetX2_B8_E5/assets\n",
      "Model and model history saved\n"
     ]
    }
   ],
   "source": [
    "model.save('/home/anastasis/EMC_Thesis/U_NET/saved_models/B8E5/UNetX2'+'_B'+str(batch_size_unet)+'_E'+str(epochs_unet))\n",
    "np.save('/home/anastasis/EMC_Thesis/U_NET/saved_models/B8E5/UNetX2_history'+'_B'+str(batch_size_unet)+'_E'+str(epochs_unet)+'.npy', history.history)\n",
    "print('Model and model history saved')"
   ]
  },
  {
   "cell_type": "code",
   "execution_count": 21,
   "metadata": {},
   "outputs": [
    {
     "name": "stdout",
     "output_type": "stream",
     "text": [
      "training and validation loss saved\n"
     ]
    }
   ],
   "source": [
    "# Plot the training and the validation loss at each epoch\n",
    "train_loss = history.history['loss']\n",
    "np.savetxt(\"/home/anastasis/EMC_Thesis/U_NET/saved_models/B8E5/UNetX2_train_loss\"+'_B'+str(batch_size_unet)+'_E'+str(epochs_unet)+\".csv\", train_loss, delimiter=\",\")\n",
    "val_loss = history.history['val_loss']\n",
    "np.savetxt(\"/home/anastasis/EMC_Thesis/U_NET/saved_models/B8E5/UNetX2_val_loss\"+'_B'+str(batch_size_unet)+'_E'+str(epochs_unet)+\".csv\", val_loss, delimiter=\",\")\n",
    "epochs = range(1, (len(train_loss)+1))\n",
    "fig = plt.figure()\n",
    "plt.plot(epochs, train_loss, 'y', label='Training loss')\n",
    "plt.plot(epochs, val_loss, 'r', label='Validation loss')\n",
    "plt.title('Training and validation loss')\n",
    "plt.xlabel('Epochs')\n",
    "plt.ylabel('Loss')\n",
    "plt.legend()\n",
    "plt.savefig('/home/anastasis/EMC_Thesis/U_NET/saved_models/B8E5/UNetX2_TraiValLoss'+'_B'+str(batch_size_unet)+'_E'+str(epochs_unet)+'.png',bbox_inches='tight',dpi=100,facecolor='white')\n",
    "plt.close(fig)\n",
    "\n",
    "print('training and validation loss saved')\n"
   ]
  },
  {
   "cell_type": "code",
   "execution_count": 22,
   "metadata": {},
   "outputs": [
    {
     "name": "stdout",
     "output_type": "stream",
     "text": [
      "training and validation dice saved\n"
     ]
    },
    {
     "data": {
      "image/png": "[encoded data removed]",
      "text/plain": [
       "<Figure size 432x288 with 1 Axes>"
      ]
     },
     "metadata": {
      "needs_background": "light"
     },
     "output_type": "display_data"
    }
   ],
   "source": [
    "#plot the training and validation dice at each epoch\n",
    "train_dice = history.history['dice_coe']\n",
    "np.savetxt(\"/home/anastasis/EMC_Thesis/U_NET/saved_models/B8E5/UNetX2_train_dice\"+'_B'+str(batch_size_unet)+'_E'+str(epochs_unet)+\".csv\", train_dice, delimiter=\",\")\n",
    "val_dice = history.history['val_dice_coe']\n",
    "np.savetxt(\"/home/anastasis/EMC_Thesis/U_NET/saved_models/B8E5/UNetX2_val_dice\"+'_B'+str(batch_size_unet)+'_E'+str(epochs_unet)+\".csv\", val_dice, delimiter=\",\")\n",
    "epochs = range(1, len(train_dice) + 1)\n",
    "fig = plt.figure()\n",
    "plt.plot(epochs, train_dice, 'y', label='Training Dice')\n",
    "plt.plot(epochs, val_dice, 'r', label='Validation Dice')\n",
    "plt.title('Training and validation Dice')\n",
    "plt.xlabel('Epochs')\n",
    "plt.ylabel('Dice')\n",
    "plt.legend()\n",
    "plt.savefig('/home/anastasis/EMC_Thesis/U_NET/saved_models/B8E5/UNetX2_TrainValDice'+'_B'+str(batch_size_unet)+'_E'+str(epochs_unet)+'.png',bbox_inches='tight',dpi=100,facecolor='white')\n",
    "# plt.close(fig)\n",
    "\n",
    "print('training and validation dice saved')\n"
   ]
  },
  {
   "cell_type": "code",
   "execution_count": null,
   "metadata": {},
   "outputs": [],
   "source": []
  }
 ],
 "metadata": {
  "interpreter": {
   "hash": "904ae544174759c596af309efdc6c1352dabfd815eaa7de3ea2c0712376753c1"
  },
  "kernelspec": {
   "display_name": "Python 3",
   "language": "python",
   "name": "python3"
  },
  "language_info": {
   "codemirror_mode": {
    "name": "ipython",
    "version": 3
   },
   "file_extension": ".py",
   "mimetype": "text/x-python",
   "name": "python",
   "nbconvert_exporter": "python",
   "pygments_lexer": "ipython3",
   "version": "3.6.13"
  }
 },
 "nbformat": 4,
 "nbformat_minor": 2
}
