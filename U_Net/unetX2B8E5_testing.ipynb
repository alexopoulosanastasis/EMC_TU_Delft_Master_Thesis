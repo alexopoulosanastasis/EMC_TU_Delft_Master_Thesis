{
 "cells": [
  {
   "cell_type": "code",
   "execution_count": 1,
   "metadata": {},
   "outputs": [
    {
     "name": "stdout",
     "output_type": "stream",
     "text": [
      "2.6.2\n"
     ]
    }
   ],
   "source": [
    "import os,glob\n",
    "import nibabel as nib\n",
    "import tensorflow as tf\n",
    "import numpy as np\n",
    "import matplotlib.pyplot as plt\n",
    "import cv2\n",
    "#import pandas as pd\n",
    "from tensorflow.keras.utils import Sequence\n",
    "from tensorflow.keras.utils import to_categorical\n",
    "from tensorflow.keras.models import Sequential\n",
    "from tensorflow.keras.preprocessing.image import load_img\n",
    "\n",
    "print(tf.__version__)"
   ]
  },
  {
   "cell_type": "code",
   "execution_count": 2,
   "metadata": {},
   "outputs": [],
   "source": [
    "\n",
    "# Set seed value\n",
    "seed_value = 1\n",
    "os.environ['PYTHONHASHSEED'] = str(seed_value)\n",
    "# set python built-in pseudo-random generator at a fixed value\n",
    "import random\n",
    "random.seed(seed_value)\n",
    "# set numpy pseudo-random generator at a fixed value\n",
    "np.random.seed(seed_value)\n",
    "# from comet_ml import Experiment\n",
    "# Set tensorflow pseudo-random generator at a fixed value\n",
    "tf.random.set_seed(seed_value)\n",
    "# Configure a new global tensorflow session\n",
    "from tensorflow.python.keras import backend as K \n",
    "K.clear_session()\n",
    "# session_conf = tf.compat.v1.ConfigProto()\n",
    "# session_conf.gpu_options.allow_growth = True\n",
    "# sess = tf.compat.v1.Session(graph=tf.compat.v1.get_default_graph(),config=session_conf)\n",
    "# tf.compat.v1.keras.backend.set_session(sess)"
   ]
  },
  {
   "cell_type": "code",
   "execution_count": 3,
   "metadata": {},
   "outputs": [
    {
     "name": "stdout",
     "output_type": "stream",
     "text": [
      "Num GPUs Available:  1\n"
     ]
    }
   ],
   "source": [
    "print(\"Num GPUs Available: \", len(tf.config.list_physical_devices('GPU'))) \n"
   ]
  },
  {
   "cell_type": "code",
   "execution_count": 4,
   "metadata": {},
   "outputs": [],
   "source": [
    "# Resizing images if needed\n",
    "SIZE_X = 384\n",
    "SIZE_Y = 384\n",
    "n_classes = 5\n",
    "batch_size_unet = 8\n",
    "epochs_unet = 5\n"
   ]
  },
  {
   "cell_type": "code",
   "execution_count": 6,
   "metadata": {},
   "outputs": [],
   "source": [
    "#Defining Paths to Dataset\n",
    "# dataInputPath = '/data/scratch/aalexopoulos/'\n",
    "dataInputPath = '/media/anastasis/My Harddisk2/ThesisImages/OAI_2/slices_2/'\n",
    "imageInputPath = os.path.join(dataInputPath, 'img_test')\n",
    "maskInputPath = os.path.join(dataInputPath, 'mask_test')\n",
    "\n",
    "test_img_paths = sorted([\n",
    "    os.path.join(imageInputPath, fname) for fname in os.listdir(imageInputPath) \n",
    "    if fname.endswith('.png') and not fname.startswith('.') \n",
    "])\n",
    "\n",
    "test_mask_paths = sorted([\n",
    "    os.path.join(maskInputPath, fname) for fname in os.listdir(maskInputPath) \n",
    "    if fname.endswith('.png') and not fname.startswith('.') \n",
    "])\n",
    "# print('Number of samples: ',  len(test_img_paths))\n",
    "# for img_path, mask_path in zip(test_img_paths[:5],test_mask_paths[:5]):\n",
    "#     print(img_path,'\\n',mask_path)"
   ]
  },
  {
   "cell_type": "code",
   "execution_count": 6,
   "metadata": {},
   "outputs": [],
   "source": [
    "from sklearn.preprocessing import LabelEncoder\n",
    "labelencoder = LabelEncoder()\n",
    "\n",
    "class MRIData(tf.keras.utils.Sequence):\n",
    "    'Generates data for Keras'\n",
    "    def __init__(self, list_IDs, batch_size=8, dim=(384,384), n_channels=1,\n",
    "                 n_classes=5, shuffle=True):\n",
    "        'Initialization'\n",
    "        self.dim = dim\n",
    "        self.batch_size = batch_size\n",
    "        self.list_IDs = list_IDs\n",
    "        self.n_channels = n_channels\n",
    "        self.n_classes = n_classes\n",
    "        self.shuffle = shuffle\n",
    "        self.on_epoch_end()\n",
    "\n",
    "    def __len__(self):\n",
    "        'Denotes the number of batches per epoch'\n",
    "        return int(np.floor(len(self.list_IDs) / self.batch_size))\n",
    "\n",
    "    def __getitem__(self, index):\n",
    "        'Generate one batch of data'\n",
    "        # Generate indexes of the batch\n",
    "        indexes = self.indexes[index*self.batch_size:(index+1)*self.batch_size]\n",
    "\n",
    "        # Find list of IDs\n",
    "        list_IDs_temp = [self.list_IDs[k] for k in indexes]\n",
    "\n",
    "        # Generate data\n",
    "        X, y = self.data_generation(list_IDs_temp)\n",
    "\n",
    "        return X, y\n",
    "\n",
    "    def on_epoch_end(self):\n",
    "        'Updates indexes after each epoch'\n",
    "        self.indexes = np.arange(len(self.list_IDs))\n",
    "        if self.shuffle == True:\n",
    "            np.random.shuffle(self.indexes)\n",
    "\n",
    "    def data_generation(self, list_IDs_temp):\n",
    "        'Generates data containing batch_size samples' # X : (n_samples, *dim, n_channels)\n",
    "        # Initialization\n",
    "        X = np.ones((self.batch_size, *self.dim, self.n_channels))\n",
    "        y = np.ones((self.batch_size, *self.dim, self.n_channels))\n",
    "\n",
    "        # Generate data\n",
    "        for i, ID in enumerate(list_IDs_temp):\n",
    "            # Store sample\n",
    "            ImagePath = os.path.join(imageInputPath,ID)\n",
    "            X_temp = cv2.imread(ImagePath, 0)\n",
    "            X_temp = np.array(X_temp)\n",
    "            X_temp = np.expand_dims(X_temp, axis=2)\n",
    "            X[i,:,:] = X_temp\n",
    "\n",
    "             # Store class\n",
    "            MaskPath = os.path.join(maskInputPath,ID)\n",
    "            y_temp = cv2.imread(MaskPath, 0)\n",
    "            y_temp = np.array(y_temp)\n",
    "            y_temp = np.expand_dims(y_temp, axis=2)\n",
    "            n,h,w = y_temp.shape\n",
    "            y_temp = y_temp.reshape(-1,)\n",
    "            y_temp = labelencoder.fit_transform(y_temp)\n",
    "            y_temp = y_temp.reshape(n,h,w)\n",
    "            y[i,:,:] = y_temp\n",
    "\n",
    "        # return X.astype(np.float16), tf.keras.utils.to_categorical(y, num_classes=self.n_classes).astype(np.float16)\n",
    "        return X, tf.keras.utils.to_categorical(y,num_classes=self.n_classes).astype('float16')\n"
   ]
  },
  {
   "cell_type": "code",
   "execution_count": 7,
   "metadata": {},
   "outputs": [],
   "source": [
    "file_IDs = sorted(os.listdir(imageInputPath))\n",
    "label_IDs = sorted(os.listdir(maskInputPath))"
   ]
  },
  {
   "cell_type": "code",
   "execution_count": 8,
   "metadata": {},
   "outputs": [
    {
     "name": "stdout",
     "output_type": "stream",
     "text": [
      "testing_gen created (8, 384, 384, 5) float16\n"
     ]
    }
   ],
   "source": [
    "#Parameters\n",
    "params = {'dim':(384,384),\n",
    "          'batch_size':8,\n",
    "          'n_classes':5,\n",
    "          'n_channels':1,\n",
    "          'shuffle':True}\n",
    "\n",
    "testing_gen = MRIData(file_IDs,**params)\n",
    "print('testing_gen created',testing_gen[0][1].shape,testing_gen[0][1].dtype)\n"
   ]
  },
  {
   "cell_type": "code",
   "execution_count": 7,
   "metadata": {},
   "outputs": [],
   "source": [
    "# Defining the DICE COEFFICIENT\n",
    "def dice_coe(output, target, loss_type='jaccard',axis=(1,2,3),smooth=1e-5):\n",
    "    inse = tf.reduce_sum(output*target, axis=axis)\n",
    "    if loss_type == 'jaccard':\n",
    "        l = tf.reduce_sum(output*output,axis=axis)\n",
    "        r = tf.reduce_sum(target*target,axis=axis)\n",
    "    elif loss_type == 'sorensen':\n",
    "        l = tf.reduce_sum(output,axis=axis)\n",
    "        r = tf.reduce_sum(target,axis=axis)\n",
    "    else:\n",
    "        raise Exception('Unknown loss_type')\n",
    "    \n",
    "    dice = (2.*inse+smooth)/(l+r+smooth)\n",
    "\n",
    "    dice = tf.reduce_mean(dice,name='dice_coe')\n",
    "    return dice\n"
   ]
  },
  {
   "cell_type": "code",
   "execution_count": 8,
   "metadata": {},
   "outputs": [
    {
     "name": "stdout",
     "output_type": "stream",
     "text": [
      "WARNING:tensorflow:SavedModel saved prior to TF 2.5 detected when loading Keras model. Please ensure that you are saving the model with model.save() or tf.keras.models.save_model(), *NOT* tf.saved_model.save(). To confirm, there should be a file named \"keras_metadata.pb\" in the SavedModel directory.\n"
     ]
    }
   ],
   "source": [
    "from tensorflow.keras.models import load_model\n",
    "tf.keras.backend.clear_session()\n",
    "dependencies = {\n",
    "    'dice_coe': dice_coe\n",
    "}\n",
    "# loaded_model_B8E5 = load_model('/data/scratch/aalexopoulos/outputs/UNetX2'+'_B'+str(batch_size_unet)+'_E'+str(epochs_unet), custom_objects=dependencies)\n",
    "filename = '/home/anastasis/EMC_Thesis/U_NET/saved_models/B8E5_cluster/UNetX2'+'_B'+str(batch_size_unet)+'_E'+str(epochs_unet)\n",
    "loaded_model_B8E5 = load_model(filename,custom_objects = dependencies)"
   ]
  },
  {
   "cell_type": "code",
   "execution_count": 9,
   "metadata": {},
   "outputs": [
    {
     "data": {
      "text/plain": [
       "['loss', 'dice_coe', 'accuracy']"
      ]
     },
     "execution_count": 9,
     "metadata": {},
     "output_type": "execute_result"
    }
   ],
   "source": [
    "loaded_model_B8E5.metrics_names\n"
   ]
  },
  {
   "cell_type": "code",
   "execution_count": 12,
   "metadata": {},
   "outputs": [
    {
     "name": "stderr",
     "output_type": "stream",
     "text": [
      "2022-02-16 16:48:50.490285: W tensorflow/core/framework/cpu_allocator_impl.cc:80] Allocation of 23592960 exceeds 10% of free system memory.\n",
      "2022-02-16 16:48:50.534814: I tensorflow/compiler/mlir/mlir_graph_optimization_pass.cc:116] None of the MLIR optimization passes are enabled (registered 2)\n",
      "2022-02-16 16:48:50.553033: I tensorflow/core/platform/profile_utils/cpu_utils.cc:112] CPU Frequency: 2799925000 Hz\n",
      "2022-02-16 16:48:51.089403: W tensorflow/core/framework/cpu_allocator_impl.cc:80] Allocation of 23592960 exceeds 10% of free system memory.\n",
      "2022-02-16 16:48:51.094892: W tensorflow/core/framework/cpu_allocator_impl.cc:80] Allocation of 75497472 exceeds 10% of free system memory.\n",
      "2022-02-16 16:48:51.177600: W tensorflow/core/framework/cpu_allocator_impl.cc:80] Allocation of 75497472 exceeds 10% of free system memory.\n",
      "2022-02-16 16:48:51.244933: W tensorflow/core/framework/cpu_allocator_impl.cc:80] Allocation of 37748736 exceeds 10% of free system memory.\n"
     ]
    },
    {
     "name": "stdout",
     "output_type": "stream",
     "text": [
      "2020/2020 [==============================] - 3006s 1s/step - loss: 0.0161 - dice_coe: 0.9954 - accuracy: 0.9937\n"
     ]
    }
   ],
   "source": [
    "y_eval = loaded_model_B8E5.evaluate(testing_gen,\n",
    "            batch_size = batch_size_unet,\n",
    "            verbose=1)\n"
   ]
  },
  {
   "cell_type": "code",
   "execution_count": 13,
   "metadata": {},
   "outputs": [
    {
     "data": {
      "text/plain": [
       "array([0.01606861, 0.99539304, 0.99371314])"
      ]
     },
     "execution_count": 13,
     "metadata": {},
     "output_type": "execute_result"
    }
   ],
   "source": [
    "y_eval = np.array(y_eval)\n",
    "y_eval"
   ]
  },
  {
   "cell_type": "code",
   "execution_count": 14,
   "metadata": {},
   "outputs": [],
   "source": [
    "# np.savetxt('/data/scratch/aalexopoulos/outputs/UNetX2_eval'+'_B'+str(batch_size_unet)+'_E'+str(epochs_unet)+'.csv',y_eval,delimiter = ',')\n",
    "np.savetxt('/home/anastasis/EMC_Thesis/U_NET/saved_models/B8E5_cluster/UNetX2_eval'+'_B'+str(batch_size_unet)+'_E'+str(epochs_unet)+'.csv',y_eval,delimiter = ',')\n"
   ]
  },
  {
   "cell_type": "code",
   "execution_count": 10,
   "metadata": {},
   "outputs": [
    {
     "name": "stdout",
     "output_type": "stream",
     "text": [
      "Test Images loaded:  (160, 384, 384)\n"
     ]
    }
   ],
   "source": [
    "# Capture training image info as a list\n",
    "test_images = []\n",
    "\n",
    "for filename in test_img_paths[-160:]:\n",
    "    img = cv2.imread(filename,cv2.IMREAD_UNCHANGED)\n",
    "    test_images.append(img)\n",
    "\n",
    "\n",
    "test_images = np.array(test_images)\n",
    "print('Test Images loaded: ',test_images.shape)\n"
   ]
  },
  {
   "cell_type": "code",
   "execution_count": 11,
   "metadata": {},
   "outputs": [
    {
     "name": "stdout",
     "output_type": "stream",
     "text": [
      "Test Masks Loaded:  (160, 384, 384)\n"
     ]
    }
   ],
   "source": [
    "test_masks = []\n",
    "\n",
    "for filename in test_mask_paths[-160:]:\n",
    "    img = cv2.imread(filename,0)\n",
    "    test_masks.append(img)\n",
    "\n",
    "test_masks = np.array(test_masks)\n",
    "print('Test Masks Loaded: ',test_masks.shape)"
   ]
  },
  {
   "cell_type": "code",
   "execution_count": 12,
   "metadata": {},
   "outputs": [
    {
     "name": "stdout",
     "output_type": "stream",
     "text": [
      "Test_masks_encoded_original_shape loaded:  (160, 384, 384)\n"
     ]
    }
   ],
   "source": [
    "from sklearn.preprocessing import LabelEncoder\n",
    "labelencoder = LabelEncoder()\n",
    "n, h , w = test_masks.shape\n",
    "test_masks_reshaped = test_masks.reshape(-1,)\n",
    "test_masks_reshaped_encoded = labelencoder.fit_transform(test_masks_reshaped)\n",
    "test_masks_encoded_original_shape  = test_masks_reshaped_encoded.reshape(n, h, w)\n",
    "print('Test_masks_encoded_original_shape loaded: ', test_masks_encoded_original_shape.shape)"
   ]
  },
  {
   "cell_type": "code",
   "execution_count": 13,
   "metadata": {},
   "outputs": [
    {
     "name": "stdout",
     "output_type": "stream",
     "text": [
      "(160, 384, 384, 1) (160, 384, 384, 1)\n"
     ]
    }
   ],
   "source": [
    "test_images_input = np.expand_dims(test_images,axis=3)\n",
    "test_masks_input = np.expand_dims(test_masks_encoded_original_shape, axis=3)\n",
    "print(test_masks_input.shape, test_images_input.shape)\n",
    "\n",
    "# test_masks_cat = to_categorical(test_masks_input,num_classes=n_classes)\n",
    "\n",
    "# print(test_masks_cat.shape, np.unique(test_masks_cat[0][100]), np.unique(test_masks_cat))"
   ]
  },
  {
   "cell_type": "code",
   "execution_count": 14,
   "metadata": {},
   "outputs": [
    {
     "name": "stdout",
     "output_type": "stream",
     "text": [
      "20/20 [==============================] - 9s 150ms/step\n"
     ]
    }
   ],
   "source": [
    "y_pred = loaded_model_B8E5.predict(test_images_input,batch_size = batch_size_unet,verbose=1)"
   ]
  },
  {
   "cell_type": "code",
   "execution_count": 20,
   "metadata": {},
   "outputs": [
    {
     "data": {
      "text/plain": [
       "(160, 384, 384, 5)"
      ]
     },
     "execution_count": 20,
     "metadata": {},
     "output_type": "execute_result"
    }
   ],
   "source": [
    "y_pred.shape\n",
    "# np.argmax(y_pred, axis=3).shape"
   ]
  },
  {
   "cell_type": "code",
   "execution_count": 15,
   "metadata": {},
   "outputs": [
    {
     "name": "stdout",
     "output_type": "stream",
     "text": [
      "IoU for background is:  0.99196494\n",
      "IoU for femoral bone is:  0.9696482\n",
      "IoU for femoral cartilage is:  0.797973\n",
      "IoU for tibial bone is:  0.96512794\n",
      "IoU for tibial cartilage is:  0.7411861\n"
     ]
    }
   ],
   "source": [
    "\n",
    "# y_pred=loaded_model.predict(testing_gen)\n",
    "y_pred_argmax=np.argmax(y_pred, axis=3)\n",
    "\n",
    "#Using built in keras function to get the Mean Intersection over Union\n",
    "from tensorflow.keras.metrics import MeanIoU\n",
    "\n",
    "n_classes = 5\n",
    "IOU_keras = MeanIoU(num_classes=n_classes)  \n",
    "IOU_keras.update_state(test_masks_input[:,:,:,0], y_pred_argmax)\n",
    "mean_IoU = IOU_keras.result().numpy()\n",
    "\n",
    "\n",
    "#To calculate IoU for each class..but still have to change this to Dice-score\n",
    "values = np.array(IOU_keras.get_weights()).reshape(n_classes, n_classes)\n",
    "\n",
    "class1_IoU = values[0,0]/(values[0,0] + values[0,1] + values[0,2] + values[0,3] + values[0,4]+ values[1,0]+ values[2,0]+ values[3,0]+ values[4,0])\n",
    "class2_IoU = values[1,1]/(values[1,1] + values[1,0] + values[1,2] + values[1,3] + values[1,4]+ values[0,1]+ values[2,1]+ values[3,1]+ values[4,1])\n",
    "class3_IoU = values[2,2]/(values[2,2] + values[2,0] + values[2,1] + values[2,3] + values[2,4]+ values[0,2]+ values[1,2]+ values[3,2]+ values[4,2])\n",
    "class4_IoU = values[3,3]/(values[3,3] + values[3,0] + values[3,1] + values[3,2] + values[4,2]+ values[0,3]+ values[1,3]+ values[2,3]+ values[4,3])\n",
    "class5_IoU = values[4,4]/(values[4,4] + values[4,0] + values[4,1] + values[4,2] + values[4,3]+ values[0,4]+ values[1,4]+ values[2,4]+ values[3,4])\n",
    "\n",
    "print(\"IoU for background is: \", class1_IoU)\n",
    "print(\"IoU for femoral bone is: \", class2_IoU)\n",
    "print(\"IoU for femoral cartilage is: \", class3_IoU)\n",
    "print(\"IoU for tibial bone is: \", class4_IoU)\n",
    "print(\"IoU for tibial cartilage is: \", class5_IoU)\n",
    "\n",
    "results_IoU = np.array([mean_IoU,class1_IoU,class2_IoU,class3_IoU,class4_IoU,class5_IoU])\n",
    "# np.savetxt(\"/data/scratch/aalexopoulos/outputs/UNetX2_results_IoU\"+'_B'+str(batch_size_unet)+'_E'+str(epochs_unet)+\".csv\", results_IoU, delimiter=\",\")\n",
    "np.savetxt(\"/home/anastasis/EMC_Thesis/U_NET/saved_models/B8E5_cluster/UNetX2_results_IoU\"+'_B'+str(batch_size_unet)+'_E'+str(epochs_unet)+\".csv\", results_IoU, delimiter=\",\")\n"
   ]
  },
  {
   "cell_type": "code",
   "execution_count": 22,
   "metadata": {},
   "outputs": [
    {
     "name": "stdout",
     "output_type": "stream",
     "text": [
      "(1, 384, 384, 1) (384, 384, 1)\n"
     ]
    },
    {
     "data": {
      "image/png": "[encoded data removed]",
      "text/plain": [
       "<Figure size 864x576 with 3 Axes>"
      ]
     },
     "metadata": {
      "needs_background": "light"
     },
     "output_type": "display_data"
    }
   ],
   "source": [
    "#Predict on a few images\n",
    "import random\n",
    "\n",
    "test_img_number = random.randint(0, len(test_images_input))\n",
    "test_img =test_img_paths[test_img_number]\n",
    "ImagePath = test_img\n",
    "test_img = load_img(ImagePath, color_mode=\"grayscale\")\n",
    "test_img = np.expand_dims(test_img, 2)\n",
    "test_img_input= np.expand_dims(test_img, axis=0)\n",
    "ground_truth=test_mask_paths[test_img_number]\n",
    "MaskPath = ground_truth\n",
    "ground_truth = load_img(MaskPath, color_mode=\"grayscale\")\n",
    "ground_truth = np.expand_dims(ground_truth, 2)\n",
    "print(test_img_input.shape, ground_truth.shape)\n",
    "prediction = loaded_model_B8E5.predict(test_img_input)\n",
    "predicted_img = np.argmax(prediction, axis=3)\n",
    "\n",
    "\n",
    "\n",
    "fig = plt.figure(figsize=(12, 8))\n",
    "plt.subplot(231)\n",
    "plt.title('Testing Image')\n",
    "plt.imshow(test_img[:,:], cmap='gray')\n",
    "plt.subplot(232)\n",
    "plt.title('Testing Label')\n",
    "plt.imshow(ground_truth[:,:], cmap='gray')\n",
    "plt.subplot(233)\n",
    "plt.title('Prediction on test image')\n",
    "plt.imshow(predicted_img[0,:,:], cmap='gray')\n",
    "savepath = '/home/anastasis/EMC_Thesis/U_NET/saved_models/B8E5_cluster/predictions/UNetX2_pred_{}_B{}_E{}.png'.format(str(test_img_number),str(batch_size_unet),str(epochs_unet))\n",
    "plt.savefig(savepath,bbox_inches='tight',dpi=100,facecolor='white')\n",
    "plt.show()"
   ]
  },
  {
   "cell_type": "code",
   "execution_count": 23,
   "metadata": {},
   "outputs": [
    {
     "name": "stdout",
     "output_type": "stream",
     "text": [
      "Model: \"model\"\n",
      "__________________________________________________________________________________________________\n",
      "Layer (type)                    Output Shape         Param #     Connected to                     \n",
      "==================================================================================================\n",
      "input_1 (InputLayer)            [(None, 384, 384, 1) 0                                            \n",
      "__________________________________________________________________________________________________\n",
      "conv2d (Conv2D)                 (None, 384, 384, 16) 160         input_1[0][0]                    \n",
      "__________________________________________________________________________________________________\n",
      "dropout (Dropout)               (None, 384, 384, 16) 0           conv2d[0][0]                     \n",
      "__________________________________________________________________________________________________\n",
      "conv2d_1 (Conv2D)               (None, 384, 384, 16) 2320        dropout[0][0]                    \n",
      "__________________________________________________________________________________________________\n",
      "max_pooling2d (MaxPooling2D)    (None, 192, 192, 16) 0           conv2d_1[0][0]                   \n",
      "__________________________________________________________________________________________________\n",
      "conv2d_2 (Conv2D)               (None, 192, 192, 32) 4640        max_pooling2d[0][0]              \n",
      "__________________________________________________________________________________________________\n",
      "dropout_1 (Dropout)             (None, 192, 192, 32) 0           conv2d_2[0][0]                   \n",
      "__________________________________________________________________________________________________\n",
      "conv2d_3 (Conv2D)               (None, 192, 192, 32) 9248        dropout_1[0][0]                  \n",
      "__________________________________________________________________________________________________\n",
      "max_pooling2d_1 (MaxPooling2D)  (None, 96, 96, 32)   0           conv2d_3[0][0]                   \n",
      "__________________________________________________________________________________________________\n",
      "conv2d_4 (Conv2D)               (None, 96, 96, 64)   18496       max_pooling2d_1[0][0]            \n",
      "__________________________________________________________________________________________________\n",
      "dropout_2 (Dropout)             (None, 96, 96, 64)   0           conv2d_4[0][0]                   \n",
      "__________________________________________________________________________________________________\n",
      "conv2d_5 (Conv2D)               (None, 96, 96, 64)   36928       dropout_2[0][0]                  \n",
      "__________________________________________________________________________________________________\n",
      "max_pooling2d_2 (MaxPooling2D)  (None, 48, 48, 64)   0           conv2d_5[0][0]                   \n",
      "__________________________________________________________________________________________________\n",
      "conv2d_6 (Conv2D)               (None, 48, 48, 128)  73856       max_pooling2d_2[0][0]            \n",
      "__________________________________________________________________________________________________\n",
      "dropout_3 (Dropout)             (None, 48, 48, 128)  0           conv2d_6[0][0]                   \n",
      "__________________________________________________________________________________________________\n",
      "conv2d_7 (Conv2D)               (None, 48, 48, 128)  147584      dropout_3[0][0]                  \n",
      "__________________________________________________________________________________________________\n",
      "max_pooling2d_3 (MaxPooling2D)  (None, 24, 24, 128)  0           conv2d_7[0][0]                   \n",
      "__________________________________________________________________________________________________\n",
      "conv2d_8 (Conv2D)               (None, 24, 24, 256)  295168      max_pooling2d_3[0][0]            \n",
      "__________________________________________________________________________________________________\n",
      "dropout_4 (Dropout)             (None, 24, 24, 256)  0           conv2d_8[0][0]                   \n",
      "__________________________________________________________________________________________________\n",
      "conv2d_9 (Conv2D)               (None, 24, 24, 256)  590080      dropout_4[0][0]                  \n",
      "__________________________________________________________________________________________________\n",
      "conv2d_transpose (Conv2DTranspo (None, 48, 48, 128)  131200      conv2d_9[0][0]                   \n",
      "__________________________________________________________________________________________________\n",
      "concatenate (Concatenate)       (None, 48, 48, 256)  0           conv2d_transpose[0][0]           \n",
      "                                                                 conv2d_7[0][0]                   \n",
      "__________________________________________________________________________________________________\n",
      "conv2d_10 (Conv2D)              (None, 48, 48, 128)  295040      concatenate[0][0]                \n",
      "__________________________________________________________________________________________________\n",
      "dropout_5 (Dropout)             (None, 48, 48, 128)  0           conv2d_10[0][0]                  \n",
      "__________________________________________________________________________________________________\n",
      "conv2d_11 (Conv2D)              (None, 48, 48, 128)  147584      dropout_5[0][0]                  \n",
      "__________________________________________________________________________________________________\n",
      "conv2d_transpose_1 (Conv2DTrans (None, 96, 96, 64)   32832       conv2d_11[0][0]                  \n",
      "__________________________________________________________________________________________________\n",
      "concatenate_1 (Concatenate)     (None, 96, 96, 128)  0           conv2d_transpose_1[0][0]         \n",
      "                                                                 conv2d_5[0][0]                   \n",
      "__________________________________________________________________________________________________\n",
      "conv2d_12 (Conv2D)              (None, 96, 96, 64)   73792       concatenate_1[0][0]              \n",
      "__________________________________________________________________________________________________\n",
      "dropout_6 (Dropout)             (None, 96, 96, 64)   0           conv2d_12[0][0]                  \n",
      "__________________________________________________________________________________________________\n",
      "conv2d_13 (Conv2D)              (None, 96, 96, 64)   36928       dropout_6[0][0]                  \n",
      "__________________________________________________________________________________________________\n",
      "conv2d_transpose_2 (Conv2DTrans (None, 192, 192, 32) 8224        conv2d_13[0][0]                  \n",
      "__________________________________________________________________________________________________\n",
      "concatenate_2 (Concatenate)     (None, 192, 192, 64) 0           conv2d_transpose_2[0][0]         \n",
      "                                                                 conv2d_3[0][0]                   \n",
      "__________________________________________________________________________________________________\n",
      "conv2d_14 (Conv2D)              (None, 192, 192, 32) 18464       concatenate_2[0][0]              \n",
      "__________________________________________________________________________________________________\n",
      "dropout_7 (Dropout)             (None, 192, 192, 32) 0           conv2d_14[0][0]                  \n",
      "__________________________________________________________________________________________________\n",
      "conv2d_15 (Conv2D)              (None, 192, 192, 32) 9248        dropout_7[0][0]                  \n",
      "__________________________________________________________________________________________________\n",
      "conv2d_transpose_3 (Conv2DTrans (None, 384, 384, 32) 4128        conv2d_15[0][0]                  \n",
      "__________________________________________________________________________________________________\n",
      "concatenate_3 (Concatenate)     (None, 384, 384, 48) 0           conv2d_transpose_3[0][0]         \n",
      "                                                                 conv2d_1[0][0]                   \n",
      "__________________________________________________________________________________________________\n",
      "conv2d_16 (Conv2D)              (None, 384, 384, 32) 13856       concatenate_3[0][0]              \n",
      "__________________________________________________________________________________________________\n",
      "dropout_8 (Dropout)             (None, 384, 384, 32) 0           conv2d_16[0][0]                  \n",
      "__________________________________________________________________________________________________\n",
      "conv2d_17 (Conv2D)              (None, 384, 384, 32) 9248        dropout_8[0][0]                  \n",
      "__________________________________________________________________________________________________\n",
      "conv2d_18 (Conv2D)              (None, 384, 384, 5)  165         conv2d_17[0][0]                  \n",
      "==================================================================================================\n",
      "Total params: 1,959,189\n",
      "Trainable params: 1,959,189\n",
      "Non-trainable params: 0\n",
      "__________________________________________________________________________________________________\n"
     ]
    }
   ],
   "source": [
    "loaded_model_B8E5.summary()"
   ]
  }
 ],
 "metadata": {
  "interpreter": {
   "hash": "904ae544174759c596af309efdc6c1352dabfd815eaa7de3ea2c0712376753c1"
  },
  "kernelspec": {
   "display_name": "Python 3.9.7 64-bit ('tf': conda)",
   "language": "python",
   "name": "python3"
  },
  "language_info": {
   "codemirror_mode": {
    "name": "ipython",
    "version": 3
   },
   "file_extension": ".py",
   "mimetype": "text/x-python",
   "name": "python",
   "nbconvert_exporter": "python",
   "pygments_lexer": "ipython3",
   "version": "3.6.13"
  },
  "orig_nbformat": 4
 },
 "nbformat": 4,
 "nbformat_minor": 2
}
